{
 "cells": [
  {
   "cell_type": "markdown",
   "id": "77917030-a87d-430b-93cb-09045e520cff",
   "metadata": {},
   "source": []
  },
  {
   "cell_type": "markdown",
   "id": "b92aa884-8a20-455e-9b3c-57969f464014",
   "metadata": {},
   "source": [
    "# Blogging and Technology Debt  (upgrading a Pelican ecosystem)"
   ]
  },
  {
   "cell_type": "markdown",
   "id": "59487465-dc68-4b02-9fbd-4e981076a74c",
   "metadata": {},
   "source": [
    "## Introduction\n",
    "\n",
    "At long last I decided to upgrade my rather ancient laptop (Windows 11 doesn't even support the CPU!).  This meant that I had to port my archive of blog content to the new laptop, and that's when I realized I had to pay back the Technology Debt I had been storing up for about seven years or more.\n",
    "\n",
    "I had two choices:  I could upgrade all my blogging utilities (based on Pelican) to their latest versions, and suffer the pain, or try to recreate the exact same versions and environment as on my original laptop.  I chose to upgrade, as a learning experience."
   ]
  },
  {
   "cell_type": "markdown",
   "id": "de3c9c91-21fb-46f3-81e8-242e121cfb04",
   "metadata": {},
   "source": [
    "## First Steps\n",
    "\n",
    "The first steps were to create a ```conda``` environment, based upon Python 3.11, and then install Pelican, and Jupyter.\n",
    "\n",
    "The next step was to use GitHub Descktop to clone my blog content, and current generated HTML, on the new laptop.  So far, so good.\n",
    "\n",
    "Most of my blog posts ae composed in a Jupyter Notebook, and I rely on a Pelican plugin to convert them to HMTL in the context of my blog.  The first glitch was the the Pelican plugin that I was using wasn't much supported any more.\n",
    "\n",
    ">    NOT MAINTAINED\r",
    ">    \n",
    ">    I have not used this project myself on a long time. \n",
    ">    \r",
    ">    \n",
    ">    No issues or PRs can be created   \r",
    ">    \n",
    "I have moved on to mkdocs and my mkdocs-jupyter plugin and I recommend to do the same\n"
   ]
  },
  {
   "cell_type": "markdown",
   "id": "5d30f6d4-cb66-4914-a81f-c210bcd628cf",
   "metadata": {},
   "source": [
    "## New Jupyter plugin\n",
    "\n",
    "There were a number of choices.  I elected to go for the package ```pelican-jupyter``` from the ```pypi.org``` (https://pypi.org/project/pelican-jupyter/).  It required the smallest about of work to maintain the meta-data used to build the blog.  Essentially, all I had to do was to rename my current collection of meta-data files to have a new extension.  The format of the meta-data file was unchanged.\n",
    "\n",
    "One problem was that this could only be installed by PIP, but this will be a very static environment, and thus mixing conda and pip would not be a problem for environment management.\n",
    "\n",
    "So now we have:\n"
   ]
  },
  {
   "cell_type": "markdown",
   "id": "25d13a80-ce2d-4ba5-a347-e4eaa1ab48bc",
   "metadata": {},
   "source": [
    "| Name                    | Version        |           Build   | Channel     |\n",
    "|----                     | ----           | ----              | ----        |\n",
    "|pelican                  | 4.9.1          |    pyhd8ed1ab_0   | conda-forge |\n",
    "|pelican-jupyter          | 0.10.1         |          pypi_0   | pypi        |\n"
   ]
  },
  {
   "cell_type": "markdown",
   "id": "67540007-edf4-4280-a6fa-5ff6064b0409",
   "metadata": {},
   "source": [
    "## Renaming utility"
   ]
  },
  {
   "cell_type": "markdown",
   "id": "332883f9-620c-490c-a366-e6b0f78ca6f7",
   "metadata": {},
   "source": [
    "The little utility I wrote to rename my meta-data files is shown below."
   ]
  },
  {
   "cell_type": "markdown",
   "id": "dd1da5ac-a263-4382-9bec-002072db462f",
   "metadata": {},
   "source": [
    "```\n",
    "\"\"\"\n",
    "rename all files in a list of file names with a new extension\n",
    "\n",
    "inputs: the file files.txt must hold names of files to change\n",
    "\n",
    "\"\"\"\n",
    "\n",
    "from pathlib import Path\n",
    "\n",
    "DIR_NAME = 'C:/Users/donrc/Documents/GitHubRepos/StaticWeb/GitHubPages/coolum001.github.io-content'\n",
    "\n",
    "def rename_file(name:str, dir_name:str)-> None:\n",
    "    \"\"\"\n",
    "        rename_file: change extension of a file\n",
    "\n",
    "        Parameters:\n",
    "        name: name of file\n",
    "        dir_name: absolute path to file\n",
    "\n",
    "        Side Effects:\n",
    "        name has suffix changed to \"nbdata\"\n",
    "\n",
    "        Returns:\n",
    "        None\n",
    "    \"\"\"\n",
    "    p = Path(Path(dir_name) / name)\n",
    "    new_p = p.with_suffix('.nbdata')\n",
    "    p.rename(new_p)\n",
    "\n",
    "#end rename_file\n",
    "\n",
    "with open('files.txt', 'r') as f:\n",
    "    for line in f:\n",
    "        words = line.split()\n",
    "        print(f'Renaming {words[-1]}')\n",
    "        rename_file(words[-1], DIR_NAME)\n",
    "    #end for\n",
    "#end with\n",
    "```"
   ]
  },
  {
   "cell_type": "markdown",
   "id": "be355fb8-b75b-456a-9073-9e68ef4ff44f",
   "metadata": {},
   "source": [
    "## And now the pain"
   ]
  },
  {
   "cell_type": "markdown",
   "id": "898a1f1c-ecf0-4ece-bc7b-354ea24f1793",
   "metadata": {},
   "source": [
    "So now when I run the Pelican command to \"Produce-My-Blog\", Pelican is now prepared to look at my Jupyter Notebooks in the blog content directory.\n",
    "\n",
    "Sadly, what I got was:\n",
    "\n",
    "> ERROR: Could not process ***.ipynb  \n",
    ">  | basic"
   ]
  },
  {
   "cell_type": "markdown",
   "id": "af6aca62-b1f6-4390-a869-16698fe7d268",
   "metadata": {},
   "source": [
    "Éxploring the issue, it seems that at some stage, the ```nbconvert``` utility (that Pelican plugin uses) decided to have a major redesign of the storage and access of themes (maybe to support inheritence?).  All this happened about four years ago. Part of the changes was renaming the base theme from `basic` to `base`."
   ]
  },
  {
   "cell_type": "markdown",
   "id": "69be077a-a6b3-43cd-a2c1-161e18560082",
   "metadata": {},
   "source": [
    "The plugin is located at `anaconda3\\envs\\staticweb\\Lib\\site-packages\\pelican_jupyter`.  In the `core.py` file, my version now reads (at line 87):\n",
    "\n",
    ">     \"\"\"Return the HTML from a Jupyter Notebook\r",
    ">\n",
    "    \"\"\">\r\n",
    "    # template_file = \"basic>\"\r\n",
    "    template_file = \"base\"\n",
    "\n"
   ]
  },
  {
   "cell_type": "markdown",
   "id": "73a1d4c6-ff8e-4049-bc49-f7a57268668a",
   "metadata": {},
   "source": [
    "## and more pain\n",
    "\n",
    "nbconvert generated more pain.  At some stage, nbconvert decided to generate HTML anchor links for all headers.  So now headers look like:\n",
    "\n",
    "    Header 1¶\r\n",
    "\n",
    "The funny Paragraph symbol is called a Pilcrow.  In the generated HTML, you can click on the Pilcrow as it is a link to that header.  I think all this is to support automated Table of Contents generation.\n",
    "\n",
    "The HTML generated looks like:}n"
   ]
  },
  {
   "cell_type": "markdown",
   "id": "560b8e2a-ee00-4826-9e60-d87745f8c1d4",
   "metadata": {},
   "source": [
    "> ``` <h1 id=\"Header-1\">Header 1<a class=\"anchor-link\" href=\"#Header-1\">¶</a></h1> ```"
   ]
  },
  {
   "cell_type": "markdown",
   "id": "de54708a-2c0c-4cd8-90e3-6af61a069170",
   "metadata": {},
   "source": [
    "To my eyes, the Pilcrows look horrible and distracting, and I don't use Tables of Contents.  What to do?\n",
    "\n",
    "I looked for some time to find a way to get Pelican configuration to feed into nbconvert configaturion to turn this feature off, but found no easy way.   Finally I gave in, and used a suggestion from stackoverflow.  The Pilcrow is inside an anchor tag with class \"anchor-link\", and that class is used nowhere else."
   ]
  },
  {
   "cell_type": "markdown",
   "id": "e3b53159-4aa3-4c24-b18c-7555e51156f4",
   "metadata": {},
   "source": [
    "So I added a css command to reduce the font size to zero for these characters"
   ]
  },
  {
   "cell_type": "markdown",
   "id": "e3a0eb26-57c1-4179-8676-a3c2bd6e2917",
   "metadata": {},
   "source": [
    "/* supress Pilcrow */\n",
    "\n",
    ".anchor-link{\n",
    "    font-size: 0;\n",
    "}"
   ]
  },
  {
   "cell_type": "markdown",
   "id": "53514520-f388-42a6-8602-7f39b9534095",
   "metadata": {},
   "source": [
    "These css lines were added to the ```\\pelican-themes-master\\built-texts\\local.css``` file. I use the built-texts theme for my blog."
   ]
  },
  {
   "cell_type": "markdown",
   "id": "c0906eb7-4cf0-4e0c-8a3a-1eca046945cb",
   "metadata": {},
   "source": [
    "## Conclusions\n",
    "\n",
    "Only after a little bit of pain (and lots of Google-ing), I was able to get my blog-generation environment working again, with all the latest software.  So now I can relax for another seven years, till nxet time."
   ]
  },
  {
   "cell_type": "code",
   "execution_count": null,
   "id": "81318753-85e3-4d15-be8b-23ff5ec008ec",
   "metadata": {},
   "outputs": [],
   "source": []
  }
 ],
 "metadata": {
  "kernelspec": {
   "display_name": "Python 3 (ipykernel)",
   "language": "python",
   "name": "python3"
  },
  "language_info": {
   "codemirror_mode": {
    "name": "ipython",
    "version": 3
   },
   "file_extension": ".py",
   "mimetype": "text/x-python",
   "name": "python",
   "nbconvert_exporter": "python",
   "pygments_lexer": "ipython3",
   "version": "3.11.7"
  }
 },
 "nbformat": 4,
 "nbformat_minor": 5
}
