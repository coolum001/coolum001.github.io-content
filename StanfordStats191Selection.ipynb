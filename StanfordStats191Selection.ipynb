{
 "cells": [
  {
   "cell_type": "markdown",
   "metadata": {},
   "source": [
    "# Stanford Stats 191\n",
    "\n",
    "## Introduction\n",
    "\n",
    "This is a re-creation of the Stanford Stats 191 course (see https://web.stanford.edu/class/stats191/), using Python eco-system tools, instead of R. This is lecture \"Selection:\"\n",
    "\n",
    "This lecture was one with the most divergence between Python ```statsmodels``` and R.  The standard tools of R for refining a regression model by reducing irrelvant parameters appear not to be matched by functions available from ```statsmodels```.\n",
    "\n",
    "However, Machine Learning has model refinement as one of its core processes.  This post will cover some of these.\n",
    "\n",
    "One of the datasets used by the STATS191 course dealth with USA Presidential Election votes, and a number of proposed explanatory parameters (Incumbancy, Economic Growth, etc).  I started out cranking the numbers on this dataset, but then started to have my doubts.  The dataset covered all the 20th century; are we to believe that the fundamental mechanisms that operated to decide political choice in 1912 are the same as in 2000, given the huge demographic and cultural changes in the USA?  Now maybe the answer is \"Yes\", but that is a large claim that I would want justified, before blindly accepting the results of a statistical model.\n",
    "\n",
    "\n"
   ]
  },
  {
   "cell_type": "markdown",
   "metadata": {},
   "source": [
    "## Initial Notebook Setup\n",
    "\n",
    "```watermark ``` documents the current Python and package environment, ```black``` is my preferred Python formatter"
   ]
  },
  {
   "cell_type": "code",
   "execution_count": 1,
   "metadata": {},
   "outputs": [],
   "source": [
    "%load_ext watermark"
   ]
  },
  {
   "cell_type": "code",
   "execution_count": 2,
   "metadata": {},
   "outputs": [],
   "source": [
    "%load_ext lab_black"
   ]
  },
  {
   "cell_type": "code",
   "execution_count": 3,
   "metadata": {},
   "outputs": [],
   "source": [
    "%matplotlib inline"
   ]
  },
  {
   "cell_type": "markdown",
   "metadata": {},
   "source": [
    "### Imports"
   ]
  },
  {
   "cell_type": "code",
   "execution_count": 4,
   "metadata": {},
   "outputs": [
    {
     "name": "stderr",
     "output_type": "stream",
     "text": [
      "D:\\Anaconda3\\envs\\ac5-py37\\lib\\site-packages\\statsmodels\\compat\\pandas.py:49: FutureWarning: The Panel class is removed from pandas. Accessing it from the top-level namespace will also be removed in the next version\n",
      "  data_klasses = (pandas.Series, pandas.DataFrame, pandas.Panel)\n"
     ]
    }
   ],
   "source": [
    "import pandas as pd\n",
    "import numpy as np\n",
    "import seaborn as sns\n",
    "\n",
    "import math\n",
    "\n",
    "import matplotlib.pyplot as plt\n",
    "from mpl_toolkits.mplot3d import Axes3D\n",
    "\n",
    "\n",
    "from scipy import stats\n",
    "from statsmodels.formula.api import ols\n",
    "from statsmodels.formula.api import rlm\n",
    "import statsmodels.api as sm\n",
    "\n",
    "from sklearn import linear_model\n",
    "\n",
    "import seaborn as sns"
   ]
  },
  {
   "cell_type": "markdown",
   "metadata": {},
   "source": [
    "------\n",
    "## Model Selection\n",
    "\n",
    "### Election Dataset\n",
    "\n",
    "As an example of the issues around selecting the best linear model, we use a datset with attributes as below.\n",
    "\n",
    "\n",
    "\n",
    "|Variable|\tDescription|\n",
    "|---|---|\n",
    "|V| \tvotes for a presidential candidate|\n",
    "|I| \tare they incumbent?|\n",
    "|D| \tDemocrat or Republican incumbent?|\n",
    "|W| \twartime election?|\n",
    "|G| \tGDP growth rate in election year|\n",
    "|P| \t(absolute) GDP deflator growth rate|\n",
    "|N| \tnumber of quarters in which GDP growth rate  >3.2% |"
   ]
  },
  {
   "cell_type": "markdown",
   "metadata": {},
   "source": [
    "### Read and Explore Dataset"
   ]
  },
  {
   "cell_type": "code",
   "execution_count": 5,
   "metadata": {},
   "outputs": [
    {
     "data": {
      "text/html": [
       "<div>\n",
       "<style scoped>\n",
       "    .dataframe tbody tr th:only-of-type {\n",
       "        vertical-align: middle;\n",
       "    }\n",
       "\n",
       "    .dataframe tbody tr th {\n",
       "        vertical-align: top;\n",
       "    }\n",
       "\n",
       "    .dataframe thead th {\n",
       "        text-align: right;\n",
       "    }\n",
       "</style>\n",
       "<table border=\"1\" class=\"dataframe\">\n",
       "  <thead>\n",
       "    <tr style=\"text-align: right;\">\n",
       "      <th></th>\n",
       "      <th>Year</th>\n",
       "      <th>V</th>\n",
       "      <th>I</th>\n",
       "      <th>D</th>\n",
       "      <th>W</th>\n",
       "      <th>G</th>\n",
       "      <th>P</th>\n",
       "      <th>N</th>\n",
       "    </tr>\n",
       "  </thead>\n",
       "  <tbody>\n",
       "    <tr>\n",
       "      <th>0</th>\n",
       "      <td>1916</td>\n",
       "      <td>0.5168</td>\n",
       "      <td>1</td>\n",
       "      <td>1</td>\n",
       "      <td>0</td>\n",
       "      <td>2.229</td>\n",
       "      <td>4.252</td>\n",
       "      <td>3</td>\n",
       "    </tr>\n",
       "    <tr>\n",
       "      <th>1</th>\n",
       "      <td>1920</td>\n",
       "      <td>0.3612</td>\n",
       "      <td>1</td>\n",
       "      <td>0</td>\n",
       "      <td>1</td>\n",
       "      <td>-11.463</td>\n",
       "      <td>16.535</td>\n",
       "      <td>5</td>\n",
       "    </tr>\n",
       "    <tr>\n",
       "      <th>2</th>\n",
       "      <td>1924</td>\n",
       "      <td>0.4176</td>\n",
       "      <td>-1</td>\n",
       "      <td>-1</td>\n",
       "      <td>0</td>\n",
       "      <td>-3.872</td>\n",
       "      <td>5.161</td>\n",
       "      <td>10</td>\n",
       "    </tr>\n",
       "    <tr>\n",
       "      <th>3</th>\n",
       "      <td>1928</td>\n",
       "      <td>0.4118</td>\n",
       "      <td>-1</td>\n",
       "      <td>0</td>\n",
       "      <td>0</td>\n",
       "      <td>4.623</td>\n",
       "      <td>0.183</td>\n",
       "      <td>7</td>\n",
       "    </tr>\n",
       "    <tr>\n",
       "      <th>4</th>\n",
       "      <td>1932</td>\n",
       "      <td>0.5916</td>\n",
       "      <td>-1</td>\n",
       "      <td>-1</td>\n",
       "      <td>0</td>\n",
       "      <td>-14.901</td>\n",
       "      <td>7.069</td>\n",
       "      <td>4</td>\n",
       "    </tr>\n",
       "  </tbody>\n",
       "</table>\n",
       "</div>"
      ],
      "text/plain": [
       "   Year       V    I    D    W       G       P    N  \n",
       "0    1916  0.5168    1    1    0   2.229   4.252    3\n",
       "1    1920  0.3612    1    0    1 -11.463  16.535    5\n",
       "2    1924  0.4176   -1   -1    0  -3.872   5.161   10\n",
       "3    1928  0.4118   -1    0    0   4.623   0.183    7\n",
       "4    1932  0.5916   -1   -1    0 -14.901   7.069    4"
      ]
     },
     "execution_count": 5,
     "metadata": {},
     "output_type": "execute_result"
    }
   ],
   "source": [
    "data = pd.read_csv('../data/election.txt', sep='\\t')\n",
    "data.head()"
   ]
  },
  {
   "cell_type": "markdown",
   "metadata": {},
   "source": [
    "We look at the unique values for each column"
   ]
  },
  {
   "cell_type": "code",
   "execution_count": 6,
   "metadata": {},
   "outputs": [
    {
     "name": "stdout",
     "output_type": "stream",
     "text": [
      "Column Year  : [1916 1920 1924 1928 1932 1936 1940 1944 1948 1952 1956 1960 1964 1968\n",
      " 1972 1976 1980 1984 1988 1992 1996]\n",
      "Column V  : [0.5168 0.3612 0.4176 0.4118 0.5916 0.6246 0.55   0.5377 0.5237 0.446\n",
      " 0.4224 0.5009 0.6134 0.496  0.3821 0.5105 0.447  0.4083 0.461  0.5345\n",
      " 0.5474]\n",
      "Column I  : [ 1 -1]\n",
      "Column D  : [ 1  0 -1]\n",
      "Column W  : [0 1]\n",
      "Column G  : [  2.229 -11.463  -3.872   4.623 -14.901  11.921   3.708   4.119   1.849\n",
      "   0.627  -1.527   0.114   5.054   4.836   6.278   3.663  -3.789   5.387\n",
      "   2.068   2.293   2.918]\n",
      "Column P  : [ 4.252 16.535  5.161  0.183  7.069  2.362  0.028  5.678  8.722  2.288\n",
      "  1.936  1.932  1.247  3.215  4.766  7.657  8.093  5.403  3.272  3.692\n",
      "  2.268]\n",
      "Column N  : [ 3  5 10  7  4  9  8 14  6  1]\n"
     ]
    }
   ],
   "source": [
    "for n in data.columns:\n",
    "    uniq_val = data[n].unique()\n",
    "    print(f'Column {n}: {uniq_val}')\n",
    "# end for"
   ]
  },
  {
   "cell_type": "markdown",
   "metadata": {},
   "source": [
    "### Visualization\n",
    "\n",
    "We can visualize the relationship between columns using Seaborn.  We exclude the first column, as it just holds year of election."
   ]
  },
  {
   "cell_type": "code",
   "execution_count": 7,
   "metadata": {},
   "outputs": [
    {
     "data": {
      "text/plain": [
       "<seaborn.axisgrid.PairGrid at 0x204bd177b70>"
      ]
     },
     "execution_count": 7,
     "metadata": {},
     "output_type": "execute_result"
    },
    {
     "data": {
      "image/png": "[encoded data removed]",
      "text/plain": [
       "<Figure size 1260x1260 with 56 Axes>"
      ]
     },
     "metadata": {
      "needs_background": "light"
     },
     "output_type": "display_data"
    }
   ],
   "source": [
    "sns.pairplot(data=data[data.columns[1:]])"
   ]
  },
  {
   "cell_type": "markdown",
   "metadata": {},
   "source": [
    "### Cleaning Dataset\n",
    "\n",
    "We find some trailing whitespace in column names, so we remove them"
   ]
  },
  {
   "cell_type": "code",
   "execution_count": 8,
   "metadata": {},
   "outputs": [
    {
     "name": "stdout",
     "output_type": "stream",
     "text": [
      ">Year  <\n",
      ">V  <\n",
      ">I  <\n",
      ">D  <\n",
      ">W  <\n",
      ">G  <\n",
      ">P  <\n",
      ">N  <\n"
     ]
    }
   ],
   "source": [
    "_ = [print(f'>{n}<') for n in data.columns]"
   ]
  },
  {
   "cell_type": "code",
   "execution_count": 9,
   "metadata": {},
   "outputs": [
    {
     "name": "stdout",
     "output_type": "stream",
     "text": [
      ">Year<\n",
      ">V<\n",
      ">I<\n",
      ">D<\n",
      ">W<\n",
      ">G<\n",
      ">P<\n",
      ">N<\n"
     ]
    }
   ],
   "source": [
    "new_names = [n.strip() for n in data.columns]\n",
    "_ = [print(f'>{n}<') for n in new_names]"
   ]
  },
  {
   "cell_type": "code",
   "execution_count": 10,
   "metadata": {},
   "outputs": [],
   "source": [
    "data.columns = new_names"
   ]
  },
  {
   "cell_type": "markdown",
   "metadata": {},
   "source": [
    "-----\n",
    "## Model Building\n",
    "\n",
    "As a start in model building, we start by incorporating almost all the possible explanatory parameters, and add in the interaction betwen Incumbency and Economic Growth (rather than Growth on its own)."
   ]
  },
  {
   "cell_type": "code",
   "execution_count": 11,
   "metadata": {},
   "outputs": [
    {
     "data": {
      "text/html": [
       "<table class=\"simpletable\">\n",
       "<caption>OLS Regression Results</caption>\n",
       "<tr>\n",
       "  <th>Dep. Variable:</th>            <td>V</td>        <th>  R-squared:         </th> <td>   0.790</td>\n",
       "</tr>\n",
       "<tr>\n",
       "  <th>Model:</th>                   <td>OLS</td>       <th>  Adj. R-squared:    </th> <td>   0.700</td>\n",
       "</tr>\n",
       "<tr>\n",
       "  <th>Method:</th>             <td>Least Squares</td>  <th>  F-statistic:       </th> <td>   8.769</td>\n",
       "</tr>\n",
       "<tr>\n",
       "  <th>Date:</th>             <td>Tue, 05 May 2020</td> <th>  Prob (F-statistic):</th> <td>0.000435</td>\n",
       "</tr>\n",
       "<tr>\n",
       "  <th>Time:</th>                 <td>19:57:23</td>     <th>  Log-Likelihood:    </th> <td>  41.470</td>\n",
       "</tr>\n",
       "<tr>\n",
       "  <th>No. Observations:</th>      <td>    21</td>      <th>  AIC:               </th> <td>  -68.94</td>\n",
       "</tr>\n",
       "<tr>\n",
       "  <th>Df Residuals:</th>          <td>    14</td>      <th>  BIC:               </th> <td>  -61.63</td>\n",
       "</tr>\n",
       "<tr>\n",
       "  <th>Df Model:</th>              <td>     6</td>      <th>                     </th>     <td> </td>   \n",
       "</tr>\n",
       "<tr>\n",
       "  <th>Covariance Type:</th>      <td>nonrobust</td>    <th>                     </th>     <td> </td>   \n",
       "</tr>\n",
       "</table>\n",
       "<table class=\"simpletable\">\n",
       "<tr>\n",
       "      <td></td>         <th>coef</th>     <th>std err</th>      <th>t</th>      <th>P>|t|</th>  <th>[0.025</th>    <th>0.975]</th>  \n",
       "</tr>\n",
       "<tr>\n",
       "  <th>Intercept</th> <td>    0.5112</td> <td>    0.032</td> <td>   15.875</td> <td> 0.000</td> <td>    0.442</td> <td>    0.580</td>\n",
       "</tr>\n",
       "<tr>\n",
       "  <th>I</th>         <td>   -0.0201</td> <td>    0.017</td> <td>   -1.190</td> <td> 0.254</td> <td>   -0.056</td> <td>    0.016</td>\n",
       "</tr>\n",
       "<tr>\n",
       "  <th>D</th>         <td>    0.0546</td> <td>    0.021</td> <td>    2.655</td> <td> 0.019</td> <td>    0.010</td> <td>    0.099</td>\n",
       "</tr>\n",
       "<tr>\n",
       "  <th>W</th>         <td>    0.0134</td> <td>    0.042</td> <td>    0.317</td> <td> 0.756</td> <td>   -0.077</td> <td>    0.104</td>\n",
       "</tr>\n",
       "<tr>\n",
       "  <th>G:I</th>       <td>    0.0097</td> <td>    0.002</td> <td>    5.471</td> <td> 0.000</td> <td>    0.006</td> <td>    0.013</td>\n",
       "</tr>\n",
       "<tr>\n",
       "  <th>P</th>         <td>   -0.0007</td> <td>    0.004</td> <td>   -0.180</td> <td> 0.859</td> <td>   -0.009</td> <td>    0.008</td>\n",
       "</tr>\n",
       "<tr>\n",
       "  <th>N</th>         <td>   -0.0052</td> <td>    0.004</td> <td>   -1.361</td> <td> 0.195</td> <td>   -0.013</td> <td>    0.003</td>\n",
       "</tr>\n",
       "</table>\n",
       "<table class=\"simpletable\">\n",
       "<tr>\n",
       "  <th>Omnibus:</th>       <td> 6.714</td> <th>  Durbin-Watson:     </th> <td>   2.204</td>\n",
       "</tr>\n",
       "<tr>\n",
       "  <th>Prob(Omnibus):</th> <td> 0.035</td> <th>  Jarque-Bera (JB):  </th> <td>   4.488</td>\n",
       "</tr>\n",
       "<tr>\n",
       "  <th>Skew:</th>          <td> 1.074</td> <th>  Prob(JB):          </th> <td>   0.106</td>\n",
       "</tr>\n",
       "<tr>\n",
       "  <th>Kurtosis:</th>      <td> 3.719</td> <th>  Cond. No.          </th> <td>    43.9</td>\n",
       "</tr>\n",
       "</table><br/><br/>Warnings:<br/>[1] Standard Errors assume that the covariance matrix of the errors is correctly specified."
      ],
      "text/plain": [
       "<class 'statsmodels.iolib.summary.Summary'>\n",
       "\"\"\"\n",
       "                            OLS Regression Results                            \n",
       "==============================================================================\n",
       "Dep. Variable:                      V   R-squared:                       0.790\n",
       "Model:                            OLS   Adj. R-squared:                  0.700\n",
       "Method:                 Least Squares   F-statistic:                     8.769\n",
       "Date:                Tue, 05 May 2020   Prob (F-statistic):           0.000435\n",
       "Time:                        19:57:23   Log-Likelihood:                 41.470\n",
       "No. Observations:                  21   AIC:                            -68.94\n",
       "Df Residuals:                      14   BIC:                            -61.63\n",
       "Df Model:                           6                                         \n",
       "Covariance Type:            nonrobust                                         \n",
       "==============================================================================\n",
       "                 coef    std err          t      P>|t|      [0.025      0.975]\n",
       "------------------------------------------------------------------------------\n",
       "Intercept      0.5112      0.032     15.875      0.000       0.442       0.580\n",
       "I             -0.0201      0.017     -1.190      0.254      -0.056       0.016\n",
       "D              0.0546      0.021      2.655      0.019       0.010       0.099\n",
       "W              0.0134      0.042      0.317      0.756      -0.077       0.104\n",
       "G:I            0.0097      0.002      5.471      0.000       0.006       0.013\n",
       "P             -0.0007      0.004     -0.180      0.859      -0.009       0.008\n",
       "N             -0.0052      0.004     -1.361      0.195      -0.013       0.003\n",
       "==============================================================================\n",
       "Omnibus:                        6.714   Durbin-Watson:                   2.204\n",
       "Prob(Omnibus):                  0.035   Jarque-Bera (JB):                4.488\n",
       "Skew:                           1.074   Prob(JB):                        0.106\n",
       "Kurtosis:                       3.719   Cond. No.                         43.9\n",
       "==============================================================================\n",
       "\n",
       "Warnings:\n",
       "[1] Standard Errors assume that the covariance matrix of the errors is correctly specified.\n",
       "\"\"\""
      ]
     },
     "execution_count": 11,
     "metadata": {},
     "output_type": "execute_result"
    }
   ],
   "source": [
    "res0 = ols('V ~ I + D + W + G:I + P + N', data=data).fit()\n",
    "res0.summary()"
   ]
  },
  {
   "cell_type": "markdown",
   "metadata": {},
   "source": [
    "A number of the parameters have coefficients with p values that indicate that might be candidates for exclusion from the model\n"
   ]
  },
  {
   "cell_type": "markdown",
   "metadata": {},
   "source": [
    "---\n",
    "### Stepwise Model Building\n",
    "\n",
    "We next look at each of our proposed parameters, one by one, and look at the variance explained"
   ]
  },
  {
   "cell_type": "code",
   "execution_count": 12,
   "metadata": {},
   "outputs": [
    {
     "name": "stdout",
     "output_type": "stream",
     "text": [
      " variable I     alone has R^2 adj = 0.1200\n",
      " variable D     alone has R^2 adj = 0.2492\n",
      " variable W     alone has R^2 adj = 0.0084\n",
      " variable G:I   alone has R^2 adj = 0.6122\n",
      " variable P     alone has R^2 adj = 0.1104\n",
      " variable N     alone has R^2 adj = 0.0215\n"
     ]
    }
   ],
   "source": [
    "for variable in ['I', 'D', 'W', 'G:I', 'P', 'N']:\n",
    "    model = 'V ~ ' + variable\n",
    "    res1 = ols(model, data=data).fit()\n",
    "    print(\n",
    "        f' variable {variable:5} alone has R^2 adj = {res1.rsquared:6.4f}'\n",
    "    )\n",
    "# end for"
   ]
  },
  {
   "cell_type": "markdown",
   "metadata": {},
   "source": [
    "We now repeat a process of finding the unused parameter (not already in our evolving model) that most improves our model score (here R^2), and then adding it to our model"
   ]
  },
  {
   "cell_type": "code",
   "execution_count": 13,
   "metadata": {},
   "outputs": [
    {
     "name": "stdout",
     "output_type": "stream",
     "text": [
      " model V ~  + G:I                      has R^2 = 0.6122\n",
      " model V ~  + G:I + D                  has R^2 = 0.7345\n",
      " model V ~  + G:I + D + N              has R^2 = 0.7652\n",
      " model V ~  + G:I + D + N + I          has R^2 = 0.7883\n",
      " model V ~  + G:I + D + N + I + W      has R^2 = 0.7893\n",
      " model V ~  + G:I + D + N + I + W + P  has R^2 = 0.7898\n"
     ]
    }
   ],
   "source": [
    "# start with empty model\n",
    "base_model = 'V ~ '\n",
    "variables_start = ['I', 'D', 'W', 'G:I', 'P', 'N']\n",
    "#\n",
    "# variables is the list of as yet unused parameters\n",
    "#\n",
    "variables = ['I', 'D', 'W', 'G:I', 'P', 'N']\n",
    "\n",
    "# as we improve(?) the model, we track the improvement in R^2\n",
    "model_r2 = []\n",
    "\n",
    "# run over all unused parameters, find one that when added to the current model, maximizes R^2\n",
    "for count in range(1, len(variables) + 1):\n",
    "    max_r2 = -1  #\n",
    "    for variable in variables:\n",
    "        model = base_model + ' + ' + variable\n",
    "        res1 = ols(model, data=data).fit()\n",
    "        # is this a better model than any seen so far?\n",
    "        if res1.rsquared > max_r2:\n",
    "            max_var = variable\n",
    "            max_r2 = res1.rsquared\n",
    "        # end if\n",
    "\n",
    "    # end for\n",
    "    # update model with one that maximizes R^2\n",
    "    base_model = base_model + ' + ' + max_var\n",
    "\n",
    "    print(\n",
    "        f' model {base_model:30}  has R^2 = {max_r2:6.4f}'\n",
    "    )\n",
    "    # update list of unused variables, by removing one just added to model\n",
    "\n",
    "    variables.remove(max_var)\n",
    "    model_r2.append(max_r2)\n",
    "\n",
    "# end for"
   ]
  },
  {
   "cell_type": "markdown",
   "metadata": {},
   "source": [
    "Do a quick and easy plot showimng improvement in R^2"
   ]
  },
  {
   "cell_type": "code",
   "execution_count": 14,
   "metadata": {},
   "outputs": [
    {
     "data": {
      "image/png": "[encoded data removed]",
      "text/plain": [
       "<Figure size 432x288 with 1 Axes>"
      ]
     },
     "metadata": {
      "needs_background": "light"
     },
     "output_type": "display_data"
    }
   ],
   "source": [
    "_ = plt.plot(\n",
    "    list(range(1, len(variables_start) + 1)), model_r2, 'o'\n",
    ")"
   ]
  },
  {
   "cell_type": "markdown",
   "metadata": {},
   "source": [
    "---\n",
    "### Adjusted R^2\n",
    "\n",
    "Do this all over again, but using an adjusted R^2.  The adjusted R-squared increases only if the new term improves the model more than would be expected by chance. It decreases when a predictor improves the model by less than expected by chance"
   ]
  },
  {
   "cell_type": "code",
   "execution_count": 15,
   "metadata": {},
   "outputs": [
    {
     "name": "stdout",
     "output_type": "stream",
     "text": [
      " model V ~  + G:I                      has R^2 (adjusted) = 0.5918\n",
      " model V ~  + G:I + D                  has R^2 (adjusted) = 0.7050\n",
      " model V ~  + G:I + D + N              has R^2 (adjusted) = 0.7238\n",
      " model V ~  + G:I + D + N + I          has R^2 (adjusted) = 0.7353\n",
      " model V ~  + G:I + D + N + I + W      has R^2 (adjusted) = 0.7191\n",
      " model V ~  + G:I + D + N + I + W + P  has R^2 (adjusted) = 0.6998\n"
     ]
    }
   ],
   "source": [
    "base_model = 'V ~ '\n",
    "variables_start = ['I', 'D', 'W', 'G:I', 'P', 'N']\n",
    "variables = ['I', 'D', 'W', 'G:I', 'P', 'N']\n",
    "\n",
    "model_r2 = []\n",
    "for count in range(1, len(variables) + 1):\n",
    "    max_r2 = float(\n",
    "        '-inf'\n",
    "    )  # must be smaller than first r^2 adjusted value\n",
    "    for variable in variables:\n",
    "        model = base_model + ' + ' + variable\n",
    "        res1 = ols(model, data=data).fit()\n",
    "        if res1.rsquared_adj > max_r2:\n",
    "            max_var = variable\n",
    "            max_r2 = res1.rsquared_adj\n",
    "        # end if\n",
    "\n",
    "    # end for\n",
    "    base_model = base_model + ' + ' + max_var\n",
    "\n",
    "    print(\n",
    "        f' model {base_model:30}  has R^2 (adjusted) = {max_r2:6.4f}'\n",
    "    )\n",
    "    variables.remove(max_var)\n",
    "    model_r2.append(max_r2)\n",
    "\n",
    "# end for"
   ]
  },
  {
   "cell_type": "markdown",
   "metadata": {},
   "source": [
    "The adjusted R^2 plot shows that the last two parameters added to the model have made it worse"
   ]
  },
  {
   "cell_type": "code",
   "execution_count": 16,
   "metadata": {},
   "outputs": [
    {
     "data": {
      "image/png": "[encoded data removed]",
      "text/plain": [
       "<Figure size 432x288 with 1 Axes>"
      ]
     },
     "metadata": {
      "needs_background": "light"
     },
     "output_type": "display_data"
    }
   ],
   "source": [
    "_ = plt.plot(\n",
    "    list(range(1, len(variables_start) + 1)), model_r2, 'o'\n",
    ")"
   ]
  },
  {
   "cell_type": "markdown",
   "metadata": {},
   "source": [
    "---\n",
    "### AIC as a Model Score\n",
    "\n",
    "\"The Akaike information criterion (AIC) is an estimator of out-of-sample prediction error and thereby relative quality of statistical models for a given set of data. Given a collection of models for the data, AIC estimates the quality of each model, relative to each of the other models.\"\n",
    "\n",
    "We repeat the step by step addition of parameters to the model, this time using AIC as our model score"
   ]
  },
  {
   "cell_type": "code",
   "execution_count": 17,
   "metadata": {},
   "outputs": [
    {
     "name": "stdout",
     "output_type": "stream",
     "text": [
      " model V ~  + W                        has AIC = -46.3619, R^2 = 0.0084\n",
      " model V ~  + W + N                    has AIC = -45.0469, R^2 = 0.0403\n",
      " model V ~  + W + N + P                has AIC = -45.2760, R^2 = 0.1369\n",
      " model V ~  + W + N + P + I            has AIC = -46.5723, R^2 = 0.2623\n",
      " model V ~  + W + N + P + I + D        has AIC = -46.9250, R^2 = 0.3405\n",
      " model V ~  + W + N + P + I + D + G:I  has AIC = -68.9403, R^2 = 0.7898\n"
     ]
    }
   ],
   "source": [
    "base_model = 'V ~ '\n",
    "variables_start = ['I', 'D', 'W', 'G:I', 'P', 'N']\n",
    "variables = ['I', 'D', 'W', 'G:I', 'P', 'N']\n",
    "\n",
    "model_aic = []\n",
    "for count in range(1, len(variables) + 1):\n",
    "    max_aic = float(\n",
    "        '-inf'\n",
    "    )  # must be smaller than first aic value\n",
    "    for variable in variables:\n",
    "        model = base_model + ' + ' + variable\n",
    "        res1 = ols(model, data=data).fit()\n",
    "        if res1.aic > max_aic:\n",
    "            max_var = variable\n",
    "            max_aic = res1.aic\n",
    "            r2_at_max_aic = res1.rsquared\n",
    "        # end if\n",
    "\n",
    "    # end for\n",
    "    base_model = base_model + ' + ' + max_var\n",
    "\n",
    "    print(\n",
    "        f' model {base_model:30}  has AIC = {max_aic:6.4f}, R^2 = {r2_at_max_aic:6.4f}'\n",
    "    )\n",
    "    variables.remove(max_var)\n",
    "    model_aic.append(max_aic)\n",
    "\n",
    "# end for"
   ]
  },
  {
   "cell_type": "markdown",
   "metadata": {},
   "source": [
    "The quick and easy plot of AIC scores suggests the the last parameter should definitely by dropped from our model, and that really only the first two parameters should be in the model"
   ]
  },
  {
   "cell_type": "code",
   "execution_count": 18,
   "metadata": {},
   "outputs": [
    {
     "data": {
      "image/png": "[encoded data removed]",
      "text/plain": [
       "<Figure size 432x288 with 1 Axes>"
      ]
     },
     "metadata": {
      "needs_background": "light"
     },
     "output_type": "display_data"
    }
   ],
   "source": [
    "_ = plt.plot(\n",
    "    list(range(1, len(variables_start) + 1)), model_aic, 'o'\n",
    ")"
   ]
  },
  {
   "cell_type": "markdown",
   "metadata": {},
   "source": [
    "-----\n",
    "### BIC for Model Score\n",
    "\n",
    "\"The Bayesian information criterion (BIC)  is a criterion for model selection among a finite set of models. It is based, in part, on the likelihood function, and it is closely related to Akaike information criterion (AIC). ... The penalty term is larger in BIC than in AIC:\""
   ]
  },
  {
   "cell_type": "code",
   "execution_count": 19,
   "metadata": {},
   "outputs": [
    {
     "name": "stdout",
     "output_type": "stream",
     "text": [
      " model V ~  + W                        has AIC = -44.2729, R^2 = 0.0084\n",
      " model V ~  + W + N                    has AIC = -41.9133, R^2 = 0.0403\n",
      " model V ~  + W + N + P                has AIC = -41.0979, R^2 = 0.1369\n",
      " model V ~  + W + N + P + I            has AIC = -41.3497, R^2 = 0.2623\n",
      " model V ~  + W + N + P + I + D        has AIC = -40.6578, R^2 = 0.3405\n",
      " model V ~  + W + N + P + I + D + G:I  has AIC = -61.6286, R^2 = 0.7898\n"
     ]
    }
   ],
   "source": [
    "base_model = 'V ~ '\n",
    "variables_start = ['I', 'D', 'W', 'G:I', 'P', 'N']\n",
    "variables = ['I', 'D', 'W', 'G:I', 'P', 'N']\n",
    "\n",
    "model_bic = []\n",
    "for count in range(1, len(variables) + 1):\n",
    "    max_bic = float(\n",
    "        '-inf'\n",
    "    )  # must be smaller than first aic value\n",
    "    for variable in variables:\n",
    "        model = base_model + ' + ' + variable\n",
    "        res1 = ols(model, data=data).fit()\n",
    "        if res1.bic > max_bic:\n",
    "            max_var = variable\n",
    "            max_bic = res1.bic\n",
    "            r2_at_max_bic = res1.rsquared\n",
    "        # end if\n",
    "\n",
    "    # end for\n",
    "    base_model = base_model + ' + ' + max_var\n",
    "\n",
    "    print(\n",
    "        f' model {base_model:30}  has AIC = {max_bic:6.4f}, R^2 = {r2_at_max_bic:6.4f}'\n",
    "    )\n",
    "    variables.remove(max_var)\n",
    "    model_bic.append(max_bic)\n",
    "\n",
    "# end for"
   ]
  },
  {
   "cell_type": "code",
   "execution_count": 20,
   "metadata": {},
   "outputs": [
    {
     "data": {
      "image/png": "[encoded data removed]",
      "text/plain": [
       "<Figure size 432x288 with 1 Axes>"
      ]
     },
     "metadata": {
      "needs_background": "light"
     },
     "output_type": "display_data"
    }
   ],
   "source": [
    "_ = plt.plot(\n",
    "    list(range(1, len(variables_start) + 1)), model_bic, 'o'\n",
    ")"
   ]
  },
  {
   "cell_type": "markdown",
   "metadata": {},
   "source": [
    " ------\n",
    " ## Least Absolute Shrinkage and Selection Operator (LASSO)\n",
    " \n",
    " We now move to the functions provided by the Machine Learning packages of Python, where a variety of penalties for an excessive numbers of parameters in the models can be accessed (under a variety of opaque abreviations: well, opaque to me, they probably are very familiar to evry-day users).\n",
    " \n",
    " The key concept is that there is an ```alpha``` value, that measures the penalty applied to irrelevant parameters.\n",
    " \n",
    " In the code below, we step through a number of ```alpha``` values (```alpha```=0 is equivalent to Ordinary Least Squares regression), and for each ```alpha``` value record the coefficient of each parameter in our model.  The default ```score``` returned is our old friend R^2 "
   ]
  },
  {
   "cell_type": "code",
   "execution_count": 21,
   "metadata": {},
   "outputs": [
    {
     "name": "stdout",
     "output_type": "stream",
     "text": [
      "Score for alpha = 1e-05\n",
      "0.7898183343142353\n",
      "Score for alpha = 0.0005\n",
      "0.7742464846315218\n",
      "Score for alpha = 0.001\n",
      "0.7488693170370382\n",
      "Score for alpha = 0.002\n",
      "0.708415913993653\n",
      "Score for alpha = 0.005\n",
      "0.5714516999832228\n"
     ]
    }
   ],
   "source": [
    "data['GI'] = data['G'] * data['I']\n",
    "\n",
    "#  set up dict that will hold coefficient list( for the alpha values) for each coefficient\n",
    "#  initially we have an empty list\n",
    "\n",
    "var_coefs = {\n",
    "    n: []\n",
    "    for n in ['Intercept', 'I', 'D', 'W', 'P', 'N', 'GI']\n",
    "}\n",
    "\n",
    "#  scores holds the R^2 value for a model\n",
    "scores = []\n",
    "\n",
    "# run over all alpha values\n",
    "for alpha in [0.00001, 0.0005, 0.001, 0.002, 0.005]:\n",
    "\n",
    "    # perform regularized regression for this current value of alpha\n",
    "    reg = linear_model.Lasso(alpha=alpha, normalize=True)\n",
    "    reg.fit(\n",
    "        np.asarray(data[['I', 'D', 'W', 'P', 'N', 'GI']]),\n",
    "        np.asarray(data['V']),\n",
    "    )\n",
    "\n",
    "    # update the coefficient value for each parameter, fot this alpha value\n",
    "    for n, v in zip(\n",
    "        data[['I', 'D', 'W', 'P', 'N', 'GI']].columns,\n",
    "        reg.coef_,\n",
    "    ):\n",
    "        var_coefs[n].append(v)\n",
    "    # end for\n",
    "    var_coefs['Intercept'].append(reg.intercept_)\n",
    "\n",
    "    # show the alpha score\n",
    "    print(f'Score for alpha = {alpha}')\n",
    "    print(\n",
    "        reg.score(\n",
    "            np.asarray(\n",
    "                data[['I', 'D', 'W', 'P', 'N', 'GI']]\n",
    "            ),\n",
    "            np.asarray(data['V']),\n",
    "        )\n",
    "    )\n",
    "    # append this score to list of scores\n",
    "    scores.append(\n",
    "        reg.score(\n",
    "            np.asarray(\n",
    "                data[['I', 'D', 'W', 'P', 'N', 'GI']]\n",
    "            ),\n",
    "            np.asarray(data['V']),\n",
    "        )\n",
    "    )\n",
    "# end for"
   ]
  },
  {
   "cell_type": "markdown",
   "metadata": {},
   "source": [
    "Do a quick plot.  It appears that ```alpha``` = 0.002 removes most of the irrelevant parameters (by setting there coefficient to 0)"
   ]
  },
  {
   "cell_type": "code",
   "execution_count": 22,
   "metadata": {},
   "outputs": [
    {
     "data": {
      "image/png": "[encoded data removed]",
      "text/plain": [
       "<Figure size 432x288 with 1 Axes>"
      ]
     },
     "metadata": {
      "needs_background": "light"
     },
     "output_type": "display_data"
    }
   ],
   "source": [
    "alphas = [0.00001, 0.0005, 0.001, 0.002, 0.005]\n",
    "for n in ['I', 'D', 'W', 'P', 'N', 'GI']:\n",
    "    _ = plt.plot(alphas, var_coefs[n], '-o', label=n)\n",
    "# end for\n",
    "for x in res0.params[1:]:\n",
    "    _ = plt.plot(0, x, 'r+')\n",
    "# end for\n",
    "_ = plt.plot(0, x, 'r+', label='OLS (alpha=0)')\n",
    "_ = plt.axhline(0, color='k', alpha=0.1)\n",
    "_ = plt.legend(loc='best')"
   ]
  },
  {
   "cell_type": "markdown",
   "metadata": {},
   "source": [
    "Do a more detailed  plot, showing score with parameter coefficient values"
   ]
  },
  {
   "cell_type": "code",
   "execution_count": 23,
   "metadata": {},
   "outputs": [
    {
     "data": {
      "text/plain": [
       "<matplotlib.legend.Legend at 0x204c0849ef0>"
      ]
     },
     "execution_count": 23,
     "metadata": {},
     "output_type": "execute_result"
    },
    {
     "data": {
      "image/png": "[encoded data removed]",
      "text/plain": [
       "<Figure size 720x720 with 2 Axes>"
      ]
     },
     "metadata": {
      "needs_background": "light"
     },
     "output_type": "display_data"
    }
   ],
   "source": [
    "fig, ax = plt.subplots(figsize=(10, 10))\n",
    "\n",
    "\n",
    "for n in ['I', 'D', 'W', 'P', 'N', 'GI']:\n",
    "    _ = ax.plot(alphas, var_coefs[n], '-o', label=n)\n",
    "# end for\n",
    "\n",
    "# show the original OLS values\n",
    "for x in res0.params[1:]:\n",
    "    _ = ax.plot(0, x, 'k*')\n",
    "# end for\n",
    "_ = ax.plot(0, x, 'k*', label='OLS (alpha=0)')\n",
    "_ = ax.axhline(0, color='k', alpha=0.4)\n",
    "_ = ax.legend(loc='upper center')\n",
    "ax.set_ylabel('Parameter Coefficient')\n",
    "ax.set_xlabel('Alpha')\n",
    "ax.set_title('LASSO Regression')\n",
    "\n",
    "ax2 = ax.twinx()\n",
    "ax2.plot(alphas, scores, 'ro', label='Model Score')\n",
    "ax2.set_ylabel('Model Score (R^2)')\n",
    "ax2.legend(loc='upper right')"
   ]
  },
  {
   "cell_type": "markdown",
   "metadata": {},
   "source": [
    "----\n",
    "### Ridge Regression\n",
    "\n",
    "Ridge Regression is another way of penalizing a model with irrelevant parameters."
   ]
  },
  {
   "cell_type": "code",
   "execution_count": 24,
   "metadata": {},
   "outputs": [
    {
     "name": "stdout",
     "output_type": "stream",
     "text": [
      "Score for alpha = 1e-05\n",
      "0.7898281695208687\n",
      "Score for alpha = 0.005\n",
      "0.7897406174277011\n",
      "Score for alpha = 0.01\n",
      "0.7894952699571175\n",
      "Score for alpha = 0.1\n",
      "0.7730490922927719\n",
      "Score for alpha = 0.5\n",
      "0.6808871096904584\n",
      "Score for alpha = 1\n",
      "0.5919662256810726\n",
      "Score for alpha = 2\n",
      "0.4697432944513993\n",
      "Score for alpha = 10\n",
      "0.17618984128864557\n"
     ]
    }
   ],
   "source": [
    "data['GI'] = data['G'] * data['I']\n",
    "\n",
    "var_coefs = {\n",
    "    n: []\n",
    "    for n in ['Intercept', 'I', 'D', 'W', 'P', 'N', 'GI']\n",
    "}\n",
    "\n",
    "scores = []\n",
    "alphas = [0.00001, 0.005, 0.01, 0.1, 0.5, 1, 2, 10]\n",
    "\n",
    "for alpha in alphas:\n",
    "    reg = linear_model.Ridge(alpha=alpha, normalize=True)\n",
    "    reg.fit(\n",
    "        np.asarray(data[['I', 'D', 'W', 'P', 'N', 'GI']]),\n",
    "        np.asarray(data['V']),\n",
    "    )\n",
    "\n",
    "    for n, v in zip(\n",
    "        data[['I', 'D', 'W', 'P', 'N', 'GI']].columns,\n",
    "        reg.coef_,\n",
    "    ):\n",
    "        var_coefs[n].append(v)\n",
    "    # end for\n",
    "    var_coefs['Intercept'].append(reg.intercept_)\n",
    "\n",
    "    print(f'Score for alpha = {alpha}')\n",
    "    print(\n",
    "        reg.score(\n",
    "            np.asarray(\n",
    "                data[['I', 'D', 'W', 'P', 'N', 'GI']]\n",
    "            ),\n",
    "            np.asarray(data['V']),\n",
    "        )\n",
    "    )\n",
    "    scores.append(\n",
    "        reg.score(\n",
    "            np.asarray(\n",
    "                data[['I', 'D', 'W', 'P', 'N', 'GI']]\n",
    "            ),\n",
    "            np.asarray(data['V']),\n",
    "        )\n",
    "    )\n",
    "# end for"
   ]
  },
  {
   "cell_type": "markdown",
   "metadata": {},
   "source": [
    "The plot indicates that the ```N``` parameter probably should be dropped from the model."
   ]
  },
  {
   "cell_type": "code",
   "execution_count": 25,
   "metadata": {},
   "outputs": [
    {
     "data": {
      "text/plain": [
       "<matplotlib.legend.Legend at 0x204c0913dd8>"
      ]
     },
     "execution_count": 25,
     "metadata": {},
     "output_type": "execute_result"
    },
    {
     "data": {
      "image/png": "[encoded data removed]",
      "text/plain": [
       "<Figure size 720x720 with 2 Axes>"
      ]
     },
     "metadata": {
      "needs_background": "light"
     },
     "output_type": "display_data"
    }
   ],
   "source": [
    "fig, ax = plt.subplots(figsize=(10, 10))\n",
    "\n",
    "\n",
    "for n in ['I', 'D', 'W', 'P', 'N', 'GI']:\n",
    "    _ = ax.plot(alphas, var_coefs[n], '-o', label=n)\n",
    "# end for\n",
    "for x in res0.params[1:]:\n",
    "    _ = ax.plot(0, x, 'k*')\n",
    "# end for\n",
    "_ = ax.plot(0, x, 'k*', label='OLS (alpha=0)')\n",
    "_ = ax.axhline(0, color='k', alpha=0.4)\n",
    "_ = ax.legend(loc='upper center')\n",
    "ax.set_ylabel('Parameter Coefficient')\n",
    "ax.set_xlabel('Alpha')\n",
    "ax.set_title('RIDGE Regression')\n",
    "\n",
    "ax2 = ax.twinx()\n",
    "ax2.plot(alphas, scores, 'ro', label='Model Score')\n",
    "ax2.set_ylabel('Model Score (R^2)')\n",
    "ax2.legend(loc='upper right')"
   ]
  },
  {
   "cell_type": "markdown",
   "metadata": {},
   "source": [
    "----\n",
    "## LASSO with Cross Validation \n",
    "\n",
    "One problem with penalizing bad paramters (as measured by ```alpha```) is: what value of ```alpha``` should I use?  The Cross Validation process build a model from  a subset of the dataset, and score the model by looking at the prediction error of the model when applied the remaining subset.  We vary ```alpha``` till we get a minimum error on the validation dataset"
   ]
  },
  {
   "cell_type": "code",
   "execution_count": 26,
   "metadata": {},
   "outputs": [
    {
     "name": "stdout",
     "output_type": "stream",
     "text": [
      "0.7074044689513146\n"
     ]
    }
   ],
   "source": [
    "reg = linear_model.LassoCV(normalize=True, cv=5)\n",
    "reg.fit(\n",
    "    np.asarray(data[['I', 'D', 'W', 'P', 'N', 'GI']]),\n",
    "    np.asarray(data['V']),\n",
    ")\n",
    "score = reg.score(\n",
    "    np.asarray(data[['I', 'D', 'W', 'P', 'N', 'GI']]),\n",
    "    np.asarray(data['V']),\n",
    ")\n",
    "print(score)"
   ]
  },
  {
   "cell_type": "code",
   "execution_count": 27,
   "metadata": {},
   "outputs": [
    {
     "name": "stdout",
     "output_type": "stream",
     "text": [
      "Intercept       =  0.4821\n",
      "I               =  0.0000\n",
      "D               =  0.0226\n",
      "W               = -0.0000\n",
      "P               = -0.0000\n",
      "N               = -0.0000\n",
      "GI              =  0.0076\n"
     ]
    }
   ],
   "source": [
    "all_coef = [reg.intercept_] + list(reg.coef_)\n",
    "all_names = ['Intercept'] + ['I', 'D', 'W', 'P', 'N', 'GI']\n",
    "_ = [\n",
    "    print(f\"{n:15} = {v: 6.4f}\")\n",
    "    for n, v in zip(all_names, all_coef)\n",
    "]"
   ]
  },
  {
   "cell_type": "code",
   "execution_count": 28,
   "metadata": {},
   "outputs": [
    {
     "data": {
      "text/plain": [
       "0.002038401170872668"
      ]
     },
     "execution_count": 28,
     "metadata": {},
     "output_type": "execute_result"
    }
   ],
   "source": [
    "reg.alpha_"
   ]
  },
  {
   "cell_type": "markdown",
   "metadata": {},
   "source": [
    "From the average of the error score across repeated subsetting of the original dataset into model-building and validation subsets, we get a minumum at about ```alpha``` = 0.002"
   ]
  },
  {
   "cell_type": "code",
   "execution_count": 29,
   "metadata": {},
   "outputs": [
    {
     "data": {
      "text/plain": [
       "<matplotlib.legend.Legend at 0x204c09999e8>"
      ]
     },
     "execution_count": 29,
     "metadata": {},
     "output_type": "execute_result"
    },
    {
     "data": {
      "image/png": "[encoded data removed]",
      "text/plain": [
       "<Figure size 432x288 with 1 Axes>"
      ]
     },
     "metadata": {
      "needs_background": "light"
     },
     "output_type": "display_data"
    }
   ],
   "source": [
    "_ = plt.plot(reg.alphas_, reg.mse_path_, ':', alpha=1)\n",
    "_ = plt.plot(\n",
    "    reg.alphas_,\n",
    "    reg.mse_path_.mean(axis=-1),\n",
    "    'k',\n",
    "    label='Average across the folds',\n",
    "    linewidth=2,\n",
    ")\n",
    "_ = plt.axvline(\n",
    "    reg.alpha_,\n",
    "    linestyle='--',\n",
    "    color='r',\n",
    "    label='alpha: CV estimate',\n",
    ")\n",
    "plt.legend(loc='best')"
   ]
  },
  {
   "cell_type": "markdown",
   "metadata": {},
   "source": [
    "\n",
    "-----\n",
    "## LASSO and Information Criteria\n",
    "\n",
    "We can score the model in different ways, and below we use the AIC and BIC scores, that  give roughly the same value of ```alpha```.  I am a little suspicious of the results, as it shows AIC- and BIC-scoring to have the same minimum?\n",
    "\n",
    "The results are to retain the Intercept, ```D```, and ```GI``` (G and I interactio)n parameters in our model, and discard the rest."
   ]
  },
  {
   "cell_type": "code",
   "execution_count": 30,
   "metadata": {},
   "outputs": [
    {
     "name": "stdout",
     "output_type": "stream",
     "text": [
      "BIC as criterion, score = 0.7143878277799238\n",
      "AIC as criterion, score = 0.7143878277799238\n"
     ]
    }
   ],
   "source": [
    "reg_bic = linear_model.LassoLarsIC(\n",
    "    normalize=True, criterion='bic'\n",
    ")\n",
    "reg_bic.fit(\n",
    "    np.asarray(data[['I', 'D', 'W', 'P', 'N', 'GI']]),\n",
    "    np.asarray(data['V']),\n",
    ")\n",
    "score = reg_bic.score(\n",
    "    np.asarray(data[['I', 'D', 'W', 'P', 'N', 'GI']]),\n",
    "    np.asarray(data['V']),\n",
    ")\n",
    "print(f'BIC as criterion, score = {score}')\n",
    "\n",
    "reg_aic = linear_model.LassoLarsIC(\n",
    "    normalize=True, criterion='aic'\n",
    ")\n",
    "reg_aic.fit(\n",
    "    np.asarray(data[['I', 'D', 'W', 'P', 'N', 'GI']]),\n",
    "    np.asarray(data['V']),\n",
    ")\n",
    "score = reg_aic.score(\n",
    "    np.asarray(data[['I', 'D', 'W', 'P', 'N', 'GI']]),\n",
    "    np.asarray(data['V']),\n",
    ")\n",
    "print(f'AIC as criterion, score = {score}')"
   ]
  },
  {
   "cell_type": "code",
   "execution_count": 31,
   "metadata": {},
   "outputs": [
    {
     "data": {
      "image/png": "[encoded data removed]",
      "text/plain": [
       "<Figure size 432x288 with 1 Axes>"
      ]
     },
     "metadata": {
      "needs_background": "light"
     },
     "output_type": "display_data"
    }
   ],
   "source": [
    "_ = plt.plot(reg_bic.alphas_, reg_bic.criterion_, 'b-')\n",
    "_ = plt.axvline(reg_bic.alpha_, color='b')\n",
    "\n",
    "_ = plt.plot(reg_aic.alphas_, reg_aic.criterion_, 'r-')\n",
    "_ = plt.axvline(reg_aic.alpha_, color='r')"
   ]
  },
  {
   "cell_type": "code",
   "execution_count": 32,
   "metadata": {},
   "outputs": [
    {
     "name": "stdout",
     "output_type": "stream",
     "text": [
      "Intercept       =  0.4818\n",
      "I               =  0.0000\n",
      "D               =  0.0240\n",
      "W               =  0.0000\n",
      "P               =  0.0000\n",
      "N               =  0.0000\n",
      "GI              =  0.0077\n"
     ]
    }
   ],
   "source": [
    "all_coef = [reg_aic.intercept_] + list(reg_aic.coef_)\n",
    "all_names = ['Intercept'] + ['I', 'D', 'W', 'P', 'N', 'GI']\n",
    "_ = [\n",
    "    print(f\"{n:15} = {v: 6.4f}\")\n",
    "    for n, v in zip(all_names, all_coef)\n",
    "]"
   ]
  },
  {
   "cell_type": "code",
   "execution_count": 33,
   "metadata": {},
   "outputs": [
    {
     "name": "stdout",
     "output_type": "stream",
     "text": [
      "Intercept       =  0.4818\n",
      "I               =  0.0000\n",
      "D               =  0.0240\n",
      "W               =  0.0000\n",
      "P               =  0.0000\n",
      "N               =  0.0000\n",
      "GI              =  0.0077\n"
     ]
    }
   ],
   "source": [
    "all_coef = [reg_bic.intercept_] + list(reg_bic.coef_)\n",
    "all_names = ['Intercept'] + ['I', 'D', 'W', 'P', 'N', 'GI']\n",
    "_ = [\n",
    "    print(f\"{n:15} = {v: 6.4f}\")\n",
    "    for n, v in zip(all_names, all_coef)\n",
    "]"
   ]
  },
  {
   "cell_type": "markdown",
   "metadata": {},
   "source": [
    "-----\n",
    "## Environment"
   ]
  },
  {
   "cell_type": "code",
   "execution_count": 34,
   "metadata": {},
   "outputs": [
    {
     "name": "stdout",
     "output_type": "stream",
     "text": [
      "scipy       1.1.0\n",
      "matplotlib  3.0.2\n",
      "pandas      1.0.0\n",
      "sklearn     0.20.1\n",
      "statsmodels 0.9.0\n",
      "numpy       1.15.4\n",
      "seaborn     0.9.0\n",
      "host name: DESKTOP-SODFUN6\n",
      "2020-05-05T19:57:29+10:00\n",
      "\n",
      "CPython 3.7.1\n",
      "IPython 7.2.0\n",
      "\n",
      "compiler   : MSC v.1915 64 bit (AMD64)\n",
      "system     : Windows\n",
      "release    : 10\n",
      "machine    : AMD64\n",
      "processor  : Intel64 Family 6 Model 94 Stepping 3, GenuineIntel\n",
      "CPU cores  : 8\n",
      "interpreter: 64bit\n"
     ]
    }
   ],
   "source": [
    "%watermark -h -iv\n",
    "%watermark"
   ]
  },
  {
   "cell_type": "code",
   "execution_count": 35,
   "metadata": {},
   "outputs": [
    {
     "name": "stdout",
     "output_type": "stream",
     "text": [
      "\n",
      "INSTALLED VERSIONS\n",
      "------------------\n",
      "Python: 3.7.1.final.0\n",
      "\n",
      "Statsmodels\n",
      "===========\n",
      "\n",
      "Installed: 0.9.0 (D:\\Anaconda3\\envs\\ac5-py37\\lib\\site-packages\\statsmodels)\n",
      "\n",
      "Required Dependencies\n",
      "=====================\n",
      "\n",
      "cython: 0.29.2 (D:\\Anaconda3\\envs\\ac5-py37\\lib\\site-packages\\Cython)\n",
      "numpy: 1.15.4 (D:\\Anaconda3\\envs\\ac5-py37\\lib\\site-packages\\numpy)\n",
      "scipy: 1.1.0 (D:\\Anaconda3\\envs\\ac5-py37\\lib\\site-packages\\scipy)\n",
      "pandas: 1.0.0 (D:\\Anaconda3\\envs\\ac5-py37\\lib\\site-packages\\pandas)\n",
      "    dateutil: 2.7.5 (D:\\Anaconda3\\envs\\ac5-py37\\lib\\site-packages\\dateutil)\n",
      "patsy: 0.5.1 (D:\\Anaconda3\\envs\\ac5-py37\\lib\\site-packages\\patsy)\n",
      "\n",
      "Optional Dependencies\n",
      "=====================\n",
      "\n",
      "matplotlib: 3.0.2 (D:\\Anaconda3\\envs\\ac5-py37\\lib\\site-packages\\matplotlib)\n",
      "    backend: module://ipykernel.pylab.backend_inline \n",
      "cvxopt: Not installed\n",
      "joblib: 0.13.2 (D:\\Anaconda3\\envs\\ac5-py37\\lib\\site-packages\\joblib)\n",
      "\n",
      "Developer Tools\n",
      "================\n",
      "\n",
      "IPython: 7.2.0 (D:\\Anaconda3\\envs\\ac5-py37\\lib\\site-packages\\IPython)\n",
      "    jinja2: 2.10.1 (D:\\Anaconda3\\envs\\ac5-py37\\lib\\site-packages\\jinja2)\n",
      "sphinx: 1.8.2 (D:\\Anaconda3\\envs\\ac5-py37\\lib\\site-packages\\sphinx)\n",
      "    pygments: 2.3.1 (D:\\Anaconda3\\envs\\ac5-py37\\lib\\site-packages\\pygments)\n",
      "nose: 1.3.7 (D:\\Anaconda3\\envs\\ac5-py37\\lib\\site-packages\\nose)\n",
      "pytest: 5.0.1 (D:\\Anaconda3\\envs\\ac5-py37\\lib\\site-packages)\n",
      "virtualenv: Not installed\n",
      "\n",
      "\n"
     ]
    }
   ],
   "source": [
    "sm.show_versions()"
   ]
  },
  {
   "cell_type": "code",
   "execution_count": null,
   "metadata": {},
   "outputs": [],
   "source": []
  }
 ],
 "metadata": {
  "kernelspec": {
   "display_name": "Python 3",
   "language": "python",
   "name": "python3"
  },
  "language_info": {
   "codemirror_mode": {
    "name": "ipython",
    "version": 3
   },
   "file_extension": ".py",
   "mimetype": "text/x-python",
   "name": "python",
   "nbconvert_exporter": "python",
   "pygments_lexer": "ipython3",
   "version": "3.7.1"
  }
 },
 "nbformat": 4,
 "nbformat_minor": 4
}
