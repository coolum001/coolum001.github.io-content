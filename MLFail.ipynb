{
 "cells": [
  {
   "cell_type": "markdown",
   "metadata": {},
   "source": [
    "# Machine Learning Fail\n",
    "\n",
    "## Introduction\n",
    "\n",
    "A little while ago, I created a machine learning App to recognize Australian urban birds.  I took the Australian Museum list of the 30  most common small urban birds, and used the ```fastai``` methodology and libraries to train a recognizer for each bird species.\n",
    "\n",
    "I had a unique and refreshing approach to input data quality:  I had none at all!\n",
    "\n",
    "I used the common name of the bird, did a google image search, and used the top 200 thumbnail images returned, with no vetting at all.  This was part of an experiment to see how far you could get with the lazy persons approach to Machine Learning.\n",
    "\n",
    "I was close to astounded at how well it worked."
   ]
  },
  {
   "cell_type": "markdown",
   "metadata": {},
   "source": [
    "## Live Test Images\n",
    "\n",
    "Then just the other day, my brother gave me a wildlife camera to position next to my birdbath (which is very popular with the local wild life).  I was able to take a number of close-ups of the local bird species.  So I thought, I will run these images through my recognizer.\n",
    "\n",
    "## Success - (Pride before the Fall)\n",
    "\n",
    "The first few were OK\n",
    "\n",
    "![Noisy Minor](images/pic01.png \"Noisy Miner\")"
   ]
  },
  {
   "cell_type": "markdown",
   "metadata": {},
   "source": [
    "I was a little surprised that the Rainbow Lorikeet was not identified with more certainty\n",
    "\n",
    "![Rainbow Lorikeet](images/pic02.png \"Rainbow Lorikeet\")"
   ]
  },
  {
   "cell_type": "markdown",
   "metadata": {},
   "source": [
    "It is hard to mistake a Pied Currawong up close\n",
    "\n",
    "![Pied Currawong](images/pic03.png \"Pied Currawong\")"
   ]
  },
  {
   "cell_type": "markdown",
   "metadata": {},
   "source": [
    "## Fail\n",
    "\n",
    "The last one was crushing.\n",
    "\n",
    "![Butcherbird](images/pic04.png \"Butcherbird\")\n",
    "\n",
    "Whiskey Tango Foxtrot!  My recognizer got the Grey Butcherbird completely wrong!  The shame!"
   ]
  },
  {
   "cell_type": "markdown",
   "metadata": {},
   "source": [
    "## The Reason Why (I think)\n",
    "\n",
    "I think I know what happened.\n",
    "\n",
    "It turns out that there are two common butcherbird species (and both are common where I live).\n",
    "\n",
    "There is the Grey Butcherbird (Cracticus torquatus),\n",
    "\n",
    "![Grey Butcherbird](images/pic06.jpg \"Grey Butcherbird\")\n",
    "\n",
    "and the Pied Butcherbird  (Cracticus nigrogularis).\n",
    "\n",
    "![Pied Butcherbird](images/pic05.jpg \"Pied Butcherbird\")\n",
    "\n",
    "I suspect that my naive search for \"Butcherbird\" got images of both species.  When I repeated the search just now, it certainly got images of both species. My bird recognizer really just matches by textures, and these two birds have completely different textures, so it is no wonder that recognition failed."
   ]
  },
  {
   "cell_type": "markdown",
   "metadata": {},
   "source": [
    "## Conclusions\n",
    "\n",
    "So the moral of the story is:  Data Quality Matters!  Ignoring input data quality might look to be the easy way to start, but it will come back to bite you later, in production."
   ]
  },
  {
   "cell_type": "code",
   "execution_count": null,
   "metadata": {},
   "outputs": [],
   "source": []
  }
 ],
 "metadata": {
  "kernelspec": {
   "display_name": "Python 3",
   "language": "python",
   "name": "python3"
  },
  "language_info": {
   "codemirror_mode": {
    "name": "ipython",
    "version": 3
   },
   "file_extension": ".py",
   "mimetype": "text/x-python",
   "name": "python",
   "nbconvert_exporter": "python",
   "pygments_lexer": "ipython3",
   "version": "3.7.1"
  }
 },
 "nbformat": 4,
 "nbformat_minor": 4
}
