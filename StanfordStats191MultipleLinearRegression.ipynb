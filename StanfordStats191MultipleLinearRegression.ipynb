{
 "cells": [
  {
   "cell_type": "markdown",
   "metadata": {},
   "source": [
    "# Stanford Stats 191\n",
    "\n",
    "## Introduction\n",
    "\n",
    "This is a re-creation of the Stanford Stats 191 course, using Python eco-system tools, instead of R. This is lecture \"Multiple linear regression\" ( see https://web.stanford.edu/class/stats191/notebooks/Multiple_linear_regression.html \n",
    ")\n",
    "\n"
   ]
  },
  {
   "cell_type": "markdown",
   "metadata": {},
   "source": [
    "\n",
    "## Initial Notebook Setup\n",
    "\n",
    "```watermark``` documents the Python and package environment, ```black``` is my chosen Python formatter"
   ]
  },
  {
   "cell_type": "code",
   "execution_count": 160,
   "metadata": {},
   "outputs": [
    {
     "name": "stdout",
     "output_type": "stream",
     "text": [
      "The watermark extension is already loaded. To reload it, use:\n",
      "  %reload_ext watermark\n"
     ]
    }
   ],
   "source": [
    "%load_ext watermark"
   ]
  },
  {
   "cell_type": "code",
   "execution_count": 161,
   "metadata": {},
   "outputs": [
    {
     "name": "stdout",
     "output_type": "stream",
     "text": [
      "The lab_black extension is already loaded. To reload it, use:\n",
      "  %reload_ext lab_black\n"
     ]
    }
   ],
   "source": [
    "%load_ext lab_black"
   ]
  },
  {
   "cell_type": "code",
   "execution_count": 162,
   "metadata": {},
   "outputs": [],
   "source": [
    "%matplotlib inline"
   ]
  },
  {
   "cell_type": "markdown",
   "metadata": {},
   "source": [
    "All imports go here."
   ]
  },
  {
   "cell_type": "code",
   "execution_count": 163,
   "metadata": {},
   "outputs": [],
   "source": [
    "import pandas as pd\n",
    "import numpy as np\n",
    "import seaborn as sn\n",
    "\n",
    "import math\n",
    "\n",
    "import matplotlib.pyplot as plt\n",
    "from mpl_toolkits.mplot3d import Axes3D\n",
    "\n",
    "\n",
    "from scipy import stats\n",
    "from statsmodels.formula.api import ols\n",
    "from statsmodels.formula.api import rlm\n",
    "import statsmodels.api as sm\n",
    "\n",
    "from statsmodels.sandbox.regression.predstd import (\n",
    "    wls_prediction_std,\n",
    ")\n",
    "\n",
    "from statsmodels.stats.stattools import jarque_bera\n",
    "from statsmodels.stats.diagnostic import het_white\n",
    "from statsmodels.stats.diagnostic import het_breuschpagan\n",
    "from statsmodels.stats.diagnostic import het_goldfeldquandt\n",
    "\n",
    "from statsmodels.stats.anova import anova_lm\n",
    "\n",
    "\n",
    "import os"
   ]
  },
  {
   "cell_type": "markdown",
   "metadata": {},
   "source": [
    "-----\n",
    "## Read and Explore Data\n",
    "\n",
    "Read a medical dataset relating to prostate cancer\n",
    "\n",
    "Data details are:\n",
    "\n",
    "\n",
    "|Variable|Description|\n",
    "|:--|--|\n",
    "|lcavol|(log) Cancer Volume|\n",
    "|lweight|\t(log) Weight|\n",
    "|age|\tPatient age|\n",
    "|lbph|\t(log) Vening Prostatic Hyperplasia|\n",
    "|svi\t|Seminal Vesicle Invasion|\n",
    "|lcp\t|(log) Capsular Penetration|\n",
    "|gleason|\tGleason score|\n",
    "|pgg45\t|Percent of Gleason score 4 or 5|\n",
    "|lpsa\t|(log) Prostate Specific Antigen|\n",
    "|train\t|Label for test / training split|\n",
    "\n"
   ]
  },
  {
   "cell_type": "code",
   "execution_count": 164,
   "metadata": {},
   "outputs": [],
   "source": [
    "data = pd.read_csv('../data/prostate.txt', sep='\\t')"
   ]
  },
  {
   "cell_type": "code",
   "execution_count": 165,
   "metadata": {},
   "outputs": [
    {
     "data": {
      "text/html": [
       "<div>\n",
       "<style scoped>\n",
       "    .dataframe tbody tr th:only-of-type {\n",
       "        vertical-align: middle;\n",
       "    }\n",
       "\n",
       "    .dataframe tbody tr th {\n",
       "        vertical-align: top;\n",
       "    }\n",
       "\n",
       "    .dataframe thead th {\n",
       "        text-align: right;\n",
       "    }\n",
       "</style>\n",
       "<table border=\"1\" class=\"dataframe\">\n",
       "  <thead>\n",
       "    <tr style=\"text-align: right;\">\n",
       "      <th></th>\n",
       "      <th>Unnamed: 0</th>\n",
       "      <th>lcavol</th>\n",
       "      <th>lweight</th>\n",
       "      <th>age</th>\n",
       "      <th>lbph</th>\n",
       "      <th>svi</th>\n",
       "      <th>lcp</th>\n",
       "      <th>gleason</th>\n",
       "      <th>pgg45</th>\n",
       "      <th>lpsa</th>\n",
       "      <th>train</th>\n",
       "    </tr>\n",
       "  </thead>\n",
       "  <tbody>\n",
       "    <tr>\n",
       "      <th>0</th>\n",
       "      <td>1</td>\n",
       "      <td>-0.579818</td>\n",
       "      <td>2.769459</td>\n",
       "      <td>50</td>\n",
       "      <td>-1.386294</td>\n",
       "      <td>0</td>\n",
       "      <td>-1.386294</td>\n",
       "      <td>6</td>\n",
       "      <td>0</td>\n",
       "      <td>-0.430783</td>\n",
       "      <td>T</td>\n",
       "    </tr>\n",
       "    <tr>\n",
       "      <th>1</th>\n",
       "      <td>2</td>\n",
       "      <td>-0.994252</td>\n",
       "      <td>3.319626</td>\n",
       "      <td>58</td>\n",
       "      <td>-1.386294</td>\n",
       "      <td>0</td>\n",
       "      <td>-1.386294</td>\n",
       "      <td>6</td>\n",
       "      <td>0</td>\n",
       "      <td>-0.162519</td>\n",
       "      <td>T</td>\n",
       "    </tr>\n",
       "    <tr>\n",
       "      <th>2</th>\n",
       "      <td>3</td>\n",
       "      <td>-0.510826</td>\n",
       "      <td>2.691243</td>\n",
       "      <td>74</td>\n",
       "      <td>-1.386294</td>\n",
       "      <td>0</td>\n",
       "      <td>-1.386294</td>\n",
       "      <td>7</td>\n",
       "      <td>20</td>\n",
       "      <td>-0.162519</td>\n",
       "      <td>T</td>\n",
       "    </tr>\n",
       "    <tr>\n",
       "      <th>3</th>\n",
       "      <td>4</td>\n",
       "      <td>-1.203973</td>\n",
       "      <td>3.282789</td>\n",
       "      <td>58</td>\n",
       "      <td>-1.386294</td>\n",
       "      <td>0</td>\n",
       "      <td>-1.386294</td>\n",
       "      <td>6</td>\n",
       "      <td>0</td>\n",
       "      <td>-0.162519</td>\n",
       "      <td>T</td>\n",
       "    </tr>\n",
       "    <tr>\n",
       "      <th>4</th>\n",
       "      <td>5</td>\n",
       "      <td>0.751416</td>\n",
       "      <td>3.432373</td>\n",
       "      <td>62</td>\n",
       "      <td>-1.386294</td>\n",
       "      <td>0</td>\n",
       "      <td>-1.386294</td>\n",
       "      <td>6</td>\n",
       "      <td>0</td>\n",
       "      <td>0.371564</td>\n",
       "      <td>T</td>\n",
       "    </tr>\n",
       "  </tbody>\n",
       "</table>\n",
       "</div>"
      ],
      "text/plain": [
       "   Unnamed: 0    lcavol   lweight  age      lbph  svi       lcp  gleason  \\\n",
       "0           1 -0.579818  2.769459   50 -1.386294    0 -1.386294        6   \n",
       "1           2 -0.994252  3.319626   58 -1.386294    0 -1.386294        6   \n",
       "2           3 -0.510826  2.691243   74 -1.386294    0 -1.386294        7   \n",
       "3           4 -1.203973  3.282789   58 -1.386294    0 -1.386294        6   \n",
       "4           5  0.751416  3.432373   62 -1.386294    0 -1.386294        6   \n",
       "\n",
       "   pgg45      lpsa train  \n",
       "0      0 -0.430783     T  \n",
       "1      0 -0.162519     T  \n",
       "2     20 -0.162519     T  \n",
       "3      0 -0.162519     T  \n",
       "4      0  0.371564     T  "
      ]
     },
     "execution_count": 165,
     "metadata": {},
     "output_type": "execute_result"
    }
   ],
   "source": [
    "data.head()"
   ]
  },
  {
   "cell_type": "markdown",
   "metadata": {},
   "source": [
    "### Display Data\n",
    "\n",
    "We use pandas to give use a quick snapshot of all the variables.  We could have removed the \"Unnamed\" column, but this is just initial exploration.  If we look at the ```lpsa``` row or column, we see that there is apparently linear correlation with some of the other variables.\n"
   ]
  },
  {
   "cell_type": "code",
   "execution_count": 166,
   "metadata": {},
   "outputs": [
    {
     "data": {
      "image/png": "[encoded data removed]",
      "text/plain": [
       "<Figure size 720x720 with 100 Axes>"
      ]
     },
     "metadata": {
      "needs_background": "light"
     },
     "output_type": "display_data"
    }
   ],
   "source": [
    "_ = pd.plotting.scatter_matrix(data, figsize=(10, 10))"
   ]
  },
  {
   "cell_type": "markdown",
   "metadata": {},
   "source": [
    "----\n",
    "## Fit Model\n",
    "\n",
    "The model is of the form of the equation below (linear in all parameters of interest, with Gaussian noise added). Under the Null Hypothesis (H0), all the beta-s are zero.\n",
    "\n"
   ]
  },
  {
   "cell_type": "markdown",
   "metadata": {},
   "source": [
    "$$Y_i = \\beta_0 + \\beta_1 X_{i1} + \\dots + \\beta_p X_{ip} + \\varepsilon_i$$"
   ]
  },
  {
   "cell_type": "code",
   "execution_count": 167,
   "metadata": {},
   "outputs": [],
   "source": [
    "res = ols(\n",
    "    ' lpsa ~ lcavol + lweight + age + lbph + svi + lcp  + pgg45',\n",
    "    data=data,\n",
    ").fit()"
   ]
  },
  {
   "cell_type": "markdown",
   "metadata": {},
   "source": [
    "We list the model parameter values (the betas), and the probability of seeing each value under H0"
   ]
  },
  {
   "cell_type": "code",
   "execution_count": 168,
   "metadata": {},
   "outputs": [
    {
     "name": "stdout",
     "output_type": "stream",
     "text": [
      "Parameter                             Value   Probability (under H0)\n",
      "Intercept                           0.49415   0.57304\n",
      "lcavol                              0.56955   2.4614e-09\n",
      "lweight                             0.61442   0.0026221\n",
      "age                                -0.02091   0.059999\n",
      "lbph                                0.09735   0.094411\n",
      "svi                                 0.75240   0.0021633\n",
      "lcp                                -0.10496   0.24323\n",
      "pgg45                               0.00532   0.11923\n"
     ]
    }
   ],
   "source": [
    "print(\n",
    "    f'{\"Parameter\":30} {\"Value\":>12}   {\"Probability (under H0)\"}'\n",
    ")\n",
    "_ = [\n",
    "    print(f'{na:30} {pa:12.5f}   {pr:.5g}')\n",
    "    for na, pa, pr in zip(\n",
    "        res.params.index, res.params.values, res.pvalues\n",
    "    )\n",
    "]"
   ]
  },
  {
   "cell_type": "markdown",
   "metadata": {},
   "source": [
    "We sort them by probability"
   ]
  },
  {
   "cell_type": "code",
   "execution_count": 169,
   "metadata": {},
   "outputs": [
    {
     "data": {
      "text/html": [
       "<div>\n",
       "<style scoped>\n",
       "    .dataframe tbody tr th:only-of-type {\n",
       "        vertical-align: middle;\n",
       "    }\n",
       "\n",
       "    .dataframe tbody tr th {\n",
       "        vertical-align: top;\n",
       "    }\n",
       "\n",
       "    .dataframe thead th {\n",
       "        text-align: right;\n",
       "    }\n",
       "</style>\n",
       "<table border=\"1\" class=\"dataframe\">\n",
       "  <thead>\n",
       "    <tr style=\"text-align: right;\">\n",
       "      <th></th>\n",
       "      <th>parameter</th>\n",
       "      <th>value</th>\n",
       "      <th>probsh0</th>\n",
       "    </tr>\n",
       "  </thead>\n",
       "  <tbody>\n",
       "    <tr>\n",
       "      <th>1</th>\n",
       "      <td>lcavol</td>\n",
       "      <td>0.569546</td>\n",
       "      <td>2.461449e-09</td>\n",
       "    </tr>\n",
       "    <tr>\n",
       "      <th>5</th>\n",
       "      <td>svi</td>\n",
       "      <td>0.752397</td>\n",
       "      <td>2.163265e-03</td>\n",
       "    </tr>\n",
       "    <tr>\n",
       "      <th>2</th>\n",
       "      <td>lweight</td>\n",
       "      <td>0.614420</td>\n",
       "      <td>2.622121e-03</td>\n",
       "    </tr>\n",
       "    <tr>\n",
       "      <th>3</th>\n",
       "      <td>age</td>\n",
       "      <td>-0.020913</td>\n",
       "      <td>5.999883e-02</td>\n",
       "    </tr>\n",
       "    <tr>\n",
       "      <th>4</th>\n",
       "      <td>lbph</td>\n",
       "      <td>0.097353</td>\n",
       "      <td>9.441057e-02</td>\n",
       "    </tr>\n",
       "    <tr>\n",
       "      <th>7</th>\n",
       "      <td>pgg45</td>\n",
       "      <td>0.005324</td>\n",
       "      <td>1.192260e-01</td>\n",
       "    </tr>\n",
       "    <tr>\n",
       "      <th>6</th>\n",
       "      <td>lcp</td>\n",
       "      <td>-0.104959</td>\n",
       "      <td>2.432323e-01</td>\n",
       "    </tr>\n",
       "    <tr>\n",
       "      <th>0</th>\n",
       "      <td>Intercept</td>\n",
       "      <td>0.494155</td>\n",
       "      <td>5.730382e-01</td>\n",
       "    </tr>\n",
       "  </tbody>\n",
       "</table>\n",
       "</div>"
      ],
      "text/plain": [
       "   parameter     value       probsh0\n",
       "1     lcavol  0.569546  2.461449e-09\n",
       "5        svi  0.752397  2.163265e-03\n",
       "2    lweight  0.614420  2.622121e-03\n",
       "3        age -0.020913  5.999883e-02\n",
       "4       lbph  0.097353  9.441057e-02\n",
       "7      pgg45  0.005324  1.192260e-01\n",
       "6        lcp -0.104959  2.432323e-01\n",
       "0  Intercept  0.494155  5.730382e-01"
      ]
     },
     "execution_count": 169,
     "metadata": {},
     "output_type": "execute_result"
    }
   ],
   "source": [
    "p_srtd = pd.DataFrame()\n",
    "p_srtd['parameter'] = res.params.index\n",
    "p_srtd['value'] = res.params.values\n",
    "p_srtd['probsh0'] = res.pvalues.values\n",
    "temp = p_srtd.sort_values(by='probsh0')\n",
    "temp"
   ]
  },
  {
   "cell_type": "markdown",
   "metadata": {},
   "source": [
    "The estimate of the error signal must take into account the number of parameters we have used in the model.  More parameters will make the estimate larger for a given Sum Of Squared Errors (SSE).  We show how the RegressionResults attribute ```df_resid``` is calculated"
   ]
  },
  {
   "cell_type": "code",
   "execution_count": 170,
   "metadata": {},
   "outputs": [
    {
     "name": "stdout",
     "output_type": "stream",
     "text": [
      "89.0 =  97 - 7.0 - 1\n"
     ]
    }
   ],
   "source": [
    "print(f'{res.df_resid} =  {len(data)} - {res.df_model} - 1')"
   ]
  },
  {
   "cell_type": "markdown",
   "metadata": {},
   "source": [
    "$$\\widehat{\\sigma}^2 = \\frac{SSE}{n-p-1} \\sim \\sigma^2 \\cdot \\frac{\\chi^2_{n-p-1}}{n-p\\\n",
    "-1}$$"
   ]
  },
  {
   "cell_type": "markdown",
   "metadata": {},
   "source": [
    "Compute our estimate of the standard deviation of the error noise."
   ]
  },
  {
   "cell_type": "code",
   "execution_count": 171,
   "metadata": {},
   "outputs": [
    {
     "data": {
      "text/plain": [
       "0.6959558777863034"
      ]
     },
     "execution_count": 171,
     "metadata": {},
     "output_type": "execute_result"
    }
   ],
   "source": [
    "sigma_hat = np.sqrt(\n",
    "    sum(res.resid * res.resid) / res.df_resid\n",
    ")\n",
    "sigma_hat"
   ]
  },
  {
   "cell_type": "markdown",
   "metadata": {},
   "source": [
    "We can check this against the value in the RegressionResults object"
   ]
  },
  {
   "cell_type": "code",
   "execution_count": 172,
   "metadata": {},
   "outputs": [
    {
     "data": {
      "text/plain": [
       "0.6959558777863034"
      ]
     },
     "execution_count": 172,
     "metadata": {},
     "output_type": "execute_result"
    }
   ],
   "source": [
    "np.sqrt(res.mse_resid)"
   ]
  },
  {
   "cell_type": "markdown",
   "metadata": {},
   "source": [
    "### Display Summary of Regression Results\n",
    "\n",
    "We display the results of the regression by OLS, for two different values of ```alpha``` (that sets the probability bounds for which we want confidence intervals).  The default value for ```statsmodels``` is 0.05.  The lecture series we are following has ```alpha``` at 0.1"
   ]
  },
  {
   "cell_type": "markdown",
   "metadata": {},
   "source": [
    "#### Statsmodels default"
   ]
  },
  {
   "cell_type": "code",
   "execution_count": 173,
   "metadata": {},
   "outputs": [
    {
     "data": {
      "text/html": [
       "<table class=\"simpletable\">\n",
       "<caption>OLS Regression Results</caption>\n",
       "<tr>\n",
       "  <th>Dep. Variable:</th>          <td>lpsa</td>       <th>  R-squared:         </th> <td>   0.663</td>\n",
       "</tr>\n",
       "<tr>\n",
       "  <th>Model:</th>                   <td>OLS</td>       <th>  Adj. R-squared:    </th> <td>   0.637</td>\n",
       "</tr>\n",
       "<tr>\n",
       "  <th>Method:</th>             <td>Least Squares</td>  <th>  F-statistic:       </th> <td>   25.01</td>\n",
       "</tr>\n",
       "<tr>\n",
       "  <th>Date:</th>             <td>Sat, 21 Mar 2020</td> <th>  Prob (F-statistic):</th> <td>1.54e-18</td>\n",
       "</tr>\n",
       "<tr>\n",
       "  <th>Time:</th>                 <td>22:06:30</td>     <th>  Log-Likelihood:    </th> <td> -98.303</td>\n",
       "</tr>\n",
       "<tr>\n",
       "  <th>No. Observations:</th>      <td>    97</td>      <th>  AIC:               </th> <td>   212.6</td>\n",
       "</tr>\n",
       "<tr>\n",
       "  <th>Df Residuals:</th>          <td>    89</td>      <th>  BIC:               </th> <td>   233.2</td>\n",
       "</tr>\n",
       "<tr>\n",
       "  <th>Df Model:</th>              <td>     7</td>      <th>                     </th>     <td> </td>   \n",
       "</tr>\n",
       "<tr>\n",
       "  <th>Covariance Type:</th>      <td>nonrobust</td>    <th>                     </th>     <td> </td>   \n",
       "</tr>\n",
       "</table>\n",
       "<table class=\"simpletable\">\n",
       "<tr>\n",
       "      <td></td>         <th>coef</th>     <th>std err</th>      <th>t</th>      <th>P>|t|</th>  <th>[0.025</th>    <th>0.975]</th>  \n",
       "</tr>\n",
       "<tr>\n",
       "  <th>Intercept</th> <td>    0.4942</td> <td>    0.874</td> <td>    0.566</td> <td> 0.573</td> <td>   -1.242</td> <td>    2.230</td>\n",
       "</tr>\n",
       "<tr>\n",
       "  <th>lcavol</th>    <td>    0.5695</td> <td>    0.086</td> <td>    6.634</td> <td> 0.000</td> <td>    0.399</td> <td>    0.740</td>\n",
       "</tr>\n",
       "<tr>\n",
       "  <th>lweight</th>   <td>    0.6144</td> <td>    0.198</td> <td>    3.096</td> <td> 0.003</td> <td>    0.220</td> <td>    1.009</td>\n",
       "</tr>\n",
       "<tr>\n",
       "  <th>age</th>       <td>   -0.0209</td> <td>    0.011</td> <td>   -1.905</td> <td> 0.060</td> <td>   -0.043</td> <td>    0.001</td>\n",
       "</tr>\n",
       "<tr>\n",
       "  <th>lbph</th>      <td>    0.0974</td> <td>    0.058</td> <td>    1.691</td> <td> 0.094</td> <td>   -0.017</td> <td>    0.212</td>\n",
       "</tr>\n",
       "<tr>\n",
       "  <th>svi</th>       <td>    0.7524</td> <td>    0.238</td> <td>    3.159</td> <td> 0.002</td> <td>    0.279</td> <td>    1.226</td>\n",
       "</tr>\n",
       "<tr>\n",
       "  <th>lcp</th>       <td>   -0.1050</td> <td>    0.089</td> <td>   -1.175</td> <td> 0.243</td> <td>   -0.282</td> <td>    0.073</td>\n",
       "</tr>\n",
       "<tr>\n",
       "  <th>pgg45</th>     <td>    0.0053</td> <td>    0.003</td> <td>    1.573</td> <td> 0.119</td> <td>   -0.001</td> <td>    0.012</td>\n",
       "</tr>\n",
       "</table>\n",
       "<table class=\"simpletable\">\n",
       "<tr>\n",
       "  <th>Omnibus:</th>       <td> 0.550</td> <th>  Durbin-Watson:     </th> <td>   1.543</td>\n",
       "</tr>\n",
       "<tr>\n",
       "  <th>Prob(Omnibus):</th> <td> 0.759</td> <th>  Jarque-Bera (JB):  </th> <td>   0.175</td>\n",
       "</tr>\n",
       "<tr>\n",
       "  <th>Skew:</th>          <td> 0.018</td> <th>  Prob(JB):          </th> <td>   0.916</td>\n",
       "</tr>\n",
       "<tr>\n",
       "  <th>Kurtosis:</th>      <td> 3.205</td> <th>  Cond. No.          </th> <td>    875.</td>\n",
       "</tr>\n",
       "</table><br/><br/>Warnings:<br/>[1] Standard Errors assume that the covariance matrix of the errors is correctly specified."
      ],
      "text/plain": [
       "<class 'statsmodels.iolib.summary.Summary'>\n",
       "\"\"\"\n",
       "                            OLS Regression Results                            \n",
       "==============================================================================\n",
       "Dep. Variable:                   lpsa   R-squared:                       0.663\n",
       "Model:                            OLS   Adj. R-squared:                  0.637\n",
       "Method:                 Least Squares   F-statistic:                     25.01\n",
       "Date:                Sat, 21 Mar 2020   Prob (F-statistic):           1.54e-18\n",
       "Time:                        22:06:30   Log-Likelihood:                -98.303\n",
       "No. Observations:                  97   AIC:                             212.6\n",
       "Df Residuals:                      89   BIC:                             233.2\n",
       "Df Model:                           7                                         \n",
       "Covariance Type:            nonrobust                                         \n",
       "==============================================================================\n",
       "                 coef    std err          t      P>|t|      [0.025      0.975]\n",
       "------------------------------------------------------------------------------\n",
       "Intercept      0.4942      0.874      0.566      0.573      -1.242       2.230\n",
       "lcavol         0.5695      0.086      6.634      0.000       0.399       0.740\n",
       "lweight        0.6144      0.198      3.096      0.003       0.220       1.009\n",
       "age           -0.0209      0.011     -1.905      0.060      -0.043       0.001\n",
       "lbph           0.0974      0.058      1.691      0.094      -0.017       0.212\n",
       "svi            0.7524      0.238      3.159      0.002       0.279       1.226\n",
       "lcp           -0.1050      0.089     -1.175      0.243      -0.282       0.073\n",
       "pgg45          0.0053      0.003      1.573      0.119      -0.001       0.012\n",
       "==============================================================================\n",
       "Omnibus:                        0.550   Durbin-Watson:                   1.543\n",
       "Prob(Omnibus):                  0.759   Jarque-Bera (JB):                0.175\n",
       "Skew:                           0.018   Prob(JB):                        0.916\n",
       "Kurtosis:                       3.205   Cond. No.                         875.\n",
       "==============================================================================\n",
       "\n",
       "Warnings:\n",
       "[1] Standard Errors assume that the covariance matrix of the errors is correctly specified.\n",
       "\"\"\""
      ]
     },
     "execution_count": 173,
     "metadata": {},
     "output_type": "execute_result"
    }
   ],
   "source": [
    "res.summary()"
   ]
  },
  {
   "cell_type": "markdown",
   "metadata": {},
   "source": [
    "#### Lecture series default for ```alpha``` \n",
    "\n",
    "```alpha``` is the probability used to determine confidence intervals of parameter estimates"
   ]
  },
  {
   "cell_type": "code",
   "execution_count": 174,
   "metadata": {},
   "outputs": [
    {
     "data": {
      "text/html": [
       "<table class=\"simpletable\">\n",
       "<caption>OLS Regression Results</caption>\n",
       "<tr>\n",
       "  <th>Dep. Variable:</th>          <td>lpsa</td>       <th>  R-squared:         </th> <td>   0.663</td>\n",
       "</tr>\n",
       "<tr>\n",
       "  <th>Model:</th>                   <td>OLS</td>       <th>  Adj. R-squared:    </th> <td>   0.637</td>\n",
       "</tr>\n",
       "<tr>\n",
       "  <th>Method:</th>             <td>Least Squares</td>  <th>  F-statistic:       </th> <td>   25.01</td>\n",
       "</tr>\n",
       "<tr>\n",
       "  <th>Date:</th>             <td>Sat, 21 Mar 2020</td> <th>  Prob (F-statistic):</th> <td>1.54e-18</td>\n",
       "</tr>\n",
       "<tr>\n",
       "  <th>Time:</th>                 <td>22:06:30</td>     <th>  Log-Likelihood:    </th> <td> -98.303</td>\n",
       "</tr>\n",
       "<tr>\n",
       "  <th>No. Observations:</th>      <td>    97</td>      <th>  AIC:               </th> <td>   212.6</td>\n",
       "</tr>\n",
       "<tr>\n",
       "  <th>Df Residuals:</th>          <td>    89</td>      <th>  BIC:               </th> <td>   233.2</td>\n",
       "</tr>\n",
       "<tr>\n",
       "  <th>Df Model:</th>              <td>     7</td>      <th>                     </th>     <td> </td>   \n",
       "</tr>\n",
       "<tr>\n",
       "  <th>Covariance Type:</th>      <td>nonrobust</td>    <th>                     </th>     <td> </td>   \n",
       "</tr>\n",
       "</table>\n",
       "<table class=\"simpletable\">\n",
       "<tr>\n",
       "      <td></td>         <th>coef</th>     <th>std err</th>      <th>t</th>      <th>P>|t|</th>   <th>[0.05</th>     <th>0.95]</th>  \n",
       "</tr>\n",
       "<tr>\n",
       "  <th>Intercept</th> <td>    0.4942</td> <td>    0.874</td> <td>    0.566</td> <td> 0.573</td> <td>   -0.958</td> <td>    1.946</td>\n",
       "</tr>\n",
       "<tr>\n",
       "  <th>lcavol</th>    <td>    0.5695</td> <td>    0.086</td> <td>    6.634</td> <td> 0.000</td> <td>    0.427</td> <td>    0.712</td>\n",
       "</tr>\n",
       "<tr>\n",
       "  <th>lweight</th>   <td>    0.6144</td> <td>    0.198</td> <td>    3.096</td> <td> 0.003</td> <td>    0.285</td> <td>    0.944</td>\n",
       "</tr>\n",
       "<tr>\n",
       "  <th>age</th>       <td>   -0.0209</td> <td>    0.011</td> <td>   -1.905</td> <td> 0.060</td> <td>   -0.039</td> <td>   -0.003</td>\n",
       "</tr>\n",
       "<tr>\n",
       "  <th>lbph</th>      <td>    0.0974</td> <td>    0.058</td> <td>    1.691</td> <td> 0.094</td> <td>    0.002</td> <td>    0.193</td>\n",
       "</tr>\n",
       "<tr>\n",
       "  <th>svi</th>       <td>    0.7524</td> <td>    0.238</td> <td>    3.159</td> <td> 0.002</td> <td>    0.357</td> <td>    1.148</td>\n",
       "</tr>\n",
       "<tr>\n",
       "  <th>lcp</th>       <td>   -0.1050</td> <td>    0.089</td> <td>   -1.175</td> <td> 0.243</td> <td>   -0.253</td> <td>    0.044</td>\n",
       "</tr>\n",
       "<tr>\n",
       "  <th>pgg45</th>     <td>    0.0053</td> <td>    0.003</td> <td>    1.573</td> <td> 0.119</td> <td>   -0.000</td> <td>    0.011</td>\n",
       "</tr>\n",
       "</table>\n",
       "<table class=\"simpletable\">\n",
       "<tr>\n",
       "  <th>Omnibus:</th>       <td> 0.550</td> <th>  Durbin-Watson:     </th> <td>   1.543</td>\n",
       "</tr>\n",
       "<tr>\n",
       "  <th>Prob(Omnibus):</th> <td> 0.759</td> <th>  Jarque-Bera (JB):  </th> <td>   0.175</td>\n",
       "</tr>\n",
       "<tr>\n",
       "  <th>Skew:</th>          <td> 0.018</td> <th>  Prob(JB):          </th> <td>   0.916</td>\n",
       "</tr>\n",
       "<tr>\n",
       "  <th>Kurtosis:</th>      <td> 3.205</td> <th>  Cond. No.          </th> <td>    875.</td>\n",
       "</tr>\n",
       "</table><br/><br/>Warnings:<br/>[1] Standard Errors assume that the covariance matrix of the errors is correctly specified."
      ],
      "text/plain": [
       "<class 'statsmodels.iolib.summary.Summary'>\n",
       "\"\"\"\n",
       "                            OLS Regression Results                            \n",
       "==============================================================================\n",
       "Dep. Variable:                   lpsa   R-squared:                       0.663\n",
       "Model:                            OLS   Adj. R-squared:                  0.637\n",
       "Method:                 Least Squares   F-statistic:                     25.01\n",
       "Date:                Sat, 21 Mar 2020   Prob (F-statistic):           1.54e-18\n",
       "Time:                        22:06:30   Log-Likelihood:                -98.303\n",
       "No. Observations:                  97   AIC:                             212.6\n",
       "Df Residuals:                      89   BIC:                             233.2\n",
       "Df Model:                           7                                         \n",
       "Covariance Type:            nonrobust                                         \n",
       "==============================================================================\n",
       "                 coef    std err          t      P>|t|       [0.05       0.95]\n",
       "------------------------------------------------------------------------------\n",
       "Intercept      0.4942      0.874      0.566      0.573      -0.958       1.946\n",
       "lcavol         0.5695      0.086      6.634      0.000       0.427       0.712\n",
       "lweight        0.6144      0.198      3.096      0.003       0.285       0.944\n",
       "age           -0.0209      0.011     -1.905      0.060      -0.039      -0.003\n",
       "lbph           0.0974      0.058      1.691      0.094       0.002       0.193\n",
       "svi            0.7524      0.238      3.159      0.002       0.357       1.148\n",
       "lcp           -0.1050      0.089     -1.175      0.243      -0.253       0.044\n",
       "pgg45          0.0053      0.003      1.573      0.119      -0.000       0.011\n",
       "==============================================================================\n",
       "Omnibus:                        0.550   Durbin-Watson:                   1.543\n",
       "Prob(Omnibus):                  0.759   Jarque-Bera (JB):                0.175\n",
       "Skew:                           0.018   Prob(JB):                        0.916\n",
       "Kurtosis:                       3.205   Cond. No.                         875.\n",
       "==============================================================================\n",
       "\n",
       "Warnings:\n",
       "[1] Standard Errors assume that the covariance matrix of the errors is correctly specified.\n",
       "\"\"\""
      ]
     },
     "execution_count": 174,
     "metadata": {},
     "output_type": "execute_result"
    }
   ],
   "source": [
    "res.summary(alpha=0.1)"
   ]
  },
  {
   "cell_type": "markdown",
   "metadata": {},
   "source": [
    "---------\n",
    "We display the confidence intervals at the 90% level for the parameters we have estimated"
   ]
  },
  {
   "cell_type": "code",
   "execution_count": 175,
   "metadata": {},
   "outputs": [
    {
     "data": {
      "text/html": [
       "<div>\n",
       "<style scoped>\n",
       "    .dataframe tbody tr th:only-of-type {\n",
       "        vertical-align: middle;\n",
       "    }\n",
       "\n",
       "    .dataframe tbody tr th {\n",
       "        vertical-align: top;\n",
       "    }\n",
       "\n",
       "    .dataframe thead th {\n",
       "        text-align: right;\n",
       "    }\n",
       "</style>\n",
       "<table border=\"1\" class=\"dataframe\">\n",
       "  <thead>\n",
       "    <tr style=\"text-align: right;\">\n",
       "      <th></th>\n",
       "      <th>0</th>\n",
       "      <th>1</th>\n",
       "    </tr>\n",
       "  </thead>\n",
       "  <tbody>\n",
       "    <tr>\n",
       "      <th>Intercept</th>\n",
       "      <td>-0.957849</td>\n",
       "      <td>1.946158</td>\n",
       "    </tr>\n",
       "    <tr>\n",
       "      <th>lcavol</th>\n",
       "      <td>0.426855</td>\n",
       "      <td>0.712237</td>\n",
       "    </tr>\n",
       "    <tr>\n",
       "      <th>lweight</th>\n",
       "      <td>0.284566</td>\n",
       "      <td>0.944274</td>\n",
       "    </tr>\n",
       "    <tr>\n",
       "      <th>age</th>\n",
       "      <td>-0.039160</td>\n",
       "      <td>-0.002667</td>\n",
       "    </tr>\n",
       "    <tr>\n",
       "      <th>lbph</th>\n",
       "      <td>0.001639</td>\n",
       "      <td>0.193066</td>\n",
       "    </tr>\n",
       "    <tr>\n",
       "      <th>svi</th>\n",
       "      <td>0.356505</td>\n",
       "      <td>1.148289</td>\n",
       "    </tr>\n",
       "    <tr>\n",
       "      <th>lcp</th>\n",
       "      <td>-0.253468</td>\n",
       "      <td>0.043549</td>\n",
       "    </tr>\n",
       "    <tr>\n",
       "      <th>pgg45</th>\n",
       "      <td>-0.000301</td>\n",
       "      <td>0.010950</td>\n",
       "    </tr>\n",
       "  </tbody>\n",
       "</table>\n",
       "</div>"
      ],
      "text/plain": [
       "                  0         1\n",
       "Intercept -0.957849  1.946158\n",
       "lcavol     0.426855  0.712237\n",
       "lweight    0.284566  0.944274\n",
       "age       -0.039160 -0.002667\n",
       "lbph       0.001639  0.193066\n",
       "svi        0.356505  1.148289\n",
       "lcp       -0.253468  0.043549\n",
       "pgg45     -0.000301  0.010950"
      ]
     },
     "execution_count": 175,
     "metadata": {},
     "output_type": "execute_result"
    }
   ],
   "source": [
    "res.conf_int(alpha=0.1)"
   ]
  },
  {
   "cell_type": "markdown",
   "metadata": {},
   "source": [
    "----\n",
    "### Explicit Check of Parameter Values\n",
    "\n",
    "We can check (and better understand the summary) by explicitly computing the parameter estimates"
   ]
  },
  {
   "cell_type": "markdown",
   "metadata": {},
   "source": [
    "$${\\hat {\\beta }}=(X^{T}X)^{-1}X^{T}y.$$\n"
   ]
  },
  {
   "cell_type": "markdown",
   "metadata": {},
   "source": [
    "We convert ```pandas``` data structures into ```numpy``` data structures, to use the linear algebra functions of ```numpy```.  We have to add a column of ones, to get the intercept"
   ]
  },
  {
   "cell_type": "code",
   "execution_count": 176,
   "metadata": {},
   "outputs": [],
   "source": [
    "data['ones'] = np.ones(len(data))\n",
    "X = data[\n",
    "    [\n",
    "        'ones',\n",
    "        'lcavol',\n",
    "        'lweight',\n",
    "        'age',\n",
    "        'lbph',\n",
    "        'svi',\n",
    "        'lcp',\n",
    "        'pgg45',\n",
    "    ]\n",
    "]\n",
    "y = data['lpsa'].to_numpy()\n",
    "\n",
    "X.to_numpy()\n",
    "\n",
    "beta_hat = np.linalg.inv(X.T @ X) @ X.T @ y.T"
   ]
  },
  {
   "cell_type": "markdown",
   "metadata": {},
   "source": [
    "If we compare the OLS values with the explicit values, we see they match"
   ]
  },
  {
   "cell_type": "code",
   "execution_count": 177,
   "metadata": {},
   "outputs": [
    {
     "name": "stdout",
     "output_type": "stream",
     "text": [
      "    Linear Alg Value             OLS Value\n",
      "             0.49415,              0.49415\n",
      "             0.56955,              0.56955\n",
      "             0.61442,              0.61442\n",
      "            -0.02091,             -0.02091\n",
      "             0.09735,              0.09735\n",
      "             0.75240,              0.75240\n",
      "            -0.10496,             -0.10496\n",
      "             0.00532,              0.00532\n"
     ]
    }
   ],
   "source": [
    "print(f'{\"Linear Alg Value\":>20}  {\"OLS Value\":>20}')\n",
    "_ = [\n",
    "    print(f'{p1:20.5f}, {p2:20.5f}')\n",
    "    for p1, p2 in zip(beta_hat, res.params.values)\n",
    "]"
   ]
  },
  {
   "cell_type": "markdown",
   "metadata": {},
   "source": [
    "----\n",
    "### Adjusted R^2\n",
    "\n",
    "We compute the R^2 values explicitly, and show they match values in the RegressionResults object.  Note there seems to be a difference between the abbreviations used in the lectures, and used in the RegressionResults object.  In my code, I will use the STATS191 lecture conventions  (even though I think the ```statsmodels``` conventions make more sense)"
   ]
  },
  {
   "cell_type": "markdown",
   "metadata": {},
   "source": [
    "$$SST = \\sum_{i=1}^n(Y_i - \\overline{Y})^2 = SSE + SSR$$"
   ]
  },
  {
   "cell_type": "code",
   "execution_count": 178,
   "metadata": {},
   "outputs": [
    {
     "name": "stdout",
     "output_type": "stream",
     "text": [
      " Explicit Calculation =       127.91766,\n",
      " Statsmodels Value    =       127.91766\n"
     ]
    }
   ],
   "source": [
    "SST = sum(\n",
    "    (data['lpsa'] - data['lpsa'].mean())\n",
    "    * (data['lpsa'] - data['lpsa'].mean())\n",
    ")\n",
    "print(\n",
    "    f' Explicit Calculation = {SST:15.5f},\\n Statsmodels Value    = {res.centered_tss:15.5f}'\n",
    ")"
   ]
  },
  {
   "cell_type": "markdown",
   "metadata": {},
   "source": [
    "$$SSR = \\sum_{i=1}^n(\\overline{Y} - \\widehat{Y}_i)^2$$"
   ]
  },
  {
   "cell_type": "code",
   "execution_count": 179,
   "metadata": {},
   "outputs": [
    {
     "name": "stdout",
     "output_type": "stream",
     "text": [
      " Explicit Calculation =        84.81010,\n",
      " Statsmodels Value    =        84.81010\n"
     ]
    }
   ],
   "source": [
    "SSR = sum(\n",
    "    (res.predict() - data['lpsa'].mean())\n",
    "    * (res.predict() - data['lpsa'].mean())\n",
    ")\n",
    "SSR, res.ess\n",
    "print(\n",
    "    f' Explicit Calculation = {SSR:15.5f},\\n Statsmodels Value    = {res.ess:15.5f}'\n",
    ")"
   ]
  },
  {
   "cell_type": "markdown",
   "metadata": {},
   "source": [
    "$$ SSE = \\sum_{i=1}^n(Y_i - \\widehat{Y}_i)^2$$"
   ]
  },
  {
   "cell_type": "code",
   "execution_count": 180,
   "metadata": {},
   "outputs": [
    {
     "name": "stdout",
     "output_type": "stream",
     "text": [
      " Explicit Calculation =        43.10756,\n",
      " Statsmodels Value    =        43.10756\n"
     ]
    }
   ],
   "source": [
    "SSE = sum(\n",
    "    (res.predict() - data['lpsa'])\n",
    "    * (res.predict() - data['lpsa'])\n",
    ")\n",
    "SSE, res.ssr\n",
    "print(\n",
    "    f' Explicit Calculation = {SSE:15.5f},\\n Statsmodels Value    = {res.ssr:15.5f}'\n",
    ")"
   ]
  },
  {
   "cell_type": "markdown",
   "metadata": {},
   "source": [
    "$$R^2 = \\frac{SSR}{SST}$$"
   ]
  },
  {
   "cell_type": "code",
   "execution_count": 181,
   "metadata": {},
   "outputs": [
    {
     "name": "stdout",
     "output_type": "stream",
     "text": [
      " Explicit Calculation =         0.66301,\n",
      " Statsmodels Value    =         0.66301\n"
     ]
    }
   ],
   "source": [
    "r_2 = SSR / SST\n",
    "r_2, res.rsquared\n",
    "print(\n",
    "    f' Explicit Calculation = {r_2:15.5f},\\n Statsmodels Value    = {res.rsquared:15.5f}'\n",
    ")"
   ]
  },
  {
   "cell_type": "markdown",
   "metadata": {},
   "source": [
    "If we add more and more explanatory variables, even random ones, R^2 will get smaller.  We adjust for this"
   ]
  },
  {
   "cell_type": "markdown",
   "metadata": {},
   "source": [
    "$$R^2_a = 1 - \\frac{SSE/(n-p-1)}{SST/(n-1)} = 1 - \\frac{MSE}{MST}.$$"
   ]
  },
  {
   "cell_type": "markdown",
   "metadata": {},
   "source": [
    "We compute R2_Adjusted in three different ways; as expected, all three values match"
   ]
  },
  {
   "cell_type": "code",
   "execution_count": 182,
   "metadata": {},
   "outputs": [
    {
     "name": "stdout",
     "output_type": "stream",
     "text": [
      " Explicit Calculation =         0.63650,\n",
      " Explicit Calculation2=         0.63650,\n",
      " Statsmodels Value    =         0.63650\n"
     ]
    }
   ],
   "source": [
    "r_adjust_1 = 1 - res.mse_resid / res.mse_total\n",
    "\n",
    "\n",
    "r_adjust_2 = 1 - (SSE / (len(data) - len(res.params))) / (\n",
    "    SST / (len(data) - 1)\n",
    ")\n",
    "\n",
    "print(\n",
    "    f' Explicit Calculation = {r_adjust_2:15.5f},\\n Explicit Calculation2= {r_adjust_1:15.5f},\\n Statsmodels Value    = {res.rsquared_adj:15.5f}'\n",
    ")"
   ]
  },
  {
   "cell_type": "markdown",
   "metadata": {},
   "source": [
    "---\n",
    "### Goodness of Fit\n",
    "\n",
    "We form the F statistic by computing the ratio of:\n",
    "* mean square difference of the predictions from the mean of the dependent variable\n",
    "  \n",
    "  to\n",
    "  \n",
    "* mean square difference of the predictions from the actual values of the dependent variable\n",
    "\n",
    "If the Null Hypothesis (H0) holds (no relationship between explanatory and dependent variable), then this should be close to 1.0.  The larger the F statistic is, the more the variation of the dependent variable is explained by the explanatory variables.\n",
    "\n",
    "When we ran our OLS fit, the F statistic was computed, and returned in the RegressionResults object.  We check its value, and the RegressionResults object is consistent"
   ]
  },
  {
   "cell_type": "code",
   "execution_count": 183,
   "metadata": {},
   "outputs": [
    {
     "name": "stdout",
     "output_type": "stream",
     "text": [
      " Explicit Calculation =        25.01417,\n",
      " Explicit Calculation2=        25.01417,\n",
      " Statsmodels Value    =        25.01417\n"
     ]
    }
   ],
   "source": [
    "F = res.mse_model / res.mse_resid\n",
    "\n",
    "F2 = (SSR / (len(res.params) - 1)) / (\n",
    "    SSE / (len(data) - len(res.params))\n",
    ")\n",
    "\n",
    "print(\n",
    "    f' Explicit Calculation = {F:15.5f},\\n Explicit Calculation2= {F2:15.5f},\\n Statsmodels Value    = {res.fvalue:15.5f}'\n",
    ")"
   ]
  },
  {
   "cell_type": "markdown",
   "metadata": {},
   "source": [
    "Compute the degrees of freedom of the numerator and denominator of the F ratio"
   ]
  },
  {
   "cell_type": "code",
   "execution_count": 184,
   "metadata": {},
   "outputs": [
    {
     "data": {
      "text/plain": [
       "(7, 89)"
      ]
     },
     "execution_count": 184,
     "metadata": {},
     "output_type": "execute_result"
    }
   ],
   "source": [
    "dfn = len(res.params) - 1\n",
    "dfd = len(data['lpsa']) - dfn - 1\n",
    "dfn, dfd"
   ]
  },
  {
   "cell_type": "markdown",
   "metadata": {},
   "source": [
    "Display a plot of the F probability density function, and the value of F we actually see"
   ]
  },
  {
   "cell_type": "code",
   "execution_count": 203,
   "metadata": {},
   "outputs": [
    {
     "data": {
      "image/png": "[encoded data removed]",
      "text/plain": [
       "<Figure size 432x288 with 1 Axes>"
      ]
     },
     "metadata": {
      "needs_background": "light"
     },
     "output_type": "display_data"
    }
   ],
   "source": [
    "x = np.linspace(0.01, 26, 201)\n",
    "y = stats.f.pdf(x, dfn, dfd)\n",
    "_ = plt.plot(x, y, 'r-', label='F Prob Dist')\n",
    "_ = plt.axvline(F2, color='green', label='F Value Seen')\n",
    "_ = plt.axhline(0, color='black')\n",
    "_ = plt.legend(loc='best')\n",
    "_ = plt.grid()"
   ]
  },
  {
   "cell_type": "markdown",
   "metadata": {},
   "source": [
    "We use the survival function ```sf``` rather than ```1-cdf()```, as it is supposed to be more accurate.  Note that the value from the equivalent R function gives a different answer, but this to be expected, given the very small value returned.\n",
    "\n",
    "Clearly, the F value we see is very small, and so we reject H0."
   ]
  },
  {
   "cell_type": "code",
   "execution_count": 186,
   "metadata": {},
   "outputs": [
    {
     "data": {
      "text/plain": [
       "1.5355418127893355e-18"
      ]
     },
     "execution_count": 186,
     "metadata": {},
     "output_type": "execute_result"
    }
   ],
   "source": [
    "stats.f.sf(res.fvalue, res.df_model, res.df_resid)"
   ]
  },
  {
   "cell_type": "markdown",
   "metadata": {},
   "source": [
    "-----\n",
    "## Prediction\n",
    "\n",
    "To get a prediction of the value of ```lpsa``` for a given set of values of the explanatory variables in our model, we can either form a vector of values (including 1 for the constant or intercept term), and form the dot product with our vector of parameter values (beta).  Alternatively, we can form a dict given the variable values by name, and call the ```predict()``` method of the RegressionResults method"
   ]
  },
  {
   "cell_type": "code",
   "execution_count": 187,
   "metadata": {},
   "outputs": [],
   "source": [
    "a = [1, 1.3, 3.6, 64, 0.1, 0.2, -0.2, 25]\n",
    "a_dict = {\n",
    "    'lcavol': 1.3,\n",
    "    'lweight': 3.6,\n",
    "    'age': 64,\n",
    "    'lbph': 0.1,\n",
    "    'svi': 0.2,\n",
    "    'lcp': -0.2,\n",
    "    'pgg45': 25,\n",
    "}"
   ]
  },
  {
   "cell_type": "markdown",
   "metadata": {},
   "source": [
    "Form the dot product"
   ]
  },
  {
   "cell_type": "code",
   "execution_count": 188,
   "metadata": {},
   "outputs": [
    {
     "data": {
      "text/plain": [
       "2.422332304237206"
      ]
     },
     "execution_count": 188,
     "metadata": {},
     "output_type": "execute_result"
    }
   ],
   "source": [
    "y_hat = sum(res.params.values * a)\n",
    "y_hat"
   ]
  },
  {
   "cell_type": "markdown",
   "metadata": {},
   "source": [
    "Call the ```predict``` method, as expected, the answers are the same"
   ]
  },
  {
   "cell_type": "code",
   "execution_count": 189,
   "metadata": {},
   "outputs": [
    {
     "data": {
      "text/plain": [
       "0    2.422332\n",
       "dtype: float64"
      ]
     },
     "execution_count": 189,
     "metadata": {},
     "output_type": "execute_result"
    }
   ],
   "source": [
    "res.predict(a_dict)"
   ]
  },
  {
   "cell_type": "markdown",
   "metadata": {},
   "source": [
    "We can get the confidence intervals for our prediction by the ```get_prediction``` method.  Note that we can be more confident about the mean of our predictions, than about any one prediction (which must include the error term of our model)"
   ]
  },
  {
   "cell_type": "code",
   "execution_count": 190,
   "metadata": {},
   "outputs": [
    {
     "data": {
      "text/html": [
       "<div>\n",
       "<style scoped>\n",
       "    .dataframe tbody tr th:only-of-type {\n",
       "        vertical-align: middle;\n",
       "    }\n",
       "\n",
       "    .dataframe tbody tr th {\n",
       "        vertical-align: top;\n",
       "    }\n",
       "\n",
       "    .dataframe thead th {\n",
       "        text-align: right;\n",
       "    }\n",
       "</style>\n",
       "<table border=\"1\" class=\"dataframe\">\n",
       "  <thead>\n",
       "    <tr style=\"text-align: right;\">\n",
       "      <th></th>\n",
       "      <th>mean</th>\n",
       "      <th>mean_se</th>\n",
       "      <th>mean_ci_lower</th>\n",
       "      <th>mean_ci_upper</th>\n",
       "      <th>obs_ci_lower</th>\n",
       "      <th>obs_ci_upper</th>\n",
       "    </tr>\n",
       "  </thead>\n",
       "  <tbody>\n",
       "    <tr>\n",
       "      <th>0</th>\n",
       "      <td>2.422332</td>\n",
       "      <td>0.07102</td>\n",
       "      <td>2.281218</td>\n",
       "      <td>2.563447</td>\n",
       "      <td>1.032301</td>\n",
       "      <td>3.812363</td>\n",
       "    </tr>\n",
       "  </tbody>\n",
       "</table>\n",
       "</div>"
      ],
      "text/plain": [
       "       mean  mean_se  mean_ci_lower  mean_ci_upper  obs_ci_lower  obs_ci_upper\n",
       "0  2.422332  0.07102       2.281218       2.563447      1.032301      3.812363"
      ]
     },
     "execution_count": 190,
     "metadata": {},
     "output_type": "execute_result"
    }
   ],
   "source": [
    "gp = res.get_prediction(a_dict)\n",
    "gp.summary_frame(alpha=0.05)"
   ]
  },
  {
   "cell_type": "markdown",
   "metadata": {},
   "source": [
    "------\n",
    "## Comparing models"
   ]
  },
  {
   "cell_type": "markdown",
   "metadata": {},
   "source": [
    "Having build and fit our model, we may believe that the true parameter values for ```lcavol``` and ```svi``` are the same.\n",
    "\n",
    "One way to test this is to use the ```statsmodels``` formula constraint test (obvously not covered in the STATS191 lecture)"
   ]
  },
  {
   "cell_type": "code",
   "execution_count": 191,
   "metadata": {},
   "outputs": [
    {
     "name": "stdout",
     "output_type": "stream",
     "text": [
      "                             Test for Constraints                             \n",
      "==============================================================================\n",
      "                 coef    std err          t      P>|t|      [0.025      0.975]\n",
      "------------------------------------------------------------------------------\n",
      "c0            -0.1829      0.263     -0.694      0.489      -0.706       0.341\n",
      "==============================================================================\n"
     ]
    }
   ],
   "source": [
    "to_test = 'lcavol = svi'\n",
    "\n",
    "t_test = res.t_test(to_test)\n",
    "print(t_test)"
   ]
  },
  {
   "cell_type": "markdown",
   "metadata": {},
   "source": [
    "We cannot reject the hypothesis the the parameters are the same"
   ]
  },
  {
   "cell_type": "markdown",
   "metadata": {},
   "source": [
    "A different way to analyse the equivalence of parameters, is to form a different model that has a built in constraint that parameter values for ```lcavol``` and ```svi``` are the same.  We do this by creating a new variable, being the sum of the two variables ```lcavol``` and ```svi```, and including that is our new model\n"
   ]
  },
  {
   "cell_type": "code",
   "execution_count": 192,
   "metadata": {},
   "outputs": [],
   "source": [
    "data['z'] = data['lcavol'] + data['svi']\n",
    "res2 = ols(\n",
    "    'lpsa ~ z + lweight + age + lbph +  lcp  + pgg45',\n",
    "    data=data,\n",
    ").fit()"
   ]
  },
  {
   "cell_type": "markdown",
   "metadata": {},
   "source": [
    "We now perform a Analysis of Variance on the two models, to see if one has a markedly better explanation of the variance of the dependent variable ```lpsa```.  It appears that the difference we see could arise about 50% of the time, so we are unable to say which model is better. Note we get some spurious diagnostics; however the values match those in the STATS191 lecture\n",
    "\n",
    "\n",
    "|F\t|df.num\t|df.den\t|p.value|\n",
    "|--|--|--|--|\n",
    "|0.4818657\t|1\t|89\t|0.4893864|\n"
   ]
  },
  {
   "cell_type": "code",
   "execution_count": 193,
   "metadata": {},
   "outputs": [
    {
     "name": "stderr",
     "output_type": "stream",
     "text": [
      "D:\\Anaconda3\\envs\\ac5-py37\\lib\\site-packages\\scipy\\stats\\_distn_infrastructure.py:879: RuntimeWarning: invalid value encountered in greater\n",
      "  return (self.a < x) & (x < self.b)\n",
      "D:\\Anaconda3\\envs\\ac5-py37\\lib\\site-packages\\scipy\\stats\\_distn_infrastructure.py:879: RuntimeWarning: invalid value encountered in less\n",
      "  return (self.a < x) & (x < self.b)\n",
      "D:\\Anaconda3\\envs\\ac5-py37\\lib\\site-packages\\scipy\\stats\\_distn_infrastructure.py:1821: RuntimeWarning: invalid value encountered in less_equal\n",
      "  cond2 = cond0 & (x <= self.a)\n"
     ]
    },
    {
     "data": {
      "text/html": [
       "<div>\n",
       "<style scoped>\n",
       "    .dataframe tbody tr th:only-of-type {\n",
       "        vertical-align: middle;\n",
       "    }\n",
       "\n",
       "    .dataframe tbody tr th {\n",
       "        vertical-align: top;\n",
       "    }\n",
       "\n",
       "    .dataframe thead th {\n",
       "        text-align: right;\n",
       "    }\n",
       "</style>\n",
       "<table border=\"1\" class=\"dataframe\">\n",
       "  <thead>\n",
       "    <tr style=\"text-align: right;\">\n",
       "      <th></th>\n",
       "      <th>df_resid</th>\n",
       "      <th>ssr</th>\n",
       "      <th>df_diff</th>\n",
       "      <th>ss_diff</th>\n",
       "      <th>F</th>\n",
       "      <th>Pr(&gt;F)</th>\n",
       "    </tr>\n",
       "  </thead>\n",
       "  <tbody>\n",
       "    <tr>\n",
       "      <th>0</th>\n",
       "      <td>90.0</td>\n",
       "      <td>43.340952</td>\n",
       "      <td>0.0</td>\n",
       "      <td>NaN</td>\n",
       "      <td>NaN</td>\n",
       "      <td>NaN</td>\n",
       "    </tr>\n",
       "    <tr>\n",
       "      <th>1</th>\n",
       "      <td>89.0</td>\n",
       "      <td>43.107558</td>\n",
       "      <td>1.0</td>\n",
       "      <td>0.233394</td>\n",
       "      <td>0.481866</td>\n",
       "      <td>0.489386</td>\n",
       "    </tr>\n",
       "  </tbody>\n",
       "</table>\n",
       "</div>"
      ],
      "text/plain": [
       "   df_resid        ssr  df_diff   ss_diff         F    Pr(>F)\n",
       "0      90.0  43.340952      0.0       NaN       NaN       NaN\n",
       "1      89.0  43.107558      1.0  0.233394  0.481866  0.489386"
      ]
     },
     "execution_count": 193,
     "metadata": {},
     "output_type": "execute_result"
    }
   ],
   "source": [
    "anova_lm(res2, res)"
   ]
  },
  {
   "cell_type": "markdown",
   "metadata": {},
   "source": [
    "----\n",
    "The final example involved testing if ```lcavol``` and ```svi``` parameters sum to 1.0\n",
    "\n",
    "The first way to do this is by the ```statsmodels``` formula constraint test.  Again, we find that we cannot get markedly better variance explanation by this constrained model"
   ]
  },
  {
   "cell_type": "code",
   "execution_count": 194,
   "metadata": {},
   "outputs": [
    {
     "name": "stdout",
     "output_type": "stream",
     "text": [
      "                             Test for Constraints                             \n",
      "==============================================================================\n",
      "                 coef    std err          t      P>|t|      [0.025      0.975]\n",
      "------------------------------------------------------------------------------\n",
      "c0             1.3219      0.243      1.328      0.188       0.840       1.804\n",
      "==============================================================================\n"
     ]
    }
   ],
   "source": [
    "to_test = 'lcavol + svi = 1'\n",
    "\n",
    "t_test = res.t_test(to_test)\n",
    "print(t_test)"
   ]
  },
  {
   "cell_type": "markdown",
   "metadata": {},
   "source": [
    "Again at the 5% level, we cannot say which model is better"
   ]
  },
  {
   "cell_type": "markdown",
   "metadata": {},
   "source": [
    "We can build a new model that enforces our constraint, fit it by OLS, and compare the variance via the F test.  The original model is below"
   ]
  },
  {
   "cell_type": "markdown",
   "metadata": {},
   "source": [
    "$$\\begin{aligned}\n",
    "Y_i &= \\beta_0 + \\beta_1 X_{i,{\\tt lcavol}}  + \\beta_2 X_{i,{\\tt lweight}} + \\beta_3 X_{i, {\\tt age}} \\\\\n",
    "& \\qquad+ \\beta_4 X_{i,{\\tt lbph}} + \\beta_5 X_{i, {\\tt svi}} + \\beta_6  X_{i, {\\tt lcp}} + \\beta_7 X_{i, {\\tt pgg45}} + \\varepsilon_i\n",
    "\\end{aligned}$$"
   ]
  },
  {
   "cell_type": "markdown",
   "metadata": {},
   "source": [
    "The new model is as below.  We form new variable ```z2``` and ```y2```"
   ]
  },
  {
   "cell_type": "markdown",
   "metadata": {},
   "source": [
    "$$\\begin{aligned}\n",
    "Y_i &= \\beta_0 + \\tilde{\\beta}_1 X_{i,{\\tt lcavol}}  + \\beta_2 X_{i,{\\tt lweight}} + \\beta_3 X_{i, {\\tt age}} \\\\\n",
    "& \\qquad+ \\beta_4 X_{i,{\\tt lbph}} + (1 - \\tilde{\\beta}_1) X_{i, {\\tt svi}} + \\beta_6  X_{i, {\\tt lcp}} + \\beta_7 X_{i, {\\tt pgg45}} + \\varepsilon_i\n",
    "\\end{aligned}$$"
   ]
  },
  {
   "cell_type": "code",
   "execution_count": 195,
   "metadata": {},
   "outputs": [],
   "source": [
    "data['z2'] = data['lcavol'] - data['svi']\n",
    "data['y2'] = data['lpsa'] - data['svi']\n",
    "\n",
    "res3 = ols(\n",
    "    'y2 ~  z2 + lweight + age + lbph + lcp + pgg45',\n",
    "    data=data,\n",
    ").fit()"
   ]
  },
  {
   "cell_type": "markdown",
   "metadata": {},
   "source": [
    "Perform ANOVA"
   ]
  },
  {
   "cell_type": "code",
   "execution_count": 197,
   "metadata": {},
   "outputs": [
    {
     "data": {
      "text/html": [
       "<div>\n",
       "<style scoped>\n",
       "    .dataframe tbody tr th:only-of-type {\n",
       "        vertical-align: middle;\n",
       "    }\n",
       "\n",
       "    .dataframe tbody tr th {\n",
       "        vertical-align: top;\n",
       "    }\n",
       "\n",
       "    .dataframe thead th {\n",
       "        text-align: right;\n",
       "    }\n",
       "</style>\n",
       "<table border=\"1\" class=\"dataframe\">\n",
       "  <thead>\n",
       "    <tr style=\"text-align: right;\">\n",
       "      <th></th>\n",
       "      <th>df_resid</th>\n",
       "      <th>ssr</th>\n",
       "      <th>df_diff</th>\n",
       "      <th>ss_diff</th>\n",
       "      <th>F</th>\n",
       "      <th>Pr(&gt;F)</th>\n",
       "    </tr>\n",
       "  </thead>\n",
       "  <tbody>\n",
       "    <tr>\n",
       "      <th>0</th>\n",
       "      <td>90.0</td>\n",
       "      <td>43.961146</td>\n",
       "      <td>0.0</td>\n",
       "      <td>NaN</td>\n",
       "      <td>NaN</td>\n",
       "      <td>NaN</td>\n",
       "    </tr>\n",
       "    <tr>\n",
       "      <th>1</th>\n",
       "      <td>89.0</td>\n",
       "      <td>43.107558</td>\n",
       "      <td>1.0</td>\n",
       "      <td>0.853589</td>\n",
       "      <td>1.762322</td>\n",
       "      <td>0.18773</td>\n",
       "    </tr>\n",
       "  </tbody>\n",
       "</table>\n",
       "</div>"
      ],
      "text/plain": [
       "   df_resid        ssr  df_diff   ss_diff         F   Pr(>F)\n",
       "0      90.0  43.961146      0.0       NaN       NaN      NaN\n",
       "1      89.0  43.107558      1.0  0.853589  1.762322  0.18773"
      ]
     },
     "execution_count": 197,
     "metadata": {},
     "output_type": "execute_result"
    }
   ],
   "source": [
    "anova_lm(res3, res)"
   ]
  },
  {
   "cell_type": "markdown",
   "metadata": {},
   "source": [
    "Again, we cannot reject the difference between models are being more than random chance."
   ]
  },
  {
   "cell_type": "markdown",
   "metadata": {},
   "source": [
    "\n",
    "---------\n",
    "## Reproducibility"
   ]
  },
  {
   "cell_type": "code",
   "execution_count": 307,
   "metadata": {},
   "outputs": [
    {
     "name": "stdout",
     "output_type": "stream",
     "text": [
      "statsmodels 0.9.0\n",
      "pandas      1.0.0\n",
      "seaborn     0.9.0\n",
      "matplotlib  3.0.2\n",
      "scipy       1.1.0\n",
      "numpy       1.15.4\n",
      "host name: DESKTOP-SODFUN6\n",
      "2020-03-19T20:15:37+10:00\n",
      "\n",
      "CPython 3.7.1\n",
      "IPython 7.2.0\n",
      "\n",
      "compiler   : MSC v.1915 64 bit (AMD64)\n",
      "system     : Windows\n",
      "release    : 10\n",
      "machine    : AMD64\n",
      "processor  : Intel64 Family 6 Model 94 Stepping 3, GenuineIntel\n",
      "CPU cores  : 8\n",
      "interpreter: 64bit\n"
     ]
    }
   ],
   "source": [
    "%watermark -h -iv\n",
    "%watermark"
   ]
  }
 ],
 "metadata": {
  "kernelspec": {
   "display_name": "Python 3",
   "language": "python",
   "name": "python3"
  },
  "language_info": {
   "codemirror_mode": {
    "name": "ipython",
    "version": 3
   },
   "file_extension": ".py",
   "mimetype": "text/x-python",
   "name": "python",
   "nbconvert_exporter": "python",
   "pygments_lexer": "ipython3",
   "version": "3.7.1"
  }
 },
 "nbformat": 4,
 "nbformat_minor": 4
}
