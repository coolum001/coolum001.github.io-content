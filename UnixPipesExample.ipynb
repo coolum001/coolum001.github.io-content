{
 "cells": [
  {
   "cell_type": "markdown",
   "metadata": {},
   "source": [
    "# Unix utility emulation\n",
    "------------------\n",
    "\n",
    "## Introduction\n",
    "\n",
    "This post is an example of emulation unix utilities in Python.  I was prompted by another blog posting about the difficulties of Unix shell scripting. The blogger was trying to accumulate the time taken to execute a given script multiple times (difficulties arose because Unix Shell scripting doesn't do floating calculations easily).  Ignoring the details, I wondered how I would do the core script in Python.\n",
    "\n",
    "See: https://blog.plover.com/Unix/tools.html\n",
    "\n",
    " ```awk '{print $11}' FILE_NAME_PATTERN | sort | uniq -c | sort -n | grep -v EXCLUDE_PATTERN```\n",
    " \n",
    " Basically, this says:\n",
    " \n",
    " - For all files with names that match a specified pattern\n",
    " \n",
    " - Read the file, extracting the 11-th field of each line\n",
    " \n",
    " - Sort the fields\n",
    " \n",
    " - Use ```uniq``` output the unique field values, and append the count of the unique field values\n",
    " \n",
    " - Sort into ascending order\n",
    " \n",
    " - Exclude fields that match a given pattern.\n",
    " \n",
    " The script is being used to process website logs."
   ]
  },
  {
   "cell_type": "markdown",
   "metadata": {},
   "source": [
    "## Implementation\n",
    "\n",
    "### Imports\n",
    "\n",
    "```glob``` does file name search, with pattern matching\n",
    "\n",
    "```re``` does regular expressions\n",
    "\n",
    "```collections``` contains ```Counter```, which (no suprise) counts instances ob objects"
   ]
  },
  {
   "cell_type": "code",
   "execution_count": 2,
   "metadata": {},
   "outputs": [],
   "source": [
    "import glob\n",
    "import re\n",
    "import collections"
   ]
  },
  {
   "cell_type": "markdown",
   "metadata": {},
   "source": [
    "Load up ```lab_black``` to format our Python nicely."
   ]
  },
  {
   "cell_type": "code",
   "execution_count": 3,
   "metadata": {},
   "outputs": [],
   "source": [
    "%reload_ext lab_black"
   ]
  },
  {
   "cell_type": "markdown",
   "metadata": {},
   "source": [
    "#### Find file names\n",
    "\n",
    "Find all file names that match a pattern in target directory"
   ]
  },
  {
   "cell_type": "code",
   "execution_count": 4,
   "metadata": {},
   "outputs": [],
   "source": [
    "SOURCE_DIR = '../data/'\n",
    "\n",
    "fnames = glob.glob(SOURCE_DIR + 'test01 - Copy (*).txt')"
   ]
  },
  {
   "cell_type": "markdown",
   "metadata": {},
   "source": [
    "#### Read Files\n",
    "\n",
    "We create a ```Counter``` instance, read the contents of each file, split each line into fields, and update the count of field 2.  Note that we use the ```with``` statement to avoid all the file closing cleanup. \n",
    "\n",
    "We also cater for the case where the log file has NO field 2.\n",
    "\n",
    "Note a *gotcha*:  If you give a string to Counter, it thinks it is a list of ```chars```, and counts each character.  You have to wrap strings in a list.\n",
    "\n",
    "Finally, we get the list in descending order, reverse it, and make it into a list again."
   ]
  },
  {
   "cell_type": "code",
   "execution_count": 5,
   "metadata": {},
   "outputs": [],
   "source": [
    "# create a counter of field values from field 1\n",
    "f1_count = collections.Counter()\n",
    "\n",
    "# open each file name\n",
    "for fname in fnames:\n",
    "    with open(fname) as f:\n",
    "        # read all lines in this file\n",
    "        lines = f.readlines()\n",
    "        # strip off leading and trailing whitespace, split on whitespace\n",
    "        # update count of second field\n",
    "        for line in lines:\n",
    "            try:\n",
    "                # get field (if present)\n",
    "                field = line.strip().split()[1]\n",
    "                # update count, note passing in a string gets it chopped into chars\n",
    "                # have to pass list with string as only item\n",
    "                f1_count.update([field])\n",
    "            except IndexError as e:\n",
    "                # no field 1, ignore this (maybe blank line?)\n",
    "                pass\n",
    "            # end try\n",
    "        # end for\n",
    "    # end with\n",
    "# end for\n",
    "# sort list by count, then reverse, then turn into list again\n",
    "counts = list(reversed(f1_count.most_common()))"
   ]
  },
  {
   "cell_type": "markdown",
   "metadata": {},
   "source": [
    "#### Excluding Don't Cares\n",
    "\n",
    "Finally, we go through the list of (```field```, ```count```) tuples, excluding those that match the specified pattern. I made this a little fancy, in that I catered for the case with no exclusion pattern.\n",
    "\n",
    "In the spirit of Unix, the output is just the raw tuples."
   ]
  },
  {
   "cell_type": "code",
   "execution_count": 6,
   "metadata": {},
   "outputs": [
    {
     "name": "stdout",
     "output_type": "stream",
     "text": [
      "vvvvvv 1\n",
      "a 1\n",
      "d 1\n",
      "b 3\n",
      "f 6\n"
     ]
    }
   ],
   "source": [
    "# do the exclusion on RE pattern\n",
    "\n",
    "exclude = '^c$'\n",
    "final_counts = [\n",
    "    (v, n)\n",
    "    for v, n in counts\n",
    "    if (exclude == None) or (re.search(exclude, v) == None)\n",
    "]\n",
    "\n",
    "# raw display on counts\n",
    "__ = [print(v, n) for v, n in final_counts]"
   ]
  },
  {
   "cell_type": "markdown",
   "metadata": {},
   "source": [
    "#### Fancy Report\n",
    "I decided to add a reporting function that had the exclusion function build it.  Not quite in the spirit of Unix, but nicer to look at (a manager of Arsenal FC once famously said \"If you want entertainment, go to circus\": Unix bros would probably say \"If you want to look at something nice, go to an art gallery\") "
   ]
  },
  {
   "cell_type": "code",
   "execution_count": 7,
   "metadata": {},
   "outputs": [],
   "source": [
    "def report_counts(\n",
    "    counts: list, exclude: str = None\n",
    ") -> None:\n",
    "    '''\n",
    "    report_counts: prints a formatted report show values and counts, \n",
    "                excluding values that match a RE pattern\n",
    "    Parameters\n",
    "    counts: list of form [(v1, n1), (v2, n2) ...], v_i strings, n_i counts\n",
    "    \n",
    "    exclude: string holding RE pattern to supress a line if pattern matches in v_i string\n",
    "              default None\n",
    "    \n",
    "    '''\n",
    "    title1 = 'Value'\n",
    "    title2 = 'Count'\n",
    "    underbar = '-'\n",
    "    col1 = 15\n",
    "    col2 = 5\n",
    "    print(f'{title1:^{col1}}|{title2:^{col2}}')\n",
    "\n",
    "    print(\n",
    "        f'{underbar:{underbar}^{col1}}|{underbar:{underbar}^{col2}}'\n",
    "    )\n",
    "\n",
    "    # print line of report if no exclude pattern given,\n",
    "    # or if exclude pattern (non-None) not seen\n",
    "    __ = [\n",
    "        print(f'{v:>{col1}}|{n:>{col2}}')\n",
    "        for v, n in counts\n",
    "        if (exclude == None)\n",
    "        or (re.search(exclude, v) == None)\n",
    "    ]\n",
    "\n",
    "\n",
    "# end"
   ]
  },
  {
   "cell_type": "code",
   "execution_count": 8,
   "metadata": {},
   "outputs": [
    {
     "name": "stdout",
     "output_type": "stream",
     "text": [
      "     Value     |Count\n",
      "---------------|-----\n",
      "         vvvvvv|    1\n",
      "              a|    1\n",
      "              d|    1\n",
      "              f|    6\n"
     ]
    }
   ],
   "source": [
    "report_counts(counts, exclude='^c|b$')"
   ]
  },
  {
   "cell_type": "code",
   "execution_count": 9,
   "metadata": {},
   "outputs": [
    {
     "name": "stdout",
     "output_type": "stream",
     "text": [
      "     Value     |Count\n",
      "---------------|-----\n",
      "         vvvvvv|    1\n",
      "              a|    1\n",
      "              d|    1\n",
      "              b|    3\n",
      "              f|    6\n"
     ]
    }
   ],
   "source": [
    "report_counts(final_counts)"
   ]
  },
  {
   "cell_type": "markdown",
   "metadata": {},
   "source": [
    "### More Pythonic?\n",
    "\n",
    "The nested ```for``` loops above are not very Pythonic-looking.\n",
    "\n",
    "The code below collapses them into a set of nested comprehensions.\n",
    "\n",
    "Sadly, so far as I can see there is no way the get the effect of a ```with``` Context Manager in a list comprehension.  Also sadly, I can't see any way to catch and ignore Exceptions in a list comprehension, which makes them very brittle in this case."
   ]
  },
  {
   "cell_type": "code",
   "execution_count": 10,
   "metadata": {},
   "outputs": [],
   "source": [
    "zz = collections.Counter(\n",
    "    [\n",
    "        x\n",
    "        for file_list in [\n",
    "            [\n",
    "                line.split()[1]\n",
    "                for line in open(fname).readlines()\n",
    "            ]\n",
    "            for fname in fnames\n",
    "        ]\n",
    "        for x in file_list\n",
    "    ]\n",
    ")"
   ]
  },
  {
   "cell_type": "code",
   "execution_count": 11,
   "metadata": {},
   "outputs": [
    {
     "data": {
      "text/plain": [
       "Counter({'b': 3, 'c': 5, 'f': 6, 'd': 1, 'a': 1, 'vvvvvv': 1})"
      ]
     },
     "execution_count": 11,
     "metadata": {},
     "output_type": "execute_result"
    }
   ],
   "source": [
    "zz"
   ]
  },
  {
   "cell_type": "markdown",
   "metadata": {},
   "source": [
    "This shows the input to the Counter object (a list of field tokens)"
   ]
  },
  {
   "cell_type": "code",
   "execution_count": 12,
   "metadata": {},
   "outputs": [
    {
     "data": {
      "text/plain": [
       "['b',\n",
       " 'b',\n",
       " 'c',\n",
       " 'f',\n",
       " 'f',\n",
       " 'f',\n",
       " 'f',\n",
       " 'f',\n",
       " 'f',\n",
       " 'b',\n",
       " 'd',\n",
       " 'c',\n",
       " 'c',\n",
       " 'c',\n",
       " 'c',\n",
       " 'a',\n",
       " 'vvvvvv']"
      ]
     },
     "execution_count": 12,
     "metadata": {},
     "output_type": "execute_result"
    }
   ],
   "source": [
    "[\n",
    "    x\n",
    "    for file_list in [\n",
    "        [\n",
    "            line.split()[1]\n",
    "            for line in open(fname).readlines()\n",
    "        ]\n",
    "        for fname in fnames\n",
    "    ]\n",
    "    for x in file_list\n",
    "]"
   ]
  },
  {
   "cell_type": "markdown",
   "metadata": {},
   "source": [
    "This comprehension returns a list, each item of which is the list of field token in the corresponding file.  The code above flattens this into a single list."
   ]
  },
  {
   "cell_type": "code",
   "execution_count": 13,
   "metadata": {},
   "outputs": [
    {
     "data": {
      "text/plain": [
       "[['b'],\n",
       " ['b'],\n",
       " ['c', 'f', 'f', 'f', 'f', 'f', 'f'],\n",
       " ['b'],\n",
       " ['d', 'c', 'c', 'c', 'c', 'a', 'vvvvvv']]"
      ]
     },
     "execution_count": 13,
     "metadata": {},
     "output_type": "execute_result"
    }
   ],
   "source": [
    "[\n",
    "    [line.split()[1] for line in open(fname).readlines()]\n",
    "    for fname in fnames\n",
    "]"
   ]
  },
  {
   "cell_type": "markdown",
   "metadata": {},
   "source": [
    "## Scaling Up\n",
    "\n",
    "The toy data sets used about are all very well, but then I thought about \"What if my files are Mega-or-Giga bytes big\".  So I recast my code to use generators (i.e. lazy evaluation, rather than greedy evaluation).\n",
    "\n",
    "This approach might fall over if there are huge numbers of log files, more than the allowed number of open files, because as I said above, open file cleanup is not supported."
   ]
  },
  {
   "cell_type": "code",
   "execution_count": 14,
   "metadata": {},
   "outputs": [],
   "source": [
    "zz_gen = (\n",
    "    [line.split()[1] for line in open(fname).readlines()]\n",
    "    for fname in fnames\n",
    ")"
   ]
  },
  {
   "cell_type": "code",
   "execution_count": 15,
   "metadata": {},
   "outputs": [
    {
     "data": {
      "text/plain": [
       "Counter({'b': 3, 'c': 5, 'f': 6, 'd': 1, 'a': 1, 'vvvvvv': 1})"
      ]
     },
     "execution_count": 15,
     "metadata": {},
     "output_type": "execute_result"
    }
   ],
   "source": [
    "collections.Counter(\n",
    "    (x for file_list in zz_gen for x in file_list)\n",
    ")"
   ]
  },
  {
   "cell_type": "code",
   "execution_count": 16,
   "metadata": {},
   "outputs": [
    {
     "data": {
      "text/plain": [
       "<generator object <genexpr> at 0x0000012F35ABE1B0>"
      ]
     },
     "execution_count": 16,
     "metadata": {},
     "output_type": "execute_result"
    }
   ],
   "source": [
    "zz_gen"
   ]
  }
 ],
 "metadata": {
  "kernelspec": {
   "display_name": "Python 3",
   "language": "python",
   "name": "python3"
  },
  "language_info": {
   "codemirror_mode": {
    "name": "ipython",
    "version": 3
   },
   "file_extension": ".py",
   "mimetype": "text/x-python",
   "name": "python",
   "nbconvert_exporter": "python",
   "pygments_lexer": "ipython3",
   "version": "3.7.1"
  }
 },
 "nbformat": 4,
 "nbformat_minor": 4
}
