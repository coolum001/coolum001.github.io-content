{
 "cells": [
  {
   "cell_type": "markdown",
   "metadata": {},
   "source": [
    "# Testing Jupyter Notebooks\n",
    "\n",
    "## Introduction\n",
    "\n",
    "I recently watched an excellent video on Python testing: _Keynote - Preventing, Finding, and Fixing Bugs On a Time Budget | Raymond Hettinger @ PyBay2018_: see it [here](https://www.youtube.com/watch?v=ARKbfWk4Xyw).\n",
    "\n",
    "As as result I was inspired to get ```pytest``` working with Jupyter Notebooks."
   ]
  },
  {
   "cell_type": "markdown",
   "metadata": {},
   "source": [
    "-----\n",
    "## Implementation\n",
    "\n",
    "The following are the imports and magics for this notebook.\n",
    "\n",
    "It turns out that getting ```pytest``` working inside a notebook requires some support helper ```magics``` in a package called ```ipytest```.  Note that some versions of ```pytest``` are incompatible with the latest ```ipytest``` package.  Be sure to get the latest ```pytest```.   "
   ]
  },
  {
   "cell_type": "markdown",
   "metadata": {},
   "source": [
    "### Imports"
   ]
  },
  {
   "cell_type": "code",
   "execution_count": 19,
   "metadata": {},
   "outputs": [],
   "source": [
    "import pytest\n",
    "import ipytest.magics\n",
    "\n",
    "\n",
    "import warnings\n",
    "import math\n",
    "import random\n",
    "\n",
    "import sys\n",
    "import os\n",
    "import subprocess\n",
    "import datetime\n",
    "import platform\n",
    "import datetime"
   ]
  },
  {
   "cell_type": "markdown",
   "metadata": {},
   "source": [
    "### Magics\n",
    "```lab_black``` will format python cells in a standardized way."
   ]
  },
  {
   "cell_type": "code",
   "execution_count": 20,
   "metadata": {},
   "outputs": [
    {
     "name": "stdout",
     "output_type": "stream",
     "text": [
      "The lab_black extension is already loaded. To reload it, use:\n",
      "  %reload_ext lab_black\n"
     ]
    }
   ],
   "source": [
    "%load_ext lab_black"
   ]
  },
  {
   "cell_type": "markdown",
   "metadata": {},
   "source": [
    "```watermark``` documents the current environment."
   ]
  },
  {
   "cell_type": "code",
   "execution_count": 21,
   "metadata": {},
   "outputs": [
    {
     "name": "stdout",
     "output_type": "stream",
     "text": [
      "The watermark extension is already loaded. To reload it, use:\n",
      "  %reload_ext watermark\n"
     ]
    }
   ],
   "source": [
    "%load_ext watermark"
   ]
  },
  {
   "cell_type": "markdown",
   "metadata": {},
   "source": [
    "### Setup\n",
    "\n",
    "```pytest``` works (in part) by rewriting ```assert``` statements: we chose to suppress the warning messages about this."
   ]
  },
  {
   "cell_type": "code",
   "execution_count": 22,
   "metadata": {},
   "outputs": [
    {
     "name": "stdout",
     "output_type": "stream",
     "text": [
      "pytest version =  5.2.4\n"
     ]
    }
   ],
   "source": [
    "print('pytest version = ', pytest.__version__)\n",
    "\n",
    "# pytest rewrites Abstact Syntax Tree.  ignore warning about this\n",
    "warnings.filterwarnings('ignore', category=UserWarning)"
   ]
  },
  {
   "cell_type": "markdown",
   "metadata": {},
   "source": [
    "```pytest magics``` needs to know the notebook file name."
   ]
  },
  {
   "cell_type": "code",
   "execution_count": 23,
   "metadata": {},
   "outputs": [],
   "source": [
    "# tell pytest our file name\n",
    "__file__ = 'pytestnotebook.ipynb'"
   ]
  },
  {
   "cell_type": "markdown",
   "metadata": {},
   "source": [
    "-----\n",
    "## Using Pytest\n",
    "\n",
    "### First Steps\n",
    "We define a function with an obvious error."
   ]
  },
  {
   "cell_type": "code",
   "execution_count": 24,
   "metadata": {},
   "outputs": [],
   "source": [
    "# trivial function with obvious error\n",
    "def my_sum(a: float, b: float) -> float:\n",
    "    return a\n",
    "\n",
    "\n",
    "# end my_sum"
   ]
  },
  {
   "cell_type": "markdown",
   "metadata": {},
   "source": [
    "We run ```pytest```, cleaning all existing test results, and asking for verbose results.\n",
    "\n",
    "```pytest``` finds the ```test_my_sum``` function, executes it, and catches the assert failures."
   ]
  },
  {
   "cell_type": "code",
   "execution_count": 25,
   "metadata": {},
   "outputs": [
    {
     "name": "stdout",
     "output_type": "stream",
     "text": [
      "================================================= test session starts =================================================\n",
      "platform win32 -- Python 3.7.1, pytest-5.2.4, py-1.7.0, pluggy-0.13.1 -- D:\\Anaconda3\\envs\\ac5-py37\\python.exe\n",
      "cachedir: .pytest_cache\n",
      "hypothesis profile 'default' -> database=DirectoryBasedExampleDatabase('C:\\\\Users\\\\donrc\\\\Documents\\\\JupyterNotebooks\\\\PythonNotebookProject\\\\develop\\\\.hypothesis\\\\examples')\n",
      "rootdir: C:\\Users\\donrc\\Documents\\JupyterNotebooks\\PythonNotebookProject\\develop\n",
      "plugins: hypothesis-4.44.2, arraydiff-0.3, doctestplus-0.2.0, openfiles-0.3.1, remotedata-0.3.1\n",
      "collecting ... collected 1 item\n",
      "\n",
      "pytestnotebook.py::test_my_sum FAILED                                                                            [100%]\n",
      "\n",
      "====================================================== FAILURES =======================================================\n",
      "_____________________________________________________ test_my_sum _____________________________________________________\n",
      "\n",
      "    def test_my_sum():\n",
      "        assert 6==my_sum(6,0), 'Expected 6, got {}'.format(my_sum(6,0))\n",
      ">       assert 6==my_sum(2,4), 'Expected 6, got {}'.format(my_sum(2,4))\n",
      "E       AssertionError: Expected 6, got 2\n",
      "\n",
      "<ipython-input-25-f05edba4f4f5>:3: AssertionError\n",
      "================================================== 1 failed in 0.07s ==================================================\n"
     ]
    }
   ],
   "source": [
    "%%run_pytest[clean] -v\n",
    "def test_my_sum():\n",
    "    assert 6==my_sum(6,0), 'Expected 6, got {}'.format(my_sum(6,0))\n",
    "    assert 6==my_sum(2,4), 'Expected 6, got {}'.format(my_sum(2,4))"
   ]
  },
  {
   "cell_type": "markdown",
   "metadata": {},
   "source": [
    "If we run the same test, but minimize output, we get:"
   ]
  },
  {
   "cell_type": "code",
   "execution_count": 26,
   "metadata": {},
   "outputs": [
    {
     "name": "stdout",
     "output_type": "stream",
     "text": [
      "F                                                                                                                [100%]\n",
      "====================================================== FAILURES =======================================================\n",
      "_____________________________________________________ test_my_sum _____________________________________________________\n",
      "\n",
      "    def test_my_sum():\n",
      "        assert 6==my_sum(6,0)\n",
      ">       assert 6==my_sum(2,4)\n",
      "E       AssertionError\n",
      "\n",
      "<ipython-input-26-d901d1b3a70e>:3: AssertionError\n"
     ]
    }
   ],
   "source": [
    "%%run_pytest[clean] -qq\n",
    "def test_my_sum():\n",
    "    assert 6==my_sum(6,0)\n",
    "    assert 6==my_sum(2,4)"
   ]
  },
  {
   "cell_type": "markdown",
   "metadata": {},
   "source": [
    "### More Realistic Testing\n",
    "\n",
    "We define a quadratic equation solver (i.e.solves for _a*x*x+b*x+c = 0_, given _a, b, c_).  We test the input values and raise ```ValueError``` exceptions for invalid _a, b, c_ .  See [here](https://www.johndcook.com/blog/2018/04/28/quadratic-formula/) ."
   ]
  },
  {
   "cell_type": "code",
   "execution_count": 27,
   "metadata": {},
   "outputs": [],
   "source": [
    "# more complicated function\n",
    "\n",
    "\n",
    "def quadratic_solve(\n",
    "    a: float, b: float, c: float\n",
    ") -> (float, float):\n",
    "    # set small value for testing input coefficients\n",
    "    EPS = 1e-10\n",
    "\n",
    "    # test if real roots possible\n",
    "    if b * b < (4 * a * c):\n",
    "        raise ValueError(\n",
    "            'a={a}, b={b}, c={c}: b*b-4*a*c cannot be -ve'\n",
    "        )\n",
    "    # end if\n",
    "\n",
    "    # test if power of x*x too small (ie have linear equation)\n",
    "    if abs(a) > 1e-10:\n",
    "\n",
    "        # choose formulas that minize round off errors\n",
    "        if b > 0:\n",
    "            x1 = (-b - math.sqrt(b * b - 4 * a * c)) / (\n",
    "                2 * a\n",
    "            )\n",
    "            x2 = (2 * c) / (\n",
    "                -b - math.sqrt(b * b - 4 * a * c)\n",
    "            )\n",
    "        else:  # b-nve\n",
    "            x1 = (-b + math.sqrt(b * b - 4 * a * c)) / (\n",
    "                2 * a\n",
    "            )\n",
    "            x2 = (2 * c) / (\n",
    "                -b + math.sqrt(b * b - 4 * a * c)\n",
    "            )\n",
    "        # endif\n",
    "\n",
    "    else:\n",
    "        # solve linear equation, if possible\n",
    "        if abs(b) > 1e-10:\n",
    "            x1 = -c / b\n",
    "            x2 = x1\n",
    "        else:\n",
    "            raise ValueError('a,b cannot both be zero')\n",
    "        # end if\n",
    "    # end if\n",
    "\n",
    "    return x1, x2\n",
    "\n",
    "\n",
    "# end quadratic_solve"
   ]
  },
  {
   "cell_type": "markdown",
   "metadata": {},
   "source": [
    "Informally test solver in a case where round-off might cause problems."
   ]
  },
  {
   "cell_type": "code",
   "execution_count": 28,
   "metadata": {},
   "outputs": [
    {
     "name": "stdout",
     "output_type": "stream",
     "text": [
      "(-100000000.0, -1e-08)\n"
     ]
    }
   ],
   "source": [
    "print(quadratic_solve(1, 1e8, 1))"
   ]
  },
  {
   "cell_type": "markdown",
   "metadata": {},
   "source": [
    "Now test that the correct exceptions get thrown."
   ]
  },
  {
   "cell_type": "code",
   "execution_count": 29,
   "metadata": {},
   "outputs": [
    {
     "name": "stdout",
     "output_type": "stream",
     "text": [
      "================================================= test session starts =================================================\n",
      "platform win32 -- Python 3.7.1, pytest-5.2.4, py-1.7.0, pluggy-0.13.1\n",
      "rootdir: C:\\Users\\donrc\\Documents\\JupyterNotebooks\\PythonNotebookProject\\develop\n",
      "plugins: hypothesis-4.44.2, arraydiff-0.3, doctestplus-0.2.0, openfiles-0.3.1, remotedata-0.3.1\n",
      "collected 2 items\n",
      "\n",
      "pytestnotebook.py ..                                                                                             [100%]\n",
      "\n",
      "================================================== 2 passed in 0.07s ==================================================\n"
     ]
    }
   ],
   "source": [
    "%%run_pytest[clean]\n",
    "# test throws right exception if complex roots solve quadratic\n",
    "def test_nve_discriminant():\n",
    "    for n1 in range(1000):\n",
    "        a = random.randint(2, 1_000_000)\n",
    "        c = random.randint(2, 1_000_000)\n",
    "        b_max = int(math.sqrt(4 * a * c)) - 1\n",
    "        b = random.randint(-b_max, b_max + 1)\n",
    "        b = b * random.choice([-1, 1])\n",
    "        with pytest.raises(ValueError):\n",
    "            x1, x2 = quadratic_solve(a, b, c)\n",
    "        # end with\n",
    "    # end for\n",
    "\n",
    "\n",
    "# end test_nve_discriminant\n",
    "\n",
    "# test throws right exception if a,b both 0\n",
    "def test_ab_zero():\n",
    "    for n1 in range(1000):\n",
    "        a = 0\n",
    "        b = 0\n",
    "        c = random.randint(-1_000_000, 1_000_000)\n",
    "\n",
    "        with pytest.raises(ValueError):\n",
    "            x1, x2 = quadratic_solve(a, b, c)\n",
    "        # end with\n",
    "    # end for\n",
    "\n",
    "\n",
    "# end test_ab_zero"
   ]
  },
  {
   "cell_type": "markdown",
   "metadata": {},
   "source": [
    "Run test on a single test case."
   ]
  },
  {
   "cell_type": "code",
   "execution_count": 30,
   "metadata": {},
   "outputs": [
    {
     "name": "stdout",
     "output_type": "stream",
     "text": [
      "================================================= test session starts =================================================\n",
      "platform win32 -- Python 3.7.1, pytest-5.2.4, py-1.7.0, pluggy-0.13.1 -- D:\\Anaconda3\\envs\\ac5-py37\\python.exe\n",
      "cachedir: .pytest_cache\n",
      "hypothesis profile 'default' -> database=DirectoryBasedExampleDatabase('C:\\\\Users\\\\donrc\\\\Documents\\\\JupyterNotebooks\\\\PythonNotebookProject\\\\develop\\\\.hypothesis\\\\examples')\n",
      "rootdir: C:\\Users\\donrc\\Documents\\JupyterNotebooks\\PythonNotebookProject\\develop\n",
      "plugins: hypothesis-4.44.2, arraydiff-0.3, doctestplus-0.2.0, openfiles-0.3.1, remotedata-0.3.1\n",
      "collecting ... collected 3 items\n",
      "\n",
      "pytestnotebook.py::test_nve_discriminant PASSED                                                                  [ 33%]\n",
      "pytestnotebook.py::test_ab_zero PASSED                                                                           [ 66%]\n",
      "pytestnotebook.py::test_quadratic_solve2 PASSED                                                                  [100%]\n",
      "\n",
      "================================================== 3 passed in 0.11s ==================================================\n"
     ]
    }
   ],
   "source": [
    "%%run_pytest -v\n",
    "# test quadratic actually solves equation\n",
    "def test_quadratic_solve2():\n",
    "    a = 1\n",
    "    b = 2\n",
    "    c = 1\n",
    "    x1, x2 = quadratic_solve(a, b, c)\n",
    "    assert x1 == -1 and x2 == -1\n",
    "\n",
    "\n",
    "# end test_quadratic_solve2"
   ]
  },
  {
   "cell_type": "markdown",
   "metadata": {},
   "source": [
    "Now run a test, chosing roots of the equation at random (with *a* normalized to _1_)."
   ]
  },
  {
   "cell_type": "code",
   "execution_count": 31,
   "metadata": {},
   "outputs": [
    {
     "name": "stdout",
     "output_type": "stream",
     "text": [
      "================================================= test session starts =================================================\n",
      "platform win32 -- Python 3.7.1, pytest-5.2.4, py-1.7.0, pluggy-0.13.1 -- D:\\Anaconda3\\envs\\ac5-py37\\python.exe\n",
      "cachedir: .pytest_cache\n",
      "hypothesis profile 'default' -> database=DirectoryBasedExampleDatabase('C:\\\\Users\\\\donrc\\\\Documents\\\\JupyterNotebooks\\\\PythonNotebookProject\\\\develop\\\\.hypothesis\\\\examples')\n",
      "rootdir: C:\\Users\\donrc\\Documents\\JupyterNotebooks\\PythonNotebookProject\\develop\n",
      "plugins: hypothesis-4.44.2, arraydiff-0.3, doctestplus-0.2.0, openfiles-0.3.1, remotedata-0.3.1\n",
      "collecting ... collected 4 items\n",
      "\n",
      "pytestnotebook.py::test_nve_discriminant PASSED                                                                  [ 25%]\n",
      "pytestnotebook.py::test_ab_zero PASSED                                                                           [ 50%]\n",
      "pytestnotebook.py::test_quadratic_solve2 PASSED                                                                  [ 75%]\n",
      "pytestnotebook.py::test_quadratic_solve3 PASSED                                                                  [100%]\n",
      "\n",
      "================================================== 4 passed in 0.13s ==================================================\n"
     ]
    }
   ],
   "source": [
    "%%run_pytest -v\n",
    "def test_quadratic_solve3():\n",
    "\n",
    "    for i1 in range(1000):\n",
    "        n1 = random.randint(-1_000_000, 1_000_000)\n",
    "        n2 = random.randint(-1_000_000, 1_000_000)\n",
    "\n",
    "        a = 1\n",
    "        c = n1 * n2\n",
    "        b = n1 + n2\n",
    "        if b * b > 4 * a * c:\n",
    "            x1, x2 = quadratic_solve(a, b, c)\n",
    "            assert (\n",
    "                math.isclose(x1, -n1)\n",
    "                and math.isclose(x2, -n2)\n",
    "            ) or (\n",
    "                math.isclose(x1, -n2)\n",
    "                and math.isclose(x2, -n1)\n",
    "            ), f'{n1}, {n2} -> {x1}, {x2}'\n",
    "\n",
    "        # end if\n",
    "    # end for\n",
    "\n",
    "\n",
    "# end test_quadratic_solve3"
   ]
  },
  {
   "cell_type": "markdown",
   "metadata": {},
   "source": [
    "Run the test with no constraints on *a*."
   ]
  },
  {
   "cell_type": "code",
   "execution_count": 32,
   "metadata": {},
   "outputs": [
    {
     "name": "stdout",
     "output_type": "stream",
     "text": [
      "================================================= test session starts =================================================\n",
      "platform win32 -- Python 3.7.1, pytest-5.2.4, py-1.7.0, pluggy-0.13.1 -- D:\\Anaconda3\\envs\\ac5-py37\\python.exe\n",
      "cachedir: .pytest_cache\n",
      "hypothesis profile 'default' -> database=DirectoryBasedExampleDatabase('C:\\\\Users\\\\donrc\\\\Documents\\\\JupyterNotebooks\\\\PythonNotebookProject\\\\develop\\\\.hypothesis\\\\examples')\n",
      "rootdir: C:\\Users\\donrc\\Documents\\JupyterNotebooks\\PythonNotebookProject\\develop\n",
      "plugins: hypothesis-4.44.2, arraydiff-0.3, doctestplus-0.2.0, openfiles-0.3.1, remotedata-0.3.1\n",
      "collecting ... collected 5 items\n",
      "\n",
      "pytestnotebook.py::test_nve_discriminant PASSED                                                                  [ 20%]\n",
      "pytestnotebook.py::test_ab_zero PASSED                                                                           [ 40%]\n",
      "pytestnotebook.py::test_quadratic_solve2 PASSED                                                                  [ 60%]\n",
      "pytestnotebook.py::test_quadratic_solve3 PASSED                                                                  [ 80%]\n",
      "pytestnotebook.py::test_quadratic_solve4 PASSED                                                                  [100%]\n",
      "\n",
      "================================================== 5 passed in 0.15s ==================================================\n"
     ]
    }
   ],
   "source": [
    "%%run_pytest -v\n",
    "def test_quadratic_solve4():\n",
    "    for i1 in range(1000):\n",
    "        n1 = random.randint(-1_000_000, 1_000_000)\n",
    "        n2 = random.randint(-1_000_000, 1_000_000)\n",
    "        n3 = random.randint(1, 1_000_000)\n",
    "\n",
    "        a = n3 * 1\n",
    "        c = n3 * n1 * n2\n",
    "        b = n3 * (n1 + n2)\n",
    "        if b * b > 4 * a * c:\n",
    "            x1, x2 = quadratic_solve(a, b, c)\n",
    "            assert (\n",
    "                math.isclose(x1, -n1)\n",
    "                and math.isclose(x2, -n2)\n",
    "                or math.isclose(x1, -n2)\n",
    "                and math.isclose(x2, -n1)\n",
    "            ), f'{n1}, {n2} -> {x1}, {x2}'\n",
    "\n",
    "        # end if\n",
    "    # end for\n",
    "\n",
    "\n",
    "# end test_quadratic_solve4"
   ]
  },
  {
   "cell_type": "markdown",
   "metadata": {},
   "source": [
    "Test the case where *a* = 0 (i.e. we have a linear equation)."
   ]
  },
  {
   "cell_type": "code",
   "execution_count": 33,
   "metadata": {},
   "outputs": [
    {
     "name": "stdout",
     "output_type": "stream",
     "text": [
      "================================================= test session starts =================================================\n",
      "platform win32 -- Python 3.7.1, pytest-5.2.4, py-1.7.0, pluggy-0.13.1 -- D:\\Anaconda3\\envs\\ac5-py37\\python.exe\n",
      "cachedir: .pytest_cache\n",
      "hypothesis profile 'default' -> database=DirectoryBasedExampleDatabase('C:\\\\Users\\\\donrc\\\\Documents\\\\JupyterNotebooks\\\\PythonNotebookProject\\\\develop\\\\.hypothesis\\\\examples')\n",
      "rootdir: C:\\Users\\donrc\\Documents\\JupyterNotebooks\\PythonNotebookProject\\develop\n",
      "plugins: hypothesis-4.44.2, arraydiff-0.3, doctestplus-0.2.0, openfiles-0.3.1, remotedata-0.3.1\n",
      "collecting ... collected 6 items\n",
      "\n",
      "pytestnotebook.py::test_nve_discriminant PASSED                                                                  [ 16%]\n",
      "pytestnotebook.py::test_ab_zero PASSED                                                                           [ 33%]\n",
      "pytestnotebook.py::test_quadratic_solve2 PASSED                                                                  [ 50%]\n",
      "pytestnotebook.py::test_quadratic_solve3 PASSED                                                                  [ 66%]\n",
      "pytestnotebook.py::test_quadratic_solve4 PASSED                                                                  [ 83%]\n",
      "pytestnotebook.py::test_quadratic_solve5 PASSED                                                                  [100%]\n",
      "\n",
      "================================================== 6 passed in 0.15s ==================================================\n"
     ]
    }
   ],
   "source": [
    "%%run_pytest -v\n",
    "def test_quadratic_solve5():\n",
    "\n",
    "    for i1 in range(1000):\n",
    "        n1 = random.randint(-1_000_000, 1_000_000)\n",
    "        n2 = random.randint(-1_000_000, 1_000_000)\n",
    "        n3 = random.randint(1, 1_000_000)\n",
    "\n",
    "        a = 0\n",
    "        c = n2\n",
    "        b = n1\n",
    "        if b > 0:\n",
    "            x1, x2 = quadratic_solve(a, b, c)\n",
    "            assert math.isclose(\n",
    "                x1, -float(n2) / float(n1)\n",
    "            ), f'{n1}, {n2} -> {x1}, {x2}'\n",
    "        # end if\n",
    "    # end for\n",
    "\n",
    "\n",
    "# end test_quadratic_solve5"
   ]
  },
  {
   "cell_type": "markdown",
   "metadata": {},
   "source": [
    "----------\n",
    "## Reproducibility Details"
   ]
  },
  {
   "cell_type": "code",
   "execution_count": 34,
   "metadata": {},
   "outputs": [
    {
     "name": "stdout",
     "output_type": "stream",
     "text": [
      "platform 1.0.8\n",
      "pytest   5.2.4\n",
      "\n"
     ]
    }
   ],
   "source": [
    "%watermark --iversions"
   ]
  },
  {
   "cell_type": "code",
   "execution_count": 35,
   "metadata": {},
   "outputs": [
    {
     "name": "stdout",
     "output_type": "stream",
     "text": [
      "2019-12-02T14:27:40+10:00\n",
      "\n",
      "CPython 3.7.1\n",
      "IPython 7.2.0\n",
      "\n",
      "compiler   : MSC v.1915 64 bit (AMD64)\n",
      "system     : Windows\n",
      "release    : 10\n",
      "machine    : AMD64\n",
      "processor  : Intel64 Family 6 Model 94 Stepping 3, GenuineIntel\n",
      "CPU cores  : 8\n",
      "interpreter: 64bit\n"
     ]
    }
   ],
   "source": [
    "%watermark"
   ]
  },
  {
   "cell_type": "code",
   "execution_count": 36,
   "metadata": {},
   "outputs": [
    {
     "name": "stdout",
     "output_type": "stream",
     "text": [
      "python version : 3.7.1 (default, Dec 10 2018, 22:54:23) [MSC v.1915 64 bit (AMD64)]\n",
      "python environment : ac5-py37\n",
      "current wkg dir: C:\\Users\\donrc\\Documents\\JupyterNotebooks\\PythonNotebookProject\\develop\n",
      "Notebook name: pytestnotebook.ipynb\n",
      "Notebook run at: 2019-12-02 14:27:44.703459 local time\n",
      "Notebook run at: 2019-12-02 04:27:44.703459 UTC\n",
      "Notebook run on: Windows-10-10.0.18362-SP0\n"
     ]
    }
   ],
   "source": [
    "# show info to support reproducibility\n",
    "\n",
    "theNotebook = __file__\n",
    "\n",
    "\n",
    "def python_env_name():\n",
    "    envs = subprocess.check_output(\n",
    "        'conda env list'\n",
    "    ).splitlines()\n",
    "    # get unicode version of binary subprocess output\n",
    "    envu = [x.decode('ascii') for x in envs]\n",
    "    active_env = list(\n",
    "        filter(lambda s: '*' in str(s), envu)\n",
    "    )[0]\n",
    "    env_name = str(active_env).split()[0]\n",
    "    return env_name\n",
    "\n",
    "\n",
    "# end python_env_name\n",
    "\n",
    "print('python version : ' + sys.version)\n",
    "print('python environment :', python_env_name())\n",
    "\n",
    "print('current wkg dir: ' + os.getcwd())\n",
    "print('Notebook name: ' + theNotebook)\n",
    "print(\n",
    "    'Notebook run at: '\n",
    "    + str(datetime.datetime.now())\n",
    "    + ' local time'\n",
    ")\n",
    "print(\n",
    "    'Notebook run at: '\n",
    "    + str(datetime.datetime.utcnow())\n",
    "    + ' UTC'\n",
    ")\n",
    "print('Notebook run on: ' + platform.platform())"
   ]
  }
 ],
 "metadata": {
  "kernelspec": {
   "display_name": "Python 3",
   "language": "python",
   "name": "python3"
  },
  "language_info": {
   "codemirror_mode": {
    "name": "ipython",
    "version": 3
   },
   "file_extension": ".py",
   "mimetype": "text/x-python",
   "name": "python",
   "nbconvert_exporter": "python",
   "pygments_lexer": "ipython3",
   "version": "3.7.1"
  }
 },
 "nbformat": 4,
 "nbformat_minor": 2
}
