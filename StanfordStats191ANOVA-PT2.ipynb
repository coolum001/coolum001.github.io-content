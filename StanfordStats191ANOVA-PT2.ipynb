{
 "cells": [
  {
   "cell_type": "markdown",
   "metadata": {},
   "source": [
    "# Stanford Stats 191\n",
    "\n",
    "## Introduction\n",
    "\n",
    "This is a re-creation of the Stanford Stats 191 course (see https://web.stanford.edu/class/stats191/), using Python eco-system tools, instead of R. This is lecture \"Analysis of variance:\", Part 2\n"
   ]
  },
  {
   "cell_type": "markdown",
   "metadata": {},
   "source": [
    "## Initial Notebook Setup\n",
    "\n",
    "```watermark ``` documents the current Python and package environment, ```black``` is my preferred Python formatter"
   ]
  },
  {
   "cell_type": "code",
   "execution_count": 1,
   "metadata": {},
   "outputs": [],
   "source": [
    "%load_ext watermark"
   ]
  },
  {
   "cell_type": "code",
   "execution_count": 2,
   "metadata": {},
   "outputs": [],
   "source": [
    "%load_ext lab_black"
   ]
  },
  {
   "cell_type": "code",
   "execution_count": 3,
   "metadata": {},
   "outputs": [],
   "source": [
    "%matplotlib inline"
   ]
  },
  {
   "cell_type": "code",
   "execution_count": 4,
   "metadata": {},
   "outputs": [
    {
     "name": "stderr",
     "output_type": "stream",
     "text": [
      "D:\\Anaconda3\\envs\\ac5-py37\\lib\\site-packages\\statsmodels\\compat\\pandas.py:49: FutureWarning: The Panel class is removed from pandas. Accessing it from the top-level namespace will also be removed in the next version\n",
      "  data_klasses = (pandas.Series, pandas.DataFrame, pandas.Panel)\n"
     ]
    }
   ],
   "source": [
    "import pandas as pd\n",
    "import numpy as np\n",
    "import seaborn as sns\n",
    "\n",
    "import matplotlib.pyplot as plt\n",
    "from mpl_toolkits.mplot3d import Axes3D\n",
    "\n",
    "from scipy import stats\n",
    "from statsmodels.formula.api import ols\n",
    "from statsmodels.formula.api import rlm\n",
    "from statsmodels.formula.api import mixedlm\n",
    "import statsmodels.api as sm\n",
    "\n",
    "from patsy import dmatrices\n",
    "\n",
    "from patsy.contrasts import Treatment\n",
    "from patsy.contrasts import Sum\n",
    "from patsy.contrasts import Diff\n",
    "\n",
    "\n",
    "import warnings"
   ]
  },
  {
   "cell_type": "markdown",
   "metadata": {},
   "source": [
    "----\n",
    "## Analysis of Variance Details\n",
    "\n",
    "We load the dataset that relates job performance evaluation (JPERF) to minority status (MINORITY), and initial work test (TEST) results.\n",
    "\n",
    "### Load Dataset"
   ]
  },
  {
   "cell_type": "code",
   "execution_count": 5,
   "metadata": {},
   "outputs": [],
   "source": [
    "data = pd.read_csv('../data/jobtest.txt', sep='\\t')"
   ]
  },
  {
   "cell_type": "code",
   "execution_count": 6,
   "metadata": {},
   "outputs": [
    {
     "data": {
      "text/html": [
       "<div>\n",
       "<style scoped>\n",
       "    .dataframe tbody tr th:only-of-type {\n",
       "        vertical-align: middle;\n",
       "    }\n",
       "\n",
       "    .dataframe tbody tr th {\n",
       "        vertical-align: top;\n",
       "    }\n",
       "\n",
       "    .dataframe thead th {\n",
       "        text-align: right;\n",
       "    }\n",
       "</style>\n",
       "<table border=\"1\" class=\"dataframe\">\n",
       "  <thead>\n",
       "    <tr style=\"text-align: right;\">\n",
       "      <th></th>\n",
       "      <th>TEST</th>\n",
       "      <th>MINORITY</th>\n",
       "      <th>JPERF</th>\n",
       "    </tr>\n",
       "  </thead>\n",
       "  <tbody>\n",
       "    <tr>\n",
       "      <th>0</th>\n",
       "      <td>0.28</td>\n",
       "      <td>1</td>\n",
       "      <td>1.83</td>\n",
       "    </tr>\n",
       "    <tr>\n",
       "      <th>1</th>\n",
       "      <td>0.97</td>\n",
       "      <td>1</td>\n",
       "      <td>4.59</td>\n",
       "    </tr>\n",
       "    <tr>\n",
       "      <th>2</th>\n",
       "      <td>1.25</td>\n",
       "      <td>1</td>\n",
       "      <td>2.97</td>\n",
       "    </tr>\n",
       "    <tr>\n",
       "      <th>3</th>\n",
       "      <td>2.46</td>\n",
       "      <td>1</td>\n",
       "      <td>8.14</td>\n",
       "    </tr>\n",
       "    <tr>\n",
       "      <th>4</th>\n",
       "      <td>2.51</td>\n",
       "      <td>1</td>\n",
       "      <td>8.00</td>\n",
       "    </tr>\n",
       "  </tbody>\n",
       "</table>\n",
       "</div>"
      ],
      "text/plain": [
       "   TEST  MINORITY  JPERF\n",
       "0  0.28         1   1.83\n",
       "1  0.97         1   4.59\n",
       "2  1.25         1   2.97\n",
       "3  2.46         1   8.14\n",
       "4  2.51         1   8.00"
      ]
     },
     "execution_count": 6,
     "metadata": {},
     "output_type": "execute_result"
    }
   ],
   "source": [
    "data.head()"
   ]
  },
  {
   "cell_type": "code",
   "execution_count": 7,
   "metadata": {},
   "outputs": [
    {
     "data": {
      "text/plain": [
       "array([1, 0], dtype=int64)"
      ]
     },
     "execution_count": 7,
     "metadata": {},
     "output_type": "execute_result"
    }
   ],
   "source": [
    "data['MINORITY'].unique()"
   ]
  },
  {
   "cell_type": "markdown",
   "metadata": {},
   "source": [
    "### Visualize Data\n",
    "\n",
    "We use Seaborn to produce a variety of different graphics"
   ]
  },
  {
   "cell_type": "code",
   "execution_count": 8,
   "metadata": {},
   "outputs": [
    {
     "name": "stderr",
     "output_type": "stream",
     "text": [
      "D:\\Anaconda3\\envs\\ac5-py37\\lib\\site-packages\\scipy\\stats\\stats.py:1713: FutureWarning: Using a non-tuple sequence for multidimensional indexing is deprecated; use `arr[tuple(seq)]` instead of `arr[seq]`. In the future this will be interpreted as an array index, `arr[np.array(seq)]`, which will result either in an error or a different result.\n",
      "  return np.add.reduce(sorted[indexer] * weights, axis=axis) / sumval\n"
     ]
    },
    {
     "data": {
      "image/png": "[encoded data removed]",
      "text/plain": [
       "<Figure size 432x432 with 3 Axes>"
      ]
     },
     "metadata": {},
     "output_type": "display_data"
    }
   ],
   "source": [
    "sns.set(style=\"white\")\n",
    "_ = sns.jointplot('JPERF', 'TEST', data=data, kind='reg')"
   ]
  },
  {
   "cell_type": "code",
   "execution_count": 9,
   "metadata": {},
   "outputs": [
    {
     "data": {
      "image/png": "[encoded data removed]",
      "text/plain": [
       "<Figure size 432x288 with 1 Axes>"
      ]
     },
     "metadata": {},
     "output_type": "display_data"
    }
   ],
   "source": [
    "sns.set_style(\"whitegrid\")\n",
    "_ = sns.scatterplot(\n",
    "    'TEST', 'JPERF', hue='MINORITY', data=data, s=100\n",
    ")"
   ]
  },
  {
   "cell_type": "code",
   "execution_count": 10,
   "metadata": {},
   "outputs": [
    {
     "data": {
      "image/png": "[encoded data removed]",
      "text/plain": [
       "<Figure size 813.475x360 with 2 Axes>"
      ]
     },
     "metadata": {},
     "output_type": "display_data"
    }
   ],
   "source": [
    "_ = sns.relplot(\n",
    "    'TEST',\n",
    "    'JPERF',\n",
    "    hue='MINORITY',\n",
    "    col='MINORITY',\n",
    "    data=data,\n",
    "    s=100,\n",
    ")"
   ]
  },
  {
   "cell_type": "markdown",
   "metadata": {},
   "source": [
    "### Perform Linear Regression"
   ]
  },
  {
   "cell_type": "markdown",
   "metadata": {},
   "source": [
    "Declare the ```MINORITY```  to be a categorical variable"
   ]
  },
  {
   "cell_type": "code",
   "execution_count": 11,
   "metadata": {},
   "outputs": [],
   "source": [
    "data['MINORITY'] = data['MINORITY'].astype('category')"
   ]
  },
  {
   "cell_type": "markdown",
   "metadata": {},
   "source": [
    "Run the Ordinary Least Squares fit.  We specify a model where Job Performance depends upon Test Results, Minority status, and the interaction between these variables"
   ]
  },
  {
   "cell_type": "code",
   "execution_count": 12,
   "metadata": {},
   "outputs": [
    {
     "data": {
      "text/html": [
       "<table class=\"simpletable\">\n",
       "<caption>OLS Regression Results</caption>\n",
       "<tr>\n",
       "  <th>Dep. Variable:</th>          <td>JPERF</td>      <th>  R-squared:         </th> <td>   0.664</td>\n",
       "</tr>\n",
       "<tr>\n",
       "  <th>Model:</th>                   <td>OLS</td>       <th>  Adj. R-squared:    </th> <td>   0.601</td>\n",
       "</tr>\n",
       "<tr>\n",
       "  <th>Method:</th>             <td>Least Squares</td>  <th>  F-statistic:       </th> <td>   10.55</td>\n",
       "</tr>\n",
       "<tr>\n",
       "  <th>Date:</th>             <td>Sun, 05 Apr 2020</td> <th>  Prob (F-statistic):</th> <td>0.000451</td>\n",
       "</tr>\n",
       "<tr>\n",
       "  <th>Time:</th>                 <td>20:35:44</td>     <th>  Log-Likelihood:    </th> <td> -32.971</td>\n",
       "</tr>\n",
       "<tr>\n",
       "  <th>No. Observations:</th>      <td>    20</td>      <th>  AIC:               </th> <td>   73.94</td>\n",
       "</tr>\n",
       "<tr>\n",
       "  <th>Df Residuals:</th>          <td>    16</td>      <th>  BIC:               </th> <td>   77.92</td>\n",
       "</tr>\n",
       "<tr>\n",
       "  <th>Df Model:</th>              <td>     3</td>      <th>                     </th>     <td> </td>   \n",
       "</tr>\n",
       "<tr>\n",
       "  <th>Covariance Type:</th>      <td>nonrobust</td>    <th>                     </th>     <td> </td>   \n",
       "</tr>\n",
       "</table>\n",
       "<table class=\"simpletable\">\n",
       "<tr>\n",
       "           <td></td>             <th>coef</th>     <th>std err</th>      <th>t</th>      <th>P>|t|</th>  <th>[0.025</th>    <th>0.975]</th>  \n",
       "</tr>\n",
       "<tr>\n",
       "  <th>Intercept</th>          <td>    2.0103</td> <td>    1.050</td> <td>    1.914</td> <td> 0.074</td> <td>   -0.216</td> <td>    4.236</td>\n",
       "</tr>\n",
       "<tr>\n",
       "  <th>MINORITY[T.1]</th>      <td>   -1.9132</td> <td>    1.540</td> <td>   -1.242</td> <td> 0.232</td> <td>   -5.179</td> <td>    1.352</td>\n",
       "</tr>\n",
       "<tr>\n",
       "  <th>TEST</th>               <td>    1.3134</td> <td>    0.670</td> <td>    1.959</td> <td> 0.068</td> <td>   -0.108</td> <td>    2.735</td>\n",
       "</tr>\n",
       "<tr>\n",
       "  <th>TEST:MINORITY[T.1]</th> <td>    1.9975</td> <td>    0.954</td> <td>    2.093</td> <td> 0.053</td> <td>   -0.026</td> <td>    4.021</td>\n",
       "</tr>\n",
       "</table>\n",
       "<table class=\"simpletable\">\n",
       "<tr>\n",
       "  <th>Omnibus:</th>       <td> 3.377</td> <th>  Durbin-Watson:     </th> <td>   3.015</td>\n",
       "</tr>\n",
       "<tr>\n",
       "  <th>Prob(Omnibus):</th> <td> 0.185</td> <th>  Jarque-Bera (JB):  </th> <td>   1.330</td>\n",
       "</tr>\n",
       "<tr>\n",
       "  <th>Skew:</th>          <td> 0.120</td> <th>  Prob(JB):          </th> <td>   0.514</td>\n",
       "</tr>\n",
       "<tr>\n",
       "  <th>Kurtosis:</th>      <td> 1.760</td> <th>  Cond. No.          </th> <td>    13.8</td>\n",
       "</tr>\n",
       "</table><br/><br/>Warnings:<br/>[1] Standard Errors assume that the covariance matrix of the errors is correctly specified."
      ],
      "text/plain": [
       "<class 'statsmodels.iolib.summary.Summary'>\n",
       "\"\"\"\n",
       "                            OLS Regression Results                            \n",
       "==============================================================================\n",
       "Dep. Variable:                  JPERF   R-squared:                       0.664\n",
       "Model:                            OLS   Adj. R-squared:                  0.601\n",
       "Method:                 Least Squares   F-statistic:                     10.55\n",
       "Date:                Sun, 05 Apr 2020   Prob (F-statistic):           0.000451\n",
       "Time:                        20:35:44   Log-Likelihood:                -32.971\n",
       "No. Observations:                  20   AIC:                             73.94\n",
       "Df Residuals:                      16   BIC:                             77.92\n",
       "Df Model:                           3                                         \n",
       "Covariance Type:            nonrobust                                         \n",
       "======================================================================================\n",
       "                         coef    std err          t      P>|t|      [0.025      0.975]\n",
       "--------------------------------------------------------------------------------------\n",
       "Intercept              2.0103      1.050      1.914      0.074      -0.216       4.236\n",
       "MINORITY[T.1]         -1.9132      1.540     -1.242      0.232      -5.179       1.352\n",
       "TEST                   1.3134      0.670      1.959      0.068      -0.108       2.735\n",
       "TEST:MINORITY[T.1]     1.9975      0.954      2.093      0.053      -0.026       4.021\n",
       "==============================================================================\n",
       "Omnibus:                        3.377   Durbin-Watson:                   3.015\n",
       "Prob(Omnibus):                  0.185   Jarque-Bera (JB):                1.330\n",
       "Skew:                           0.120   Prob(JB):                        0.514\n",
       "Kurtosis:                       1.760   Cond. No.                         13.8\n",
       "==============================================================================\n",
       "\n",
       "Warnings:\n",
       "[1] Standard Errors assume that the covariance matrix of the errors is correctly specified.\n",
       "\"\"\""
      ]
     },
     "execution_count": 12,
     "metadata": {},
     "output_type": "execute_result"
    }
   ],
   "source": [
    "res1 = ols(\n",
    "    'JPERF ~ TEST:MINORITY + MINORITY + TEST', data=data\n",
    ").fit()\n",
    "res1.summary()"
   ]
  },
  {
   "cell_type": "markdown",
   "metadata": {},
   "source": [
    "----\n",
    "### Perform ANOVA\n",
    "\n",
    "We start with a straightforward ANOVA call"
   ]
  },
  {
   "cell_type": "code",
   "execution_count": 13,
   "metadata": {},
   "outputs": [
    {
     "data": {
      "text/html": [
       "<div>\n",
       "<style scoped>\n",
       "    .dataframe tbody tr th:only-of-type {\n",
       "        vertical-align: middle;\n",
       "    }\n",
       "\n",
       "    .dataframe tbody tr th {\n",
       "        vertical-align: top;\n",
       "    }\n",
       "\n",
       "    .dataframe thead th {\n",
       "        text-align: right;\n",
       "    }\n",
       "</style>\n",
       "<table border=\"1\" class=\"dataframe\">\n",
       "  <thead>\n",
       "    <tr style=\"text-align: right;\">\n",
       "      <th></th>\n",
       "      <th>df</th>\n",
       "      <th>sum_sq</th>\n",
       "      <th>mean_sq</th>\n",
       "      <th>F</th>\n",
       "      <th>PR(&gt;F)</th>\n",
       "    </tr>\n",
       "  </thead>\n",
       "  <tbody>\n",
       "    <tr>\n",
       "      <th>MINORITY</th>\n",
       "      <td>1.0</td>\n",
       "      <td>8.051805</td>\n",
       "      <td>8.051805</td>\n",
       "      <td>4.069719</td>\n",
       "      <td>0.060756</td>\n",
       "    </tr>\n",
       "    <tr>\n",
       "      <th>TEST</th>\n",
       "      <td>1.0</td>\n",
       "      <td>45.917904</td>\n",
       "      <td>45.917904</td>\n",
       "      <td>23.208829</td>\n",
       "      <td>0.000189</td>\n",
       "    </tr>\n",
       "    <tr>\n",
       "      <th>TEST:MINORITY</th>\n",
       "      <td>1.0</td>\n",
       "      <td>8.666073</td>\n",
       "      <td>8.666073</td>\n",
       "      <td>4.380196</td>\n",
       "      <td>0.052650</td>\n",
       "    </tr>\n",
       "    <tr>\n",
       "      <th>Residual</th>\n",
       "      <td>16.0</td>\n",
       "      <td>31.655473</td>\n",
       "      <td>1.978467</td>\n",
       "      <td>NaN</td>\n",
       "      <td>NaN</td>\n",
       "    </tr>\n",
       "  </tbody>\n",
       "</table>\n",
       "</div>"
      ],
      "text/plain": [
       "                 df     sum_sq    mean_sq          F    PR(>F)\n",
       "MINORITY        1.0   8.051805   8.051805   4.069719  0.060756\n",
       "TEST            1.0  45.917904  45.917904  23.208829  0.000189\n",
       "TEST:MINORITY   1.0   8.666073   8.666073   4.380196  0.052650\n",
       "Residual       16.0  31.655473   1.978467        NaN       NaN"
      ]
     },
     "execution_count": 13,
     "metadata": {},
     "output_type": "execute_result"
    }
   ],
   "source": [
    "sm.stats.anova_lm(res1)"
   ]
  },
  {
   "cell_type": "markdown",
   "metadata": {},
   "source": [
    "If we compare the ANOVA values above for the probability that observed variable coefficients would arise by chance, versus the Linear Regression values, we see they don't match.\n",
    "\n",
    "For eaxmple:\n",
    "\n",
    "* Linear Regression\n",
    "\n",
    "   ````TEST .... 0.068````\n",
    "\n",
    "\n",
    "* ANOVA\n",
    "\n",
    "    ```TEST .... 0.000189```\n",
    "    \n",
    "The best explanation I can find for the ANOVA algorithm (called Type III ANOVA) that produces matching probability values is:\n",
    "\n",
    "https://mcfromnz.wordpress.com/2011/03/02/anova-type-iiiiii-ss-explained/\n",
    "\n",
    "Basically, it's all in the order you compute the sum of squares when there is an interaction between the explanatory variables.\n",
    "\n",
    "We can run this varient of the ANOVA algorithm as below:"
   ]
  },
  {
   "cell_type": "code",
   "execution_count": 14,
   "metadata": {},
   "outputs": [
    {
     "data": {
      "text/html": [
       "<div>\n",
       "<style scoped>\n",
       "    .dataframe tbody tr th:only-of-type {\n",
       "        vertical-align: middle;\n",
       "    }\n",
       "\n",
       "    .dataframe tbody tr th {\n",
       "        vertical-align: top;\n",
       "    }\n",
       "\n",
       "    .dataframe thead th {\n",
       "        text-align: right;\n",
       "    }\n",
       "</style>\n",
       "<table border=\"1\" class=\"dataframe\">\n",
       "  <thead>\n",
       "    <tr style=\"text-align: right;\">\n",
       "      <th></th>\n",
       "      <th>sum_sq</th>\n",
       "      <th>df</th>\n",
       "      <th>F</th>\n",
       "      <th>PR(&gt;F)</th>\n",
       "    </tr>\n",
       "  </thead>\n",
       "  <tbody>\n",
       "    <tr>\n",
       "      <th>Intercept</th>\n",
       "      <td>7.250560</td>\n",
       "      <td>1.0</td>\n",
       "      <td>3.664736</td>\n",
       "      <td>0.073633</td>\n",
       "    </tr>\n",
       "    <tr>\n",
       "      <th>MINORITY</th>\n",
       "      <td>3.052180</td>\n",
       "      <td>1.0</td>\n",
       "      <td>1.542699</td>\n",
       "      <td>0.232115</td>\n",
       "    </tr>\n",
       "    <tr>\n",
       "      <th>TEST</th>\n",
       "      <td>7.594407</td>\n",
       "      <td>1.0</td>\n",
       "      <td>3.838531</td>\n",
       "      <td>0.067749</td>\n",
       "    </tr>\n",
       "    <tr>\n",
       "      <th>TEST:MINORITY</th>\n",
       "      <td>8.666073</td>\n",
       "      <td>1.0</td>\n",
       "      <td>4.380196</td>\n",
       "      <td>0.052650</td>\n",
       "    </tr>\n",
       "    <tr>\n",
       "      <th>Residual</th>\n",
       "      <td>31.655473</td>\n",
       "      <td>16.0</td>\n",
       "      <td>NaN</td>\n",
       "      <td>NaN</td>\n",
       "    </tr>\n",
       "  </tbody>\n",
       "</table>\n",
       "</div>"
      ],
      "text/plain": [
       "                  sum_sq    df         F    PR(>F)\n",
       "Intercept       7.250560   1.0  3.664736  0.073633\n",
       "MINORITY        3.052180   1.0  1.542699  0.232115\n",
       "TEST            7.594407   1.0  3.838531  0.067749\n",
       "TEST:MINORITY   8.666073   1.0  4.380196  0.052650\n",
       "Residual       31.655473  16.0       NaN       NaN"
      ]
     },
     "execution_count": 14,
     "metadata": {},
     "output_type": "execute_result"
    }
   ],
   "source": [
    "sm.stats.anova_lm(res1, typ=3)"
   ]
  },
  {
   "cell_type": "markdown",
   "metadata": {},
   "source": [
    "Compare this with the Linear Regression RegressionResults:"
   ]
  },
  {
   "cell_type": "code",
   "execution_count": 15,
   "metadata": {},
   "outputs": [
    {
     "data": {
      "text/plain": [
       "Intercept             0.073633\n",
       "MINORITY[T.1]         0.232115\n",
       "TEST                  0.067749\n",
       "TEST:MINORITY[T.1]    0.052650\n",
       "dtype: float64"
      ]
     },
     "execution_count": 15,
     "metadata": {},
     "output_type": "execute_result"
    }
   ],
   "source": [
    "res1.pvalues"
   ]
  },
  {
   "cell_type": "markdown",
   "metadata": {},
   "source": [
    "-----------\n",
    "## Example 2 for ANOVA\n",
    "\n",
    "The next dataset records the sodium content of a number of bear brands: for each brand a number of bottles were sampled\n",
    "\n",
    "### Read and Explore Dataset"
   ]
  },
  {
   "cell_type": "code",
   "execution_count": 69,
   "metadata": {},
   "outputs": [],
   "source": [
    "data = pd.read_fwf('../data/sodium.txt')"
   ]
  },
  {
   "cell_type": "code",
   "execution_count": 70,
   "metadata": {},
   "outputs": [
    {
     "data": {
      "text/html": [
       "<div>\n",
       "<style scoped>\n",
       "    .dataframe tbody tr th:only-of-type {\n",
       "        vertical-align: middle;\n",
       "    }\n",
       "\n",
       "    .dataframe tbody tr th {\n",
       "        vertical-align: top;\n",
       "    }\n",
       "\n",
       "    .dataframe thead th {\n",
       "        text-align: right;\n",
       "    }\n",
       "</style>\n",
       "<table border=\"1\" class=\"dataframe\">\n",
       "  <thead>\n",
       "    <tr style=\"text-align: right;\">\n",
       "      <th></th>\n",
       "      <th>sodium</th>\n",
       "      <th>brand</th>\n",
       "      <th>bottle</th>\n",
       "    </tr>\n",
       "  </thead>\n",
       "  <tbody>\n",
       "    <tr>\n",
       "      <th>0</th>\n",
       "      <td>24.4</td>\n",
       "      <td>1</td>\n",
       "      <td>1</td>\n",
       "    </tr>\n",
       "    <tr>\n",
       "      <th>1</th>\n",
       "      <td>22.6</td>\n",
       "      <td>1</td>\n",
       "      <td>2</td>\n",
       "    </tr>\n",
       "    <tr>\n",
       "      <th>2</th>\n",
       "      <td>23.8</td>\n",
       "      <td>1</td>\n",
       "      <td>3</td>\n",
       "    </tr>\n",
       "    <tr>\n",
       "      <th>3</th>\n",
       "      <td>22.0</td>\n",
       "      <td>1</td>\n",
       "      <td>4</td>\n",
       "    </tr>\n",
       "    <tr>\n",
       "      <th>4</th>\n",
       "      <td>24.5</td>\n",
       "      <td>1</td>\n",
       "      <td>5</td>\n",
       "    </tr>\n",
       "  </tbody>\n",
       "</table>\n",
       "</div>"
      ],
      "text/plain": [
       "   sodium  brand  bottle\n",
       "0    24.4      1       1\n",
       "1    22.6      1       2\n",
       "2    23.8      1       3\n",
       "3    22.0      1       4\n",
       "4    24.5      1       5"
      ]
     },
     "execution_count": 70,
     "metadata": {},
     "output_type": "execute_result"
    }
   ],
   "source": [
    "data.head()"
   ]
  },
  {
   "cell_type": "markdown",
   "metadata": {},
   "source": [
    "### Visualize Dataset\n",
    "We use ```pandas``` and Seaborn"
   ]
  },
  {
   "cell_type": "code",
   "execution_count": 71,
   "metadata": {},
   "outputs": [
    {
     "data": {
      "image/png": "[encoded data removed]",
      "text/plain": [
       "<Figure size 432x288 with 1 Axes>"
      ]
     },
     "metadata": {},
     "output_type": "display_data"
    }
   ],
   "source": [
    "_ = data['sodium'].hist()"
   ]
  },
  {
   "cell_type": "code",
   "execution_count": 73,
   "metadata": {},
   "outputs": [
    {
     "data": {
      "image/png": "[encoded data removed]",
      "text/plain": [
       "<Figure size 432x288 with 1 Axes>"
      ]
     },
     "metadata": {},
     "output_type": "display_data"
    }
   ],
   "source": [
    "_ = plt.plot(data['brand'], data['sodium'], 'o')\n",
    "_ = plt.xlabel('Brand')\n",
    "_ = plt.ylabel('Sodium')"
   ]
  },
  {
   "cell_type": "code",
   "execution_count": 84,
   "metadata": {},
   "outputs": [
    {
     "data": {
      "image/png": "[encoded data removed]",
      "text/plain": [
       "<Figure size 432x288 with 1 Axes>"
      ]
     },
     "metadata": {},
     "output_type": "display_data"
    }
   ],
   "source": [
    "_ = sns.distplot(\n",
    "    data['sodium'], rug=True, bins=10, kde=False\n",
    ")"
   ]
  },
  {
   "cell_type": "markdown",
   "metadata": {},
   "source": [
    "We now visualize the variability across brands"
   ]
  },
  {
   "cell_type": "code",
   "execution_count": 121,
   "metadata": {},
   "outputs": [
    {
     "data": {
      "image/png": "[encoded data removed]",
      "text/plain": [
       "<Figure size 432x288 with 1 Axes>"
      ]
     },
     "metadata": {},
     "output_type": "display_data"
    }
   ],
   "source": [
    "cmap = plt.cm.get_cmap('rainbow')\n",
    "\n",
    "for b in data['brand'].unique():\n",
    "    hist_y = data[data['brand'] == b]['sodium']\n",
    "    _ = sns.distplot(\n",
    "        hist_y,\n",
    "        bins=5,\n",
    "        kde=False,\n",
    "        label='Brand ' + str(b),\n",
    "        color=cmap(b / len(data['brand'].unique())),\n",
    "        hist_kws={'alpha': 0.8},\n",
    "    )\n",
    "# end for\n",
    "_ = plt.legend(loc='best')"
   ]
  },
  {
   "cell_type": "markdown",
   "metadata": {},
   "source": [
    "### Perform Linear Regression\n",
    "\n",
    "We start with a simple model in which the sodium in a sample depends only on the brand.  Either by the Linear Regression, or by the subsequent ANOVA, we find we can reject the Null Hypothesis that sodium content is independent of brand"
   ]
  },
  {
   "cell_type": "code",
   "execution_count": 106,
   "metadata": {},
   "outputs": [],
   "source": [
    "data['brand'] = data['brand'].astype('category')"
   ]
  },
  {
   "cell_type": "code",
   "execution_count": 30,
   "metadata": {},
   "outputs": [
    {
     "data": {
      "text/html": [
       "<table class=\"simpletable\">\n",
       "<caption>OLS Regression Results</caption>\n",
       "<tr>\n",
       "  <th>Dep. Variable:</th>         <td>sodium</td>      <th>  R-squared:         </th> <td>   0.966</td>\n",
       "</tr>\n",
       "<tr>\n",
       "  <th>Model:</th>                   <td>OLS</td>       <th>  Adj. R-squared:    </th> <td>   0.962</td>\n",
       "</tr>\n",
       "<tr>\n",
       "  <th>Method:</th>             <td>Least Squares</td>  <th>  F-statistic:       </th> <td>   238.7</td>\n",
       "</tr>\n",
       "<tr>\n",
       "  <th>Date:</th>             <td>Sun, 05 Apr 2020</td> <th>  Prob (F-statistic):</th> <td>1.08e-29</td>\n",
       "</tr>\n",
       "<tr>\n",
       "  <th>Time:</th>                 <td>21:26:12</td>     <th>  Log-Likelihood:    </th> <td> -56.885</td>\n",
       "</tr>\n",
       "<tr>\n",
       "  <th>No. Observations:</th>      <td>    48</td>      <th>  AIC:               </th> <td>   125.8</td>\n",
       "</tr>\n",
       "<tr>\n",
       "  <th>Df Residuals:</th>          <td>    42</td>      <th>  BIC:               </th> <td>   137.0</td>\n",
       "</tr>\n",
       "<tr>\n",
       "  <th>Df Model:</th>              <td>     5</td>      <th>                     </th>     <td> </td>   \n",
       "</tr>\n",
       "<tr>\n",
       "  <th>Covariance Type:</th>      <td>nonrobust</td>    <th>                     </th>     <td> </td>   \n",
       "</tr>\n",
       "</table>\n",
       "<table class=\"simpletable\">\n",
       "<tr>\n",
       "       <td></td>         <th>coef</th>     <th>std err</th>      <th>t</th>      <th>P>|t|</th>  <th>[0.025</th>    <th>0.975]</th>  \n",
       "</tr>\n",
       "<tr>\n",
       "  <th>Intercept</th>  <td>   23.6375</td> <td>    0.299</td> <td>   79.014</td> <td> 0.000</td> <td>   23.034</td> <td>   24.241</td>\n",
       "</tr>\n",
       "<tr>\n",
       "  <th>brand[T.2]</th> <td>  -12.9625</td> <td>    0.423</td> <td>  -30.639</td> <td> 0.000</td> <td>  -13.816</td> <td>  -12.109</td>\n",
       "</tr>\n",
       "<tr>\n",
       "  <th>brand[T.3]</th> <td>   -4.3000</td> <td>    0.423</td> <td>  -10.164</td> <td> 0.000</td> <td>   -5.154</td> <td>   -3.446</td>\n",
       "</tr>\n",
       "<tr>\n",
       "  <th>brand[T.4]</th> <td>   -6.1375</td> <td>    0.423</td> <td>  -14.507</td> <td> 0.000</td> <td>   -6.991</td> <td>   -5.284</td>\n",
       "</tr>\n",
       "<tr>\n",
       "  <th>brand[T.5]</th> <td>   -9.4250</td> <td>    0.423</td> <td>  -22.278</td> <td> 0.000</td> <td>  -10.279</td> <td>   -8.571</td>\n",
       "</tr>\n",
       "<tr>\n",
       "  <th>brand[T.6]</th> <td>   -3.2250</td> <td>    0.423</td> <td>   -7.623</td> <td> 0.000</td> <td>   -4.079</td> <td>   -2.371</td>\n",
       "</tr>\n",
       "</table>\n",
       "<table class=\"simpletable\">\n",
       "<tr>\n",
       "  <th>Omnibus:</th>       <td> 2.951</td> <th>  Durbin-Watson:     </th> <td>   2.705</td>\n",
       "</tr>\n",
       "<tr>\n",
       "  <th>Prob(Omnibus):</th> <td> 0.229</td> <th>  Jarque-Bera (JB):  </th> <td>   1.915</td>\n",
       "</tr>\n",
       "<tr>\n",
       "  <th>Skew:</th>          <td>-0.271</td> <th>  Prob(JB):          </th> <td>   0.384</td>\n",
       "</tr>\n",
       "<tr>\n",
       "  <th>Kurtosis:</th>      <td> 2.185</td> <th>  Cond. No.          </th> <td>    6.85</td>\n",
       "</tr>\n",
       "</table><br/><br/>Warnings:<br/>[1] Standard Errors assume that the covariance matrix of the errors is correctly specified."
      ],
      "text/plain": [
       "<class 'statsmodels.iolib.summary.Summary'>\n",
       "\"\"\"\n",
       "                            OLS Regression Results                            \n",
       "==============================================================================\n",
       "Dep. Variable:                 sodium   R-squared:                       0.966\n",
       "Model:                            OLS   Adj. R-squared:                  0.962\n",
       "Method:                 Least Squares   F-statistic:                     238.7\n",
       "Date:                Sun, 05 Apr 2020   Prob (F-statistic):           1.08e-29\n",
       "Time:                        21:26:12   Log-Likelihood:                -56.885\n",
       "No. Observations:                  48   AIC:                             125.8\n",
       "Df Residuals:                      42   BIC:                             137.0\n",
       "Df Model:                           5                                         \n",
       "Covariance Type:            nonrobust                                         \n",
       "==============================================================================\n",
       "                 coef    std err          t      P>|t|      [0.025      0.975]\n",
       "------------------------------------------------------------------------------\n",
       "Intercept     23.6375      0.299     79.014      0.000      23.034      24.241\n",
       "brand[T.2]   -12.9625      0.423    -30.639      0.000     -13.816     -12.109\n",
       "brand[T.3]    -4.3000      0.423    -10.164      0.000      -5.154      -3.446\n",
       "brand[T.4]    -6.1375      0.423    -14.507      0.000      -6.991      -5.284\n",
       "brand[T.5]    -9.4250      0.423    -22.278      0.000     -10.279      -8.571\n",
       "brand[T.6]    -3.2250      0.423     -7.623      0.000      -4.079      -2.371\n",
       "==============================================================================\n",
       "Omnibus:                        2.951   Durbin-Watson:                   2.705\n",
       "Prob(Omnibus):                  0.229   Jarque-Bera (JB):                1.915\n",
       "Skew:                          -0.271   Prob(JB):                        0.384\n",
       "Kurtosis:                       2.185   Cond. No.                         6.85\n",
       "==============================================================================\n",
       "\n",
       "Warnings:\n",
       "[1] Standard Errors assume that the covariance matrix of the errors is correctly specified.\n",
       "\"\"\""
      ]
     },
     "execution_count": 30,
     "metadata": {},
     "output_type": "execute_result"
    }
   ],
   "source": [
    "res3 = ols('sodium ~ brand ', data=data).fit()\n",
    "res3.summary()"
   ]
  },
  {
   "cell_type": "code",
   "execution_count": 31,
   "metadata": {},
   "outputs": [
    {
     "data": {
      "text/html": [
       "<div>\n",
       "<style scoped>\n",
       "    .dataframe tbody tr th:only-of-type {\n",
       "        vertical-align: middle;\n",
       "    }\n",
       "\n",
       "    .dataframe tbody tr th {\n",
       "        vertical-align: top;\n",
       "    }\n",
       "\n",
       "    .dataframe thead th {\n",
       "        text-align: right;\n",
       "    }\n",
       "</style>\n",
       "<table border=\"1\" class=\"dataframe\">\n",
       "  <thead>\n",
       "    <tr style=\"text-align: right;\">\n",
       "      <th></th>\n",
       "      <th>df</th>\n",
       "      <th>sum_sq</th>\n",
       "      <th>mean_sq</th>\n",
       "      <th>F</th>\n",
       "      <th>PR(&gt;F)</th>\n",
       "    </tr>\n",
       "  </thead>\n",
       "  <tbody>\n",
       "    <tr>\n",
       "      <th>brand</th>\n",
       "      <td>5.0</td>\n",
       "      <td>854.529167</td>\n",
       "      <td>170.905833</td>\n",
       "      <td>238.711174</td>\n",
       "      <td>1.083746e-29</td>\n",
       "    </tr>\n",
       "    <tr>\n",
       "      <th>Residual</th>\n",
       "      <td>42.0</td>\n",
       "      <td>30.070000</td>\n",
       "      <td>0.715952</td>\n",
       "      <td>NaN</td>\n",
       "      <td>NaN</td>\n",
       "    </tr>\n",
       "  </tbody>\n",
       "</table>\n",
       "</div>"
      ],
      "text/plain": [
       "            df      sum_sq     mean_sq           F        PR(>F)\n",
       "brand      5.0  854.529167  170.905833  238.711174  1.083746e-29\n",
       "Residual  42.0   30.070000    0.715952         NaN           NaN"
      ]
     },
     "execution_count": 31,
     "metadata": {},
     "output_type": "execute_result"
    }
   ],
   "source": [
    "sm.stats.anova_lm(res3)"
   ]
  },
  {
   "cell_type": "code",
   "execution_count": 32,
   "metadata": {},
   "outputs": [
    {
     "data": {
      "text/plain": [
       "Intercept     23.6375\n",
       "brand[T.2]   -12.9625\n",
       "brand[T.3]    -4.3000\n",
       "brand[T.4]    -6.1375\n",
       "brand[T.5]    -9.4250\n",
       "brand[T.6]    -3.2250\n",
       "dtype: float64"
      ]
     },
     "execution_count": 32,
     "metadata": {},
     "output_type": "execute_result"
    }
   ],
   "source": [
    "res3.params"
   ]
  },
  {
   "cell_type": "markdown",
   "metadata": {},
   "source": [
    "To find the brands with a sodium level significantly different from the global average:"
   ]
  },
  {
   "cell_type": "code",
   "execution_count": 37,
   "metadata": {},
   "outputs": [
    {
     "data": {
      "text/html": [
       "<table class=\"simpletable\">\n",
       "<caption>OLS Regression Results</caption>\n",
       "<tr>\n",
       "  <th>Dep. Variable:</th>           <td>na</td>        <th>  R-squared:         </th> <td>   0.966</td>\n",
       "</tr>\n",
       "<tr>\n",
       "  <th>Model:</th>                   <td>OLS</td>       <th>  Adj. R-squared:    </th> <td>   0.962</td>\n",
       "</tr>\n",
       "<tr>\n",
       "  <th>Method:</th>             <td>Least Squares</td>  <th>  F-statistic:       </th> <td>   238.7</td>\n",
       "</tr>\n",
       "<tr>\n",
       "  <th>Date:</th>             <td>Sun, 05 Apr 2020</td> <th>  Prob (F-statistic):</th> <td>1.08e-29</td>\n",
       "</tr>\n",
       "<tr>\n",
       "  <th>Time:</th>                 <td>21:30:24</td>     <th>  Log-Likelihood:    </th> <td> -56.885</td>\n",
       "</tr>\n",
       "<tr>\n",
       "  <th>No. Observations:</th>      <td>    48</td>      <th>  AIC:               </th> <td>   125.8</td>\n",
       "</tr>\n",
       "<tr>\n",
       "  <th>Df Residuals:</th>          <td>    42</td>      <th>  BIC:               </th> <td>   137.0</td>\n",
       "</tr>\n",
       "<tr>\n",
       "  <th>Df Model:</th>              <td>     5</td>      <th>                     </th>     <td> </td>   \n",
       "</tr>\n",
       "<tr>\n",
       "  <th>Covariance Type:</th>      <td>nonrobust</td>    <th>                     </th>     <td> </td>   \n",
       "</tr>\n",
       "</table>\n",
       "<table class=\"simpletable\">\n",
       "<tr>\n",
       "      <td></td>        <th>coef</th>     <th>std err</th>      <th>t</th>      <th>P>|t|</th>  <th>[0.025</th>    <th>0.975]</th>  \n",
       "</tr>\n",
       "<tr>\n",
       "  <th>brand[1]</th> <td>    6.0083</td> <td>    0.299</td> <td>   20.084</td> <td> 0.000</td> <td>    5.405</td> <td>    6.612</td>\n",
       "</tr>\n",
       "<tr>\n",
       "  <th>brand[2]</th> <td>   -6.9542</td> <td>    0.299</td> <td>  -23.246</td> <td> 0.000</td> <td>   -7.558</td> <td>   -6.350</td>\n",
       "</tr>\n",
       "<tr>\n",
       "  <th>brand[3]</th> <td>    1.7083</td> <td>    0.299</td> <td>    5.711</td> <td> 0.000</td> <td>    1.105</td> <td>    2.312</td>\n",
       "</tr>\n",
       "<tr>\n",
       "  <th>brand[4]</th> <td>   -0.1292</td> <td>    0.299</td> <td>   -0.432</td> <td> 0.668</td> <td>   -0.733</td> <td>    0.475</td>\n",
       "</tr>\n",
       "<tr>\n",
       "  <th>brand[5]</th> <td>   -3.4167</td> <td>    0.299</td> <td>  -11.421</td> <td> 0.000</td> <td>   -4.020</td> <td>   -2.813</td>\n",
       "</tr>\n",
       "<tr>\n",
       "  <th>brand[6]</th> <td>    2.7833</td> <td>    0.299</td> <td>    9.304</td> <td> 0.000</td> <td>    2.180</td> <td>    3.387</td>\n",
       "</tr>\n",
       "</table>\n",
       "<table class=\"simpletable\">\n",
       "<tr>\n",
       "  <th>Omnibus:</th>       <td> 2.951</td> <th>  Durbin-Watson:     </th> <td>   2.705</td>\n",
       "</tr>\n",
       "<tr>\n",
       "  <th>Prob(Omnibus):</th> <td> 0.229</td> <th>  Jarque-Bera (JB):  </th> <td>   1.915</td>\n",
       "</tr>\n",
       "<tr>\n",
       "  <th>Skew:</th>          <td>-0.271</td> <th>  Prob(JB):          </th> <td>   0.384</td>\n",
       "</tr>\n",
       "<tr>\n",
       "  <th>Kurtosis:</th>      <td> 2.185</td> <th>  Cond. No.          </th> <td>    1.00</td>\n",
       "</tr>\n",
       "</table><br/><br/>Warnings:<br/>[1] Standard Errors assume that the covariance matrix of the errors is correctly specified."
      ],
      "text/plain": [
       "<class 'statsmodels.iolib.summary.Summary'>\n",
       "\"\"\"\n",
       "                            OLS Regression Results                            \n",
       "==============================================================================\n",
       "Dep. Variable:                     na   R-squared:                       0.966\n",
       "Model:                            OLS   Adj. R-squared:                  0.962\n",
       "Method:                 Least Squares   F-statistic:                     238.7\n",
       "Date:                Sun, 05 Apr 2020   Prob (F-statistic):           1.08e-29\n",
       "Time:                        21:30:24   Log-Likelihood:                -56.885\n",
       "No. Observations:                  48   AIC:                             125.8\n",
       "Df Residuals:                      42   BIC:                             137.0\n",
       "Df Model:                           5                                         \n",
       "Covariance Type:            nonrobust                                         \n",
       "==============================================================================\n",
       "                 coef    std err          t      P>|t|      [0.025      0.975]\n",
       "------------------------------------------------------------------------------\n",
       "brand[1]       6.0083      0.299     20.084      0.000       5.405       6.612\n",
       "brand[2]      -6.9542      0.299    -23.246      0.000      -7.558      -6.350\n",
       "brand[3]       1.7083      0.299      5.711      0.000       1.105       2.312\n",
       "brand[4]      -0.1292      0.299     -0.432      0.668      -0.733       0.475\n",
       "brand[5]      -3.4167      0.299    -11.421      0.000      -4.020      -2.813\n",
       "brand[6]       2.7833      0.299      9.304      0.000       2.180       3.387\n",
       "==============================================================================\n",
       "Omnibus:                        2.951   Durbin-Watson:                   2.705\n",
       "Prob(Omnibus):                  0.229   Jarque-Bera (JB):                1.915\n",
       "Skew:                          -0.271   Prob(JB):                        0.384\n",
       "Kurtosis:                       2.185   Cond. No.                         1.00\n",
       "==============================================================================\n",
       "\n",
       "Warnings:\n",
       "[1] Standard Errors assume that the covariance matrix of the errors is correctly specified.\n",
       "\"\"\""
      ]
     },
     "execution_count": 37,
     "metadata": {},
     "output_type": "execute_result"
    }
   ],
   "source": [
    "#  create a new column for sodium difference from mean\n",
    "data['na'] = data['sodium'] - data['sodium'].mean()\n",
    "\n",
    "res3x = ols('na ~ brand -1', data=data).fit()\n",
    "res3x.summary()"
   ]
  },
  {
   "cell_type": "markdown",
   "metadata": {},
   "source": [
    "We can see that Brand 4 is close to the global average, the other brands are not."
   ]
  },
  {
   "cell_type": "markdown",
   "metadata": {},
   "source": [
    "-----------"
   ]
  },
  {
   "cell_type": "markdown",
   "metadata": {},
   "source": [
    "We can visualize the spread of values across brands"
   ]
  },
  {
   "cell_type": "code",
   "execution_count": 27,
   "metadata": {},
   "outputs": [
    {
     "data": {
      "text/plain": [
       "[23.63750000000002,\n",
       " 10.675000000000011,\n",
       " 19.33750000000001,\n",
       " 17.50000000000001,\n",
       " 14.212500000000013,\n",
       " 20.41250000000001]"
      ]
     },
     "execution_count": 27,
     "metadata": {},
     "output_type": "execute_result"
    }
   ],
   "source": [
    "brand_means = [\n",
    "    res3.predict({'brand': b})[0]\n",
    "    for b in data['brand'].unique()\n",
    "]\n",
    "brand_means"
   ]
  },
  {
   "cell_type": "code",
   "execution_count": 142,
   "metadata": {},
   "outputs": [
    {
     "data": {
      "image/png": "[encoded data removed]",
      "text/plain": [
       "<Figure size 432x288 with 1 Axes>"
      ]
     },
     "metadata": {},
     "output_type": "display_data"
    }
   ],
   "source": [
    "_ = plt.plot(\n",
    "    data['brand'], data['sodium'], 'o', label='Data'\n",
    ")\n",
    "_ = plt.plot(\n",
    "    data['brand'].unique(),\n",
    "    brand_means,\n",
    "    'r*',\n",
    "    label='Brand Mean',\n",
    "    markersize=10,\n",
    "    alpha=1,\n",
    ")\n",
    "_ = plt.xlabel('Brand')\n",
    "_ = plt.ylabel('Sodium')\n",
    "\n",
    "_ = plt.axhline(\n",
    "    data['sodium'].mean(), color='k', label='Global Mean'\n",
    ")\n",
    "_ = plt.legend(loc='best')"
   ]
  },
  {
   "cell_type": "markdown",
   "metadata": {},
   "source": [
    "-----\n",
    "### 'Mixed Effects'\n",
    "\n",
    "\"Mixed Effects\" describe situations where we have repeated measurements on the item under consideration (e.g. repeated sampling of different bottles with each brand).  We have different model fitting function calls for this situation.\n",
    "\n",
    "We now move to a more detailed model\n",
    "\n",
    "```Na(b,s) ~ Na.global + Na.brand_offset(b) + error(b,s)```\n",
    "\n",
    "where b runs over all brands, s runs over all samples within a brand. The model is one having a global sodium mean, with a different offset for each brand.  For each sample within a brand, there a measurement error.  We assume that the measurement error is Normally distributed, with a common varience across all brands and samples: i.e. ```error(b,s)``` is ```N(0, sigma)```\n",
    "\n",
    "In this model, observations are __not__ independent from every other observation."
   ]
  },
  {
   "cell_type": "markdown",
   "metadata": {},
   "source": [
    "-----\n",
    "#### Perform Maximum Likelihood Estimation\n",
    "\n",
    "Under the Null Hypothesis, all brands are alike, so the ```Na.brand_offset(b)``` values above (in our model) are zero.  We fit a model for this  (i.e. sodium content is a constant, independent of brand)"
   ]
  },
  {
   "cell_type": "code",
   "execution_count": 47,
   "metadata": {},
   "outputs": [
    {
     "data": {
      "text/html": [
       "<table class=\"simpletable\">\n",
       "<tr>\n",
       "       <td>Model:</td>       <td>MixedLM</td> <td>Dependent Variable:</td>  <td>sodium</td> \n",
       "</tr>\n",
       "<tr>\n",
       "  <td>No. Observations:</td>   <td>48</td>          <td>Method:</td>         <td>REML</td>  \n",
       "</tr>\n",
       "<tr>\n",
       "     <td>No. Groups:</td>       <td>6</td>          <td>Scale:</td>         <td>0.7160</td> \n",
       "</tr>\n",
       "<tr>\n",
       "  <td>Min. group size:</td>     <td>8</td>        <td>Likelihood:</td>     <td>-74.4615</td>\n",
       "</tr>\n",
       "<tr>\n",
       "  <td>Max. group size:</td>     <td>8</td>        <td>Converged:</td>         <td>Yes</td>  \n",
       "</tr>\n",
       "<tr>\n",
       "  <td>Mean group size:</td>    <td>8.0</td>            <td></td>               <td></td>    \n",
       "</tr>\n",
       "</table>\n",
       "<table class=\"simpletable\">\n",
       "<tr>\n",
       "      <td></td>       <th>Coef.</th> <th>Std.Err.</th>   <th>z</th>   <th>P>|z|</th> <th>[0.025</th> <th>0.975]</th>\n",
       "</tr>\n",
       "<tr>\n",
       "  <th>Intercept</th> <td>17.629</td>   <td>1.887</td>  <td>9.344</td> <td>0.000</td> <td>13.931</td> <td>21.327</td>\n",
       "</tr>\n",
       "<tr>\n",
       "  <th>Group Var</th> <td>21.267</td>  <td>16.880</td>    <td></td>      <td></td>       <td></td>       <td></td>   \n",
       "</tr>\n",
       "</table>"
      ],
      "text/plain": [
       "<class 'statsmodels.iolib.summary2.Summary'>\n",
       "\"\"\"\n",
       "        Mixed Linear Model Regression Results\n",
       "======================================================\n",
       "Model:            MixedLM Dependent Variable: sodium  \n",
       "No. Observations: 48      Method:             REML    \n",
       "No. Groups:       6       Scale:              0.7160  \n",
       "Min. group size:  8       Likelihood:         -74.4615\n",
       "Max. group size:  8       Converged:          Yes     \n",
       "Mean group size:  8.0                                 \n",
       "------------------------------------------------------\n",
       "             Coef.  Std.Err.   z   P>|z| [0.025 0.975]\n",
       "------------------------------------------------------\n",
       "Intercept    17.629    1.887 9.344 0.000 13.931 21.327\n",
       "Group Var    21.267   16.880                          \n",
       "======================================================\n",
       "\n",
       "\"\"\""
      ]
     },
     "execution_count": 47,
     "metadata": {},
     "output_type": "execute_result"
    }
   ],
   "source": [
    "data = pd.read_fwf('../data/sodium.txt')\n",
    "data['brand'] = data['brand'].astype('category')\n",
    "res4 = mixedlm(\n",
    "    'sodium ~ 1', groups=data['brand'], data=data\n",
    ").fit()\n",
    "res4.summary()"
   ]
  },
  {
   "cell_type": "markdown",
   "metadata": {},
   "source": [
    "We can reject the Null Hypothesis.  We can the 5% confidence limits on sodium content in this model, using the standard error of the intercept from the covariance matrix, as below"
   ]
  },
  {
   "cell_type": "code",
   "execution_count": 171,
   "metadata": {},
   "outputs": [
    {
     "data": {
      "text/plain": [
       "(13.821797611112494, 17.629166666666663, 21.43653572222083)"
      ]
     },
     "execution_count": 171,
     "metadata": {},
     "output_type": "execute_result"
    }
   ],
   "source": [
    "int_std_err = np.sqrt(res4.cov_params().iloc[0, 0])\n",
    "\n",
    "conf_int = (\n",
    "    mu - int_std_err * stats.t.ppf(0.975, 42),\n",
    "    mu,\n",
    "    mu + int_std_err * stats.t.ppf(0.975, 42),\n",
    ")\n",
    "conf_int"
   ]
  },
  {
   "cell_type": "code",
   "execution_count": 169,
   "metadata": {},
   "outputs": [
    {
     "data": {
      "image/png": "[encoded data removed]",
      "text/plain": [
       "<Figure size 432x288 with 1 Axes>"
      ]
     },
     "metadata": {},
     "output_type": "display_data"
    }
   ],
   "source": [
    "_ = plt.plot(\n",
    "    data['brand'], data['sodium'], 'o', label='Data'\n",
    ")\n",
    "_ = plt.plot(\n",
    "    data['brand'].unique(),\n",
    "    brand_means,\n",
    "    'r*',\n",
    "    label='Brand Mean',\n",
    "    markersize=10,\n",
    "    alpha=1,\n",
    ")\n",
    "_ = plt.xlabel('Brand')\n",
    "_ = plt.ylabel('Sodium')\n",
    "\n",
    "_ = plt.axhline(\n",
    "    data['sodium'].mean(), color='k', label='Global Mean'\n",
    ")\n",
    "_ = plt.axhline(\n",
    "    conf_int[0], color='g', label='Lower 95% Bound'\n",
    ")\n",
    "_ = plt.axhline(\n",
    "    conf_int[2], color='b', label='Upper 95% Bound'\n",
    ")\n",
    "\n",
    "_ = plt.legend(loc='lower right')"
   ]
  },
  {
   "cell_type": "markdown",
   "metadata": {},
   "source": [
    "We see that the first two brands may well be outliers"
   ]
  },
  {
   "cell_type": "markdown",
   "metadata": {},
   "source": [
    "-----\n",
    "## Environment\n"
   ]
  },
  {
   "cell_type": "code",
   "execution_count": 159,
   "metadata": {},
   "outputs": [
    {
     "name": "stdout",
     "output_type": "stream",
     "text": [
      "numpy       1.15.4\n",
      "pandas      1.0.0\n",
      "statsmodels 0.9.0\n",
      "scipy       1.1.0\n",
      "matplotlib  3.0.2\n",
      "seaborn     0.9.0\n",
      "host name: DESKTOP-SODFUN6\n",
      "2020-03-29T14:58:55+10:00\n",
      "\n",
      "CPython 3.7.1\n",
      "IPython 7.2.0\n",
      "\n",
      "compiler   : MSC v.1915 64 bit (AMD64)\n",
      "system     : Windows\n",
      "release    : 10\n",
      "machine    : AMD64\n",
      "processor  : Intel64 Family 6 Model 94 Stepping 3, GenuineIntel\n",
      "CPU cores  : 8\n",
      "interpreter: 64bit\n"
     ]
    }
   ],
   "source": [
    "%watermark -h -iv\n",
    "%watermark"
   ]
  }
 ],
 "metadata": {
  "kernelspec": {
   "display_name": "Python 3",
   "language": "python",
   "name": "python3"
  },
  "language_info": {
   "codemirror_mode": {
    "name": "ipython",
    "version": 3
   },
   "file_extension": ".py",
   "mimetype": "text/x-python",
   "name": "python",
   "nbconvert_exporter": "python",
   "pygments_lexer": "ipython3",
   "version": "3.7.1"
  }
 },
 "nbformat": 4,
 "nbformat_minor": 4
}
