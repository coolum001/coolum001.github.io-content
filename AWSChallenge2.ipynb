{
 "cells": [
  {
   "cell_type": "markdown",
   "metadata": {},
   "source": [
    "# AWS Cloud Resume Challenge: Part 2"
   ]
  },
  {
   "cell_type": "markdown",
   "metadata": {},
   "source": [
    "---\n",
    "## Preface / Initialization\n",
    "\n",
    "Generate the graphics used in this report"
   ]
  },
  {
   "cell_type": "code",
   "execution_count": 19,
   "metadata": {},
   "outputs": [],
   "source": [
    "!dot -o images/arch-02.svg -T svg arch-02.txt"
   ]
  },
  {
   "cell_type": "code",
   "execution_count": 20,
   "metadata": {},
   "outputs": [],
   "source": [
    "!dot -o images/arch-03.svg -T svg arch-03.txt"
   ]
  },
  {
   "cell_type": "code",
   "execution_count": 21,
   "metadata": {},
   "outputs": [],
   "source": [
    "!dot -o images/arch-04.svg -T svg arch-04.txt"
   ]
  },
  {
   "cell_type": "markdown",
   "metadata": {},
   "source": [
    "-------\n",
    "## Introduction\n",
    "\n",
    "I decided to respond to the Cloud Resume Challenge.  This was a challenge to put your resume up on the Internet, in a fully cloud-enabled way, using Amazon Web Services (AWS) offerings  (see https://cloudresumechallenge.dev/).  I found it interesting, a little bit challenging, and am learning more about AWS.\n",
    "\n",
    "### Previously\n",
    "\n",
    "In the first part, I successfully created an AWS S3 Bucket, and stored my HTML and CSS Content there.  Then I created a Domain Name via AWS Route53 specifically for the resume (see https://donrcameron-cloudresume.com/), and pointed the Domain Name DNS resolution to a  CloudFront entrypoint.  CloudFront then acted as an Edge cache for my S3 Bucket Content.  CloudFront was instructed to only allow HTTPS access (redirecting HTTP traffic), so I needed to use AWS Certificate Manager to create my SSL certificates.\n",
    "\n",
    "### The Next Steps\n",
    "\n",
    "In this part, the requirement \n",
    "calls for a page-load counter.  I use a Javascript script to access an AWS Lambda via AWS Gateway API. The Lambda reads a counter from a DymamoDB database, increment and updates the counter, and returns the counter to the Gateway API.  The Javascript script get the counter, and writes it into a field in the webpage."
   ]
  },
  {
   "cell_type": "markdown",
   "metadata": {},
   "source": [
    "![](images/arch-02.svg)"
   ]
  },
  {
   "cell_type": "markdown",
   "metadata": {},
   "source": [
    "----------\n",
    "## DynamoDB Database\n",
    "\n",
    "The database design was simplicity personified.  I wanted just one integer to be stored persistently, to be updated when needed.\n",
    "\n",
    "Naturally, there were some decisions to be made:  the first of which was \"Which region should store the database?\".  I evenetually decided to use the Second Asia-Pacific SouthEast Region (read Sydney).  This is the nearest to where I am located, and this is just a vanity project after all.\n",
    "\n",
    "I also decided to generalize the database a trifle, and support loading counters for a range of webpages and applications.  So the primary key is the application or webpage name, and the counter is stored in ```loadcount```.  I learnt the hard way that in DataBase land, ```count``` is a reserved word.\n"
   ]
  },
  {
   "cell_type": "markdown",
   "metadata": {},
   "source": [
    "![](images/arch-03.svg)"
   ]
  },
  {
   "cell_type": "markdown",
   "metadata": {},
   "source": [
    "The AWS Console view of the table is below."
   ]
  },
  {
   "cell_type": "markdown",
   "metadata": {},
   "source": [
    "![](images/DynamoDB-1.png)\n",
    "\n",
    "[Larger image of above](images/DynamoDB-1.png)"
   ]
  },
  {
   "cell_type": "markdown",
   "metadata": {},
   "source": [
    "The AWS Console view of the contents is as below.  I have only one counter running (```ResumeApp```), and at the time of this snapshot, it had been downloaded 17 times."
   ]
  },
  {
   "cell_type": "markdown",
   "metadata": {},
   "source": [
    "![](images/DynamoDB-2.png)\n",
    "\n",
    "[Larger image of above](images/DynamoDB-2.png)"
   ]
  },
  {
   "cell_type": "markdown",
   "metadata": {},
   "source": [
    "---------------\n",
    "## Lambda\n",
    "\n",
    "The next step is for a AWS lambda (when triggered) to read the database, and return the current value to the caller after incrementing the value and rewriting to the database.\n",
    "\n",
    "We can drill down into the Python code via the AWS Console.  Again, be sure to set the correct region.  The first screen shows us all our Lambda Functions we have defined."
   ]
  },
  {
   "cell_type": "markdown",
   "metadata": {},
   "source": [
    "![](images/Lambda-1.png)\n",
    "[Larger image of above](images/Lambda-1.png)"
   ]
  },
  {
   "cell_type": "markdown",
   "metadata": {},
   "source": [
    "Drilling down to our Lambda for the Challenge, we get\n",
    "\n",
    "![](images/Lambda-2.png)"
   ]
  },
  {
   "cell_type": "markdown",
   "metadata": {},
   "source": [
    "[Larger image of above](images/Lambda-2.png)"
   ]
  },
  {
   "cell_type": "markdown",
   "metadata": {},
   "source": [
    "The actual code is:\n",
    "\n",
    "``` python\n",
    "import json\n",
    "\n",
    "import boto3\n",
    "\n",
    "dynamodb = boto3.resource('dynamodb')\n",
    "table = dynamodb.Table('visitcount')\n",
    "\n",
    "\n",
    "def lambda_handler(event, context):\n",
    "    \n",
    "    response = table.get_item(Key= {'appname' : 'ResumeApp'} )\n",
    "    \n",
    "    count = response[\"Item\"][\"loadcount\"]\n",
    "    print(\"Get Response = \", response)\n",
    "    print( \"Count = \", count)\n",
    "    \n",
    "    # increment string version of visit count\n",
    "    new_count = str(int(count)+1)\n",
    "    response = table.update_item(\n",
    "        Key={'appname': 'ResumeApp'},\n",
    "        UpdateExpression='set loadcount = :c',\n",
    "        ExpressionAttributeValues={':c': new_count},\n",
    "        ReturnValues='UPDATED_NEW'\n",
    "        )\n",
    "    \n",
    "    print(\"Update Response =  \", response)\n",
    "    return {\n",
    "        'statusCode': 200,\n",
    "        'body': new_count\n",
    "    }\n",
    "#end lambda_handler\n",
    "```"
   ]
  },
  {
   "cell_type": "markdown",
   "metadata": {},
   "source": [
    "```boto3``` is the AWS Python support library.  We initialize by getting the ```dynbamodb``` resource, and then getting our table within ```dynamodb```.\n",
    "\n",
    "Hitting the ```Test``` button gives us:\n",
    "\n",
    "```\n",
    "Execution result: succeeded(logs)\n",
    "Details\n",
    "The area below shows the result returned by your function execution. Learn more about returning results from your function.\n",
    "{\n",
    "  \"statusCode\": 200,\n",
    "  \"body\": \"18\"\n",
    "}\n",
    "Summary\n",
    "```\n",
    "\n",
    "and in our logs we have:\n",
    "\n",
    "```\n",
    "Log output\n",
    "The section below shows the logging calls in your code. These correspond to a single row within the CloudWatch log group corresponding to this Lambda function. Click here to view the CloudWatch log group.\n",
    "START RequestId: 725ae498-fcf1-4f03-8f3a-2bf1474aaa79 Version: $LATEST\n",
    "Get Response =  {'Item': {'appname': 'ResumeApp', 'loadcount': '17'}, ...\n",
    "Count =  17\n",
    "Update Response =   {'Attributes': {'loadcount': '18'}, ...\n",
    "\n",
    "```"
   ]
  },
  {
   "cell_type": "markdown",
   "metadata": {},
   "source": [
    "In this current design, we have hard-coded the App Name in the Lambda, so there is no need for any parameter to be passed in.  The next iteration would have the counter name to be a parameter to be passed in, to select the correct row in the database."
   ]
  },
  {
   "cell_type": "markdown",
   "metadata": {},
   "source": [
    "Taking out the debug code, we get:\n",
    "\n",
    "``` python\n",
    "import json\n",
    "\n",
    "import boto3\n",
    "\n",
    "dynamodb = boto3.resource('dynamodb')\n",
    "table = dynamodb.Table('visitcount')\n",
    "\n",
    "def lambda_handler(event, context):\n",
    "    \n",
    "    response = table.get_item(Key= {'appname' : 'ResumeApp'} )\n",
    "    count = response[\"Item\"][\"loadcount\"]\n",
    "    \n",
    "    # increment string version of visit count\n",
    "    new_count = str(int(count)+1)\n",
    "    response = table.update_item(\n",
    "        Key={'appname': 'ResumeApp'},\n",
    "        UpdateExpression='set loadcount = :c',\n",
    "        ExpressionAttributeValues={':c': new_count},\n",
    "        ReturnValues='UPDATED_NEW'\n",
    "        )\n",
    "    \n",
    "    return {\n",
    "        'statusCode': 200,\n",
    "        'body': new_count\n",
    "    }\n",
    "#end lambda_handler\n",
    "```"
   ]
  },
  {
   "cell_type": "markdown",
   "metadata": {},
   "source": [
    "-------------\n",
    "## Browser Code\n",
    "\n",
    "To jump to the other end of the chain, the browser script that calls the Lambda function (strictly speaking, calls the AWS Gateway API that triggers the Lambda) is shown below:\n",
    "\n",
    "``` javascript\n",
    "<script>\n",
    "    function getLoadCount(){\n",
    "\n",
    "        // call an AWS gateway API, that then calls an AWS Lambda\n",
    "        // to read and then update AWS DynamoDB item showing load count\n",
    "\n",
    "        // Note call is synchronous, delays should be minimal\n",
    "        var req = new XMLHttpRequest();  \n",
    "        req.open('GET', \n",
    "        \"https://cimk9zx0ch.execute-api.ap-southeast-2.amazonaws.com/beta\", \n",
    "        false);   \n",
    "        req.send();  \n",
    "        if(req.status == 200)\n",
    "            {  \n",
    "                len = req.responseText.length;\n",
    "                // response text has opening and closing double quotes\n",
    "                console.log(req.responseText.substring(1, len-1));\n",
    "                // set field in footer\n",
    "                document.getElementById(\"loadcount\").textContent = \n",
    "                    req.responseText.substring(10, len-2);\n",
    "            }\n",
    "        else {\n",
    "            // NOT OK response, so log in console\n",
    "            console.log(req.status)\n",
    "        }//end if\n",
    "    }// end getLoadCount\n",
    "\n",
    "    // read and write visit count into footer, then increment count in DB\n",
    "    window.onload = function(){\n",
    "\n",
    "            // side effects\n",
    "            // getLoadCount() updates field in footer, increments count in DB\n",
    "            getLoadCount();\n",
    "        }; //end window.onload\n",
    "\n",
    "\n",
    "\n",
    "</script>\n",
    "```"
   ]
  },
  {
   "cell_type": "markdown",
   "metadata": {},
   "source": [
    "The field where we display the download count is discretely in the footer of the webpage\n",
    "\n",
    "``` html\n",
    "    <footer>\n",
    "    <p>\n",
    "        Copyright © Don Cameron, 2020. www.net-analysis.com<br/> \n",
    "        Page Load Count: <span id=\"loadcount\">Not Available</span><br/>\n",
    "\n",
    "    </p>\n",
    "        \n",
    "    </footer>\n",
    "```\n",
    "\n",
    "The ```window.onload``` function causes our ```getLoadCount``` function to be called.  This in turn call an AWS Gateway API, which will call our Lambda.  The response from the ASW Gateway API is a ```\"``` enclosed string: we have to strip off these before writing it into out page footer field."
   ]
  },
  {
   "cell_type": "markdown",
   "metadata": {},
   "source": [
    "There is a __huge__ gotcha that is hidden in the above.  In order to supress sneaky scripts, browsers will (by default) prevent a webpage loading any material via ```XMLHttpRequest``` from any other webpage in a different domain.  And since I am trying to allow the whole world access to the resume (or else what use is it?), this would prevent the webpage working as intended.  \n",
    "\n",
    "Happily, there is a mechanism to allows what is called __Cross-origin resource sharing__  (see Wikipedia for a good explanation of CORS).  The site serving the requested page can indicate that it is open to the whole world accessing its  content by responding with HTTP Header of type ```Access-Control-Allow-Origin```.  If the browser does an initial ```OPTIONS``` request, and the response includes the magic allow-all header, then the Javascript is allowed to run.\n",
    "\n",
    "There is another gotcha in that I have chosen to make my ```XMLHttpRequest``` call to be synchronous (wait till data returned).  I get dire warnings in the Browser Javascript console about how this is not best practice.\n",
    "\n",
    "```\n",
    "[Deprecation] Synchronous XMLHttpRequest on the main thread is deprecated because of its detrimental effects to the end user's experience.\n",
    "```\n",
    "\n",
    "Because I am only performing minimal data processing, I feel free to ignore these warnings, as it makes the Javascript code so much simplier.\n",
    "\n",
    "And that brings us to the final part of the processing chain, the AWS API Gateway."
   ]
  },
  {
   "cell_type": "markdown",
   "metadata": {},
   "source": [
    "-----------\n",
    "## AWS Gateway API\n",
    "\n",
    "I must admit that I had the most trouble with configuring up the API Gateway.  getting an API Gateway to trigger the Lambda was very easy; the harder part was getting CORS working.\n",
    "\n",
    "You can create an API Gateway instance in the AWS Console in at least two ways.  The first is the ```Add Trigger``` button on the Lambda main screen.\n",
    "\n",
    "\n",
    "![](images/API-1.png)\n",
    "\n",
    "[Larger image of above](images/API-1.png)\n",
    "\n",
    "followed by \n",
    "\n",
    "![](images/API-2.png)\n",
    "[Larger image of above](images/API-2.png)"
   ]
  },
  {
   "cell_type": "markdown",
   "metadata": {},
   "source": [
    "However, try as I might, could not get the resulting API Gateway instance to return the correct CORS headers, even when I ticked all the boxes I could find that requested CORS being enabled.  There was some advice that it was up to the developer to return them in the response from the Lambda function, but my cut-and-paste code did not seem to do anything.\n",
    "\n",
    "The next attempt (eventually successful) was to create a API Gateway instance from scratch, and then link it to my Lambda function.\n",
    "\n",
    "When you ask to create an API Gateway instance from the console, you are presented with a number of choices, as below\n",
    "\n",
    "![](images/API-3.png)\n",
    "\n",
    "[Larger image of above](images/API-3.png)\n",
    "\n",
    "The choice I got to work was the REST API.\n",
    "\n"
   ]
  },
  {
   "cell_type": "markdown",
   "metadata": {},
   "source": [
    "![](images/API-4.png)\n",
    "\n",
    "[Larger image of above](images/API-4.png)"
   ]
  },
  {
   "cell_type": "markdown",
   "metadata": {},
   "source": [
    "We can supply the ARN, or just the name of our Lambda function.\n",
    "\n",
    "![](images/API-5.png)\n",
    "\n",
    "[Larger image of above](images/API-5.png)"
   ]
  },
  {
   "cell_type": "markdown",
   "metadata": {},
   "source": [
    "AWS checks that we know what we are doing.\n",
    "\n",
    "![](images/API-6.png)\n",
    "\n",
    "[Larger image of above](images/API-6.png)\n"
   ]
  },
  {
   "cell_type": "markdown",
   "metadata": {},
   "source": [
    "We now specify that we want to let browsers know that cross-site access is OK\n",
    "\n",
    "![](images/API-7.png)\n",
    "\n",
    "[Larger image of above](images/API-7.png)"
   ]
  },
  {
   "cell_type": "markdown",
   "metadata": {},
   "source": [
    "AWS gives us a summary of the API Gateway configuration.  It all looks OK\n",
    "\n",
    "![](images/API-8.png)\n",
    "\n",
    "[Larger image of above](images/API-8.png)"
   ]
  },
  {
   "cell_type": "markdown",
   "metadata": {},
   "source": [
    "![](images/API-9.png)\n",
    "\n",
    "[Larger image of above](images/API-9.png)"
   ]
  },
  {
   "cell_type": "markdown",
   "metadata": {},
   "source": [
    "Now we come to deploying the configuration we have specified\n",
    "\n",
    "![](images/API-10.png)\n",
    "\n",
    "[Larger image of above](images/API-10.png)"
   ]
  },
  {
   "cell_type": "markdown",
   "metadata": {},
   "source": [
    "We have to specify a stage for this deployment.\n",
    "\n",
    "A proper structure would be to have DEV, TEST, and PROD.  For this prototype, I run with ```beta```\n",
    "\n",
    "![](images/API-11.png)\n",
    "\n",
    "[Larger image of above](images/API-11.png)"
   ]
  },
  {
   "cell_type": "markdown",
   "metadata": {},
   "source": [
    "We get a summary of the deployment.  If I was doing this for real, I would be vitally interested in the constraints on how to handle peak loads (and peak bills).  But this API is unlikely to get massive usage, and I have AWS Budget alerts to manage my budget, and performance is not really an issue.\n",
    "\n",
    "![](images/API-12.png)\n",
    "\n",
    "[Larger image of above](images/API-12.png)"
   ]
  },
  {
   "cell_type": "markdown",
   "metadata": {},
   "source": [
    "Bewlow we see the results of a test run, with the Page Load Counter being increment on a reload of my web-page\n",
    "\n",
    "![](images/API-13-Load1.png)\n",
    "\n",
    "[Larger image of above](images/API-13-Load1.png)"
   ]
  },
  {
   "cell_type": "markdown",
   "metadata": {},
   "source": [
    "![](images/API-13-Load2.png)\n",
    "\n",
    "[Larger image of above](images/API-13-Load2.png)"
   ]
  },
  {
   "cell_type": "markdown",
   "metadata": {},
   "source": [
    "Having tested the HTML with Javascript, I now upload it to the S3 Bucket\n",
    "\n",
    "![](images/API-13-S3.png)\n",
    "\n",
    "[Larger image of above](images/API-13-S3.png)"
   ]
  },
  {
   "cell_type": "markdown",
   "metadata": {},
   "source": [
    "----\n",
    "## Conclusions"
   ]
  },
  {
   "cell_type": "markdown",
   "metadata": {},
   "source": [
    "In the end, my implementation looks like\n",
    "\n",
    "![](images/arch-04.svg)"
   ]
  },
  {
   "cell_type": "markdown",
   "metadata": {},
   "source": [
    "The biggest hurdle was in getting CORS working in the API Gateway.\n",
    "\n",
    "In general, I have neglected to design a process for developing and testing, and then pushing into production.  I will cover that in the next stage of the Challenge, __Infrastrucure as Code__.  I suspect that I will use AWS Serverless Application Model scripting to set this up."
   ]
  },
  {
   "cell_type": "code",
   "execution_count": null,
   "metadata": {},
   "outputs": [],
   "source": []
  }
 ],
 "metadata": {
  "kernelspec": {
   "display_name": "Python 3",
   "language": "python",
   "name": "python3"
  },
  "language_info": {
   "codemirror_mode": {
    "name": "ipython",
    "version": 3
   },
   "file_extension": ".py",
   "mimetype": "text/x-python",
   "name": "python",
   "nbconvert_exporter": "python",
   "pygments_lexer": "ipython3",
   "version": "3.7.1"
  }
 },
 "nbformat": 4,
 "nbformat_minor": 4
}
