{
 "cells": [
  {
   "cell_type": "code",
   "execution_count": 1,
   "metadata": {},
   "outputs": [],
   "source": [
    "%load_ext lab_black"
   ]
  },
  {
   "cell_type": "markdown",
   "metadata": {},
   "source": [
    "# Symbolic Algebra and Geometry\n",
    "\n",
    "## Introduction\n",
    "\n",
    "I recently discovered the game *Euclidea*, which is a collection of classical\n",
    "Euclidean geometry puzzles, that I found addicting.  The links is [https://www.euclidea.xyz/].  Each puzzle requires you to find a ruler and compass construction for a figure with some given geometric property.  For added points, you have to construct the given figure in as few operations as possible. \n",
    "\n",
    "In some cases, I decided to resort to computer assistence (which I defined as not cheating :)  ), using the Python Symbolic Algebra package.  This is a record of some of my work, visualized with ```matplotlib```.  I discovered that my geometric intuition is very rusty, and in some cases I discovered a relationship that had to hold via Cartesian Geometry, but this resulted in a very long and clumsy construction process."
   ]
  },
  {
   "cell_type": "markdown",
   "metadata": {},
   "source": [
    "## Implementation\n",
    "### Imports"
   ]
  },
  {
   "cell_type": "code",
   "execution_count": 2,
   "metadata": {},
   "outputs": [],
   "source": [
    "# all imports should go here\n",
    "\n",
    "import pandas as pd\n",
    "import sys\n",
    "import os\n",
    "import subprocess\n",
    "import datetime\n",
    "import platform\n",
    "import datetime\n",
    "\n",
    "import matplotlib.pyplot as plt\n",
    "\n",
    "import sympy as sym\n",
    "import math"
   ]
  },
  {
   "cell_type": "markdown",
   "metadata": {},
   "source": [
    "### Magic commands"
   ]
  },
  {
   "cell_type": "code",
   "execution_count": 3,
   "metadata": {},
   "outputs": [],
   "source": [
    "%matplotlib inline"
   ]
  },
  {
   "cell_type": "markdown",
   "metadata": {},
   "source": [
    "### Configure Symbolic Algebra package"
   ]
  },
  {
   "cell_type": "markdown",
   "metadata": {},
   "source": [
    "Set the printing from our symboloic algebra system to use Unicode."
   ]
  },
  {
   "cell_type": "code",
   "execution_count": 4,
   "metadata": {},
   "outputs": [],
   "source": [
    "sym.init_printing(use_unicode=True)"
   ]
  },
  {
   "cell_type": "markdown",
   "metadata": {},
   "source": [
    "---------------\n",
    "## Finding the Centroid of a Triangle\n",
    "The centroid of a triangle is the point at which the lines drawn from every vertex of a triangle to the midpoint of the other side intersect.\n",
    "\n",
    "If we draw one example, we can see that the lines intersect at a single point."
   ]
  },
  {
   "cell_type": "code",
   "execution_count": 6,
   "metadata": {},
   "outputs": [
    {
     "data": {
      "image/png": "[encoded data removed]",
      "text/plain": [
       "<Figure size 720x720 with 1 Axes>"
      ]
     },
     "metadata": {
      "needs_background": "light"
     },
     "output_type": "display_data"
    }
   ],
   "source": [
    "fig = plt.figure(figsize=(10, 10))\n",
    "ax = fig.add_subplot(1, 1, 1)\n",
    "\n",
    "# plot a triangle\n",
    "x1, y1 = (-1, 0)\n",
    "x2, y2 = (+1, 0)\n",
    "x3, y3 = (1 / 3, 4 / 3)\n",
    "\n",
    "ax.plot([x1, x2, x3, x1], [y1, y2, y3, y1])\n",
    "\n",
    "# find mid point of sides\n",
    "mid_x1 = (x2 + x3) / 2\n",
    "mid_y1 = (y2 + y3) / 2\n",
    "\n",
    "mid_x2 = (x1 + x3) / 2\n",
    "mid_y2 = (y1 + y3) / 2\n",
    "\n",
    "mid_x3 = (x1 + x2) / 2\n",
    "mid_y3 = (y1 + y2) / 2\n",
    "\n",
    "# plot the lines, vertex to opposite mid point\n",
    "ax.plot([x1, mid_x1], [y1, mid_y1], color=\"r\")\n",
    "ax.plot([x2, mid_x2], [y2, mid_y2], color=\"r\")\n",
    "ax.plot([x3, mid_x3], [y3, mid_y3], color=\"r\")\n",
    "\n",
    "# label the lines\n",
    "ax.text(\n",
    "    mid_x1 + 0.1,\n",
    "    mid_y1,\n",
    "    \"$y = -2*x+2$\",\n",
    "    fontsize=16,\n",
    "    rotation=-63.435,\n",
    ")\n",
    "ax.text(\n",
    "    mid_x2 - 0.3,\n",
    "    mid_y2,\n",
    "    \"$y = x+1$\",\n",
    "    fontsize=16,\n",
    "    rotation=45,\n",
    ")\n",
    "\n",
    "ax.set_aspect(\"equal\", \"datalim\")\n",
    "\n",
    "\n",
    "fig.show()"
   ]
  },
  {
   "cell_type": "markdown",
   "metadata": {},
   "source": [
    "So now, we move to the symbolic domain, to see if this intersection of three lines is always at single point."
   ]
  },
  {
   "cell_type": "markdown",
   "metadata": {},
   "source": [
    "### Define symbolic variables\n",
    "Assume we have a triangle, with base x = -1 to +1, y=0, and sides of slope m1 and m2.  We lose no generality by these assumptions.\n",
    "\n",
    "We first define all the variable that will hold symbolic values (no all are used in the fragments shown)."
   ]
  },
  {
   "cell_type": "code",
   "execution_count": 7,
   "metadata": {},
   "outputs": [],
   "source": [
    "y1, y2, x, m1, m2, xa, ya, xb, yb, xc, yc, x0, y0 = sym.symbols(\n",
    "    'y1 y2 x m1 m2 xa, ya xb yb xc yc x0 y0'\n",
    ")"
   ]
  },
  {
   "cell_type": "markdown",
   "metadata": {},
   "source": [
    "Define the equations for the two (non-base) sides of the triangle."
   ]
  },
  {
   "cell_type": "code",
   "execution_count": 8,
   "metadata": {},
   "outputs": [],
   "source": [
    "side1 = m1 * (x - 1)\n",
    "side2 = m2 * (x + 1)"
   ]
  },
  {
   "cell_type": "markdown",
   "metadata": {},
   "source": [
    "We want to find the intersection of these two sides (ie the top vertex), We start by finding the x value where the difference in y values is zero"
   ]
  },
  {
   "cell_type": "code",
   "execution_count": 9,
   "metadata": {},
   "outputs": [
    {
     "data": {
      "image/png": "[encoded data removed]",
      "text/latex": [
       "$$\\left\\{\\frac{m_{1} + m_{2}}{m_{1} - m_{2}}\\right\\}$$"
      ],
      "text/plain": [
       "⎧m₁ + m₂⎫\n",
       "⎨───────⎬\n",
       "⎩m₁ - m₂⎭"
      ]
     },
     "execution_count": 9,
     "metadata": {},
     "output_type": "execute_result"
    }
   ],
   "source": [
    "sym.solveset(side1 - side2, x)"
   ]
  },
  {
   "cell_type": "markdown",
   "metadata": {},
   "source": [
    "To actually get the symbolic x coordinate of the upper vertex, we have to turn the set of solutions turned into a list, and take the first (and only) value."
   ]
  },
  {
   "cell_type": "code",
   "execution_count": 10,
   "metadata": {},
   "outputs": [
    {
     "data": {
      "image/png": "[encoded data removed]",
      "text/latex": [
       "$$\\frac{m_{1} + m_{2}}{m_{1} - m_{2}}$$"
      ],
      "text/plain": [
       "m₁ + m₂\n",
       "───────\n",
       "m₁ - m₂"
      ]
     },
     "execution_count": 10,
     "metadata": {},
     "output_type": "execute_result"
    }
   ],
   "source": [
    "x_apex = list(sym.solveset(side1 - side2, x))[0]\n",
    "x_apex"
   ]
  },
  {
   "cell_type": "markdown",
   "metadata": {},
   "source": [
    "To find the y coordinate of the apex, we substitute for x into the equation for side 1."
   ]
  },
  {
   "cell_type": "code",
   "execution_count": 11,
   "metadata": {},
   "outputs": [
    {
     "data": {
      "image/png": "[encoded data removed]",
      "text/latex": [
       "$$\\frac{2 m_{1} m_{2}}{m_{1} - m_{2}}$$"
      ],
      "text/plain": [
       "2⋅m₁⋅m₂\n",
       "───────\n",
       "m₁ - m₂"
      ]
     },
     "execution_count": 11,
     "metadata": {},
     "output_type": "execute_result"
    }
   ],
   "source": [
    "y_apex = side1.subs(x, x_apex)\n",
    "y_apex = sym.simplify(y_apex)\n",
    "\n",
    "y_apex"
   ]
  },
  {
   "cell_type": "markdown",
   "metadata": {},
   "source": [
    "Now we find the mid points of the (non-base) sides,  The mid point of the base is obviously at (0,0).  We call side A the side from the point (-1,0) to the apex, and side B the side from the point (1,0) to the apex.  We visualize this, as below."
   ]
  },
  {
   "cell_type": "code",
   "execution_count": 12,
   "metadata": {},
   "outputs": [
    {
     "data": {
      "image/png": "[encoded data removed]",
      "text/plain": [
       "<Figure size 720x720 with 1 Axes>"
      ]
     },
     "metadata": {
      "needs_background": "light"
     },
     "output_type": "display_data"
    }
   ],
   "source": [
    "fig = plt.figure(figsize=(10, 10))\n",
    "ax = fig.add_subplot(1, 1, 1)\n",
    "\n",
    "# plot a triangle\n",
    "x1, y1 = (-1, 0)\n",
    "x2, y2 = (+1, 0)\n",
    "x3, y3 = (1 / 3, 4 / 3)\n",
    "\n",
    "ax.plot([x1, x2, x3, x1], [y1, y2, y3, y1])\n",
    "\n",
    "# find mid point of sides\n",
    "mid_x1 = (x2 + x3) / 2\n",
    "mid_y1 = (y2 + y3) / 2\n",
    "\n",
    "mid_x2 = (x1 + x3) / 2\n",
    "mid_y2 = (y1 + y3) / 2\n",
    "\n",
    "mid_x3 = (x1 + x2) / 2\n",
    "mid_y3 = (y1 + y2) / 2\n",
    "\n",
    "# plot the lines, vertex to opposite mid point\n",
    "ax.plot([x1, mid_x1], [y1, mid_y1], color=\"r\")\n",
    "ax.plot([x2, mid_x2], [y2, mid_y2], color=\"r\")\n",
    "ax.plot([x3, mid_x3], [y3, mid_y3], color=\"r\")\n",
    "\n",
    "# label the lines\n",
    "ax.text(\n",
    "    (mid_x1 + x3) / 2,\n",
    "    (mid_y1 + y3) / 2,\n",
    "    \"y = m1*(x-1)\\nside B\",\n",
    "    fontsize=16,\n",
    "    va=\"bottom\",\n",
    "    ha=\"left\",\n",
    "    color=\"b\",\n",
    ")\n",
    "ax.text(\n",
    "    (mid_x2 + x3) / 2,\n",
    "    (mid_y2 + y3) / 2,\n",
    "    \"y = m2*(x+1)\\nside A\",\n",
    "    fontsize=16,\n",
    "    ha=\"right\",\n",
    "    va=\"bottom\",\n",
    "    color=\"b\",\n",
    ")\n",
    "ax.text(\n",
    "    -1, 0, \"$(-1, 0)$\", fontsize=16, va=\"top\", ha=\"left\"\n",
    ")\n",
    "ax.text(1, 0, \"$(1, 0)$\", fontsize=16, va=\"top\", ha=\"right\")\n",
    "ax.text(\n",
    "    0,\n",
    "    0,\n",
    "    \"Side 0\",\n",
    "    fontsize=16,\n",
    "    va=\"top\",\n",
    "    ha=\"center\",\n",
    "    color=\"blue\",\n",
    ")\n",
    "\n",
    "ax.set_aspect(\"equal\", \"datalim\")\n",
    "\n",
    "# Hide the right and top spines\n",
    "ax.spines[\"right\"].set_visible(False)\n",
    "ax.spines[\"top\"].set_visible(False)\n",
    "ax.spines[\"left\"].set_visible(False)\n",
    "ax.spines[\"bottom\"].set_visible(False)\n",
    "ax.axis(\"off\")\n",
    "\n",
    "fig.show()"
   ]
  },
  {
   "cell_type": "markdown",
   "metadata": {},
   "source": [
    "Define the midpoints of Side B, symbolically."
   ]
  },
  {
   "cell_type": "code",
   "execution_count": 13,
   "metadata": {},
   "outputs": [
    {
     "data": {
      "image/png": "[encoded data removed]",
      "text/latex": [
       "$$\\frac{m_{1}}{m_{1} - m_{2}}$$"
      ],
      "text/plain": [
       "   m₁  \n",
       "───────\n",
       "m₁ - m₂"
      ]
     },
     "execution_count": 13,
     "metadata": {},
     "output_type": "execute_result"
    }
   ],
   "source": [
    "y_B = y_apex / 2\n",
    "x_B = sym.simplify((x_apex + 1) / 2)\n",
    "x_B"
   ]
  },
  {
   "cell_type": "code",
   "execution_count": 14,
   "metadata": {},
   "outputs": [
    {
     "data": {
      "image/png": "[encoded data removed]",
      "text/latex": [
       "$$\\frac{m_{1} m_{2}}{m_{1} - m_{2}}$$"
      ],
      "text/plain": [
       " m₁⋅m₂ \n",
       "───────\n",
       "m₁ - m₂"
      ]
     },
     "execution_count": 14,
     "metadata": {},
     "output_type": "execute_result"
    }
   ],
   "source": [
    "y_B"
   ]
  },
  {
   "cell_type": "markdown",
   "metadata": {},
   "source": [
    "Do the same for Side A"
   ]
  },
  {
   "cell_type": "code",
   "execution_count": 15,
   "metadata": {},
   "outputs": [],
   "source": [
    "y_A = y_apex / 2\n",
    "x_A = sym.simplify((-1 + x_apex) / 2)"
   ]
  },
  {
   "cell_type": "code",
   "execution_count": 16,
   "metadata": {},
   "outputs": [
    {
     "data": {
      "image/png": "[encoded data removed]",
      "text/latex": [
       "$$\\frac{m_{2}}{m_{1} - m_{2}}$$"
      ],
      "text/plain": [
       "   m₂  \n",
       "───────\n",
       "m₁ - m₂"
      ]
     },
     "execution_count": 16,
     "metadata": {},
     "output_type": "execute_result"
    }
   ],
   "source": [
    "# show x_A\n",
    "x_A"
   ]
  },
  {
   "cell_type": "code",
   "execution_count": 17,
   "metadata": {},
   "outputs": [
    {
     "data": {
      "image/png": "[encoded data removed]",
      "text/latex": [
       "$$\\frac{m_{1} m_{2}}{m_{1} - m_{2}}$$"
      ],
      "text/plain": [
       " m₁⋅m₂ \n",
       "───────\n",
       "m₁ - m₂"
      ]
     },
     "execution_count": 17,
     "metadata": {},
     "output_type": "execute_result"
    }
   ],
   "source": [
    "# show y_A\n",
    "y_A"
   ]
  },
  {
   "cell_type": "markdown",
   "metadata": {},
   "source": [
    "### Define the lines from vertexes to midpoints symbolically\n",
    "Because the midpoint of the base is at (0,0) by definition, the form of the equation for the line \n",
    "from the top vertex is simplified (no intercept value) "
   ]
  },
  {
   "cell_type": "code",
   "execution_count": 18,
   "metadata": {},
   "outputs": [],
   "source": [
    "# x1, y1 =-1,0   x2, y2 = x_B, y_B\n",
    "\n",
    "line0B = (x + 1) * (y_B - 0) / (x_B + 1) + 0\n",
    "\n",
    "# x1, y1 = 1,0  x2, y2 = x_A, y_A\n",
    "\n",
    "line1A = (x - 1) * (y_A - 0) / (x_A - 1) + 0\n",
    "\n",
    "line2 = x * y_apex / x_apex"
   ]
  },
  {
   "cell_type": "markdown",
   "metadata": {},
   "source": [
    "We display the equations for these lines"
   ]
  },
  {
   "cell_type": "code",
   "execution_count": 19,
   "metadata": {},
   "outputs": [
    {
     "data": {
      "image/png": "[encoded data removed]",
      "text/latex": [
       "$$\\frac{m_{1} m_{2} \\left(x + 1\\right)}{2 m_{1} - m_{2}}$$"
      ],
      "text/plain": [
       "m₁⋅m₂⋅(x + 1)\n",
       "─────────────\n",
       "  2⋅m₁ - m₂  "
      ]
     },
     "execution_count": 19,
     "metadata": {},
     "output_type": "execute_result"
    }
   ],
   "source": [
    "sym.simplify(line0B)"
   ]
  },
  {
   "cell_type": "code",
   "execution_count": 20,
   "metadata": {},
   "outputs": [
    {
     "data": {
      "image/png": "[encoded data removed]",
      "text/latex": [
       "$$\\frac{m_{1} m_{2} \\left(x - 1\\right)}{- m_{1} + 2 m_{2}}$$"
      ],
      "text/plain": [
       "m₁⋅m₂⋅(x - 1)\n",
       "─────────────\n",
       "  -m₁ + 2⋅m₂ "
      ]
     },
     "execution_count": 20,
     "metadata": {},
     "output_type": "execute_result"
    }
   ],
   "source": [
    "sym.simplify(line1A)"
   ]
  },
  {
   "cell_type": "markdown",
   "metadata": {},
   "source": [
    "Now, lets solve for where every pair these lines intersect."
   ]
  },
  {
   "cell_type": "code",
   "execution_count": 21,
   "metadata": {},
   "outputs": [
    {
     "data": {
      "image/png": "[encoded data removed]",
      "text/latex": [
       "$$\\left\\{\\frac{m_{1} + m_{2}}{3 \\left(m_{1} - m_{2}\\right)}\\right\\}$$"
      ],
      "text/plain": [
       "⎧  m₁ + m₂  ⎫\n",
       "⎨───────────⎬\n",
       "⎩3⋅(m₁ - m₂)⎭"
      ]
     },
     "execution_count": 21,
     "metadata": {},
     "output_type": "execute_result"
    }
   ],
   "source": [
    "sym.solveset(line0B - line1A, x)"
   ]
  },
  {
   "cell_type": "code",
   "execution_count": 22,
   "metadata": {},
   "outputs": [
    {
     "data": {
      "image/png": "[encoded data removed]",
      "text/latex": [
       "$$\\left\\{\\frac{m_{1} + m_{2}}{3 \\left(m_{1} - m_{2}\\right)}\\right\\}$$"
      ],
      "text/plain": [
       "⎧  m₁ + m₂  ⎫\n",
       "⎨───────────⎬\n",
       "⎩3⋅(m₁ - m₂)⎭"
      ]
     },
     "execution_count": 22,
     "metadata": {},
     "output_type": "execute_result"
    }
   ],
   "source": [
    "sym.solveset(line2 - line0B, x)"
   ]
  },
  {
   "cell_type": "code",
   "execution_count": 23,
   "metadata": {},
   "outputs": [
    {
     "data": {
      "image/png": "[encoded data removed]",
      "text/latex": [
       "$$\\left\\{\\frac{m_{1} + m_{2}}{3 \\left(m_{1} - m_{2}\\right)}\\right\\}$$"
      ],
      "text/plain": [
       "⎧  m₁ + m₂  ⎫\n",
       "⎨───────────⎬\n",
       "⎩3⋅(m₁ - m₂)⎭"
      ]
     },
     "execution_count": 23,
     "metadata": {},
     "output_type": "execute_result"
    }
   ],
   "source": [
    "sym.solveset(line2 - line1A, x)"
   ]
  },
  {
   "cell_type": "markdown",
   "metadata": {},
   "source": [
    "So, all of these side-bisector line intersect at the same X value!\n",
    "We now substitute into the equation for each line, to get the Y values.\n"
   ]
  },
  {
   "cell_type": "code",
   "execution_count": 24,
   "metadata": {},
   "outputs": [],
   "source": [
    "x_cent = list(sym.solveset(line2 - line0B, x))[0]"
   ]
  },
  {
   "cell_type": "code",
   "execution_count": 25,
   "metadata": {},
   "outputs": [
    {
     "data": {
      "image/png": "[encoded data removed]",
      "text/latex": [
       "$$\\frac{2 m_{1} m_{2}}{3 \\left(m_{1} - m_{2}\\right)}$$"
      ],
      "text/plain": [
       "  2⋅m₁⋅m₂  \n",
       "───────────\n",
       "3⋅(m₁ - m₂)"
      ]
     },
     "execution_count": 25,
     "metadata": {},
     "output_type": "execute_result"
    }
   ],
   "source": [
    "line2.subs(x, x_cent)"
   ]
  },
  {
   "cell_type": "code",
   "execution_count": 26,
   "metadata": {},
   "outputs": [
    {
     "data": {
      "image/png": "[encoded data removed]",
      "text/latex": [
       "$$\\frac{2 m_{1} m_{2}}{3 \\left(m_{1} - m_{2}\\right)}$$"
      ],
      "text/plain": [
       "  2⋅m₁⋅m₂  \n",
       "───────────\n",
       "3⋅(m₁ - m₂)"
      ]
     },
     "execution_count": 26,
     "metadata": {},
     "output_type": "execute_result"
    }
   ],
   "source": [
    "sym.simplify(line1A.subs(x, x_cent))"
   ]
  },
  {
   "cell_type": "code",
   "execution_count": 27,
   "metadata": {},
   "outputs": [
    {
     "data": {
      "image/png": "[encoded data removed]",
      "text/latex": [
       "$$\\frac{2 m_{1} m_{2}}{3 \\left(m_{1} - m_{2}\\right)}$$"
      ],
      "text/plain": [
       "  2⋅m₁⋅m₂  \n",
       "───────────\n",
       "3⋅(m₁ - m₂)"
      ]
     },
     "execution_count": 27,
     "metadata": {},
     "output_type": "execute_result"
    }
   ],
   "source": [
    "sym.simplify(line0B.subs(x, x_cent))"
   ]
  },
  {
   "cell_type": "markdown",
   "metadata": {},
   "source": [
    "### Conclusion\n",
    "So every pairwise intersection of vertex-to-midpoint-of-opposite-side lines has the the same (X,Y) value **symbolically**.  Moreover, it's easy to see that the intersection point has a Y value one third that of the top vertex Y value, so the intersection divides the  vertex-to-midpoint-of-opposite-side lines into two third / one third sections.\n",
    "\n",
    "I must admit that I don't have a good geometric intuition for this latter fact."
   ]
  },
  {
   "cell_type": "markdown",
   "metadata": {},
   "source": [
    "---------------\n",
    "## Intersection of Perpendicular Bisectors\n",
    "If you draw a line perpendicular to each side of a triangle, through the  midpoint of that side, then each of the three perpendiculars\n",
    "will meet at a common point, and this point is the center of a circle that passes through the vextexes of the triangle.\n",
    "\n",
    "The geometric intuition for this is more obvious: every point on a perpendicular, is equidistant from the ends of the side it is drawn from.\n",
    "What is not so obvious (at least to me) is how to **prove** three points define a unique circle.  For example, two points and a line define two circles (in general)."
   ]
  },
  {
   "cell_type": "code",
   "execution_count": 28,
   "metadata": {},
   "outputs": [
    {
     "data": {
      "image/png": "[encoded data removed]",
      "text/plain": [
       "<Figure size 720x720 with 1 Axes>"
      ]
     },
     "metadata": {
      "needs_background": "light"
     },
     "output_type": "display_data"
    }
   ],
   "source": [
    "def draw_perps(ax):\n",
    "\n",
    "    # plot a triangle\n",
    "    x1, y1 = (-1, 0)\n",
    "    x2, y2 = (+1, 0)\n",
    "    x3, y3 = (1 / 3, 4 / 3)\n",
    "    ax.plot([x1, x2, x3, x1], [y1, y2, y3, y1])\n",
    "\n",
    "    # find mid point of sides\n",
    "    mid_x1 = (x2 + x3) / 2\n",
    "    mid_y1 = (y2 + y3) / 2\n",
    "\n",
    "    mid_x2 = (x1 + x3) / 2\n",
    "    mid_y2 = (y1 + y3) / 2\n",
    "\n",
    "    mid_x3 = (x1 + x2) / 2\n",
    "    mid_y3 = (y1 + y2) / 2\n",
    "\n",
    "    # plot mid points of sides\n",
    "    ax.plot(\n",
    "        mid_x1, mid_y1, marker='o', color='g', markersize=5\n",
    "    )\n",
    "    ax.plot(\n",
    "        mid_x2, mid_y2, marker='o', color='g', markersize=5\n",
    "    )\n",
    "    ax.plot(\n",
    "        mid_x3, mid_y3, marker='o', color='g', markersize=5\n",
    "    )\n",
    "\n",
    "    # slopes of our lines\n",
    "    mm1 = -2\n",
    "    mm2 = 1\n",
    "\n",
    "    # show perpendicular bisectors of triangle sides\n",
    "    x = 1\n",
    "    x_A = mid_x2\n",
    "    y_A = mid_y2\n",
    "    perpA = -(1 / mm2) * (x - x_A) + y_A\n",
    "    ax.plot([x_A, 1], [y_A, perpA], color='r')\n",
    "\n",
    "    x_B = mid_x1\n",
    "    y_B = mid_y1\n",
    "    x = -1\n",
    "    perpB = -(1 / mm1) * (x - x_B) + y_B\n",
    "    ax.plot([x_B, -1], [y_B, perpB], color='r')\n",
    "\n",
    "    ax.plot([0, 0], [0, y3], color='r')\n",
    "\n",
    "    # label the sides\n",
    "    ax.text(\n",
    "        (mid_x1 + x3) / 2,\n",
    "        (mid_y1 + y3) / 2,\n",
    "        'y = m1*(x-1)\\nside B',\n",
    "        fontsize=16,\n",
    "        va='bottom',\n",
    "        ha='left',\n",
    "        color='b',\n",
    "    )\n",
    "    ax.text(\n",
    "        (mid_x2 + x3) / 2,\n",
    "        (mid_y2 + y3) / 2,\n",
    "        'y = m2*(x+1)\\nside A',\n",
    "        fontsize=16,\n",
    "        ha='right',\n",
    "        va='bottom',\n",
    "        color='b',\n",
    "    )\n",
    "    # label the vertexes\n",
    "    ax.text(\n",
    "        -1, 0, 'Vertex B', fontsize=16, va='top', ha='left'\n",
    "    )\n",
    "    ax.text(\n",
    "        1, 0, 'Vertex A', fontsize=16, va='top', ha='right'\n",
    "    )\n",
    "    ax.text(\n",
    "        x3,\n",
    "        y3,\n",
    "        'Vertex 0',\n",
    "        fontsize=16,\n",
    "        va='bottom',\n",
    "        ha='left',\n",
    "    )\n",
    "\n",
    "    # label the base\n",
    "    ax.text(\n",
    "        0,\n",
    "        0,\n",
    "        'Side 0',\n",
    "        fontsize=16,\n",
    "        va='top',\n",
    "        ha='center',\n",
    "        color='blue',\n",
    "    )\n",
    "    # show the circle through vertexes, centered on perp. bisectors intersection\n",
    "    circle1 = plt.Circle(\n",
    "        (0, 1 / 3),\n",
    "        math.sqrt((1) ** 2 + (1 / 3) ** 2),\n",
    "        ec='g',\n",
    "        fc='none',\n",
    "    )\n",
    "    plt.gcf().gca().add_artist(circle1)\n",
    "\n",
    "\n",
    "# end draw_perps\n",
    "\n",
    "fig = plt.figure(figsize=(10, 10))\n",
    "ax = fig.add_subplot(1, 1, 1)\n",
    "draw_perps(ax)\n",
    "\n",
    "ax.set_aspect('equal', 'datalim')\n",
    "\n",
    "# Hide the right and top spines\n",
    "ax.spines['right'].set_visible(False)\n",
    "ax.spines['top'].set_visible(False)\n",
    "ax.spines['left'].set_visible(False)\n",
    "ax.spines['bottom'].set_visible(False)\n",
    "ax.axis('off')\n",
    "\n",
    "fig.show()"
   ]
  },
  {
   "cell_type": "markdown",
   "metadata": {},
   "source": [
    "### Equations for Perpendiculars\n",
    "We get the symbolic equations for the (non-vertical) perpendiculars.  The bisector of the base is just the equation ```x = 0```.  We use the fact that the lines ```y=m*x ``` and ```y=(-1/m)*x``` are orthogonal."
   ]
  },
  {
   "cell_type": "code",
   "execution_count": 29,
   "metadata": {},
   "outputs": [],
   "source": [
    "perpA = -(1 / m2) * (x - x_A) + y_A\n",
    "perpB = -(1 / m1) * (x - x_B) + y_B"
   ]
  },
  {
   "cell_type": "code",
   "execution_count": 30,
   "metadata": {},
   "outputs": [
    {
     "data": {
      "image/png": "[encoded data removed]",
      "text/latex": [
       "$$\\frac{m_{1} m_{2}}{m_{1} - m_{2}} - \\frac{- \\frac{m_{2}}{m_{1} - m_{2}} + x}{m_{2}}$$"
      ],
      "text/plain": [
       "               m₂      \n",
       "          - ─────── + x\n",
       " m₁⋅m₂      m₁ - m₂    \n",
       "─────── - ─────────────\n",
       "m₁ - m₂         m₂     "
      ]
     },
     "execution_count": 30,
     "metadata": {},
     "output_type": "execute_result"
    }
   ],
   "source": [
    "# show perp. A symbolically\n",
    "perpA"
   ]
  },
  {
   "cell_type": "code",
   "execution_count": 31,
   "metadata": {},
   "outputs": [
    {
     "data": {
      "image/png": "[encoded data removed]",
      "text/latex": [
       "$$\\frac{m_{1} m_{2}}{m_{1} - m_{2}} - \\frac{- \\frac{m_{1}}{m_{1} - m_{2}} + x}{m_{1}}$$"
      ],
      "text/plain": [
       "               m₁      \n",
       "          - ─────── + x\n",
       " m₁⋅m₂      m₁ - m₂    \n",
       "─────── - ─────────────\n",
       "m₁ - m₂         m₁     "
      ]
     },
     "execution_count": 31,
     "metadata": {},
     "output_type": "execute_result"
    }
   ],
   "source": [
    "# show prep B\n",
    "perpB"
   ]
  },
  {
   "cell_type": "markdown",
   "metadata": {},
   "source": [
    "Now solve for the value of X where these two line meet."
   ]
  },
  {
   "cell_type": "code",
   "execution_count": 32,
   "metadata": {},
   "outputs": [
    {
     "data": {
      "image/png": "[encoded data removed]",
      "text/latex": [
       "$$\\left\\{0\\right\\}$$"
      ],
      "text/plain": [
       "{0}"
      ]
     },
     "execution_count": 32,
     "metadata": {},
     "output_type": "execute_result"
    }
   ],
   "source": [
    "sym.solveset(perpA - perpB, x)"
   ]
  },
  {
   "cell_type": "markdown",
   "metadata": {},
   "source": [
    "So we see that the two perpendiculars intersect at ```X=0```, so all three perpendiculars intersect at a common point.  Let's get the Y coordinate of that point ."
   ]
  },
  {
   "cell_type": "code",
   "execution_count": 33,
   "metadata": {},
   "outputs": [
    {
     "data": {
      "image/png": "[encoded data removed]",
      "text/latex": [
       "$$\\frac{m_{1} m_{2}}{m_{1} - m_{2}} + \\frac{1}{m_{1} - m_{2}}$$"
      ],
      "text/plain": [
       " m₁⋅m₂       1   \n",
       "─────── + ───────\n",
       "m₁ - m₂   m₁ - m₂"
      ]
     },
     "execution_count": 33,
     "metadata": {},
     "output_type": "execute_result"
    }
   ],
   "source": [
    "x_p = 0\n",
    "y_p = perpA.subs(x, 0)\n",
    "y_p"
   ]
  },
  {
   "cell_type": "markdown",
   "metadata": {},
   "source": [
    "Check that the square of the distances from perp. bisectors intersection to triangle vertices is constant. Remember we have scaled the triangle so the base is the line (-1,0) to (1,0)."
   ]
  },
  {
   "cell_type": "code",
   "execution_count": 34,
   "metadata": {},
   "outputs": [],
   "source": [
    "r0_2 = (x_p - x_apex) ** 2 + (y_p - y_apex) ** 2\n",
    "\n",
    "rA_2 = (x_p - 1) ** 2 + (y_p) ** 2\n",
    "\n",
    "rB_2 = (x_p + 1) ** 2 + (y_p) ** 2"
   ]
  },
  {
   "cell_type": "code",
   "execution_count": 35,
   "metadata": {},
   "outputs": [
    {
     "data": {
      "image/png": "[encoded data removed]",
      "text/latex": [
       "$$1 + \\frac{\\left(m_{1} m_{2} + 1\\right)^{2}}{\\left(m_{1} - m_{2}\\right)^{2}}$$"
      ],
      "text/plain": [
       "               2\n",
       "    (m₁⋅m₂ + 1) \n",
       "1 + ────────────\n",
       "              2 \n",
       "     (m₁ - m₂)  "
      ]
     },
     "execution_count": 35,
     "metadata": {},
     "output_type": "execute_result"
    }
   ],
   "source": [
    "# show the the radius squared\n",
    "sym.simplify(rB_2)"
   ]
  },
  {
   "cell_type": "code",
   "execution_count": 36,
   "metadata": {},
   "outputs": [
    {
     "data": {
      "image/png": "[encoded data removed]",
      "text/latex": [
       "$$0$$"
      ],
      "text/plain": [
       "0"
      ]
     },
     "execution_count": 36,
     "metadata": {},
     "output_type": "execute_result"
    }
   ],
   "source": [
    "# check difference in R squared value from center to vertex 0 and A\n",
    "sym.simplify(r0_2 - rA_2)"
   ]
  },
  {
   "cell_type": "code",
   "execution_count": 37,
   "metadata": {},
   "outputs": [
    {
     "data": {
      "image/png": "[encoded data removed]",
      "text/latex": [
       "$$0$$"
      ],
      "text/plain": [
       "0"
      ]
     },
     "execution_count": 37,
     "metadata": {},
     "output_type": "execute_result"
    }
   ],
   "source": [
    "# check difference in R squared value from center to vertex 0 and B\n",
    "sym.simplify(r0_2 - rB_2)"
   ]
  },
  {
   "cell_type": "markdown",
   "metadata": {},
   "source": [
    "### Conclusions\n",
    "So indeed, the intersection of the perpendicular bisectors of the sides of a triangle give the center of the circle through the vertexes (called the circum circle)."
   ]
  },
  {
   "cell_type": "markdown",
   "metadata": {},
   "source": [
    "-----\n",
    "## Trisecting a line with ruler only, given a parallel line\n",
    "\n",
    "As an example of a more challenging problem, the task was to trisect a line, using only a ruler, given another parallel line.\n",
    "\n",
    "I eventually arrived at the following steps, after failing around drawing every possible line I could for a long while.\n",
    "\n",
    "Assume we have a line segment (-1,0) to (1,0), with a parallel line to this ```a``` units below (```y=-a```)\n",
    "\n",
    "Pick a point x0, y0 the other side of the segment from the parallel line\n",
    "\n",
    "1. form a line ```line1``` through x0,y0 and 1,0\n",
    "2. form a line ```line2``` through x0,y0 and -1,0.\n",
    "* ```line1``` intersects the parallel line at xa1, ya1\n",
    "* ```line2``` intersects the parallel line at xa2, ya2\n",
    "* form the ```line3``` through (1,0) and xa2, ya2\n",
    "* form the ```line4``` through -1,0 and xa1, ya1\n",
    "\n",
    "> ```line3``` and ```line4``` intersect at point x5, y5\n",
    " \n",
    "7. form the line ```line5``` through x0,y0 and x5, y5\n",
    "\n",
    ">```line5``` intersects the segment at 0,0  \n",
    "\n",
    "* form the line ```line6``` through xa2, ya2 and 0,0\n",
    "* form the line ```line7``` through xa1, ya1 and 0,0\n",
    "\n",
    "> ```line3``` and ```line7``` intersect at x7, y7\n",
    "\n",
    "> ```line4``` and ```line6``` intersect at x6, y6\n",
    "\n",
    "* form the line ```line8``` through x0, y0 and x6, y6\n",
    "* form the line ```line9``` through x0, y0 and x7, y7\n",
    "\n",
    "**```line8``` and ```line9``` trisect the segment**"
   ]
  },
  {
   "cell_type": "code",
   "execution_count": 38,
   "metadata": {},
   "outputs": [],
   "source": [
    "x, y, x0, y0, a = sym.symbols('x y x0 y0 a')\n",
    "\n",
    "x1 = 1\n",
    "y1 = 0\n",
    "\n",
    "x2 = -1\n",
    "y2 = 0\n",
    "\n",
    "line1 = (y0 - y1) / (x0 - x1) * (x - x1) + y1\n",
    "line2 = (y0 - y2) / (x0 - x2) * (x - x2) + y2\n",
    "\n",
    "xa1 = list(sym.solveset(line1 + a, x))[0]\n",
    "xa2 = list(sym.solveset(line2 + a, x))[0]\n",
    "\n",
    "ya1 = -a\n",
    "ya2 = -a\n",
    "\n",
    "line3 = (ya2 - y1) / (xa2 - x1) * (x - x1) + y1\n",
    "line4 = (ya1 - y2) / (xa1 - x2) * (x - x2) + y2\n",
    "\n",
    "# point 5 is where line3 and line4 intersect\n",
    "\n",
    "x5 = list(sym.solveset(line3 - line4, x))[0]\n",
    "y5 = line3.subs(x, x5)\n",
    "\n",
    "line5 = (y0 - y5) / (x0 - x5) * (x - x5) + y5\n",
    "\n",
    "line6 = ya2 / xa2 * x\n",
    "line7 = ya1 / xa1 * x\n",
    "\n",
    "# point 6 is where line6 and line4 intersect\n",
    "# point 7 is where line7 and line3 intersect\n",
    "x6 = list(sym.solveset(line6 - line4, x))[0]\n",
    "x7 = list(sym.solveset(line7 - line3, x))[0]\n",
    "\n",
    "y6 = line6.subs(x, x6)\n",
    "y7 = line7.subs(x, x7)\n",
    "\n",
    "line8 = (y0 - y6) / (x0 - x6) * (x - x6) + y6\n",
    "line9 = (y0 - y7) / (x0 - x7) * (x - x7) + y7"
   ]
  },
  {
   "cell_type": "code",
   "execution_count": 39,
   "metadata": {},
   "outputs": [
    {
     "data": {
      "image/png": "[encoded data removed]",
      "text/latex": [
       "$$\\left\\{- \\frac{1}{3}\\right\\}$$"
      ],
      "text/plain": [
       "{-1/3}"
      ]
     },
     "execution_count": 39,
     "metadata": {},
     "output_type": "execute_result"
    }
   ],
   "source": [
    "# get the x value where line8 cuts the x axis\n",
    "sym.simplify(sym.solveset(line8, x))"
   ]
  },
  {
   "cell_type": "code",
   "execution_count": 40,
   "metadata": {},
   "outputs": [
    {
     "data": {
      "image/png": "[encoded data removed]",
      "text/latex": [
       "$$\\left\\{\\frac{1}{3}\\right\\}$$"
      ],
      "text/plain": [
       "{1/3}"
      ]
     },
     "execution_count": 40,
     "metadata": {},
     "output_type": "execute_result"
    }
   ],
   "source": [
    "# get the x value where line9 cuts the x axis\n",
    "sym.simplify(sym.solveset(line9, x))"
   ]
  },
  {
   "cell_type": "markdown",
   "metadata": {},
   "source": [
    "As an indication of how complicated the expressions get, have a look at the (unsimplified) equation for ```line9```.  I wouldn't like to have to do all that by hand."
   ]
  },
  {
   "cell_type": "code",
   "execution_count": 41,
   "metadata": {},
   "outputs": [
    {
     "data": {
      "image/png": "[encoded data removed]",
      "text/latex": [
       "$$\\frac{a \\left(a x_{0} - a - y_{0}\\right)}{\\left(2 a + 3 y_{0}\\right) \\left(- \\frac{a \\left(x_{0} - 1\\right)}{y_{0}} + 1\\right)} + \\frac{\\left(x + \\frac{a x_{0} - a - y_{0}}{2 a + 3 y_{0}}\\right) \\left(- \\frac{a \\left(a x_{0} - a - y_{0}\\right)}{\\left(2 a + 3 y_{0}\\right) \\left(- \\frac{a \\left(x_{0} - 1\\right)}{y_{0}} + 1\\right)} + y_{0}\\right)}{x_{0} + \\frac{a x_{0} - a - y_{0}}{2 a + 3 y_{0}}}$$"
      ],
      "text/plain": [
       "                                  ⎛    a⋅x₀ - a - y₀⎞ ⎛         a⋅(a⋅x₀ - a - \n",
       "                                  ⎜x + ─────────────⎟⋅⎜- ─────────────────────\n",
       "                                  ⎝      2⋅a + 3⋅y₀ ⎠ ⎜               ⎛  a⋅(x₀\n",
       "                                                      ⎜  (2⋅a + 3⋅y₀)⋅⎜- ─────\n",
       "       a⋅(a⋅x₀ - a - y₀)                              ⎝               ⎝      y\n",
       "─────────────────────────────── + ────────────────────────────────────────────\n",
       "             ⎛  a⋅(x₀ - 1)    ⎞                             a⋅x₀ - a - y₀     \n",
       "(2⋅a + 3⋅y₀)⋅⎜- ────────── + 1⎟                        x₀ + ─────────────     \n",
       "             ⎝      y₀        ⎠                               2⋅a + 3⋅y₀      \n",
       "\n",
       "y₀)            ⎞\n",
       "────────── + y₀⎟\n",
       " - 1)    ⎞     ⎟\n",
       "───── + 1⎟     ⎟\n",
       "₀        ⎠     ⎠\n",
       "────────────────\n",
       "                \n",
       "                \n",
       "                "
      ]
     },
     "execution_count": 41,
     "metadata": {},
     "output_type": "execute_result"
    }
   ],
   "source": [
    "line9"
   ]
  },
  {
   "cell_type": "markdown",
   "metadata": {},
   "source": [
    "-------------\n",
    "## Reproducibility\n",
    "The output below shows the environment in which this example was run."
   ]
  },
  {
   "cell_type": "code",
   "execution_count": 42,
   "metadata": {},
   "outputs": [
    {
     "name": "stdout",
     "output_type": "stream",
     "text": [
      "python version : 3.7.1 (default, Dec 10 2018, 22:54:23) [MSC v.1915 64 bit (AMD64)]\n",
      "python environment : ac5-py37\n",
      "sympy version : 1.3\n",
      "current wkg dir: C:\\Users\\donrc\\Documents\\JupyterNotebooks\\SymAlgebraExamplesNotebookProject\\develop\n",
      "Notebook name: Euclidea.ipynb\n",
      "Notebook run at: 2019-08-09 19:31:57.111306 local time\n",
      "Notebook run at: 2019-08-09 09:31:57.112320 UTC\n",
      "Notebook run on: Windows-10-10.0.18362-SP0\n"
     ]
    }
   ],
   "source": [
    "theNotebook = \"Euclidea.ipynb\"\n",
    "\n",
    "\n",
    "def python_env_name():\n",
    "    '''\n",
    "    python_env_name: returns the conda environment in which the execution is running\n",
    "    \n",
    "    Parameters:\n",
    "    None\n",
    "    \n",
    "    Returns:\n",
    "    A string holding the current environment name\n",
    "    '''\n",
    "    envs = subprocess.check_output(\n",
    "        \"conda env list\"\n",
    "    ).splitlines()\n",
    "    # get unicode version of binary subprocess output\n",
    "    envu = [x.decode(\"ascii\") for x in envs]\n",
    "    active_env = list(\n",
    "        filter(lambda s: \"*\" in str(s), envu)\n",
    "    )[0]\n",
    "    env_name = str(active_env).split()[0]\n",
    "    return env_name\n",
    "\n",
    "\n",
    "# end python_env_name\n",
    "\n",
    "\n",
    "print(\"python version : \" + sys.version)\n",
    "print(\"python environment :\", python_env_name())\n",
    "print(\"sympy version : \" + sym.__version__)\n",
    "\n",
    "print(\"current wkg dir: \" + os.getcwd())\n",
    "print(\"Notebook name: \" + theNotebook)\n",
    "print(\n",
    "    \"Notebook run at: \"\n",
    "    + str(datetime.datetime.now())\n",
    "    + \" local time\"\n",
    ")\n",
    "print(\n",
    "    \"Notebook run at: \"\n",
    "    + str(datetime.datetime.utcnow())\n",
    "    + \" UTC\"\n",
    ")\n",
    "print(\"Notebook run on: \" + platform.platform())"
   ]
  }
 ],
 "metadata": {
  "kernelspec": {
   "display_name": "Python 3",
   "language": "python",
   "name": "python3"
  },
  "language_info": {
   "codemirror_mode": {
    "name": "ipython",
    "version": 3
   },
   "file_extension": ".py",
   "mimetype": "text/x-python",
   "name": "python",
   "nbconvert_exporter": "python",
   "pygments_lexer": "ipython3",
   "version": "3.7.1"
  }
 },
 "nbformat": 4,
 "nbformat_minor": 2
}
