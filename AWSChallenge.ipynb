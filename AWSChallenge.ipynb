{
 "cells": [
  {
   "cell_type": "markdown",
   "metadata": {},
   "source": [
    "# AWS Cloud Resume Challenge - Part 1\n",
    "\n",
    "----\n",
    "## Preface / Initialization\n",
    "Generate the graphics used in this report"
   ]
  },
  {
   "cell_type": "code",
   "execution_count": 2,
   "metadata": {},
   "outputs": [],
   "source": [
    "!dot -o images/arch-01.svg -T svg arch-01.txt"
   ]
  },
  {
   "cell_type": "markdown",
   "metadata": {},
   "source": [
    "---- \n",
    "## Introduction\n",
    "\n",
    "I decided to respond to the Cloud Resume Challenge.  This was a challenge to put your resume up on the Internet, in a fully cloud-enabled way, using Amazon Web Services (AWS) offerings  (see https://cloudresumechallenge.dev/).  I found it interesting, a little bit challenging, and am learning more about AWS.\n",
    "\n",
    "I chose to use the URL ```donrcameron-cloudresume.com```;  I could have tried to reserve all possible variations of ```donrcameron-cloudresume.*```, but this would have been expensive.  The cost of a domain name though AWS was about AUS $ 13, but this will change as the exchange rate bounces around. "
   ]
  },
  {
   "cell_type": "markdown",
   "metadata": {},
   "source": [
    "----\n",
    "## Part 1, Prototype 1\n",
    "\n",
    "\n",
    "### Introduction\n",
    "\n",
    "My initial architecture for the first part of the challenge was as below.  ```S3``` is AWS file storage service, ```Route53``` is the AWS Domain Name Service, ```CloudFront``` is the AWS Content Storage and Access service, and ```ACM``` is the AWS Certificate Manager."
   ]
  },
  {
   "cell_type": "markdown",
   "metadata": {},
   "source": [
    "![](images/arch-01.svg)"
   ]
  },
  {
   "cell_type": "markdown",
   "metadata": {},
   "source": [
    "The process flow is that the browser makes a DNS request to resolve ```donrcameron-cloudresume.com```.  ```Route 53``` replies with the IP address of the ```CloudFront``` service.  ```CloudFront``` enforces the use of HTTPS, and this requires the use of a pre-provisioned certificate, previously obtained from ```ACM```.\n",
    "\n",
    "The end result of this is a trusted webpage (HTML) delivered securely to the users browser.\n",
    "\n",
    "Now, to some extent I cheated for this part of the challenge, for this prototype:  I did most of the provisioning for this initial prototytpe via the AWS Management Console GUI.  If I had been a true DevOps, I would have done it all either via the Command Line Interface (CLI), or from Python.  This would have created a repeatable process, that could be documented, and placed under configuration control.\n",
    "\n",
    "I have added repeating all this via the CLI/ API, as a TODO for later in the challenge."
   ]
  },
  {
   "cell_type": "markdown",
   "metadata": {},
   "source": [
    "---\n",
    "### AWS Certificate Management\n",
    "\n",
    "The developer interface to the ```ACM``` service console is show below.  It shows that I have linked the certificate the domain name I have chosen, and sub-domains (like ```www.donrcameron-cloudresume.com```\n"
   ]
  },
  {
   "cell_type": "markdown",
   "metadata": {},
   "source": [
    "![](images/ACM-1.png)"
   ]
  },
  {
   "cell_type": "markdown",
   "metadata": {},
   "source": [
    "[Larger image of above](images/ACM-1.png)\n",
    "\n",
    "#### User visible details of ACM Certificate"
   ]
  },
  {
   "cell_type": "markdown",
   "metadata": {},
   "source": [
    "![](images/ACM-2.png)\n",
    "\n",
    "[Larger image of above](images/ACM-2.png)"
   ]
  },
  {
   "cell_type": "markdown",
   "metadata": {},
   "source": [
    "#### User visible security status of the webpage"
   ]
  },
  {
   "cell_type": "markdown",
   "metadata": {},
   "source": [
    "![](images/ACM-3.png)\n",
    "\n",
    "[Larger image of above](images/ACM-3.png)"
   ]
  },
  {
   "cell_type": "markdown",
   "metadata": {},
   "source": [
    "---\n",
    "### AWS CloudFront\n",
    "\n",
    "```CloudFront``` acts as a front end to the AWS file storage facilities, and caches content at some or all of the edge of the cloud.  This totally unnecessary for me, but I ticked the box for storage at all edges anyhow.\n",
    "\n",
    "The main value that ```CloudFront``` delivers to me, is that it enforces the use of HTTPS to access my content.\n"
   ]
  },
  {
   "cell_type": "markdown",
   "metadata": {},
   "source": [
    "#### DevOps view of Cloudfront - 1"
   ]
  },
  {
   "cell_type": "markdown",
   "metadata": {},
   "source": [
    "![](images/CloudFront-1.png)\n",
    "[Larger image of above](images/CloudFront-1.png)"
   ]
  },
  {
   "cell_type": "markdown",
   "metadata": {},
   "source": [
    "This is the front page of the CloudFront as shows all the CloudFront Distributions we have created (in my case, one)."
   ]
  },
  {
   "cell_type": "markdown",
   "metadata": {},
   "source": [
    "#### DevOps view of CloudFront - 2"
   ]
  },
  {
   "cell_type": "markdown",
   "metadata": {},
   "source": [
    "![](images/CloudFront-2.png)\n",
    "[Larger image of above](images/CloudFront-2.png)"
   ]
  },
  {
   "cell_type": "markdown",
   "metadata": {},
   "source": [
    "If we look at the details of our CloudFront Distribution, we can see the link to the Domain Names we have chosen, and the link to the pre-provisioned SSL Certificate (from ACM)."
   ]
  },
  {
   "cell_type": "markdown",
   "metadata": {},
   "source": [
    "#### DevOps view of CloudFront - 3"
   ]
  },
  {
   "cell_type": "markdown",
   "metadata": {},
   "source": [
    "![](images/CloudFront-3.png)\n",
    "[Larger image of above](images/CloudFront-3.png)"
   ]
  },
  {
   "cell_type": "markdown",
   "metadata": {},
   "source": [
    "In the Origins tab, we can see where CloudFront is sourcing the content: an AWS S3 Bucket, set up earlier."
   ]
  },
  {
   "cell_type": "markdown",
   "metadata": {},
   "source": [
    "#### DevOps view of CloudFront - 4"
   ]
  },
  {
   "cell_type": "markdown",
   "metadata": {},
   "source": [
    "![](images/CloudFront-4.png)\n",
    "[Larger image of above](images/CloudFront-4.png)"
   ]
  },
  {
   "cell_type": "markdown",
   "metadata": {},
   "source": [
    "Finally, in the Behaviours, we can confirm that insecure HTTP requests will be redirected to HTTPS."
   ]
  },
  {
   "cell_type": "markdown",
   "metadata": {},
   "source": [
    "---\n",
    "### AWS Simple Storage System (S3)\n",
    "\n",
    "S3 provides storage of the files that make up my resume webpage.  In this prototype, these are the HTML content for my resume, an error page (for somebody who says ```donrcameron-cloudresume.com/x```, returning a 404 Not Found page is preferred), and a Cascading Style Sheet (CSS) specification file.  The latter allows the style of my resume to be tweeked, seperately from tweeking the content.\n",
    "\n",
    "The collection of files that are to grouped together are called a ```Bucket```.\n",
    "\n",
    "It is possible to run a website entirely from an S3 Bucket, but it appears the CloudFront is needed to enforce HTTPS, and manage ACM Certificates.\n"
   ]
  },
  {
   "cell_type": "markdown",
   "metadata": {},
   "source": [
    "#### DevOps view of S3 - 1"
   ]
  },
  {
   "cell_type": "markdown",
   "metadata": {},
   "source": [
    "![](images/S3-1.png)\n",
    "[Larger image of above](images/S3-1.png)"
   ]
  },
  {
   "cell_type": "markdown",
   "metadata": {},
   "source": [
    "The initial S3 page (in the AWS Console) shows us the S3 bucket we have created previously  (in fact, as the first step).\n",
    "\n",
    "#### DevOps view of S3 - 2"
   ]
  },
  {
   "cell_type": "markdown",
   "metadata": {},
   "source": [
    "![](images/S3-2.png)\n",
    "[Larger image of above](images/S3-2.png)"
   ]
  },
  {
   "cell_type": "markdown",
   "metadata": {},
   "source": [
    "Here we see the files that we uploaded previously (after testing them locally on our hard-drive)\n",
    "\n",
    "#### DevOps view of S3 - 3\n",
    "![](images/S3-3.png)\n",
    "[Larger image of above](images/S3-3.png)"
   ]
  },
  {
   "cell_type": "markdown",
   "metadata": {},
   "source": [
    "This shows where we could enable Static Website Hosting.  Choosing this option allows us to check that the S3 Bucket can act as a website, but we have to use the endpoint (obscure URL) that AWS gives us, rather than our chosen domain-name.  I used this initially, but then re-created the Bucket with this option tirned off."
   ]
  },
  {
   "cell_type": "markdown",
   "metadata": {},
   "source": [
    "#### DevOps view of S3 - 4\n",
    "![](images/S3-4.png)\n",
    "[Larger image of above](images/S3-4.png)"
   ]
  },
  {
   "cell_type": "markdown",
   "metadata": {},
   "source": [
    "By default S3 Buckets are private.  In order to have a website that the whole world can access, we have to turn off blocking of public access (double negative  here!).\n",
    "\n",
    "#### DevOps view of S3 - 5\n",
    "![](images/S3-5.png)\n",
    "[Larger image of above](images/S3-5.png)"
   ]
  },
  {
   "cell_type": "markdown",
   "metadata": {},
   "source": [
    "This is where we allow the world read access to our website.\n",
    "\n",
    "Note that (for this prototype) we have not bothered to set the ListBucket policy:  this means that when a user types to acess  a non-existent file, we will reply \"Access Denied\", not \"File Not Found\".  C'est la vie."
   ]
  },
  {
   "cell_type": "markdown",
   "metadata": {},
   "source": [
    "---\n",
    "## Conclusions\n",
    "\n",
    "So now I have secure website as below:\n",
    "\n",
    "![](images/part1.png)\n",
    "\n",
    "[Larger image of above](images/part1.png)\n",
    "\n",
    "The next step is to add a page load counter, but that is another blog post :)"
   ]
  },
  {
   "cell_type": "code",
   "execution_count": null,
   "metadata": {},
   "outputs": [],
   "source": []
  }
 ],
 "metadata": {
  "kernelspec": {
   "display_name": "Python 3",
   "language": "python",
   "name": "python3"
  },
  "language_info": {
   "codemirror_mode": {
    "name": "ipython",
    "version": 3
   },
   "file_extension": ".py",
   "mimetype": "text/x-python",
   "name": "python",
   "nbconvert_exporter": "python",
   "pygments_lexer": "ipython3",
   "version": "3.7.1"
  }
 },
 "nbformat": 4,
 "nbformat_minor": 4
}
