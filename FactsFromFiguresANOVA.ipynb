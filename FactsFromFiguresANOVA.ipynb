{
 "cells": [
  {
   "cell_type": "markdown",
   "metadata": {},
   "source": [
    "# Simple ANOVA Examples\n",
    "\n",
    "## Introduction\n",
    "\n",
    "This is an example of working an ANOVA, with a really simple dataset, using ```statsmodels```.  In some cases, we perform explicit computation of model parameters, and then compare them to the ```statsmodels``` answers. The examples are taken from \"Facts from Figures\" by M. J. Moroney, a Pelican book from before the days of computers."
   ]
  },
  {
   "cell_type": "markdown",
   "metadata": {},
   "source": [
    "-----\n",
    "## Initialize Environment"
   ]
  },
  {
   "cell_type": "code",
   "execution_count": 79,
   "metadata": {},
   "outputs": [
    {
     "name": "stdout",
     "output_type": "stream",
     "text": [
      "The watermark extension is already loaded. To reload it, use:\n",
      "  %reload_ext watermark\n"
     ]
    }
   ],
   "source": [
    "%load_ext watermark"
   ]
  },
  {
   "cell_type": "code",
   "execution_count": 80,
   "metadata": {},
   "outputs": [],
   "source": [
    "%reload_ext lab_black"
   ]
  },
  {
   "cell_type": "code",
   "execution_count": 81,
   "metadata": {},
   "outputs": [],
   "source": [
    "%matplotlib inline"
   ]
  },
  {
   "cell_type": "code",
   "execution_count": 82,
   "metadata": {},
   "outputs": [],
   "source": [
    "import pandas as pd\n",
    "import numpy as np\n",
    "import seaborn as sn\n",
    "\n",
    "import matplotlib.pyplot as plt\n",
    "from mpl_toolkits.mplot3d import Axes3D\n",
    "\n",
    "from scipy import stats\n",
    "from statsmodels.formula.api import ols\n",
    "from statsmodels.formula.api import rlm\n",
    "import statsmodels.api as sm\n",
    "from statsmodels.stats.anova import AnovaRM\n",
    "\n",
    "from patsy import dmatrices\n",
    "\n",
    "from patsy.contrasts import Treatment\n",
    "from patsy.contrasts import Sum\n",
    "from patsy.contrasts import Diff\n",
    "\n",
    "\n",
    "import warnings"
   ]
  },
  {
   "cell_type": "markdown",
   "metadata": {},
   "source": [
    "---\n",
    "# Facts from Figures Chap 19\n",
    "\n",
    "## Dataset 1\n",
    "\n",
    "This dataset is taken from \"Facts from Figures\", by M.J.Moroney, Page 374.  We have four samples (each of five items) take from some population.  We will look at the between sample variation, as opposed to the within sample variation.\n",
    "\n",
    "We first look at the dataset in \"wide\" format (with one column for each sample), and create a ```pandas``` dataframe "
   ]
  },
  {
   "cell_type": "code",
   "execution_count": 83,
   "metadata": {},
   "outputs": [],
   "source": [
    "S1 = [2, 3, 1, 3, 1]\n",
    "S2 = [3, 4, 3, 5, 0]\n",
    "S3 = [6, 8, 7, 4, 10]\n",
    "S4 = [5, 5, 5, 3, 2]"
   ]
  },
  {
   "cell_type": "code",
   "execution_count": 84,
   "metadata": {},
   "outputs": [],
   "source": [
    "df_dict = {\"S1\": S1, \"S2\": S2, \"S3\": S3, \"S4\": S4}"
   ]
  },
  {
   "cell_type": "code",
   "execution_count": 85,
   "metadata": {},
   "outputs": [],
   "source": [
    "data = pd.DataFrame(df_dict)"
   ]
  },
  {
   "cell_type": "code",
   "execution_count": 86,
   "metadata": {},
   "outputs": [
    {
     "data": {
      "text/html": [
       "<div>\n",
       "<style scoped>\n",
       "    .dataframe tbody tr th:only-of-type {\n",
       "        vertical-align: middle;\n",
       "    }\n",
       "\n",
       "    .dataframe tbody tr th {\n",
       "        vertical-align: top;\n",
       "    }\n",
       "\n",
       "    .dataframe thead th {\n",
       "        text-align: right;\n",
       "    }\n",
       "</style>\n",
       "<table border=\"1\" class=\"dataframe\">\n",
       "  <thead>\n",
       "    <tr style=\"text-align: right;\">\n",
       "      <th></th>\n",
       "      <th>S1</th>\n",
       "      <th>S2</th>\n",
       "      <th>S3</th>\n",
       "      <th>S4</th>\n",
       "    </tr>\n",
       "  </thead>\n",
       "  <tbody>\n",
       "    <tr>\n",
       "      <th>0</th>\n",
       "      <td>2</td>\n",
       "      <td>3</td>\n",
       "      <td>6</td>\n",
       "      <td>5</td>\n",
       "    </tr>\n",
       "    <tr>\n",
       "      <th>1</th>\n",
       "      <td>3</td>\n",
       "      <td>4</td>\n",
       "      <td>8</td>\n",
       "      <td>5</td>\n",
       "    </tr>\n",
       "    <tr>\n",
       "      <th>2</th>\n",
       "      <td>1</td>\n",
       "      <td>3</td>\n",
       "      <td>7</td>\n",
       "      <td>5</td>\n",
       "    </tr>\n",
       "    <tr>\n",
       "      <th>3</th>\n",
       "      <td>3</td>\n",
       "      <td>5</td>\n",
       "      <td>4</td>\n",
       "      <td>3</td>\n",
       "    </tr>\n",
       "    <tr>\n",
       "      <th>4</th>\n",
       "      <td>1</td>\n",
       "      <td>0</td>\n",
       "      <td>10</td>\n",
       "      <td>2</td>\n",
       "    </tr>\n",
       "  </tbody>\n",
       "</table>\n",
       "</div>"
      ],
      "text/plain": [
       "   S1  S2  S3  S4\n",
       "0   2   3   6   5\n",
       "1   3   4   8   5\n",
       "2   1   3   7   5\n",
       "3   3   5   4   3\n",
       "4   1   0  10   2"
      ]
     },
     "execution_count": 86,
     "metadata": {},
     "output_type": "execute_result"
    }
   ],
   "source": [
    "data"
   ]
  },
  {
   "cell_type": "code",
   "execution_count": 87,
   "metadata": {},
   "outputs": [
    {
     "data": {
      "text/plain": [
       "Index(['S1', 'S2', 'S3', 'S4'], dtype='object')"
      ]
     },
     "execution_count": 87,
     "metadata": {},
     "output_type": "execute_result"
    }
   ],
   "source": [
    "data.columns"
   ]
  },
  {
   "cell_type": "markdown",
   "metadata": {},
   "source": [
    "Show the mean of each sample"
   ]
  },
  {
   "cell_type": "code",
   "execution_count": 88,
   "metadata": {},
   "outputs": [
    {
     "name": "stdout",
     "output_type": "stream",
     "text": [
      "S1 2.0\n",
      "S2 3.0\n",
      "S3 7.0\n",
      "S4 4.0\n"
     ]
    }
   ],
   "source": [
    "for name in data.columns:\n",
    "    print(name, data[name].mean())"
   ]
  },
  {
   "cell_type": "markdown",
   "metadata": {},
   "source": [
    "Another way to show means, usimg ```pandas``` methods operating on the dataframe as a whole"
   ]
  },
  {
   "cell_type": "code",
   "execution_count": 89,
   "metadata": {},
   "outputs": [
    {
     "data": {
      "text/plain": [
       "S1    2.0\n",
       "S2    3.0\n",
       "S3    7.0\n",
       "S4    4.0\n",
       "dtype: float64"
      ]
     },
     "execution_count": 89,
     "metadata": {},
     "output_type": "execute_result"
    }
   ],
   "source": [
    "data.mean()"
   ]
  },
  {
   "cell_type": "markdown",
   "metadata": {},
   "source": [
    "Get the mean of the whole dataset  (works because each sample has the same number of observation = 5)"
   ]
  },
  {
   "cell_type": "code",
   "execution_count": 90,
   "metadata": {},
   "outputs": [
    {
     "data": {
      "text/plain": [
       "4.0"
      ]
     },
     "execution_count": 90,
     "metadata": {},
     "output_type": "execute_result"
    }
   ],
   "source": [
    "mu = data.mean().mean()\n",
    "mu"
   ]
  },
  {
   "cell_type": "markdown",
   "metadata": {},
   "source": [
    "Create a new \"long\" dataset, where sample number is now an attribute (not a column identity).  Further, we tell ```pandas``` thet the sample number is a categorical variable, not numeric"
   ]
  },
  {
   "cell_type": "code",
   "execution_count": 91,
   "metadata": {},
   "outputs": [],
   "source": [
    "values = (\n",
    "    list(data[\"S1\"])\n",
    "    + list(data[\"S2\"])\n",
    "    + list(data[\"S3\"])\n",
    "    + list(data[\"S4\"])\n",
    ")\n",
    "sample = (\n",
    "    list(np.ones(5) * 1)\n",
    "    + list(np.ones(5) * 2)\n",
    "    + list(np.ones(5) * 3)\n",
    "    + list(np.ones(5) * 4)\n",
    ")"
   ]
  },
  {
   "cell_type": "code",
   "execution_count": 92,
   "metadata": {},
   "outputs": [
    {
     "name": "stdout",
     "output_type": "stream",
     "text": [
      "   values sample\n",
      "0       2      1\n",
      "1       3      1\n",
      "2       1      1\n",
      "3       3      1\n",
      "4       1      1 \n",
      "     values sample\n",
      "15       5      4\n",
      "16       5      4\n",
      "17       5      4\n",
      "18       3      4\n",
      "19       2      4\n"
     ]
    }
   ],
   "source": [
    "# get a dict holding names of columns and associated data\n",
    "\n",
    "dict2 = {\"values\": values, \"sample\": sample}\n",
    "\n",
    "# build dataframe\n",
    "data_long = pd.DataFrame(dict2)\n",
    "\n",
    "# declare sample to be a categorical variable\n",
    "data_long[\"sample\"] = data_long[\"sample\"].astype(int)\n",
    "data_long[\"sample\"] = data_long[\"sample\"].astype(\"category\")\n",
    "\n",
    "# show the first and last few rows\n",
    "print(data_long.head(), \"\\n\", data_long.tail())"
   ]
  },
  {
   "cell_type": "markdown",
   "metadata": {},
   "source": [
    "----\n",
    "### Compute Sums of Squares\n",
    "\n",
    "\n",
    "We create a number of sum of squares: \n",
    "\n",
    "- ```sst``` is the sum of squares of variation across the whole dataset, against the global mean\n",
    "- ```ssm``` is the sum of squares of the difference between the Sample Mean, and the Global Mean, for all observations (__Between Sample Variation__)\n",
    "- ```sse``` is the  sum of squares of the difference between an observation Value and the Sample Mean, for all observations (__Within Sample Variation__)\n"
   ]
  },
  {
   "cell_type": "code",
   "execution_count": 93,
   "metadata": {},
   "outputs": [
    {
     "data": {
      "text/plain": [
       "116.0"
      ]
     },
     "execution_count": 93,
     "metadata": {},
     "output_type": "execute_result"
    }
   ],
   "source": [
    "#\n",
    "#  Get total sum of squares Values against Global Mean\n",
    "#\n",
    "mean_v = data_long[\"values\"].mean()  #\n",
    "#  Get the within sample sum of squares of an observation Value and the Sample Mean, for all observations\n",
    "#\n",
    "\n",
    "\n",
    "sst = sum(\n",
    "    (data_long[\"values\"] - mean_v)\n",
    "    * (data_long[\"values\"] - mean_v)\n",
    ")\n",
    "sst"
   ]
  },
  {
   "cell_type": "code",
   "execution_count": 94,
   "metadata": {},
   "outputs": [
    {
     "data": {
      "text/plain": [
       "70.0"
      ]
     },
     "execution_count": 94,
     "metadata": {},
     "output_type": "execute_result"
    }
   ],
   "source": [
    "#\n",
    "# Get the between Sample sum of squares\n",
    "# get the square of difference between the Sample Mean, and the Global Mean, for all observations\n",
    "#\n",
    "ssm = sum(\n",
    "    [\n",
    "        (mean_v - data.mean()[i - 1]) ** 2\n",
    "        for i in data_long['sample'].astype(int)\n",
    "    ]\n",
    ")\n",
    "ssm"
   ]
  },
  {
   "cell_type": "code",
   "execution_count": 95,
   "metadata": {},
   "outputs": [
    {
     "data": {
      "text/plain": [
       "46.0"
      ]
     },
     "execution_count": 95,
     "metadata": {},
     "output_type": "execute_result"
    }
   ],
   "source": [
    "#\n",
    "#  Get the within sample sum of squares of an observation Value and the Sample Mean, for all observations\n",
    "#\n",
    "\n",
    "sse = sum(\n",
    "    [\n",
    "        (v - data.mean()[s - 1]) ** 2\n",
    "        for v, s in zip(\n",
    "            data_long['values'],\n",
    "            data_long['sample'].astype(int),\n",
    "        )\n",
    "    ]\n",
    ")\n",
    "sse"
   ]
  },
  {
   "cell_type": "markdown",
   "metadata": {},
   "source": [
    "- For the sample as whole, the Degrees of Freedom = 19 (20 observations)\n",
    "- For the between-sample variation, the Degrees of Freedom = 3 (4 sample -1)\n",
    "- For the within-sample variation, the Degrees of Freedom = 16 ( 4 sample, each of 5 observations = 4 * (5-1)"
   ]
  },
  {
   "cell_type": "markdown",
   "metadata": {},
   "source": [
    "The variance estimates for each of ```sst```, ```ssm``` and ```sse``` are:"
   ]
  },
  {
   "cell_type": "code",
   "execution_count": 96,
   "metadata": {},
   "outputs": [
    {
     "name": "stdout",
     "output_type": "stream",
     "text": [
      "Variance Estimates (total, between sample, within sample):    6.10526,   23.33333,    2.87500\n"
     ]
    }
   ],
   "source": [
    "print(\n",
    "    f'Variance Estimates (total, between sample, within sample): {(sst / 19):10.5f}, {(ssm / 3):10.5f}, {(sse / 16):10.5f}'\n",
    ")"
   ]
  },
  {
   "cell_type": "markdown",
   "metadata": {},
   "source": [
    "The ratio of the between sample variance to the within sample variance (i.e. how much bigger is the spread of sample means vs spread of values in a single sample) is (under the Null Hypothesis) an F statistic"
   ]
  },
  {
   "cell_type": "code",
   "execution_count": 97,
   "metadata": {},
   "outputs": [
    {
     "name": "stdout",
     "output_type": "stream",
     "text": [
      " F value =    8.11594\n"
     ]
    }
   ],
   "source": [
    "print(f' F value = {(ssm / 3)/((sse / 16)):10.5f}')"
   ]
  },
  {
   "cell_type": "markdown",
   "metadata": {},
   "source": [
    "----\n",
    "### Visualize Dataset\n",
    "\n",
    "We use ```pandas``` platting methods to show an overlapping set of histograms, one for each sample, and one for the total dataset.  It turns out that this is __not__ a startlingly good way of representing the data"
   ]
  },
  {
   "cell_type": "code",
   "execution_count": 98,
   "metadata": {},
   "outputs": [
    {
     "data": {
      "text/plain": [
       "<matplotlib.legend.Legend at 0x2af1d0a3be0>"
      ]
     },
     "execution_count": 98,
     "metadata": {},
     "output_type": "execute_result"
    },
    {
     "data": {
      "image/png": "[encoded data removed]",
      "text/plain": [
       "<Figure size 576x576 with 1 Axes>"
      ]
     },
     "metadata": {
      "needs_background": "light"
     },
     "output_type": "display_data"
    }
   ],
   "source": [
    "fig, ax = plt.subplots(figsize=(8, 8))\n",
    "\n",
    "# show histogram for whole dataset\n",
    "data_long.hist('values', ax=ax, alpha=0.2, label='All Data')\n",
    "\n",
    "# show histogram for each sample\n",
    "for i in [1, 2, 3, 4]:\n",
    "    data_long[data_long['sample'] == i].hist(\n",
    "        'values', ax=ax, alpha=0.5, label='Sample ' + str(i)\n",
    "    )\n",
    "# end for\n",
    "ax.legend(loc='best')"
   ]
  },
  {
   "cell_type": "markdown",
   "metadata": {},
   "source": [
    "Lets try again, with the old standard, a scatter plot.  We show global mean, and each sample mean, and each datapoint"
   ]
  },
  {
   "cell_type": "code",
   "execution_count": 99,
   "metadata": {},
   "outputs": [
    {
     "data": {
      "image/png": "[encoded data removed]",
      "text/plain": [
       "<Figure size 432x288 with 1 Axes>"
      ]
     },
     "metadata": {
      "needs_background": "light"
     },
     "output_type": "display_data"
    }
   ],
   "source": [
    "_ = plt.plot(\n",
    "    data_long['sample'].astype(int),\n",
    "    data_long['values'],\n",
    "    'o',\n",
    "    alpha=0.5,  # allows overlapping points to be distinguished\n",
    "    label='Data',\n",
    ")\n",
    "\n",
    "_ = plt.axhline(\n",
    "    data_long['values'].mean(),\n",
    "    color='k',\n",
    "    label='Global Mean',\n",
    ")\n",
    "for i in [1, 2, 3, 4]:\n",
    "    plt.plot(\n",
    "        i,\n",
    "        data_long[data_long['sample'] == i][\n",
    "            'values'\n",
    "        ].mean(),\n",
    "        '*',\n",
    "        label='Sample Mean ' + str(i),\n",
    "        alpha=1,\n",
    "        markersize=10,\n",
    "    )\n",
    "\n",
    "# end for\n",
    "_ = plt.legend(loc='best')"
   ]
  },
  {
   "cell_type": "markdown",
   "metadata": {},
   "source": [
    "\n",
    "------\n",
    "### Fit Linear Model\n",
    "\n",
    "Based upon the graphs above, we first normalize the dataset, by subtracting the Global Mean from each value.\n",
    "\n",
    "We then specify a model \n",
    "\n",
    "- value s= beta_1 * sample_1 + beta_2 * sample_2 + beta_3 * sample_3 + beta_4 * sample_4 + Normal(0,Std_err)\n",
    "\n",
    "where sample_i = 1 if the observation is in the i_th sample, and 0 otherwise  (known as one-hot type encoding)\n",
    "\n",
    "When we call ```ols```, we have to specify that we do __not__ want an intercept term by adding \"-1\" to the formula we use\n",
    "\n",
    "Under the Null Hypothesis (H0), each observation of each samples are drawn from the same distribution, so beta_i will 0, each each i in 1,2,3,4"
   ]
  },
  {
   "cell_type": "code",
   "execution_count": 100,
   "metadata": {},
   "outputs": [
    {
     "data": {
      "text/html": [
       "<table class=\"simpletable\">\n",
       "<caption>OLS Regression Results</caption>\n",
       "<tr>\n",
       "  <th>Dep. Variable:</th>         <td>values</td>      <th>  R-squared:         </th> <td>   0.603</td>\n",
       "</tr>\n",
       "<tr>\n",
       "  <th>Model:</th>                   <td>OLS</td>       <th>  Adj. R-squared:    </th> <td>   0.529</td>\n",
       "</tr>\n",
       "<tr>\n",
       "  <th>Method:</th>             <td>Least Squares</td>  <th>  F-statistic:       </th> <td>   8.116</td>\n",
       "</tr>\n",
       "<tr>\n",
       "  <th>Date:</th>             <td>Wed, 01 Apr 2020</td> <th>  Prob (F-statistic):</th>  <td>0.00164</td>\n",
       "</tr>\n",
       "<tr>\n",
       "  <th>Time:</th>                 <td>14:29:08</td>     <th>  Log-Likelihood:    </th> <td> -36.708</td>\n",
       "</tr>\n",
       "<tr>\n",
       "  <th>No. Observations:</th>      <td>    20</td>      <th>  AIC:               </th> <td>   81.42</td>\n",
       "</tr>\n",
       "<tr>\n",
       "  <th>Df Residuals:</th>          <td>    16</td>      <th>  BIC:               </th> <td>   85.40</td>\n",
       "</tr>\n",
       "<tr>\n",
       "  <th>Df Model:</th>              <td>     3</td>      <th>                     </th>     <td> </td>   \n",
       "</tr>\n",
       "<tr>\n",
       "  <th>Covariance Type:</th>      <td>nonrobust</td>    <th>                     </th>     <td> </td>   \n",
       "</tr>\n",
       "</table>\n",
       "<table class=\"simpletable\">\n",
       "<tr>\n",
       "      <td></td>         <th>coef</th>     <th>std err</th>      <th>t</th>      <th>P>|t|</th>  <th>[0.025</th>    <th>0.975]</th>  \n",
       "</tr>\n",
       "<tr>\n",
       "  <th>sample[1]</th> <td>   -2.0000</td> <td>    0.758</td> <td>   -2.638</td> <td> 0.018</td> <td>   -3.607</td> <td>   -0.393</td>\n",
       "</tr>\n",
       "<tr>\n",
       "  <th>sample[2]</th> <td>   -1.0000</td> <td>    0.758</td> <td>   -1.319</td> <td> 0.206</td> <td>   -2.607</td> <td>    0.607</td>\n",
       "</tr>\n",
       "<tr>\n",
       "  <th>sample[3]</th> <td>    3.0000</td> <td>    0.758</td> <td>    3.956</td> <td> 0.001</td> <td>    1.393</td> <td>    4.607</td>\n",
       "</tr>\n",
       "<tr>\n",
       "  <th>sample[4]</th> <td>         0</td> <td>    0.758</td> <td>        0</td> <td> 1.000</td> <td>   -1.607</td> <td>    1.607</td>\n",
       "</tr>\n",
       "</table>\n",
       "<table class=\"simpletable\">\n",
       "<tr>\n",
       "  <th>Omnibus:</th>       <td> 0.631</td> <th>  Durbin-Watson:     </th> <td>   2.348</td>\n",
       "</tr>\n",
       "<tr>\n",
       "  <th>Prob(Omnibus):</th> <td> 0.729</td> <th>  Jarque-Bera (JB):  </th> <td>   0.468</td>\n",
       "</tr>\n",
       "<tr>\n",
       "  <th>Skew:</th>          <td>-0.344</td> <th>  Prob(JB):          </th> <td>   0.791</td>\n",
       "</tr>\n",
       "<tr>\n",
       "  <th>Kurtosis:</th>      <td> 2.703</td> <th>  Cond. No.          </th> <td>    1.00</td>\n",
       "</tr>\n",
       "</table><br/><br/>Warnings:<br/>[1] Standard Errors assume that the covariance matrix of the errors is correctly specified."
      ],
      "text/plain": [
       "<class 'statsmodels.iolib.summary.Summary'>\n",
       "\"\"\"\n",
       "                            OLS Regression Results                            \n",
       "==============================================================================\n",
       "Dep. Variable:                 values   R-squared:                       0.603\n",
       "Model:                            OLS   Adj. R-squared:                  0.529\n",
       "Method:                 Least Squares   F-statistic:                     8.116\n",
       "Date:                Wed, 01 Apr 2020   Prob (F-statistic):            0.00164\n",
       "Time:                        14:29:08   Log-Likelihood:                -36.708\n",
       "No. Observations:                  20   AIC:                             81.42\n",
       "Df Residuals:                      16   BIC:                             85.40\n",
       "Df Model:                           3                                         \n",
       "Covariance Type:            nonrobust                                         \n",
       "==============================================================================\n",
       "                 coef    std err          t      P>|t|      [0.025      0.975]\n",
       "------------------------------------------------------------------------------\n",
       "sample[1]     -2.0000      0.758     -2.638      0.018      -3.607      -0.393\n",
       "sample[2]     -1.0000      0.758     -1.319      0.206      -2.607       0.607\n",
       "sample[3]      3.0000      0.758      3.956      0.001       1.393       4.607\n",
       "sample[4]           0      0.758          0      1.000      -1.607       1.607\n",
       "==============================================================================\n",
       "Omnibus:                        0.631   Durbin-Watson:                   2.348\n",
       "Prob(Omnibus):                  0.729   Jarque-Bera (JB):                0.468\n",
       "Skew:                          -0.344   Prob(JB):                        0.791\n",
       "Kurtosis:                       2.703   Cond. No.                         1.00\n",
       "==============================================================================\n",
       "\n",
       "Warnings:\n",
       "[1] Standard Errors assume that the covariance matrix of the errors is correctly specified.\n",
       "\"\"\""
      ]
     },
     "execution_count": 100,
     "metadata": {},
     "output_type": "execute_result"
    }
   ],
   "source": [
    "data_long_z = data_long.copy()\n",
    "data_long_z['values'] = data_long_z['values'] - mean_v\n",
    "\n",
    "res2_2 = ols(\"values ~ sample -1\", data=data_long_z).fit()\n",
    "res2_2.summary()"
   ]
  },
  {
   "cell_type": "markdown",
   "metadata": {},
   "source": [
    "We can see from the ```P>|t|``` column above that sample 2 and 4 do not have values significantly (at 5%) different from the overall population, but samples 1 and 3 do appear to differ"
   ]
  },
  {
   "cell_type": "markdown",
   "metadata": {},
   "source": [
    "We can confirm various values held in the RegressionResults object\n",
    "\n",
    "Compare to \n",
    "\n",
    "> ```Variance Estimates (total, between sample, within sample):    6.10526,   23.33333,    2.87500```"
   ]
  },
  {
   "cell_type": "code",
   "execution_count": 101,
   "metadata": {},
   "outputs": [
    {
     "name": "stdout",
     "output_type": "stream",
     "text": [
      " Mean Square Total              6.10526\n",
      " Mean Square Between Samples   23.33333\n",
      " Mean Square Within Samples     2.87500\n"
     ]
    }
   ],
   "source": [
    "print(\n",
    "    f' Mean Square Total           {res2_2.mse_total:10.5f}'\n",
    ")\n",
    "print(\n",
    "    f' Mean Square Between Samples {res2_2.mse_model:10.5f}'\n",
    ")\n",
    "print(\n",
    "    f' Mean Square Within Samples  {res2_2.mse_resid:10.5f}'\n",
    ")"
   ]
  },
  {
   "cell_type": "markdown",
   "metadata": {},
   "source": [
    "The standard error for a sample of 5 items will be a factor of ```1/sqrt(5)``` smaller the the standard error for a single item (the ```RegressionResults.summary()``` displayed value agrees)"
   ]
  },
  {
   "cell_type": "code",
   "execution_count": 102,
   "metadata": {},
   "outputs": [
    {
     "name": "stdout",
     "output_type": "stream",
     "text": [
      " Mean of Sample of 5 Standard Error =    0.75829\n"
     ]
    }
   ],
   "source": [
    "print(\n",
    "    f' Mean of Sample of 5 Standard Error = {np.sqrt(res2_2.mse_resid / 5):10.5f}'\n",
    ")"
   ]
  },
  {
   "cell_type": "markdown",
   "metadata": {},
   "source": [
    "Get probability of getting sample means as far from zero as we actually have. Coefficient 1 and 3 are very unlikely to have been drawn from a population having the same mean as the rest of the samples.  This agrees with the results in the RegressionResults summary above"
   ]
  },
  {
   "cell_type": "code",
   "execution_count": 103,
   "metadata": {},
   "outputs": [
    {
     "data": {
      "text/plain": [
       "(0.017901874492978635, 0.2057360634914765, 0.0011320979947368858, 1.0)"
      ]
     },
     "execution_count": 103,
     "metadata": {},
     "output_type": "execute_result"
    }
   ],
   "source": [
    "(\n",
    "    stats.t.sf(2.638, 16) * 2,\n",
    "    stats.t.sf(1.319, 16) * 2,\n",
    "    stats.t.sf(3.956, 16) * 2,\n",
    "    stats.t.sf(0, 16) * 2,\n",
    ")"
   ]
  },
  {
   "cell_type": "markdown",
   "metadata": {},
   "source": [
    "Get 5% confidence limits"
   ]
  },
  {
   "cell_type": "code",
   "execution_count": 104,
   "metadata": {},
   "outputs": [
    {
     "data": {
      "text/plain": [
       "(-1.6068882168095264, 1.6068882168095264)"
      ]
     },
     "execution_count": 104,
     "metadata": {},
     "output_type": "execute_result"
    }
   ],
   "source": [
    "lower_ci = 0.758 * stats.t.ppf(0.025, 16)\n",
    "upper_ci = 0.758 * stats.t.ppf(0.975, 16)\n",
    "lower_ci, upper_ci"
   ]
  },
  {
   "cell_type": "code",
   "execution_count": 105,
   "metadata": {},
   "outputs": [
    {
     "data": {
      "text/plain": [
       "Text(0, 0.5, 'Coefficient of Normalized Sample\\n(= Normalized Sample Mean) ')"
      ]
     },
     "execution_count": 105,
     "metadata": {},
     "output_type": "execute_result"
    },
    {
     "data": {
      "image/png": "[encoded data removed]",
      "text/plain": [
       "<Figure size 432x288 with 1 Axes>"
      ]
     },
     "metadata": {
      "needs_background": "light"
     },
     "output_type": "display_data"
    }
   ],
   "source": [
    "for i in [1, 2, 3, 4]:\n",
    "    plt.plot(\n",
    "        i,\n",
    "        res2_2.params.iloc[i - 1],\n",
    "        'bo',\n",
    "        label='Sample Coeff ' + str(i),\n",
    "        alpha=1,\n",
    "        markersize=10,\n",
    "    )\n",
    "    plt.plot(\n",
    "        i,\n",
    "        res2_2.params.iloc[i - 1] + lower_ci,\n",
    "        'go',\n",
    "        alpha=1,\n",
    "        markersize=10,\n",
    "    )\n",
    "    plt.plot(\n",
    "        i,\n",
    "        res2_2.params.iloc[i - 1] + upper_ci,\n",
    "        'go',\n",
    "        alpha=1,\n",
    "        markersize=10,\n",
    "    )\n",
    "    plt.plot(\n",
    "        [i, i],\n",
    "        [\n",
    "            res2_2.params.iloc[i - 1] + lower_ci,\n",
    "            res2_2.params.iloc[i - 1] + upper_ci,\n",
    "        ],\n",
    "        'r-',\n",
    "        alpha=1,\n",
    "        markersize=10,\n",
    "    )\n",
    "# end for\n",
    "_ = plt.axhline(0, color='k')\n",
    "plt.xlabel('Sample Number')\n",
    "plt.ylabel(\n",
    "    'Coefficient of Normalized Sample\\n(= Normalized Sample Mean) '\n",
    ")"
   ]
  },
  {
   "cell_type": "markdown",
   "metadata": {},
   "source": [
    "We get the same results when we get predictions from our OLD linear model"
   ]
  },
  {
   "cell_type": "code",
   "execution_count": 106,
   "metadata": {},
   "outputs": [
    {
     "name": "stdout",
     "output_type": "stream",
     "text": [
      "   mean   mean_se  mean_ci_lower  mean_ci_upper  obs_ci_lower  obs_ci_upper\n",
      "0  -2.0  0.758288      -3.607498      -0.392502     -5.937549      1.937549\n",
      "   mean   mean_se  mean_ci_lower  mean_ci_upper  obs_ci_lower  obs_ci_upper\n",
      "0  -1.0  0.758288      -2.607498       0.607498     -4.937549      2.937549\n",
      "   mean   mean_se  mean_ci_lower  mean_ci_upper  obs_ci_lower  obs_ci_upper\n",
      "0   3.0  0.758288       1.392502       4.607498     -0.937549      6.937549\n",
      "   mean   mean_se  mean_ci_lower  mean_ci_upper  obs_ci_lower  obs_ci_upper\n",
      "0   0.0  0.758288      -1.607498       1.607498     -3.937549      3.937549\n"
     ]
    }
   ],
   "source": [
    "for i in [1, 2, 3, 4]:\n",
    "    gp = res2_2.get_prediction({'sample': i})\n",
    "\n",
    "    print(gp.summary_frame())\n",
    "# end for"
   ]
  },
  {
   "cell_type": "markdown",
   "metadata": {},
   "source": [
    "### Non-Normalized Model\n",
    "\n",
    "We could choose not to normalize our model to zero mean  (at the small inconvenience of making the coefficients a little harder to understand; they are now offsets from the mean of Sample 1), and we would get exactly the same results"
   ]
  },
  {
   "cell_type": "code",
   "execution_count": 107,
   "metadata": {},
   "outputs": [
    {
     "data": {
      "text/html": [
       "<table class=\"simpletable\">\n",
       "<caption>OLS Regression Results</caption>\n",
       "<tr>\n",
       "  <th>Dep. Variable:</th>         <td>values</td>      <th>  R-squared:         </th> <td>   0.603</td>\n",
       "</tr>\n",
       "<tr>\n",
       "  <th>Model:</th>                   <td>OLS</td>       <th>  Adj. R-squared:    </th> <td>   0.529</td>\n",
       "</tr>\n",
       "<tr>\n",
       "  <th>Method:</th>             <td>Least Squares</td>  <th>  F-statistic:       </th> <td>   8.116</td>\n",
       "</tr>\n",
       "<tr>\n",
       "  <th>Date:</th>             <td>Wed, 01 Apr 2020</td> <th>  Prob (F-statistic):</th>  <td>0.00164</td>\n",
       "</tr>\n",
       "<tr>\n",
       "  <th>Time:</th>                 <td>14:29:09</td>     <th>  Log-Likelihood:    </th> <td> -36.708</td>\n",
       "</tr>\n",
       "<tr>\n",
       "  <th>No. Observations:</th>      <td>    20</td>      <th>  AIC:               </th> <td>   81.42</td>\n",
       "</tr>\n",
       "<tr>\n",
       "  <th>Df Residuals:</th>          <td>    16</td>      <th>  BIC:               </th> <td>   85.40</td>\n",
       "</tr>\n",
       "<tr>\n",
       "  <th>Df Model:</th>              <td>     3</td>      <th>                     </th>     <td> </td>   \n",
       "</tr>\n",
       "<tr>\n",
       "  <th>Covariance Type:</th>      <td>nonrobust</td>    <th>                     </th>     <td> </td>   \n",
       "</tr>\n",
       "</table>\n",
       "<table class=\"simpletable\">\n",
       "<tr>\n",
       "       <td></td>          <th>coef</th>     <th>std err</th>      <th>t</th>      <th>P>|t|</th>  <th>[0.025</th>    <th>0.975]</th>  \n",
       "</tr>\n",
       "<tr>\n",
       "  <th>Intercept</th>   <td>    2.0000</td> <td>    0.758</td> <td>    2.638</td> <td> 0.018</td> <td>    0.393</td> <td>    3.607</td>\n",
       "</tr>\n",
       "<tr>\n",
       "  <th>sample[T.2]</th> <td>    1.0000</td> <td>    1.072</td> <td>    0.933</td> <td> 0.365</td> <td>   -1.273</td> <td>    3.273</td>\n",
       "</tr>\n",
       "<tr>\n",
       "  <th>sample[T.3]</th> <td>    5.0000</td> <td>    1.072</td> <td>    4.663</td> <td> 0.000</td> <td>    2.727</td> <td>    7.273</td>\n",
       "</tr>\n",
       "<tr>\n",
       "  <th>sample[T.4]</th> <td>    2.0000</td> <td>    1.072</td> <td>    1.865</td> <td> 0.081</td> <td>   -0.273</td> <td>    4.273</td>\n",
       "</tr>\n",
       "</table>\n",
       "<table class=\"simpletable\">\n",
       "<tr>\n",
       "  <th>Omnibus:</th>       <td> 0.631</td> <th>  Durbin-Watson:     </th> <td>   2.348</td>\n",
       "</tr>\n",
       "<tr>\n",
       "  <th>Prob(Omnibus):</th> <td> 0.729</td> <th>  Jarque-Bera (JB):  </th> <td>   0.468</td>\n",
       "</tr>\n",
       "<tr>\n",
       "  <th>Skew:</th>          <td>-0.344</td> <th>  Prob(JB):          </th> <td>   0.791</td>\n",
       "</tr>\n",
       "<tr>\n",
       "  <th>Kurtosis:</th>      <td> 2.703</td> <th>  Cond. No.          </th> <td>    4.79</td>\n",
       "</tr>\n",
       "</table><br/><br/>Warnings:<br/>[1] Standard Errors assume that the covariance matrix of the errors is correctly specified."
      ],
      "text/plain": [
       "<class 'statsmodels.iolib.summary.Summary'>\n",
       "\"\"\"\n",
       "                            OLS Regression Results                            \n",
       "==============================================================================\n",
       "Dep. Variable:                 values   R-squared:                       0.603\n",
       "Model:                            OLS   Adj. R-squared:                  0.529\n",
       "Method:                 Least Squares   F-statistic:                     8.116\n",
       "Date:                Wed, 01 Apr 2020   Prob (F-statistic):            0.00164\n",
       "Time:                        14:29:09   Log-Likelihood:                -36.708\n",
       "No. Observations:                  20   AIC:                             81.42\n",
       "Df Residuals:                      16   BIC:                             85.40\n",
       "Df Model:                           3                                         \n",
       "Covariance Type:            nonrobust                                         \n",
       "===============================================================================\n",
       "                  coef    std err          t      P>|t|      [0.025      0.975]\n",
       "-------------------------------------------------------------------------------\n",
       "Intercept       2.0000      0.758      2.638      0.018       0.393       3.607\n",
       "sample[T.2]     1.0000      1.072      0.933      0.365      -1.273       3.273\n",
       "sample[T.3]     5.0000      1.072      4.663      0.000       2.727       7.273\n",
       "sample[T.4]     2.0000      1.072      1.865      0.081      -0.273       4.273\n",
       "==============================================================================\n",
       "Omnibus:                        0.631   Durbin-Watson:                   2.348\n",
       "Prob(Omnibus):                  0.729   Jarque-Bera (JB):                0.468\n",
       "Skew:                          -0.344   Prob(JB):                        0.791\n",
       "Kurtosis:                       2.703   Cond. No.                         4.79\n",
       "==============================================================================\n",
       "\n",
       "Warnings:\n",
       "[1] Standard Errors assume that the covariance matrix of the errors is correctly specified.\n",
       "\"\"\""
      ]
     },
     "execution_count": 107,
     "metadata": {},
     "output_type": "execute_result"
    }
   ],
   "source": [
    "res2_3 = ols(\"values ~ sample \", data=data_long).fit()\n",
    "res2_3.summary()"
   ]
  },
  {
   "cell_type": "code",
   "execution_count": 108,
   "metadata": {},
   "outputs": [
    {
     "name": "stdout",
     "output_type": "stream",
     "text": [
      "   mean   mean_se  mean_ci_lower  mean_ci_upper  obs_ci_lower  obs_ci_upper\n",
      "0   2.0  0.758288       0.392502       3.607498     -1.937549      5.937549\n",
      "   mean   mean_se  mean_ci_lower  mean_ci_upper  obs_ci_lower  obs_ci_upper\n",
      "0   3.0  0.758288       1.392502       4.607498     -0.937549      6.937549\n",
      "   mean   mean_se  mean_ci_lower  mean_ci_upper  obs_ci_lower  obs_ci_upper\n",
      "0   7.0  0.758288       5.392502       8.607498      3.062451     10.937549\n",
      "   mean   mean_se  mean_ci_lower  mean_ci_upper  obs_ci_lower  obs_ci_upper\n",
      "0   4.0  0.758288       2.392502       5.607498      0.062451      7.937549\n"
     ]
    }
   ],
   "source": [
    "# get predictions of the mean for all our samples\n",
    "\n",
    "for i in [1, 2, 3, 4]:\n",
    "    gp = res2_3.get_prediction({'sample': i})\n",
    "\n",
    "    print(gp.summary_frame())\n",
    "# end for"
   ]
  },
  {
   "cell_type": "markdown",
   "metadata": {},
   "source": [
    "The Linear Model ANOVA method gives the same F value as we explcitly calculated above."
   ]
  },
  {
   "cell_type": "code",
   "execution_count": 109,
   "metadata": {},
   "outputs": [
    {
     "data": {
      "text/html": [
       "<div>\n",
       "<style scoped>\n",
       "    .dataframe tbody tr th:only-of-type {\n",
       "        vertical-align: middle;\n",
       "    }\n",
       "\n",
       "    .dataframe tbody tr th {\n",
       "        vertical-align: top;\n",
       "    }\n",
       "\n",
       "    .dataframe thead th {\n",
       "        text-align: right;\n",
       "    }\n",
       "</style>\n",
       "<table border=\"1\" class=\"dataframe\">\n",
       "  <thead>\n",
       "    <tr style=\"text-align: right;\">\n",
       "      <th></th>\n",
       "      <th>df</th>\n",
       "      <th>sum_sq</th>\n",
       "      <th>mean_sq</th>\n",
       "      <th>F</th>\n",
       "      <th>PR(&gt;F)</th>\n",
       "    </tr>\n",
       "  </thead>\n",
       "  <tbody>\n",
       "    <tr>\n",
       "      <th>sample</th>\n",
       "      <td>3.0</td>\n",
       "      <td>70.0</td>\n",
       "      <td>23.333333</td>\n",
       "      <td>8.115942</td>\n",
       "      <td>0.001642</td>\n",
       "    </tr>\n",
       "    <tr>\n",
       "      <th>Residual</th>\n",
       "      <td>16.0</td>\n",
       "      <td>46.0</td>\n",
       "      <td>2.875000</td>\n",
       "      <td>NaN</td>\n",
       "      <td>NaN</td>\n",
       "    </tr>\n",
       "  </tbody>\n",
       "</table>\n",
       "</div>"
      ],
      "text/plain": [
       "            df  sum_sq    mean_sq         F    PR(>F)\n",
       "sample     3.0    70.0  23.333333  8.115942  0.001642\n",
       "Residual  16.0    46.0   2.875000       NaN       NaN"
      ]
     },
     "execution_count": 109,
     "metadata": {},
     "output_type": "execute_result"
    }
   ],
   "source": [
    "sm.stats.anova_lm(res2_3)"
   ]
  },
  {
   "cell_type": "markdown",
   "metadata": {},
   "source": [
    "----------------\n",
    "\n",
    "## DataSet 2"
   ]
  },
  {
   "cell_type": "markdown",
   "metadata": {},
   "source": [
    "This is taken from \"Facts from Figures\", page 380.  We have data on price bid on the same goods, packaged in 4 different ways.  We wish to determine if package affects price significantly."
   ]
  },
  {
   "cell_type": "markdown",
   "metadata": {},
   "source": [
    "Set up our ```pandas``` dataframe, declaring ```pack``` to be a categorical variable"
   ]
  },
  {
   "cell_type": "code",
   "execution_count": 110,
   "metadata": {},
   "outputs": [],
   "source": [
    "value = (\n",
    "    [66, 82, 60, 50, 60, 90]\n",
    "    + [42, 66, 30, 60, 36, 48]\n",
    "    + [54, 90, 60, 81, 60, 51]\n",
    "    + [78, 54, 60, 42, 71, 49]\n",
    ")\n",
    "pack = (\n",
    "    list(np.ones(6) * 1)\n",
    "    + list(np.ones(6) * 2)\n",
    "    + list(np.ones(6) * 3)\n",
    "    + list(np.ones(6) * 4)\n",
    ")\n",
    "\n",
    "df_dict = {\"value\": value, \"pack\": pack}\n",
    "data = pd.DataFrame(df_dict)\n",
    "data[\"pack\"] = data[\"pack\"].astype(\"category\")"
   ]
  },
  {
   "cell_type": "code",
   "execution_count": 111,
   "metadata": {},
   "outputs": [
    {
     "data": {
      "text/html": [
       "<div>\n",
       "<style scoped>\n",
       "    .dataframe tbody tr th:only-of-type {\n",
       "        vertical-align: middle;\n",
       "    }\n",
       "\n",
       "    .dataframe tbody tr th {\n",
       "        vertical-align: top;\n",
       "    }\n",
       "\n",
       "    .dataframe thead th {\n",
       "        text-align: right;\n",
       "    }\n",
       "</style>\n",
       "<table border=\"1\" class=\"dataframe\">\n",
       "  <thead>\n",
       "    <tr style=\"text-align: right;\">\n",
       "      <th></th>\n",
       "      <th>value</th>\n",
       "      <th>pack</th>\n",
       "    </tr>\n",
       "  </thead>\n",
       "  <tbody>\n",
       "    <tr>\n",
       "      <th>0</th>\n",
       "      <td>66</td>\n",
       "      <td>1.0</td>\n",
       "    </tr>\n",
       "    <tr>\n",
       "      <th>1</th>\n",
       "      <td>82</td>\n",
       "      <td>1.0</td>\n",
       "    </tr>\n",
       "    <tr>\n",
       "      <th>2</th>\n",
       "      <td>60</td>\n",
       "      <td>1.0</td>\n",
       "    </tr>\n",
       "    <tr>\n",
       "      <th>3</th>\n",
       "      <td>50</td>\n",
       "      <td>1.0</td>\n",
       "    </tr>\n",
       "    <tr>\n",
       "      <th>4</th>\n",
       "      <td>60</td>\n",
       "      <td>1.0</td>\n",
       "    </tr>\n",
       "  </tbody>\n",
       "</table>\n",
       "</div>"
      ],
      "text/plain": [
       "   value pack\n",
       "0     66  1.0\n",
       "1     82  1.0\n",
       "2     60  1.0\n",
       "3     50  1.0\n",
       "4     60  1.0"
      ]
     },
     "execution_count": 111,
     "metadata": {},
     "output_type": "execute_result"
    }
   ],
   "source": [
    "data.head()"
   ]
  },
  {
   "cell_type": "markdown",
   "metadata": {},
   "source": [
    "Visualize our datasets, plotting value against package numbre , for all our observations.  We also mark our within package means (stars) and global mean (black line)."
   ]
  },
  {
   "cell_type": "code",
   "execution_count": 112,
   "metadata": {},
   "outputs": [
    {
     "data": {
      "image/png": "[encoded data removed]",
      "text/plain": [
       "<Figure size 432x288 with 1 Axes>"
      ]
     },
     "metadata": {
      "needs_background": "light"
     },
     "output_type": "display_data"
    }
   ],
   "source": [
    "_ = plt.plot(data['pack'].astype(int), data['value'], 'o')\n",
    "for p in data['pack'].unique():\n",
    "    plt.plot(\n",
    "        p,\n",
    "        data[data['pack'] == p]['value'].mean(),\n",
    "        '*',\n",
    "        markersize=20,\n",
    "    )\n",
    "\n",
    "# end for\n",
    "_ = plt.axhline(data['value'].mean(), color='k')\n",
    "_ = plt.xlabel('Pack Number')\n",
    "_ = plt.ylabel('Assessed Value')"
   ]
  },
  {
   "cell_type": "markdown",
   "metadata": {},
   "source": [
    "### Fit a Linear Model"
   ]
  },
  {
   "cell_type": "code",
   "execution_count": 113,
   "metadata": {},
   "outputs": [
    {
     "data": {
      "text/html": [
       "<table class=\"simpletable\">\n",
       "<caption>OLS Regression Results</caption>\n",
       "<tr>\n",
       "  <th>Dep. Variable:</th>          <td>value</td>      <th>  R-squared:         </th> <td>   0.275</td>\n",
       "</tr>\n",
       "<tr>\n",
       "  <th>Model:</th>                   <td>OLS</td>       <th>  Adj. R-squared:    </th> <td>   0.167</td>\n",
       "</tr>\n",
       "<tr>\n",
       "  <th>Method:</th>             <td>Least Squares</td>  <th>  F-statistic:       </th> <td>   2.533</td>\n",
       "</tr>\n",
       "<tr>\n",
       "  <th>Date:</th>             <td>Wed, 01 Apr 2020</td> <th>  Prob (F-statistic):</th>  <td>0.0860</td> \n",
       "</tr>\n",
       "<tr>\n",
       "  <th>Time:</th>                 <td>14:29:10</td>     <th>  Log-Likelihood:    </th> <td> -96.213</td>\n",
       "</tr>\n",
       "<tr>\n",
       "  <th>No. Observations:</th>      <td>    24</td>      <th>  AIC:               </th> <td>   200.4</td>\n",
       "</tr>\n",
       "<tr>\n",
       "  <th>Df Residuals:</th>          <td>    20</td>      <th>  BIC:               </th> <td>   205.1</td>\n",
       "</tr>\n",
       "<tr>\n",
       "  <th>Df Model:</th>              <td>     3</td>      <th>                     </th>     <td> </td>   \n",
       "</tr>\n",
       "<tr>\n",
       "  <th>Covariance Type:</th>      <td>nonrobust</td>    <th>                     </th>     <td> </td>   \n",
       "</tr>\n",
       "</table>\n",
       "<table class=\"simpletable\">\n",
       "<tr>\n",
       "       <td></td>          <th>coef</th>     <th>std err</th>      <th>t</th>      <th>P>|t|</th>  <th>[0.025</th>    <th>0.975]</th>  \n",
       "</tr>\n",
       "<tr>\n",
       "  <th>Intercept</th>   <td>   68.0000</td> <td>    5.961</td> <td>   11.408</td> <td> 0.000</td> <td>   55.566</td> <td>   80.434</td>\n",
       "</tr>\n",
       "<tr>\n",
       "  <th>pack[T.2.0]</th> <td>  -21.0000</td> <td>    8.430</td> <td>   -2.491</td> <td> 0.022</td> <td>  -38.585</td> <td>   -3.415</td>\n",
       "</tr>\n",
       "<tr>\n",
       "  <th>pack[T.3.0]</th> <td>   -2.0000</td> <td>    8.430</td> <td>   -0.237</td> <td> 0.815</td> <td>  -19.585</td> <td>   15.585</td>\n",
       "</tr>\n",
       "<tr>\n",
       "  <th>pack[T.4.0]</th> <td>   -9.0000</td> <td>    8.430</td> <td>   -1.068</td> <td> 0.298</td> <td>  -26.585</td> <td>    8.585</td>\n",
       "</tr>\n",
       "</table>\n",
       "<table class=\"simpletable\">\n",
       "<tr>\n",
       "  <th>Omnibus:</th>       <td> 5.096</td> <th>  Durbin-Watson:     </th> <td>   3.003</td>\n",
       "</tr>\n",
       "<tr>\n",
       "  <th>Prob(Omnibus):</th> <td> 0.078</td> <th>  Jarque-Bera (JB):  </th> <td>   2.179</td>\n",
       "</tr>\n",
       "<tr>\n",
       "  <th>Skew:</th>          <td> 0.412</td> <th>  Prob(JB):          </th> <td>   0.336</td>\n",
       "</tr>\n",
       "<tr>\n",
       "  <th>Kurtosis:</th>      <td> 1.776</td> <th>  Cond. No.          </th> <td>    4.79</td>\n",
       "</tr>\n",
       "</table><br/><br/>Warnings:<br/>[1] Standard Errors assume that the covariance matrix of the errors is correctly specified."
      ],
      "text/plain": [
       "<class 'statsmodels.iolib.summary.Summary'>\n",
       "\"\"\"\n",
       "                            OLS Regression Results                            \n",
       "==============================================================================\n",
       "Dep. Variable:                  value   R-squared:                       0.275\n",
       "Model:                            OLS   Adj. R-squared:                  0.167\n",
       "Method:                 Least Squares   F-statistic:                     2.533\n",
       "Date:                Wed, 01 Apr 2020   Prob (F-statistic):             0.0860\n",
       "Time:                        14:29:10   Log-Likelihood:                -96.213\n",
       "No. Observations:                  24   AIC:                             200.4\n",
       "Df Residuals:                      20   BIC:                             205.1\n",
       "Df Model:                           3                                         \n",
       "Covariance Type:            nonrobust                                         \n",
       "===============================================================================\n",
       "                  coef    std err          t      P>|t|      [0.025      0.975]\n",
       "-------------------------------------------------------------------------------\n",
       "Intercept      68.0000      5.961     11.408      0.000      55.566      80.434\n",
       "pack[T.2.0]   -21.0000      8.430     -2.491      0.022     -38.585      -3.415\n",
       "pack[T.3.0]    -2.0000      8.430     -0.237      0.815     -19.585      15.585\n",
       "pack[T.4.0]    -9.0000      8.430     -1.068      0.298     -26.585       8.585\n",
       "==============================================================================\n",
       "Omnibus:                        5.096   Durbin-Watson:                   3.003\n",
       "Prob(Omnibus):                  0.078   Jarque-Bera (JB):                2.179\n",
       "Skew:                           0.412   Prob(JB):                        0.336\n",
       "Kurtosis:                       1.776   Cond. No.                         4.79\n",
       "==============================================================================\n",
       "\n",
       "Warnings:\n",
       "[1] Standard Errors assume that the covariance matrix of the errors is correctly specified.\n",
       "\"\"\""
      ]
     },
     "execution_count": 113,
     "metadata": {},
     "output_type": "execute_result"
    }
   ],
   "source": [
    "res3 = ols(\"value ~ pack\", data=data).fit()\n",
    "res3.summary()"
   ]
  },
  {
   "cell_type": "code",
   "execution_count": 114,
   "metadata": {},
   "outputs": [
    {
     "name": "stdout",
     "output_type": "stream",
     "text": [
      "   mean   mean_se  mean_ci_lower  mean_ci_upper  obs_ci_lower  obs_ci_upper\n",
      "0  68.0  5.960984      55.565605      80.434395     35.101682    100.898318\n",
      "   mean   mean_se  mean_ci_lower  mean_ci_upper  obs_ci_lower  obs_ci_upper\n",
      "0  47.0  5.960984      34.565605      59.434395     14.101682     79.898318\n",
      "   mean   mean_se  mean_ci_lower  mean_ci_upper  obs_ci_lower  obs_ci_upper\n",
      "0  66.0  5.960984      53.565605      78.434395     33.101682     98.898318\n",
      "   mean   mean_se  mean_ci_lower  mean_ci_upper  obs_ci_lower  obs_ci_upper\n",
      "0  59.0  5.960984      46.565605      71.434395     26.101682     91.898318\n"
     ]
    }
   ],
   "source": [
    "for i in [1, 2, 3, 4]:\n",
    "    gp = res3.get_prediction({'pack': i})\n",
    "\n",
    "    print(gp.summary_frame())\n",
    "# end for"
   ]
  },
  {
   "cell_type": "markdown",
   "metadata": {},
   "source": [
    "### Perform ANOVA\n",
    "\n",
    "We see that the F value this large would be seen about 9 times out of 100, so at the 5% level, we cannot reject the Null Hypothesis that packaging has no effect on valuation of the goods."
   ]
  },
  {
   "cell_type": "code",
   "execution_count": 115,
   "metadata": {},
   "outputs": [
    {
     "data": {
      "text/html": [
       "<div>\n",
       "<style scoped>\n",
       "    .dataframe tbody tr th:only-of-type {\n",
       "        vertical-align: middle;\n",
       "    }\n",
       "\n",
       "    .dataframe tbody tr th {\n",
       "        vertical-align: top;\n",
       "    }\n",
       "\n",
       "    .dataframe thead th {\n",
       "        text-align: right;\n",
       "    }\n",
       "</style>\n",
       "<table border=\"1\" class=\"dataframe\">\n",
       "  <thead>\n",
       "    <tr style=\"text-align: right;\">\n",
       "      <th></th>\n",
       "      <th>df</th>\n",
       "      <th>sum_sq</th>\n",
       "      <th>mean_sq</th>\n",
       "      <th>F</th>\n",
       "      <th>PR(&gt;F)</th>\n",
       "    </tr>\n",
       "  </thead>\n",
       "  <tbody>\n",
       "    <tr>\n",
       "      <th>pack</th>\n",
       "      <td>3.0</td>\n",
       "      <td>1620.0</td>\n",
       "      <td>540.0</td>\n",
       "      <td>2.532833</td>\n",
       "      <td>0.086028</td>\n",
       "    </tr>\n",
       "    <tr>\n",
       "      <th>Residual</th>\n",
       "      <td>20.0</td>\n",
       "      <td>4264.0</td>\n",
       "      <td>213.2</td>\n",
       "      <td>NaN</td>\n",
       "      <td>NaN</td>\n",
       "    </tr>\n",
       "  </tbody>\n",
       "</table>\n",
       "</div>"
      ],
      "text/plain": [
       "            df  sum_sq  mean_sq         F    PR(>F)\n",
       "pack       3.0  1620.0    540.0  2.532833  0.086028\n",
       "Residual  20.0  4264.0    213.2       NaN       NaN"
      ]
     },
     "execution_count": 115,
     "metadata": {},
     "output_type": "execute_result"
    }
   ],
   "source": [
    "anv = sm.stats.anova_lm(res3)\n",
    "anv"
   ]
  },
  {
   "cell_type": "markdown",
   "metadata": {},
   "source": [
    "### Explicit F Calculation"
   ]
  },
  {
   "cell_type": "code",
   "execution_count": 116,
   "metadata": {},
   "outputs": [
    {
     "data": {
      "text/plain": [
       "5884.0"
      ]
     },
     "execution_count": 116,
     "metadata": {},
     "output_type": "execute_result"
    }
   ],
   "source": [
    "#\n",
    "#  Get total sum of squares Values against Global Mean\n",
    "#\n",
    "\n",
    "mean_v = data[\"value\"].mean()\n",
    "sst = sum(\n",
    "    (data[\"value\"] - mean_v) * (data[\"value\"] - mean_v)\n",
    ")\n",
    "sst"
   ]
  },
  {
   "cell_type": "code",
   "execution_count": 117,
   "metadata": {},
   "outputs": [
    {
     "data": {
      "text/plain": [
       "1620.0"
      ]
     },
     "execution_count": 117,
     "metadata": {},
     "output_type": "execute_result"
    }
   ],
   "source": [
    "#\n",
    "# Get the between Package sum of squares\n",
    "# get the square of difference between the Package Mean, and the Global Mean, for all observations\n",
    "#\n",
    "ssm = sum(\n",
    "    [\n",
    "        (mean_v - data[data['pack'] == i]['value'].mean())\n",
    "        ** 2\n",
    "        for i in data['pack'].astype(int)\n",
    "    ]\n",
    ")\n",
    "ssm"
   ]
  },
  {
   "cell_type": "code",
   "execution_count": 118,
   "metadata": {},
   "outputs": [
    {
     "data": {
      "text/plain": [
       "4264.0"
      ]
     },
     "execution_count": 118,
     "metadata": {},
     "output_type": "execute_result"
    }
   ],
   "source": [
    "#\n",
    "#  Get the within Package sum of squares of an observation Value and the Package Mean, for all observations\n",
    "#\n",
    "\n",
    "sse = sum(\n",
    "    [\n",
    "        (v - data[data['pack'] == p]['value'].mean()) ** 2\n",
    "        for v, p in zip(\n",
    "            data['value'], data['pack'].astype(int)\n",
    "        )\n",
    "    ]\n",
    ")\n",
    "sse"
   ]
  },
  {
   "cell_type": "markdown",
   "metadata": {},
   "source": [
    "\n",
    "- For the sample as whole, the Degrees of Freedom = 23 (224 observations)\n",
    "- For the between-sample variation, the Degrees of Freedom = 3 (4 packages -1)\n",
    "- For the within-sample variation, the Degrees of Freedom = 20 ( 4 packages, each of 6 observations = 4 * (6-1))"
   ]
  },
  {
   "cell_type": "code",
   "execution_count": 119,
   "metadata": {},
   "outputs": [
    {
     "name": "stdout",
     "output_type": "stream",
     "text": [
      "Variance Estimates (total, between sample, within sample):  255.82609,  540.00000,  213.20000\n"
     ]
    }
   ],
   "source": [
    "print(\n",
    "    f'Variance Estimates (total, between sample, within sample): {(sst / 23):10.5f}, {(ssm / 3):10.5f}, {(sse / 20):10.5f}'\n",
    ")"
   ]
  },
  {
   "cell_type": "code",
   "execution_count": 120,
   "metadata": {},
   "outputs": [
    {
     "name": "stdout",
     "output_type": "stream",
     "text": [
      " F value =    2.53283\n"
     ]
    }
   ],
   "source": [
    "print(f' F value = {(ssm / 3)/((sse / 20)):10.5f}')"
   ]
  },
  {
   "cell_type": "markdown",
   "metadata": {},
   "source": [
    "The explicitly computed F value agrees with the ```statsmodels``` results"
   ]
  },
  {
   "cell_type": "markdown",
   "metadata": {},
   "source": [
    "------\n",
    "## Two Levels of ANOVA\n",
    "\n",
    "See \"Facts from Figures\", page 385.  In this example, we have sales results for four  different persons (A, B ,C, D) each selling at three different locations (C = CBD, O = Outskirts, S = Shopping Centre).  The sales results are normalized before the analysis, but this doesn't affect the analysis of significance."
   ]
  },
  {
   "cell_type": "markdown",
   "metadata": {},
   "source": [
    "Create our ```pandas``` dataframe"
   ]
  },
  {
   "cell_type": "code",
   "execution_count": 121,
   "metadata": {},
   "outputs": [],
   "source": [
    "sales = [30, 70, 30, 30, 80, 50, 40, 70, 100, 60, 80, 80]\n",
    "C = 'C'\n",
    "O = 'O'\n",
    "S = 'S'\n",
    "district = [C, C, C, C, O, O, O, O, S, S, S, S]\n",
    "A = 'A'\n",
    "B = 'B'\n",
    "C = 'C'\n",
    "D = 'D'\n",
    "person = [A, B, C, D, A, B, C, D, A, B, C, D]\n",
    "\n",
    "df_dict = {\n",
    "    'sales': sales,\n",
    "    'district': district,\n",
    "    'person': person,\n",
    "}\n",
    "data4 = pd.DataFrame(df_dict)"
   ]
  },
  {
   "cell_type": "markdown",
   "metadata": {},
   "source": [
    "Visualize the effect different salespersons and locations have on the observations"
   ]
  },
  {
   "cell_type": "code",
   "execution_count": 122,
   "metadata": {},
   "outputs": [
    {
     "data": {
      "image/png": "[encoded data removed]",
      "text/plain": [
       "<Figure size 432x288 with 1 Axes>"
      ]
     },
     "metadata": {
      "needs_background": "light"
     },
     "output_type": "display_data"
    }
   ],
   "source": [
    "_ = sm.graphics.interaction_plot(\n",
    "    data4['person'], data4['district'], data4['sales']\n",
    ")"
   ]
  },
  {
   "cell_type": "code",
   "execution_count": 123,
   "metadata": {},
   "outputs": [
    {
     "data": {
      "image/png": "[encoded data removed]",
      "text/plain": [
       "<Figure size 432x288 with 1 Axes>"
      ]
     },
     "metadata": {
      "needs_background": "light"
     },
     "output_type": "display_data"
    }
   ],
   "source": [
    "_ = sm.graphics.interaction_plot(\n",
    "    data4['district'], data4['person'], data4['sales']\n",
    ")"
   ]
  },
  {
   "cell_type": "markdown",
   "metadata": {},
   "source": [
    "Normalize the observations (originally to make manual calculation easier - I told you this was old-school)"
   ]
  },
  {
   "cell_type": "code",
   "execution_count": 124,
   "metadata": {},
   "outputs": [
    {
     "data": {
      "text/html": [
       "<div>\n",
       "<style scoped>\n",
       "    .dataframe tbody tr th:only-of-type {\n",
       "        vertical-align: middle;\n",
       "    }\n",
       "\n",
       "    .dataframe tbody tr th {\n",
       "        vertical-align: top;\n",
       "    }\n",
       "\n",
       "    .dataframe thead th {\n",
       "        text-align: right;\n",
       "    }\n",
       "</style>\n",
       "<table border=\"1\" class=\"dataframe\">\n",
       "  <thead>\n",
       "    <tr style=\"text-align: right;\">\n",
       "      <th></th>\n",
       "      <th>sales</th>\n",
       "      <th>district</th>\n",
       "      <th>person</th>\n",
       "    </tr>\n",
       "  </thead>\n",
       "  <tbody>\n",
       "    <tr>\n",
       "      <th>0</th>\n",
       "      <td>-2.0</td>\n",
       "      <td>C</td>\n",
       "      <td>A</td>\n",
       "    </tr>\n",
       "    <tr>\n",
       "      <th>1</th>\n",
       "      <td>2.0</td>\n",
       "      <td>C</td>\n",
       "      <td>B</td>\n",
       "    </tr>\n",
       "    <tr>\n",
       "      <th>2</th>\n",
       "      <td>-2.0</td>\n",
       "      <td>C</td>\n",
       "      <td>C</td>\n",
       "    </tr>\n",
       "    <tr>\n",
       "      <th>3</th>\n",
       "      <td>-2.0</td>\n",
       "      <td>C</td>\n",
       "      <td>D</td>\n",
       "    </tr>\n",
       "    <tr>\n",
       "      <th>4</th>\n",
       "      <td>3.0</td>\n",
       "      <td>O</td>\n",
       "      <td>A</td>\n",
       "    </tr>\n",
       "    <tr>\n",
       "      <th>5</th>\n",
       "      <td>0.0</td>\n",
       "      <td>O</td>\n",
       "      <td>B</td>\n",
       "    </tr>\n",
       "    <tr>\n",
       "      <th>6</th>\n",
       "      <td>-1.0</td>\n",
       "      <td>O</td>\n",
       "      <td>C</td>\n",
       "    </tr>\n",
       "    <tr>\n",
       "      <th>7</th>\n",
       "      <td>2.0</td>\n",
       "      <td>O</td>\n",
       "      <td>D</td>\n",
       "    </tr>\n",
       "    <tr>\n",
       "      <th>8</th>\n",
       "      <td>5.0</td>\n",
       "      <td>S</td>\n",
       "      <td>A</td>\n",
       "    </tr>\n",
       "    <tr>\n",
       "      <th>9</th>\n",
       "      <td>1.0</td>\n",
       "      <td>S</td>\n",
       "      <td>B</td>\n",
       "    </tr>\n",
       "    <tr>\n",
       "      <th>10</th>\n",
       "      <td>3.0</td>\n",
       "      <td>S</td>\n",
       "      <td>C</td>\n",
       "    </tr>\n",
       "    <tr>\n",
       "      <th>11</th>\n",
       "      <td>3.0</td>\n",
       "      <td>S</td>\n",
       "      <td>D</td>\n",
       "    </tr>\n",
       "  </tbody>\n",
       "</table>\n",
       "</div>"
      ],
      "text/plain": [
       "    sales district person\n",
       "0    -2.0        C      A\n",
       "1     2.0        C      B\n",
       "2    -2.0        C      C\n",
       "3    -2.0        C      D\n",
       "4     3.0        O      A\n",
       "5     0.0        O      B\n",
       "6    -1.0        O      C\n",
       "7     2.0        O      D\n",
       "8     5.0        S      A\n",
       "9     1.0        S      B\n",
       "10    3.0        S      C\n",
       "11    3.0        S      D"
      ]
     },
     "execution_count": 124,
     "metadata": {},
     "output_type": "execute_result"
    }
   ],
   "source": [
    "data4['sales'] = (data4['sales'] - 50) / 10\n",
    "data4"
   ]
  },
  {
   "cell_type": "markdown",
   "metadata": {},
   "source": [
    "Compute the global mean"
   ]
  },
  {
   "cell_type": "code",
   "execution_count": 125,
   "metadata": {},
   "outputs": [
    {
     "data": {
      "text/plain": [
       "1.0"
      ]
     },
     "execution_count": 125,
     "metadata": {},
     "output_type": "execute_result"
    }
   ],
   "source": [
    "mean_v = sum(data4['sales']) / len(data4['sales'])\n",
    "mean_v"
   ]
  },
  {
   "cell_type": "markdown",
   "metadata": {},
   "source": [
    "Get the total sum of squares, and its degrees of freedom"
   ]
  },
  {
   "cell_type": "code",
   "execution_count": 126,
   "metadata": {},
   "outputs": [
    {
     "data": {
      "text/plain": [
       "(62.0, 11)"
      ]
     },
     "execution_count": 126,
     "metadata": {},
     "output_type": "execute_result"
    }
   ],
   "source": [
    "total_ss = sum(\n",
    "    [\n",
    "        (mean_v - data4['sales'].iloc[i]) ** 2\n",
    "        for i in range(len(data4))\n",
    "    ]\n",
    ")\n",
    "total_df = len(data4) - 1\n",
    "total_ss, total_df"
   ]
  },
  {
   "cell_type": "markdown",
   "metadata": {},
   "source": [
    "Get the between Person sum of squares,  and its degrees of freedom"
   ]
  },
  {
   "cell_type": "code",
   "execution_count": 127,
   "metadata": {},
   "outputs": [
    {
     "data": {
      "text/plain": [
       "(6.0, 3)"
      ]
     },
     "execution_count": 127,
     "metadata": {},
     "output_type": "execute_result"
    }
   ],
   "source": [
    "person_ss = 0\n",
    "for i in range(len(data4)):\n",
    "    name = data4['person'].iloc[i]\n",
    "    person_ss = (\n",
    "        person_ss\n",
    "        + (\n",
    "            mean_v\n",
    "            - data4[data4['person'] == name]['sales'].mean()\n",
    "        )\n",
    "        ** 2\n",
    "    )\n",
    "# end for\n",
    "person_df = len(data4['person'].unique()) - 1\n",
    "person_ss, person_df"
   ]
  },
  {
   "cell_type": "markdown",
   "metadata": {},
   "source": [
    "Get the between Districts sum of squares,  and its degrees of freedom"
   ]
  },
  {
   "cell_type": "code",
   "execution_count": 128,
   "metadata": {},
   "outputs": [
    {
     "data": {
      "text/plain": [
       "(32.0, 2)"
      ]
     },
     "execution_count": 128,
     "metadata": {},
     "output_type": "execute_result"
    }
   ],
   "source": [
    "district_ss = 0\n",
    "for i in range(len(data4)):\n",
    "    name = data4['district'].iloc[i]\n",
    "    district_ss = (\n",
    "        district_ss\n",
    "        + (\n",
    "            mean_v\n",
    "            - data4[data4['district'] == name][\n",
    "                'sales'\n",
    "            ].mean()\n",
    "        )\n",
    "        ** 2\n",
    "    )\n",
    "# end for\n",
    "district_df = len(data4['district'].unique()) - 1\n",
    "district_ss, district_df"
   ]
  },
  {
   "cell_type": "markdown",
   "metadata": {},
   "source": [
    "Get  the residual sum of squares, and its degrees of freedom"
   ]
  },
  {
   "cell_type": "code",
   "execution_count": 129,
   "metadata": {},
   "outputs": [
    {
     "data": {
      "text/plain": [
       "(24.0, 6)"
      ]
     },
     "execution_count": 129,
     "metadata": {},
     "output_type": "execute_result"
    }
   ],
   "source": [
    "residual_ss = total_ss - person_ss - district_ss\n",
    "residual_df = total_df - person_df - district_df\n",
    "residual_ss, residual_df"
   ]
  },
  {
   "cell_type": "markdown",
   "metadata": {},
   "source": [
    "Get the estimated variance for between Person, between Districts, and Residual"
   ]
  },
  {
   "cell_type": "code",
   "execution_count": 130,
   "metadata": {},
   "outputs": [
    {
     "data": {
      "text/plain": [
       "(2.0, 16.0, 4.0)"
      ]
     },
     "execution_count": 130,
     "metadata": {},
     "output_type": "execute_result"
    }
   ],
   "source": [
    "person_var = person_ss / person_df\n",
    "district_var = district_ss / district_df\n",
    "residual_var = residual_ss / residual_df\n",
    "person_var, district_var, residual_var"
   ]
  },
  {
   "cell_type": "markdown",
   "metadata": {},
   "source": [
    "Declare to ```pandas``` (and hence to ```statsmodels```) that ```person``` and ```district``` are categorical variables.  Then fit a linear model by OLS"
   ]
  },
  {
   "cell_type": "code",
   "execution_count": 131,
   "metadata": {},
   "outputs": [
    {
     "name": "stderr",
     "output_type": "stream",
     "text": [
      "D:\\Anaconda3\\envs\\ac5-py37\\lib\\site-packages\\scipy\\stats\\stats.py:1394: UserWarning: kurtosistest only valid for n>=20 ... continuing anyway, n=12\n",
      "  \"anyway, n=%i\" % int(n))\n"
     ]
    },
    {
     "data": {
      "text/html": [
       "<table class=\"simpletable\">\n",
       "<caption>OLS Regression Results</caption>\n",
       "<tr>\n",
       "  <th>Dep. Variable:</th>          <td>sales</td>      <th>  R-squared:         </th> <td>   0.613</td>\n",
       "</tr>\n",
       "<tr>\n",
       "  <th>Model:</th>                   <td>OLS</td>       <th>  Adj. R-squared:    </th> <td>   0.290</td>\n",
       "</tr>\n",
       "<tr>\n",
       "  <th>Method:</th>             <td>Least Squares</td>  <th>  F-statistic:       </th> <td>   1.900</td>\n",
       "</tr>\n",
       "<tr>\n",
       "  <th>Date:</th>             <td>Wed, 01 Apr 2020</td> <th>  Prob (F-statistic):</th>  <td> 0.229</td> \n",
       "</tr>\n",
       "<tr>\n",
       "  <th>Time:</th>                 <td>14:29:11</td>     <th>  Log-Likelihood:    </th> <td> -21.186</td>\n",
       "</tr>\n",
       "<tr>\n",
       "  <th>No. Observations:</th>      <td>    12</td>      <th>  AIC:               </th> <td>   54.37</td>\n",
       "</tr>\n",
       "<tr>\n",
       "  <th>Df Residuals:</th>          <td>     6</td>      <th>  BIC:               </th> <td>   57.28</td>\n",
       "</tr>\n",
       "<tr>\n",
       "  <th>Df Model:</th>              <td>     5</td>      <th>                     </th>     <td> </td>   \n",
       "</tr>\n",
       "<tr>\n",
       "  <th>Covariance Type:</th>      <td>nonrobust</td>    <th>                     </th>     <td> </td>   \n",
       "</tr>\n",
       "</table>\n",
       "<table class=\"simpletable\">\n",
       "<tr>\n",
       "        <td></td>           <th>coef</th>     <th>std err</th>      <th>t</th>      <th>P>|t|</th>  <th>[0.025</th>    <th>0.975]</th>  \n",
       "</tr>\n",
       "<tr>\n",
       "  <th>Intercept</th>     <td>-1.554e-15</td> <td>    1.414</td> <td> -1.1e-15</td> <td> 1.000</td> <td>   -3.460</td> <td>    3.460</td>\n",
       "</tr>\n",
       "<tr>\n",
       "  <th>district[T.O]</th> <td>    2.0000</td> <td>    1.414</td> <td>    1.414</td> <td> 0.207</td> <td>   -1.460</td> <td>    5.460</td>\n",
       "</tr>\n",
       "<tr>\n",
       "  <th>district[T.S]</th> <td>    4.0000</td> <td>    1.414</td> <td>    2.828</td> <td> 0.030</td> <td>    0.540</td> <td>    7.460</td>\n",
       "</tr>\n",
       "<tr>\n",
       "  <th>person[T.B]</th>   <td>   -1.0000</td> <td>    1.633</td> <td>   -0.612</td> <td> 0.563</td> <td>   -4.996</td> <td>    2.996</td>\n",
       "</tr>\n",
       "<tr>\n",
       "  <th>person[T.C]</th>   <td>   -2.0000</td> <td>    1.633</td> <td>   -1.225</td> <td> 0.267</td> <td>   -5.996</td> <td>    1.996</td>\n",
       "</tr>\n",
       "<tr>\n",
       "  <th>person[T.D]</th>   <td>   -1.0000</td> <td>    1.633</td> <td>   -0.612</td> <td> 0.563</td> <td>   -4.996</td> <td>    2.996</td>\n",
       "</tr>\n",
       "</table>\n",
       "<table class=\"simpletable\">\n",
       "<tr>\n",
       "  <th>Omnibus:</th>       <td> 0.466</td> <th>  Durbin-Watson:     </th> <td>   2.750</td>\n",
       "</tr>\n",
       "<tr>\n",
       "  <th>Prob(Omnibus):</th> <td> 0.792</td> <th>  Jarque-Bera (JB):  </th> <td>   0.375</td>\n",
       "</tr>\n",
       "<tr>\n",
       "  <th>Skew:</th>          <td> 0.354</td> <th>  Prob(JB):          </th> <td>   0.829</td>\n",
       "</tr>\n",
       "<tr>\n",
       "  <th>Kurtosis:</th>      <td> 2.500</td> <th>  Cond. No.          </th> <td>    5.35</td>\n",
       "</tr>\n",
       "</table><br/><br/>Warnings:<br/>[1] Standard Errors assume that the covariance matrix of the errors is correctly specified."
      ],
      "text/plain": [
       "<class 'statsmodels.iolib.summary.Summary'>\n",
       "\"\"\"\n",
       "                            OLS Regression Results                            \n",
       "==============================================================================\n",
       "Dep. Variable:                  sales   R-squared:                       0.613\n",
       "Model:                            OLS   Adj. R-squared:                  0.290\n",
       "Method:                 Least Squares   F-statistic:                     1.900\n",
       "Date:                Wed, 01 Apr 2020   Prob (F-statistic):              0.229\n",
       "Time:                        14:29:11   Log-Likelihood:                -21.186\n",
       "No. Observations:                  12   AIC:                             54.37\n",
       "Df Residuals:                       6   BIC:                             57.28\n",
       "Df Model:                           5                                         \n",
       "Covariance Type:            nonrobust                                         \n",
       "=================================================================================\n",
       "                    coef    std err          t      P>|t|      [0.025      0.975]\n",
       "---------------------------------------------------------------------------------\n",
       "Intercept     -1.554e-15      1.414   -1.1e-15      1.000      -3.460       3.460\n",
       "district[T.O]     2.0000      1.414      1.414      0.207      -1.460       5.460\n",
       "district[T.S]     4.0000      1.414      2.828      0.030       0.540       7.460\n",
       "person[T.B]      -1.0000      1.633     -0.612      0.563      -4.996       2.996\n",
       "person[T.C]      -2.0000      1.633     -1.225      0.267      -5.996       1.996\n",
       "person[T.D]      -1.0000      1.633     -0.612      0.563      -4.996       2.996\n",
       "==============================================================================\n",
       "Omnibus:                        0.466   Durbin-Watson:                   2.750\n",
       "Prob(Omnibus):                  0.792   Jarque-Bera (JB):                0.375\n",
       "Skew:                           0.354   Prob(JB):                        0.829\n",
       "Kurtosis:                       2.500   Cond. No.                         5.35\n",
       "==============================================================================\n",
       "\n",
       "Warnings:\n",
       "[1] Standard Errors assume that the covariance matrix of the errors is correctly specified.\n",
       "\"\"\""
      ]
     },
     "execution_count": 131,
     "metadata": {},
     "output_type": "execute_result"
    }
   ],
   "source": [
    "data4['person'] = data4['person'].astype('category')\n",
    "data4['district'] = data4['district'].astype('category')\n",
    "\n",
    "\n",
    "res_sales = ols(\n",
    "    'sales ~ district + person', data=data4\n",
    ").fit()\n",
    "res_sales.summary()"
   ]
  },
  {
   "cell_type": "code",
   "execution_count": 132,
   "metadata": {},
   "outputs": [
    {
     "data": {
      "text/html": [
       "<div>\n",
       "<style scoped>\n",
       "    .dataframe tbody tr th:only-of-type {\n",
       "        vertical-align: middle;\n",
       "    }\n",
       "\n",
       "    .dataframe tbody tr th {\n",
       "        vertical-align: top;\n",
       "    }\n",
       "\n",
       "    .dataframe thead th {\n",
       "        text-align: right;\n",
       "    }\n",
       "</style>\n",
       "<table border=\"1\" class=\"dataframe\">\n",
       "  <thead>\n",
       "    <tr style=\"text-align: right;\">\n",
       "      <th></th>\n",
       "      <th>df</th>\n",
       "      <th>sum_sq</th>\n",
       "      <th>mean_sq</th>\n",
       "      <th>F</th>\n",
       "      <th>PR(&gt;F)</th>\n",
       "    </tr>\n",
       "  </thead>\n",
       "  <tbody>\n",
       "    <tr>\n",
       "      <th>district</th>\n",
       "      <td>2.0</td>\n",
       "      <td>32.0</td>\n",
       "      <td>16.0</td>\n",
       "      <td>4.0</td>\n",
       "      <td>0.078717</td>\n",
       "    </tr>\n",
       "    <tr>\n",
       "      <th>person</th>\n",
       "      <td>3.0</td>\n",
       "      <td>6.0</td>\n",
       "      <td>2.0</td>\n",
       "      <td>0.5</td>\n",
       "      <td>0.695895</td>\n",
       "    </tr>\n",
       "    <tr>\n",
       "      <th>Residual</th>\n",
       "      <td>6.0</td>\n",
       "      <td>24.0</td>\n",
       "      <td>4.0</td>\n",
       "      <td>NaN</td>\n",
       "      <td>NaN</td>\n",
       "    </tr>\n",
       "  </tbody>\n",
       "</table>\n",
       "</div>"
      ],
      "text/plain": [
       "           df  sum_sq  mean_sq    F    PR(>F)\n",
       "district  2.0    32.0     16.0  4.0  0.078717\n",
       "person    3.0     6.0      2.0  0.5  0.695895\n",
       "Residual  6.0    24.0      4.0  NaN       NaN"
      ]
     },
     "execution_count": 132,
     "metadata": {},
     "output_type": "execute_result"
    }
   ],
   "source": [
    "sm.stats.anova_lm(res_sales)"
   ]
  },
  {
   "cell_type": "markdown",
   "metadata": {},
   "source": [
    "The conclusion is that the observed F values are not strong enough evidence to reject the Null Hypothesis that there is no affect of salesperson or district on sales results."
   ]
  },
  {
   "cell_type": "markdown",
   "metadata": {},
   "source": [
    "-----\n",
    "## Environment"
   ]
  },
  {
   "cell_type": "code",
   "execution_count": 133,
   "metadata": {},
   "outputs": [
    {
     "name": "stdout",
     "output_type": "stream",
     "text": [
      "matplotlib  3.0.2\n",
      "pandas      1.0.0\n",
      "seaborn     0.9.0\n",
      "scipy       1.1.0\n",
      "numpy       1.15.4\n",
      "statsmodels 0.9.0\n",
      "host name: DESKTOP-SODFUN6\n",
      "2020-04-01T14:29:12+10:00\n",
      "\n",
      "CPython 3.7.1\n",
      "IPython 7.2.0\n",
      "\n",
      "compiler   : MSC v.1915 64 bit (AMD64)\n",
      "system     : Windows\n",
      "release    : 10\n",
      "machine    : AMD64\n",
      "processor  : Intel64 Family 6 Model 94 Stepping 3, GenuineIntel\n",
      "CPU cores  : 8\n",
      "interpreter: 64bit\n"
     ]
    }
   ],
   "source": [
    "%watermark -h -iv\n",
    "%watermark"
   ]
  }
 ],
 "metadata": {
  "kernelspec": {
   "display_name": "Python 3",
   "language": "python",
   "name": "python3"
  },
  "language_info": {
   "codemirror_mode": {
    "name": "ipython",
    "version": 3
   },
   "file_extension": ".py",
   "mimetype": "text/x-python",
   "name": "python",
   "nbconvert_exporter": "python",
   "pygments_lexer": "ipython3",
   "version": "3.7.1"
  }
 },
 "nbformat": 4,
 "nbformat_minor": 4
}
