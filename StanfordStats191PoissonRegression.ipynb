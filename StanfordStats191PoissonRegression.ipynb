{
 "cells": [
  {
   "cell_type": "markdown",
   "metadata": {},
   "source": [
    "\n",
    "# Stanford Stats 191 \n",
    "\n",
    "## Introduction\n",
    "\n",
    "This is a re-creation of the Stanford Stats 191 course, using Python eco-system tools, instead of R. This is lecture \"Poisson: \" ( see https://web.stanford.edu/class/stats191/notebooks/Poisson.html )\n",
    "\n",
    "\n",
    "In this notebook, we look at modelling count data.  The model is that of a Poisson process, where events occur in a fixed interval of time or space if these events occur with a constant mean rate and independently of the time since the last event.  The probability we get ```x``` events in a unit time is shown below"
   ]
  },
  {
   "cell_type": "markdown",
   "metadata": {},
   "source": [
    "$$P(X=x)=\\dfrac{\\lambda^x e^{-\\lambda}}{x!}\\qquad x=0,1,2,\\ldots$$"
   ]
  },
  {
   "cell_type": "markdown",
   "metadata": {},
   "source": [
    "## Initial Notebook Setup\n",
    "\n",
    "```watermark``` documents the Python and package environment, ```black``` is my chosen Python formatter"
   ]
  },
  {
   "cell_type": "code",
   "execution_count": 2,
   "metadata": {},
   "outputs": [],
   "source": [
    "%load_ext watermark"
   ]
  },
  {
   "cell_type": "code",
   "execution_count": 3,
   "metadata": {},
   "outputs": [],
   "source": [
    "%reload_ext lab_black"
   ]
  },
  {
   "cell_type": "code",
   "execution_count": 4,
   "metadata": {},
   "outputs": [],
   "source": [
    "%matplotlib inline"
   ]
  },
  {
   "cell_type": "code",
   "execution_count": 66,
   "metadata": {},
   "outputs": [],
   "source": [
    "import pandas as pd\n",
    "import numpy as np\n",
    "import seaborn as sn\n",
    "\n",
    "import math\n",
    "\n",
    "import warnings\n",
    "\n",
    "import matplotlib.pyplot as plt\n",
    "from mpl_toolkits.mplot3d import Axes3D\n",
    "\n",
    "from scipy import stats\n",
    "from statsmodels.formula.api import logit\n",
    "from statsmodels.formula.api import probit\n",
    "from statsmodels.formula.api import glm\n",
    "\n",
    "\n",
    "import statsmodels.api as sm\n",
    "\n",
    "from scipy import stats\n",
    "\n",
    "import os"
   ]
  },
  {
   "cell_type": "markdown",
   "metadata": {},
   "source": [
    "----\n",
    "## Simple Contingency Table\n",
    "\n",
    "We wish to test if Males and Females answer a question differently\n",
    "\n",
    "First, create a ```pandas``` dataframe from the survey data"
   ]
  },
  {
   "cell_type": "code",
   "execution_count": 33,
   "metadata": {},
   "outputs": [
    {
     "data": {
      "text/html": [
       "<div>\n",
       "<style scoped>\n",
       "    .dataframe tbody tr th:only-of-type {\n",
       "        vertical-align: middle;\n",
       "    }\n",
       "\n",
       "    .dataframe tbody tr th {\n",
       "        vertical-align: top;\n",
       "    }\n",
       "\n",
       "    .dataframe thead th {\n",
       "        text-align: right;\n",
       "    }\n",
       "</style>\n",
       "<table border=\"1\" class=\"dataframe\">\n",
       "  <thead>\n",
       "    <tr style=\"text-align: right;\">\n",
       "      <th></th>\n",
       "      <th>Y</th>\n",
       "      <th>N</th>\n",
       "    </tr>\n",
       "  </thead>\n",
       "  <tbody>\n",
       "    <tr>\n",
       "      <th>0</th>\n",
       "      <td>435</td>\n",
       "      <td>147</td>\n",
       "    </tr>\n",
       "    <tr>\n",
       "      <th>1</th>\n",
       "      <td>375</td>\n",
       "      <td>134</td>\n",
       "    </tr>\n",
       "  </tbody>\n",
       "</table>\n",
       "</div>"
      ],
      "text/plain": [
       "     Y    N\n",
       "0  435  147\n",
       "1  375  134"
      ]
     },
     "execution_count": 33,
     "metadata": {},
     "output_type": "execute_result"
    }
   ],
   "source": [
    "data_dict = {'Y': [435, 375], 'N': [147, 134]}\n",
    "\n",
    "df = pd.DataFrame(data_dict)\n",
    "df.head()"
   ]
  },
  {
   "cell_type": "markdown",
   "metadata": {},
   "source": [
    "Give names to vertical and horizontal indexes"
   ]
  },
  {
   "cell_type": "code",
   "execution_count": 34,
   "metadata": {},
   "outputs": [],
   "source": [
    "df.index = pd.Index(['M', 'F'], name='Gender')\n",
    "df.columns = pd.Index(['Y', 'N'], name='Response')"
   ]
  },
  {
   "cell_type": "code",
   "execution_count": 35,
   "metadata": {},
   "outputs": [
    {
     "data": {
      "text/html": [
       "<div>\n",
       "<style scoped>\n",
       "    .dataframe tbody tr th:only-of-type {\n",
       "        vertical-align: middle;\n",
       "    }\n",
       "\n",
       "    .dataframe tbody tr th {\n",
       "        vertical-align: top;\n",
       "    }\n",
       "\n",
       "    .dataframe thead th {\n",
       "        text-align: right;\n",
       "    }\n",
       "</style>\n",
       "<table border=\"1\" class=\"dataframe\">\n",
       "  <thead>\n",
       "    <tr style=\"text-align: right;\">\n",
       "      <th>Response</th>\n",
       "      <th>Y</th>\n",
       "      <th>N</th>\n",
       "    </tr>\n",
       "    <tr>\n",
       "      <th>Gender</th>\n",
       "      <th></th>\n",
       "      <th></th>\n",
       "    </tr>\n",
       "  </thead>\n",
       "  <tbody>\n",
       "    <tr>\n",
       "      <th>M</th>\n",
       "      <td>435</td>\n",
       "      <td>147</td>\n",
       "    </tr>\n",
       "    <tr>\n",
       "      <th>F</th>\n",
       "      <td>375</td>\n",
       "      <td>134</td>\n",
       "    </tr>\n",
       "  </tbody>\n",
       "</table>\n",
       "</div>"
      ],
      "text/plain": [
       "Response    Y    N\n",
       "Gender            \n",
       "M         435  147\n",
       "F         375  134"
      ]
     },
     "execution_count": 35,
     "metadata": {},
     "output_type": "execute_result"
    }
   ],
   "source": [
    "df"
   ]
  },
  {
   "cell_type": "markdown",
   "metadata": {},
   "source": [
    "Get the data as a ```numpy``` array, and then process with the ```Table``` object"
   ]
  },
  {
   "cell_type": "code",
   "execution_count": 42,
   "metadata": {},
   "outputs": [],
   "source": [
    "tab0 = np.asarray([df['Y'], df['N']])"
   ]
  },
  {
   "cell_type": "code",
   "execution_count": 43,
   "metadata": {},
   "outputs": [
    {
     "data": {
      "text/plain": [
       "array([[435, 375],\n",
       "       [147, 134]], dtype=int64)"
      ]
     },
     "execution_count": 43,
     "metadata": {},
     "output_type": "execute_result"
    }
   ],
   "source": [
    "tab0"
   ]
  },
  {
   "cell_type": "code",
   "execution_count": 48,
   "metadata": {},
   "outputs": [],
   "source": [
    "tab1 = sm.stats.Table(tab0.T)"
   ]
  },
  {
   "cell_type": "code",
   "execution_count": 49,
   "metadata": {},
   "outputs": [
    {
     "name": "stdout",
     "output_type": "stream",
     "text": [
      "A 2x2 contingency table with counts:\n",
      "[[435. 147.]\n",
      " [375. 134.]]\n"
     ]
    }
   ],
   "source": [
    "print(tab1)"
   ]
  },
  {
   "cell_type": "code",
   "execution_count": 56,
   "metadata": {},
   "outputs": [
    {
     "data": {
      "text/plain": [
       "array([[435, 147],\n",
       "       [375, 134]], dtype=int64)"
      ]
     },
     "execution_count": 56,
     "metadata": {},
     "output_type": "execute_result"
    }
   ],
   "source": [
    "tab1.table_orig"
   ]
  },
  {
   "cell_type": "code",
   "execution_count": 58,
   "metadata": {},
   "outputs": [
    {
     "data": {
      "text/plain": [
       "array([[432.09899175, 149.90100825],\n",
       "       [377.90100825, 131.09899175]])"
      ]
     },
     "execution_count": 58,
     "metadata": {},
     "output_type": "execute_result"
    }
   ],
   "source": [
    "tab1.fittedvalues"
   ]
  },
  {
   "cell_type": "markdown",
   "metadata": {},
   "source": [
    "Show the contributions to the Chi-squared statistic"
   ]
  },
  {
   "cell_type": "code",
   "execution_count": 59,
   "metadata": {},
   "outputs": [
    {
     "data": {
      "text/plain": [
       "array([[0.01947667, 0.05614271],\n",
       "       [0.02226998, 0.06419461]])"
      ]
     },
     "execution_count": 59,
     "metadata": {},
     "output_type": "execute_result"
    }
   ],
   "source": [
    "tab1.chi2_contribs"
   ]
  },
  {
   "cell_type": "markdown",
   "metadata": {},
   "source": [
    "Assess the indepedence between rows and columns (both as nominal and ordinal variables)"
   ]
  },
  {
   "cell_type": "code",
   "execution_count": 62,
   "metadata": {},
   "outputs": [
    {
     "name": "stdout",
     "output_type": "stream",
     "text": [
      "df          1\n",
      "pvalue      0.6872450563829144\n",
      "statistic   0.16208397298431804\n"
     ]
    }
   ],
   "source": [
    "print(tab1.test_nominal_association())"
   ]
  },
  {
   "cell_type": "code",
   "execution_count": 63,
   "metadata": {},
   "outputs": [
    {
     "name": "stdout",
     "output_type": "stream",
     "text": [
      "null_mean   131.09899175068745\n",
      "null_sd     7.209050259693882\n",
      "pvalue      0.6873808486214543\n",
      "statistic   134.0\n",
      "zscore      0.4024119883769182\n"
     ]
    }
   ],
   "source": [
    "print(tab1.test_ordinal_association())"
   ]
  },
  {
   "cell_type": "markdown",
   "metadata": {},
   "source": [
    "Get the Chi-squared value; we see that it is quiet likely that we would get the observed value by chance"
   ]
  },
  {
   "cell_type": "code",
   "execution_count": 69,
   "metadata": {},
   "outputs": [],
   "source": [
    "tab1_chi2 = sum(sum(tab1.chi2_contribs))"
   ]
  },
  {
   "cell_type": "code",
   "execution_count": 95,
   "metadata": {},
   "outputs": [
    {
     "data": {
      "text/plain": [
       "0.6872450563829144"
      ]
     },
     "execution_count": 95,
     "metadata": {},
     "output_type": "execute_result"
    }
   ],
   "source": [
    "1 - stats.chi2.cdf(tab1_chi2, 1)"
   ]
  },
  {
   "cell_type": "code",
   "execution_count": 71,
   "metadata": {},
   "outputs": [
    {
     "data": {
      "text/plain": [
       "0.16208397298431804"
      ]
     },
     "execution_count": 71,
     "metadata": {},
     "output_type": "execute_result"
    }
   ],
   "source": [
    "tab1_chi2"
   ]
  },
  {
   "cell_type": "markdown",
   "metadata": {},
   "source": [
    "I found the Chi-squared curve for degree-of-freedom = 1 to be quiet counter-intuitive.  It was only when I plotted out the PDF and CDF, that I realized that a lot of the probability mass is concentrated near zero"
   ]
  },
  {
   "cell_type": "code",
   "execution_count": 94,
   "metadata": {},
   "outputs": [
    {
     "data": {
      "image/png": "[encoded data removed]",
      "text/plain": [
       "<Figure size 432x288 with 1 Axes>"
      ]
     },
     "metadata": {
      "needs_background": "light"
     },
     "output_type": "display_data"
    }
   ],
   "source": [
    "x = list(np.linspace(0.01, 2, 1000))\n",
    "y = [stats.chi2.pdf(x1, 1) for x1 in x]\n",
    "y2 = [stats.chi2.cdf(x1, 1) for x1 in x]\n",
    "_ = plt.yscale('log')\n",
    "_ = plt.plot(x, y, 'r-', label='Chi2 PDF')\n",
    "_ = plt.plot(x, y2, 'g:', label='Chi2 CDF')\n",
    "_ = plt.axvline(tab1_chi2, color='green', label='Observed')\n",
    "_ = plt.legend(loc='best')"
   ]
  },
  {
   "cell_type": "markdown",
   "metadata": {},
   "source": [
    "```statsmodels``` also has a specific Object for 2 by 2 tables, as below"
   ]
  },
  {
   "cell_type": "code",
   "execution_count": 52,
   "metadata": {},
   "outputs": [],
   "source": [
    "tab2 = sm.stats.Table2x2(tab0.T)"
   ]
  },
  {
   "cell_type": "code",
   "execution_count": 54,
   "metadata": {},
   "outputs": [
    {
     "data": {
      "text/html": [
       "<table class=\"simpletable\">\n",
       "<tr>\n",
       "         <td></td>        <th>Estimate</th>  <th>SE</th>     <th>LCB</th>   <th>UCB</th>  <th>p-value</th>\n",
       "</tr>\n",
       "<tr>\n",
       "  <th>Odds ratio</th>        <td>1.057</td>      <td></td>  <td>0.806</td> <td>1.388</td>   <td>0.687</td>\n",
       "</tr>\n",
       "<tr>\n",
       "  <th>Log odds ratio</th>    <td>0.056</td> <td>0.139</td> <td>-0.216</td> <td>0.328</td>   <td>0.687</td>\n",
       "</tr>\n",
       "<tr>\n",
       "  <th>Risk ratio</th>        <td>1.015</td>      <td></td>  <td>0.946</td> <td>1.088</td>   <td>0.688</td>\n",
       "</tr>\n",
       "<tr>\n",
       "  <th>Log risk ratio</th>    <td>0.014</td> <td>0.036</td> <td>-0.056</td> <td>0.085</td>   <td>0.688</td>\n",
       "</tr>\n",
       "</table>"
      ],
      "text/plain": [
       "<class 'statsmodels.iolib.table.SimpleTable'>"
      ]
     },
     "execution_count": 54,
     "metadata": {},
     "output_type": "execute_result"
    }
   ],
   "source": [
    "tab2.summary()"
   ]
  },
  {
   "cell_type": "markdown",
   "metadata": {},
   "source": [
    "----\n",
    "## scipy\n",
    "\n",
    "```scipy``` also has Chi-squared analysis methods, that are a little more advanced than ```statsmodels```, in that they offer a variety of correction methods to estimate Chi-squared"
   ]
  },
  {
   "cell_type": "markdown",
   "metadata": {},
   "source": [
    "With Yates correction"
   ]
  },
  {
   "cell_type": "code",
   "execution_count": 105,
   "metadata": {},
   "outputs": [
    {
     "name": "stdout",
     "output_type": "stream",
     "text": [
      " chi2 = 0.1110272160868229, P value = 0.7389776820172238\n"
     ]
    }
   ],
   "source": [
    "chi2, p_value, dof, expected = stats.chi2_contingency(\n",
    "    tab0.T\n",
    ")\n",
    "print(f' chi2 = {chi2}, P value = {p_value}')"
   ]
  },
  {
   "cell_type": "markdown",
   "metadata": {},
   "source": [
    "Without Yates correction"
   ]
  },
  {
   "cell_type": "code",
   "execution_count": 107,
   "metadata": {},
   "outputs": [
    {
     "name": "stdout",
     "output_type": "stream",
     "text": [
      " chi2 = 0.1620839729843177, P value = 0.6872450563829149\n"
     ]
    }
   ],
   "source": [
    "chi2, p_value, dof, expected = stats.chi2_contingency(\n",
    "    tab0.T, correction=False\n",
    ")\n",
    "print(f' chi2 = {chi2}, P value = {p_value}')"
   ]
  },
  {
   "cell_type": "code",
   "execution_count": 103,
   "metadata": {},
   "outputs": [
    {
     "name": "stdout",
     "output_type": "stream",
     "text": [
      "0.7286890678300681\n"
     ]
    }
   ],
   "source": [
    "odds_ratio, p_value = stats.fisher_exact(tab0.T)\n",
    "print(p_value)"
   ]
  },
  {
   "cell_type": "markdown",
   "metadata": {},
   "source": [
    "------\n",
    "## Poisson Regression\n",
    "\n",
    "We can also treat this as a case of regression, where we assume the rate of ```Y``` or ```N``` answers might depend upon gender\n",
    "\n",
    "We build a dataframe with the data, one row per observation"
   ]
  },
  {
   "cell_type": "code",
   "execution_count": 108,
   "metadata": {},
   "outputs": [],
   "source": [
    "data_dict2 = {\n",
    "    'Y': [435, 147, 375, 134],\n",
    "    'S': ['M', 'M', 'F', 'F'],\n",
    "    'B': ['Y', 'N', 'Y', 'N'],\n",
    "}"
   ]
  },
  {
   "cell_type": "code",
   "execution_count": 110,
   "metadata": {},
   "outputs": [
    {
     "data": {
      "text/html": [
       "<div>\n",
       "<style scoped>\n",
       "    .dataframe tbody tr th:only-of-type {\n",
       "        vertical-align: middle;\n",
       "    }\n",
       "\n",
       "    .dataframe tbody tr th {\n",
       "        vertical-align: top;\n",
       "    }\n",
       "\n",
       "    .dataframe thead th {\n",
       "        text-align: right;\n",
       "    }\n",
       "</style>\n",
       "<table border=\"1\" class=\"dataframe\">\n",
       "  <thead>\n",
       "    <tr style=\"text-align: right;\">\n",
       "      <th></th>\n",
       "      <th>Y</th>\n",
       "      <th>S</th>\n",
       "      <th>B</th>\n",
       "    </tr>\n",
       "  </thead>\n",
       "  <tbody>\n",
       "    <tr>\n",
       "      <th>0</th>\n",
       "      <td>435</td>\n",
       "      <td>M</td>\n",
       "      <td>Y</td>\n",
       "    </tr>\n",
       "    <tr>\n",
       "      <th>1</th>\n",
       "      <td>147</td>\n",
       "      <td>M</td>\n",
       "      <td>N</td>\n",
       "    </tr>\n",
       "    <tr>\n",
       "      <th>2</th>\n",
       "      <td>375</td>\n",
       "      <td>F</td>\n",
       "      <td>Y</td>\n",
       "    </tr>\n",
       "    <tr>\n",
       "      <th>3</th>\n",
       "      <td>134</td>\n",
       "      <td>F</td>\n",
       "      <td>N</td>\n",
       "    </tr>\n",
       "  </tbody>\n",
       "</table>\n",
       "</div>"
      ],
      "text/plain": [
       "     Y  S  B\n",
       "0  435  M  Y\n",
       "1  147  M  N\n",
       "2  375  F  Y\n",
       "3  134  F  N"
      ]
     },
     "execution_count": 110,
     "metadata": {},
     "output_type": "execute_result"
    }
   ],
   "source": [
    "df2 = pd.DataFrame(data_dict2)\n",
    "df2"
   ]
  },
  {
   "cell_type": "markdown",
   "metadata": {},
   "source": [
    "Now fit a Poisson model.  We get the same Chi-squared value as before"
   ]
  },
  {
   "cell_type": "code",
   "execution_count": 111,
   "metadata": {},
   "outputs": [],
   "source": [
    "res = glm(\n",
    "    'Y ~ S + B', data=df2, family=sm.families.Poisson()\n",
    ").fit()"
   ]
  },
  {
   "cell_type": "code",
   "execution_count": 112,
   "metadata": {},
   "outputs": [
    {
     "data": {
      "text/html": [
       "<table class=\"simpletable\">\n",
       "<caption>Generalized Linear Model Regression Results</caption>\n",
       "<tr>\n",
       "  <th>Dep. Variable:</th>          <td>Y</td>        <th>  No. Observations:  </th>  <td>     4</td>  \n",
       "</tr>\n",
       "<tr>\n",
       "  <th>Model:</th>                 <td>GLM</td>       <th>  Df Residuals:      </th>  <td>     1</td>  \n",
       "</tr>\n",
       "<tr>\n",
       "  <th>Model Family:</th>        <td>Poisson</td>     <th>  Df Model:          </th>  <td>     2</td>  \n",
       "</tr>\n",
       "<tr>\n",
       "  <th>Link Function:</th>         <td>log</td>       <th>  Scale:             </th> <td>  1.0000</td> \n",
       "</tr>\n",
       "<tr>\n",
       "  <th>Method:</th>               <td>IRLS</td>       <th>  Log-Likelihood:    </th> <td> -14.704</td> \n",
       "</tr>\n",
       "<tr>\n",
       "  <th>Date:</th>           <td>Fri, 22 May 2020</td> <th>  Deviance:          </th> <td> 0.16200</td> \n",
       "</tr>\n",
       "<tr>\n",
       "  <th>Time:</th>               <td>20:33:01</td>     <th>  Pearson chi2:      </th>  <td> 0.162</td>  \n",
       "</tr>\n",
       "<tr>\n",
       "  <th>No. Iterations:</th>         <td>4</td>        <th>  Covariance Type:   </th> <td>nonrobust</td>\n",
       "</tr>\n",
       "</table>\n",
       "<table class=\"simpletable\">\n",
       "<tr>\n",
       "      <td></td>         <th>coef</th>     <th>std err</th>      <th>z</th>      <th>P>|z|</th>  <th>[0.025</th>    <th>0.975]</th>  \n",
       "</tr>\n",
       "<tr>\n",
       "  <th>Intercept</th> <td>    4.8760</td> <td>    0.068</td> <td>   71.839</td> <td> 0.000</td> <td>    4.743</td> <td>    5.009</td>\n",
       "</tr>\n",
       "<tr>\n",
       "  <th>S[T.M]</th>    <td>    0.1340</td> <td>    0.061</td> <td>    2.208</td> <td> 0.027</td> <td>    0.015</td> <td>    0.253</td>\n",
       "</tr>\n",
       "<tr>\n",
       "  <th>B[T.Y]</th>    <td>    1.0587</td> <td>    0.069</td> <td>   15.291</td> <td> 0.000</td> <td>    0.923</td> <td>    1.194</td>\n",
       "</tr>\n",
       "</table>"
      ],
      "text/plain": [
       "<class 'statsmodels.iolib.summary.Summary'>\n",
       "\"\"\"\n",
       "                 Generalized Linear Model Regression Results                  \n",
       "==============================================================================\n",
       "Dep. Variable:                      Y   No. Observations:                    4\n",
       "Model:                            GLM   Df Residuals:                        1\n",
       "Model Family:                 Poisson   Df Model:                            2\n",
       "Link Function:                    log   Scale:                          1.0000\n",
       "Method:                          IRLS   Log-Likelihood:                -14.704\n",
       "Date:                Fri, 22 May 2020   Deviance:                      0.16200\n",
       "Time:                        20:33:01   Pearson chi2:                    0.162\n",
       "No. Iterations:                     4   Covariance Type:             nonrobust\n",
       "==============================================================================\n",
       "                 coef    std err          z      P>|z|      [0.025      0.975]\n",
       "------------------------------------------------------------------------------\n",
       "Intercept      4.8760      0.068     71.839      0.000       4.743       5.009\n",
       "S[T.M]         0.1340      0.061      2.208      0.027       0.015       0.253\n",
       "B[T.Y]         1.0587      0.069     15.291      0.000       0.923       1.194\n",
       "==============================================================================\n",
       "\"\"\""
      ]
     },
     "execution_count": 112,
     "metadata": {},
     "output_type": "execute_result"
    }
   ],
   "source": [
    "res.summary()"
   ]
  },
  {
   "cell_type": "code",
   "execution_count": 115,
   "metadata": {},
   "outputs": [
    {
     "data": {
      "text/plain": [
       "0    432.098992\n",
       "1    149.901008\n",
       "2    377.901008\n",
       "3    131.098992\n",
       "dtype: float64"
      ]
     },
     "execution_count": 115,
     "metadata": {},
     "output_type": "execute_result"
    }
   ],
   "source": [
    "res.fittedvalues"
   ]
  },
  {
   "cell_type": "markdown",
   "metadata": {},
   "source": [
    "-----\n",
    "## Lumber Dataset\n",
    "\n",
    "Finally, we look at a dataset, relating to customers travelling to a lumber store from different regions\n",
    "\n",
    "| Column | Definition |\n",
    "| ---- | ----- |\n",
    "|Customers  | number of customers visting store from region|\n",
    "|Housing  | number of housing units in region|\n",
    "|Income  | average household income|\n",
    "|Age  | average housing unit age in region|\n",
    "|Competitor  | distance to nearest competitor|\n",
    "|Store  | distance to store in miles.|"
   ]
  },
  {
   "cell_type": "markdown",
   "metadata": {},
   "source": [
    "### Read and Explore Dataset"
   ]
  },
  {
   "cell_type": "code",
   "execution_count": 118,
   "metadata": {},
   "outputs": [],
   "source": [
    "lumber = pd.read_fwf(\n",
    "    '../data/lumber.txt', widths=[2, 6, 8, 4, 6, 6]\n",
    ")\n",
    "lumber.columns = [\n",
    "    'Customers',\n",
    "    'Housing',\n",
    "    'Income',\n",
    "    'Age',\n",
    "    'Competitor',\n",
    "    'Store',\n",
    "]"
   ]
  },
  {
   "cell_type": "code",
   "execution_count": 119,
   "metadata": {},
   "outputs": [
    {
     "data": {
      "text/html": [
       "<div>\n",
       "<style scoped>\n",
       "    .dataframe tbody tr th:only-of-type {\n",
       "        vertical-align: middle;\n",
       "    }\n",
       "\n",
       "    .dataframe tbody tr th {\n",
       "        vertical-align: top;\n",
       "    }\n",
       "\n",
       "    .dataframe thead th {\n",
       "        text-align: right;\n",
       "    }\n",
       "</style>\n",
       "<table border=\"1\" class=\"dataframe\">\n",
       "  <thead>\n",
       "    <tr style=\"text-align: right;\">\n",
       "      <th></th>\n",
       "      <th>Customers</th>\n",
       "      <th>Housing</th>\n",
       "      <th>Income</th>\n",
       "      <th>Age</th>\n",
       "      <th>Competitor</th>\n",
       "      <th>Store</th>\n",
       "    </tr>\n",
       "  </thead>\n",
       "  <tbody>\n",
       "    <tr>\n",
       "      <th>0</th>\n",
       "      <td>9</td>\n",
       "      <td>606</td>\n",
       "      <td>41393</td>\n",
       "      <td>3</td>\n",
       "      <td>3.04</td>\n",
       "      <td>6.32</td>\n",
       "    </tr>\n",
       "    <tr>\n",
       "      <th>1</th>\n",
       "      <td>6</td>\n",
       "      <td>641</td>\n",
       "      <td>23635</td>\n",
       "      <td>18</td>\n",
       "      <td>1.95</td>\n",
       "      <td>8.89</td>\n",
       "    </tr>\n",
       "    <tr>\n",
       "      <th>2</th>\n",
       "      <td>28</td>\n",
       "      <td>505</td>\n",
       "      <td>55475</td>\n",
       "      <td>27</td>\n",
       "      <td>6.54</td>\n",
       "      <td>2.05</td>\n",
       "    </tr>\n",
       "    <tr>\n",
       "      <th>3</th>\n",
       "      <td>11</td>\n",
       "      <td>866</td>\n",
       "      <td>64646</td>\n",
       "      <td>31</td>\n",
       "      <td>1.67</td>\n",
       "      <td>5.81</td>\n",
       "    </tr>\n",
       "    <tr>\n",
       "      <th>4</th>\n",
       "      <td>4</td>\n",
       "      <td>599</td>\n",
       "      <td>31972</td>\n",
       "      <td>7</td>\n",
       "      <td>0.72</td>\n",
       "      <td>8.11</td>\n",
       "    </tr>\n",
       "  </tbody>\n",
       "</table>\n",
       "</div>"
      ],
      "text/plain": [
       "   Customers  Housing  Income  Age  Competitor  Store\n",
       "0          9      606   41393    3        3.04   6.32\n",
       "1          6      641   23635   18        1.95   8.89\n",
       "2         28      505   55475   27        6.54   2.05\n",
       "3         11      866   64646   31        1.67   5.81\n",
       "4          4      599   31972    7        0.72   8.11"
      ]
     },
     "execution_count": 119,
     "metadata": {},
     "output_type": "execute_result"
    }
   ],
   "source": [
    "lumber.head()"
   ]
  },
  {
   "cell_type": "markdown",
   "metadata": {},
   "source": [
    "Perform a Poisson Regression, using the Generalized Linear Model formula interface"
   ]
  },
  {
   "cell_type": "code",
   "execution_count": 120,
   "metadata": {},
   "outputs": [
    {
     "data": {
      "text/html": [
       "<table class=\"simpletable\">\n",
       "<caption>Generalized Linear Model Regression Results</caption>\n",
       "<tr>\n",
       "  <th>Dep. Variable:</th>      <td>Customers</td>    <th>  No. Observations:  </th>  <td>   110</td>  \n",
       "</tr>\n",
       "<tr>\n",
       "  <th>Model:</th>                 <td>GLM</td>       <th>  Df Residuals:      </th>  <td>   104</td>  \n",
       "</tr>\n",
       "<tr>\n",
       "  <th>Model Family:</th>        <td>Poisson</td>     <th>  Df Model:          </th>  <td>     5</td>  \n",
       "</tr>\n",
       "<tr>\n",
       "  <th>Link Function:</th>         <td>log</td>       <th>  Scale:             </th> <td>  1.0000</td> \n",
       "</tr>\n",
       "<tr>\n",
       "  <th>Method:</th>               <td>IRLS</td>       <th>  Log-Likelihood:    </th> <td> -279.51</td> \n",
       "</tr>\n",
       "<tr>\n",
       "  <th>Date:</th>           <td>Fri, 22 May 2020</td> <th>  Deviance:          </th> <td>  114.99</td> \n",
       "</tr>\n",
       "<tr>\n",
       "  <th>Time:</th>               <td>20:45:16</td>     <th>  Pearson chi2:      </th>  <td>  102.</td>  \n",
       "</tr>\n",
       "<tr>\n",
       "  <th>No. Iterations:</th>         <td>4</td>        <th>  Covariance Type:   </th> <td>nonrobust</td>\n",
       "</tr>\n",
       "</table>\n",
       "<table class=\"simpletable\">\n",
       "<tr>\n",
       "       <td></td>         <th>coef</th>     <th>std err</th>      <th>z</th>      <th>P>|z|</th>  <th>[0.025</th>    <th>0.975]</th>  \n",
       "</tr>\n",
       "<tr>\n",
       "  <th>Intercept</th>  <td>    2.9424</td> <td>    0.207</td> <td>   14.198</td> <td> 0.000</td> <td>    2.536</td> <td>    3.349</td>\n",
       "</tr>\n",
       "<tr>\n",
       "  <th>Housing</th>    <td>    0.0006</td> <td>    0.000</td> <td>    4.262</td> <td> 0.000</td> <td>    0.000</td> <td>    0.001</td>\n",
       "</tr>\n",
       "<tr>\n",
       "  <th>Income</th>     <td>-1.169e-05</td> <td> 2.11e-06</td> <td>   -5.534</td> <td> 0.000</td> <td>-1.58e-05</td> <td>-7.55e-06</td>\n",
       "</tr>\n",
       "<tr>\n",
       "  <th>Age</th>        <td>   -0.0037</td> <td>    0.002</td> <td>   -2.091</td> <td> 0.037</td> <td>   -0.007</td> <td>   -0.000</td>\n",
       "</tr>\n",
       "<tr>\n",
       "  <th>Competitor</th> <td>    0.1684</td> <td>    0.026</td> <td>    6.534</td> <td> 0.000</td> <td>    0.118</td> <td>    0.219</td>\n",
       "</tr>\n",
       "<tr>\n",
       "  <th>Store</th>      <td>   -0.1288</td> <td>    0.016</td> <td>   -7.948</td> <td> 0.000</td> <td>   -0.161</td> <td>   -0.097</td>\n",
       "</tr>\n",
       "</table>"
      ],
      "text/plain": [
       "<class 'statsmodels.iolib.summary.Summary'>\n",
       "\"\"\"\n",
       "                 Generalized Linear Model Regression Results                  \n",
       "==============================================================================\n",
       "Dep. Variable:              Customers   No. Observations:                  110\n",
       "Model:                            GLM   Df Residuals:                      104\n",
       "Model Family:                 Poisson   Df Model:                            5\n",
       "Link Function:                    log   Scale:                          1.0000\n",
       "Method:                          IRLS   Log-Likelihood:                -279.51\n",
       "Date:                Fri, 22 May 2020   Deviance:                       114.99\n",
       "Time:                        20:45:16   Pearson chi2:                     102.\n",
       "No. Iterations:                     4   Covariance Type:             nonrobust\n",
       "==============================================================================\n",
       "                 coef    std err          z      P>|z|      [0.025      0.975]\n",
       "------------------------------------------------------------------------------\n",
       "Intercept      2.9424      0.207     14.198      0.000       2.536       3.349\n",
       "Housing        0.0006      0.000      4.262      0.000       0.000       0.001\n",
       "Income     -1.169e-05   2.11e-06     -5.534      0.000   -1.58e-05   -7.55e-06\n",
       "Age           -0.0037      0.002     -2.091      0.037      -0.007      -0.000\n",
       "Competitor     0.1684      0.026      6.534      0.000       0.118       0.219\n",
       "Store         -0.1288      0.016     -7.948      0.000      -0.161      -0.097\n",
       "==============================================================================\n",
       "\"\"\""
      ]
     },
     "execution_count": 120,
     "metadata": {},
     "output_type": "execute_result"
    }
   ],
   "source": [
    "res2 = glm(\n",
    "    'Customers ~ Housing + Income + Age + Competitor + Store',\n",
    "    data=lumber,\n",
    "    family=sm.families.Poisson(),\n",
    ").fit()\n",
    "\n",
    "res2.summary()"
   ]
  },
  {
   "cell_type": "markdown",
   "metadata": {},
   "source": [
    "Show AIC value matches STATS191 notes"
   ]
  },
  {
   "cell_type": "code",
   "execution_count": 121,
   "metadata": {},
   "outputs": [
    {
     "data": {
      "text/plain": [
       "571.0242714424356"
      ]
     },
     "execution_count": 121,
     "metadata": {},
     "output_type": "execute_result"
    }
   ],
   "source": [
    "res2.aic"
   ]
  },
  {
   "cell_type": "markdown",
   "metadata": {},
   "source": [
    "Plot the Residuals against Fitted Values (seems OK)"
   ]
  },
  {
   "cell_type": "code",
   "execution_count": 126,
   "metadata": {},
   "outputs": [
    {
     "data": {
      "image/png": "[encoded data removed]",
      "text/plain": [
       "<Figure size 432x288 with 1 Axes>"
      ]
     },
     "metadata": {
      "needs_background": "light"
     },
     "output_type": "display_data"
    }
   ],
   "source": [
    "_ = plt.plot(\n",
    "    res2.fittedvalues,\n",
    "    lumber['Customers'] - res2.fittedvalues,\n",
    "    '+',\n",
    ")"
   ]
  },
  {
   "cell_type": "markdown",
   "metadata": {},
   "source": [
    "We can also use the Object interface, but have to specify regularized fitting"
   ]
  },
  {
   "cell_type": "code",
   "execution_count": 145,
   "metadata": {},
   "outputs": [],
   "source": [
    "y = np.array(lumber['Customers'])\n",
    "\n",
    "\n",
    "x = np.array(\n",
    "    lumber[\n",
    "        ['Housing', 'Income', 'Age', 'Competitor', 'Store']\n",
    "    ]\n",
    ")\n",
    "X = sm.add_constant(x)"
   ]
  },
  {
   "cell_type": "code",
   "execution_count": 149,
   "metadata": {},
   "outputs": [
    {
     "name": "stdout",
     "output_type": "stream",
     "text": [
      "Optimization terminated successfully.    (Exit mode 0)\n",
      "            Current function value: 2.5410194156558066\n",
      "            Iterations: 17\n",
      "            Function evaluations: 39\n",
      "            Gradient evaluations: 17\n"
     ]
    }
   ],
   "source": [
    "res3 = sm.Poisson(y, X).fit_regularized()"
   ]
  },
  {
   "cell_type": "code",
   "execution_count": 150,
   "metadata": {},
   "outputs": [
    {
     "data": {
      "text/html": [
       "<table class=\"simpletable\">\n",
       "<caption>Poisson Regression Results</caption>\n",
       "<tr>\n",
       "  <th>Dep. Variable:</th>         <td>y</td>        <th>  No. Observations:  </th>  <td>   110</td>  \n",
       "</tr>\n",
       "<tr>\n",
       "  <th>Model:</th>              <td>Poisson</td>     <th>  Df Residuals:      </th>  <td>   104</td>  \n",
       "</tr>\n",
       "<tr>\n",
       "  <th>Method:</th>               <td>MLE</td>       <th>  Df Model:          </th>  <td>     5</td>  \n",
       "</tr>\n",
       "<tr>\n",
       "  <th>Date:</th>          <td>Fri, 22 May 2020</td> <th>  Pseudo R-squ.:     </th>  <td>0.3547</td>  \n",
       "</tr>\n",
       "<tr>\n",
       "  <th>Time:</th>              <td>21:11:48</td>     <th>  Log-Likelihood:    </th> <td> -279.51</td> \n",
       "</tr>\n",
       "<tr>\n",
       "  <th>converged:</th>           <td>True</td>       <th>  LL-Null:           </th> <td> -433.13</td> \n",
       "</tr>\n",
       "<tr>\n",
       "  <th> </th>                      <td> </td>        <th>  LLR p-value:       </th> <td>2.789e-64</td>\n",
       "</tr>\n",
       "</table>\n",
       "<table class=\"simpletable\">\n",
       "<tr>\n",
       "    <td></td>       <th>coef</th>     <th>std err</th>      <th>z</th>      <th>P>|z|</th>  <th>[0.025</th>    <th>0.975]</th>  \n",
       "</tr>\n",
       "<tr>\n",
       "  <th>const</th> <td>    2.9424</td> <td>    0.207</td> <td>   14.198</td> <td> 0.000</td> <td>    2.536</td> <td>    3.349</td>\n",
       "</tr>\n",
       "<tr>\n",
       "  <th>x1</th>    <td>    0.0006</td> <td>    0.000</td> <td>    4.262</td> <td> 0.000</td> <td>    0.000</td> <td>    0.001</td>\n",
       "</tr>\n",
       "<tr>\n",
       "  <th>x2</th>    <td>-1.169e-05</td> <td> 2.11e-06</td> <td>   -5.534</td> <td> 0.000</td> <td>-1.58e-05</td> <td>-7.55e-06</td>\n",
       "</tr>\n",
       "<tr>\n",
       "  <th>x3</th>    <td>   -0.0037</td> <td>    0.002</td> <td>   -2.091</td> <td> 0.037</td> <td>   -0.007</td> <td>   -0.000</td>\n",
       "</tr>\n",
       "<tr>\n",
       "  <th>x4</th>    <td>    0.1684</td> <td>    0.026</td> <td>    6.534</td> <td> 0.000</td> <td>    0.118</td> <td>    0.219</td>\n",
       "</tr>\n",
       "<tr>\n",
       "  <th>x5</th>    <td>   -0.1288</td> <td>    0.016</td> <td>   -7.948</td> <td> 0.000</td> <td>   -0.161</td> <td>   -0.097</td>\n",
       "</tr>\n",
       "</table>"
      ],
      "text/plain": [
       "<class 'statsmodels.iolib.summary.Summary'>\n",
       "\"\"\"\n",
       "                          Poisson Regression Results                          \n",
       "==============================================================================\n",
       "Dep. Variable:                      y   No. Observations:                  110\n",
       "Model:                        Poisson   Df Residuals:                      104\n",
       "Method:                           MLE   Df Model:                            5\n",
       "Date:                Fri, 22 May 2020   Pseudo R-squ.:                  0.3547\n",
       "Time:                        21:11:48   Log-Likelihood:                -279.51\n",
       "converged:                       True   LL-Null:                       -433.13\n",
       "                                        LLR p-value:                 2.789e-64\n",
       "==============================================================================\n",
       "                 coef    std err          z      P>|z|      [0.025      0.975]\n",
       "------------------------------------------------------------------------------\n",
       "const          2.9424      0.207     14.198      0.000       2.536       3.349\n",
       "x1             0.0006      0.000      4.262      0.000       0.000       0.001\n",
       "x2         -1.169e-05   2.11e-06     -5.534      0.000   -1.58e-05   -7.55e-06\n",
       "x3            -0.0037      0.002     -2.091      0.037      -0.007      -0.000\n",
       "x4             0.1684      0.026      6.534      0.000       0.118       0.219\n",
       "x5            -0.1288      0.016     -7.948      0.000      -0.161      -0.097\n",
       "==============================================================================\n",
       "\"\"\""
      ]
     },
     "execution_count": 150,
     "metadata": {},
     "output_type": "execute_result"
    }
   ],
   "source": [
    "res3.summary()"
   ]
  },
  {
   "cell_type": "code",
   "execution_count": 152,
   "metadata": {},
   "outputs": [
    {
     "data": {
      "text/html": [
       "<table class=\"simpletable\">\n",
       "<tr>\n",
       "        <td>Model:</td>             <td>Poisson</td>     <td>Pseudo R-squared:</td>    <td>0.355</td>  \n",
       "</tr>\n",
       "<tr>\n",
       "  <td>Dependent Variable:</td>         <td>y</td>              <td>AIC:</td>         <td>571.0243</td> \n",
       "</tr>\n",
       "<tr>\n",
       "         <td>Date:</td>        <td>2020-05-22 21:15</td>       <td>BIC:</td>         <td>587.2272</td> \n",
       "</tr>\n",
       "<tr>\n",
       "   <td>No. Observations:</td>         <td>110</td>        <td>Log-Likelihood:</td>    <td>-279.51</td> \n",
       "</tr>\n",
       "<tr>\n",
       "       <td>Df Model:</td>              <td>5</td>            <td>LL-Null:</td>        <td>-433.13</td> \n",
       "</tr>\n",
       "<tr>\n",
       "     <td>Df Residuals:</td>           <td>104</td>         <td>LLR p-value:</td>    <td>2.7887e-64</td>\n",
       "</tr>\n",
       "<tr>\n",
       "      <td>Converged:</td>           <td>1.0000</td>           <td>Scale:</td>         <td>1.0000</td>  \n",
       "</tr>\n",
       "<tr>\n",
       "    <td>No. Iterations:</td>        <td>17.0000</td>             <td></td>               <td></td>     \n",
       "</tr>\n",
       "</table>\n",
       "<table class=\"simpletable\">\n",
       "<tr>\n",
       "    <td></td>     <th>Coef.</th>  <th>Std.Err.</th>    <th>z</th>     <th>P>|z|</th> <th>[0.025</th>  <th>0.975]</th> \n",
       "</tr>\n",
       "<tr>\n",
       "  <th>const</th> <td>2.9424</td>   <td>0.2072</td>  <td>14.1977</td> <td>0.0000</td> <td>2.5362</td>  <td>3.3486</td> \n",
       "</tr>\n",
       "<tr>\n",
       "  <th>x1</th>    <td>0.0006</td>   <td>0.0001</td>  <td>4.2623</td>  <td>0.0000</td> <td>0.0003</td>  <td>0.0009</td> \n",
       "</tr>\n",
       "<tr>\n",
       "  <th>x2</th>    <td>-0.0000</td>  <td>0.0000</td>  <td>-5.5340</td> <td>0.0000</td> <td>-0.0000</td> <td>-0.0000</td>\n",
       "</tr>\n",
       "<tr>\n",
       "  <th>x3</th>    <td>-0.0037</td>  <td>0.0018</td>  <td>-2.0913</td> <td>0.0365</td> <td>-0.0072</td> <td>-0.0002</td>\n",
       "</tr>\n",
       "<tr>\n",
       "  <th>x4</th>    <td>0.1684</td>   <td>0.0258</td>  <td>6.5343</td>  <td>0.0000</td> <td>0.1179</td>  <td>0.2189</td> \n",
       "</tr>\n",
       "<tr>\n",
       "  <th>x5</th>    <td>-0.1288</td>  <td>0.0162</td>  <td>-7.9481</td> <td>0.0000</td> <td>-0.1605</td> <td>-0.0970</td>\n",
       "</tr>\n",
       "</table>"
      ],
      "text/plain": [
       "<class 'statsmodels.iolib.summary2.Summary'>\n",
       "\"\"\"\n",
       "                        Results: Poisson\n",
       "=================================================================\n",
       "Model:              Poisson          Pseudo R-squared: 0.355     \n",
       "Dependent Variable: y                AIC:              571.0243  \n",
       "Date:               2020-05-22 21:15 BIC:              587.2272  \n",
       "No. Observations:   110              Log-Likelihood:   -279.51   \n",
       "Df Model:           5                LL-Null:          -433.13   \n",
       "Df Residuals:       104              LLR p-value:      2.7887e-64\n",
       "Converged:          1.0000           Scale:            1.0000    \n",
       "No. Iterations:     17.0000                                      \n",
       "-------------------------------------------------------------------\n",
       "           Coef.    Std.Err.      z      P>|z|     [0.025    0.975]\n",
       "-------------------------------------------------------------------\n",
       "const      2.9424     0.2072   14.1977   0.0000    2.5362    3.3486\n",
       "x1         0.0006     0.0001    4.2623   0.0000    0.0003    0.0009\n",
       "x2        -0.0000     0.0000   -5.5340   0.0000   -0.0000   -0.0000\n",
       "x3        -0.0037     0.0018   -2.0913   0.0365   -0.0072   -0.0002\n",
       "x4         0.1684     0.0258    6.5343   0.0000    0.1179    0.2189\n",
       "x5        -0.1288     0.0162   -7.9481   0.0000   -0.1605   -0.0970\n",
       "=================================================================\n",
       "\n",
       "\"\"\""
      ]
     },
     "execution_count": 152,
     "metadata": {},
     "output_type": "execute_result"
    }
   ],
   "source": [
    "res3.summary2()"
   ]
  },
  {
   "cell_type": "markdown",
   "metadata": {},
   "source": [
    "The bare-bones call to the Poisson object fails.  I don't really know why this interface fails"
   ]
  },
  {
   "cell_type": "code",
   "execution_count": 166,
   "metadata": {},
   "outputs": [
    {
     "name": "stdout",
     "output_type": "stream",
     "text": [
      "Warning: Maximum number of iterations has been exceeded.\n",
      "         Current function value: 29876812607532474166702938553126939000832.000000\n",
      "         Iterations: 35\n"
     ]
    },
    {
     "name": "stderr",
     "output_type": "stream",
     "text": [
      "D:\\Anaconda3\\envs\\ac5-py37\\lib\\site-packages\\statsmodels\\base\\model.py:508: ConvergenceWarning: Maximum Likelihood optimization failed to converge. Check mle_retvals\n",
      "  \"Check mle_retvals\", ConvergenceWarning)\n"
     ]
    }
   ],
   "source": [
    "res4 = sm.Poisson(y, X).fit()"
   ]
  },
  {
   "cell_type": "markdown",
   "metadata": {},
   "source": [
    "----------------\n",
    "# Conclusions\n",
    "\n",
    "This concludes my sweep through the STATS191 lecture notes, and I must say that I have learned a lot.  Obviously I would have to learn a lot more to be even close to being a statistician, and I suspect that analysing hundreds of datasets would be needed to gain a deep understanding of strengths and weaknesses of the various techniques"
   ]
  },
  {
   "cell_type": "markdown",
   "metadata": {},
   "source": [
    "\n",
    "---------\n",
    "## Reproducibility"
   ]
  },
  {
   "cell_type": "code",
   "execution_count": 218,
   "metadata": {},
   "outputs": [
    {
     "name": "stdout",
     "output_type": "stream",
     "text": [
      "seaborn     0.9.0\n",
      "matplotlib  3.0.2\n",
      "numpy       1.15.4\n",
      "statsmodels 0.9.0\n",
      "pandas      1.0.0\n",
      "scipy       1.1.0\n",
      "host name: DESKTOP-SODFUN6\n",
      "2020-05-21T18:49:21+10:00\n",
      "\n",
      "CPython 3.7.1\n",
      "IPython 7.2.0\n",
      "\n",
      "compiler   : MSC v.1915 64 bit (AMD64)\n",
      "system     : Windows\n",
      "release    : 10\n",
      "machine    : AMD64\n",
      "processor  : Intel64 Family 6 Model 94 Stepping 3, GenuineIntel\n",
      "CPU cores  : 8\n",
      "interpreter: 64bit\n"
     ]
    }
   ],
   "source": [
    "%watermark -h -iv\n",
    "%watermark"
   ]
  },
  {
   "cell_type": "code",
   "execution_count": 219,
   "metadata": {},
   "outputs": [
    {
     "name": "stdout",
     "output_type": "stream",
     "text": [
      "\n",
      "INSTALLED VERSIONS\n",
      "------------------\n",
      "Python: 3.7.1.final.0\n",
      "\n",
      "Statsmodels\n",
      "===========\n",
      "\n",
      "Installed: 0.9.0 (D:\\Anaconda3\\envs\\ac5-py37\\lib\\site-packages\\statsmodels)\n",
      "\n",
      "Required Dependencies\n",
      "=====================\n",
      "\n",
      "cython: 0.29.2 (D:\\Anaconda3\\envs\\ac5-py37\\lib\\site-packages\\Cython)\n",
      "numpy: 1.15.4 (D:\\Anaconda3\\envs\\ac5-py37\\lib\\site-packages\\numpy)\n",
      "scipy: 1.1.0 (D:\\Anaconda3\\envs\\ac5-py37\\lib\\site-packages\\scipy)\n",
      "pandas: 1.0.0 (D:\\Anaconda3\\envs\\ac5-py37\\lib\\site-packages\\pandas)\n",
      "    dateutil: 2.7.5 (D:\\Anaconda3\\envs\\ac5-py37\\lib\\site-packages\\dateutil)\n",
      "patsy: 0.5.1 (D:\\Anaconda3\\envs\\ac5-py37\\lib\\site-packages\\patsy)\n",
      "\n",
      "Optional Dependencies\n",
      "=====================\n",
      "\n",
      "matplotlib: 3.0.2 (D:\\Anaconda3\\envs\\ac5-py37\\lib\\site-packages\\matplotlib)\n",
      "    backend: module://ipykernel.pylab.backend_inline \n",
      "cvxopt: Not installed\n",
      "joblib: 0.13.2 (D:\\Anaconda3\\envs\\ac5-py37\\lib\\site-packages\\joblib)\n",
      "\n",
      "Developer Tools\n",
      "================\n",
      "\n",
      "IPython: 7.2.0 (D:\\Anaconda3\\envs\\ac5-py37\\lib\\site-packages\\IPython)\n",
      "    jinja2: 2.10.1 (D:\\Anaconda3\\envs\\ac5-py37\\lib\\site-packages\\jinja2)\n",
      "sphinx: 1.8.2 (D:\\Anaconda3\\envs\\ac5-py37\\lib\\site-packages\\sphinx)\n",
      "    pygments: 2.3.1 (D:\\Anaconda3\\envs\\ac5-py37\\lib\\site-packages\\pygments)\n",
      "nose: 1.3.7 (D:\\Anaconda3\\envs\\ac5-py37\\lib\\site-packages\\nose)\n",
      "pytest: 5.0.1 (D:\\Anaconda3\\envs\\ac5-py37\\lib\\site-packages)\n",
      "virtualenv: Not installed\n",
      "\n",
      "\n"
     ]
    }
   ],
   "source": [
    "sm.show_versions()"
   ]
  },
  {
   "cell_type": "code",
   "execution_count": null,
   "metadata": {},
   "outputs": [],
   "source": []
  }
 ],
 "metadata": {
  "kernelspec": {
   "display_name": "Python 3",
   "language": "python",
   "name": "python3"
  },
  "language_info": {
   "codemirror_mode": {
    "name": "ipython",
    "version": 3
   },
   "file_extension": ".py",
   "mimetype": "text/x-python",
   "name": "python",
   "nbconvert_exporter": "python",
   "pygments_lexer": "ipython3",
   "version": "3.7.1"
  }
 },
 "nbformat": 4,
 "nbformat_minor": 4
}
