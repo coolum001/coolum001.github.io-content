{
 "cells": [
  {
   "cell_type": "markdown",
   "id": "93e8f0c4-fc35-4812-89e6-ac3dc6f45be4",
   "metadata": {},
   "source": [
    "# Interfacing Pandas to an Access Database\n",
    "\n",
    "## Introduction\n",
    "\n",
    "This post is intended to be a guide for Python users, who wish to process a Microsoft (MS) Access database.  The assumption is that ```pandas``` will be the primary analysis tool.\n",
    "\n",
    "One option is to read the Access datatables into a MS Excel spreadsheet.  This allows for an initial exploration, and access to Excel spreadsheets is well supported by ```pandas```, but the two step translation loses the meta-data (column types, etc), so direct interfacing was chosen for implementation.\n",
    "\n"
   ]
  },
  {
   "cell_type": "markdown",
   "id": "89c1f726-48aa-4aac-b861-a325108730e0",
   "metadata": {},
   "source": [
    "## Background\n",
    "\n",
    "Open Database Connectivity (ODBC) is a standard application programming interface (API) for accessing database management systems (DBMS). The extensive support for ODBC in the Python ecosystem makes it the obvious choice for interfacing to MS Access.\n",
    "\n",
    "As shown below, the appropriate drivers from MS must be installed to support the interfacing operations."
   ]
  },
  {
   "cell_type": "markdown",
   "id": "95e96266-32a0-4689-bf7e-b618548bce99",
   "metadata": {},
   "source": [
    "## ```pyodbc``` Package\n",
    "\n",
    "The ```pyodbc``` package was the first choice for an implementation of code to read the databasde"
   ]
  },
  {
   "cell_type": "markdown",
   "id": "755693b2-9677-4dab-909b-53826f062ff3",
   "metadata": {},
   "source": [
    "## Initial Implementation\n",
    "\n",
    "### Imports\n",
    "In this section, we import the Python packages we will use.\n"
   ]
  },
  {
   "cell_type": "code",
   "execution_count": 21,
   "id": "10e32dae-87be-4066-935e-4b974f884e09",
   "metadata": {},
   "outputs": [],
   "source": [
    "import pandas as pd\n",
    "import pyodbc\n",
    "\n",
    "# used for environment documentation\n",
    "import sys\n",
    "import os\n",
    "import platform\n",
    "import datetime"
   ]
  },
  {
   "cell_type": "code",
   "execution_count": 22,
   "id": "677bbf7a-3cc1-4ee3-8e8d-79ad27ffa35b",
   "metadata": {},
   "outputs": [
    {
     "name": "stdout",
     "output_type": "stream",
     "text": [
      "The watermark extension is already loaded. To reload it, use:\n",
      "  %reload_ext watermark\n"
     ]
    }
   ],
   "source": [
    "%load_ext watermark"
   ]
  },
  {
   "cell_type": "code",
   "execution_count": 23,
   "id": "f01c7576-2fc2-4ec6-bd1c-bc11887ee4da",
   "metadata": {},
   "outputs": [
    {
     "name": "stdout",
     "output_type": "stream",
     "text": [
      "The lab_black extension is already loaded. To reload it, use:\n",
      "  %reload_ext lab_black\n"
     ]
    }
   ],
   "source": [
    "%load_ext lab_black"
   ]
  },
  {
   "cell_type": "markdown",
   "id": "d7028c29-1d42-4425-bba4-44437b85592b",
   "metadata": {},
   "source": [
    "### Driver environment\n",
    "As discussed above, the appropriate software drivers from MS must be installed to support the intergace to Access databases.  We can determine the drivers available by the following code snippet, which create a list of the drivers available (as seen by the ```pyodbc``` package)."
   ]
  },
  {
   "cell_type": "code",
   "execution_count": 24,
   "id": "21af0b12-de16-4a4b-a310-7f25a4f71f70",
   "metadata": {},
   "outputs": [
    {
     "data": {
      "text/plain": [
       "['SQL Server',\n",
       " 'SQL Server Native Client 11.0',\n",
       " 'Microsoft Access Driver (*.mdb, *.accdb)',\n",
       " 'Microsoft Excel Driver (*.xls, *.xlsx, *.xlsm, *.xlsb)',\n",
       " 'Microsoft Access dBASE Driver (*.dbf, *.ndx, *.mdx)',\n",
       " 'Microsoft Access Text Driver (*.txt, *.csv)']"
      ]
     },
     "execution_count": 24,
     "metadata": {},
     "output_type": "execute_result"
    }
   ],
   "source": [
    "[x for x in pyodbc.drivers()]"
   ]
  },
  {
   "cell_type": "markdown",
   "id": "c1171e9f-ca64-4880-8d6b-eef352e236df",
   "metadata": {},
   "source": [
    "In the initial run of this snippet, the only drivers available were the ```SQL Server``` drivers.  Going to the link\n",
    "\n",
    "<https://www.microsoft.com/en-us/download/details.aspx?id=54920>\n",
    "\n",
    "and clicking the \"Download\" button will install the ```Microsoft Access Driver```, as shown above."
   ]
  },
  {
   "cell_type": "markdown",
   "id": "0f8bcfa3-a07b-4bad-9431-733089c120b5",
   "metadata": {},
   "source": [
    "### Testing the Interface\n",
    "\n",
    "To test the interface, we create a connection string that specifies the interfacing driver we need, and the database location (in this case, local to the machine running Python).  Then we create a connection."
   ]
  },
  {
   "cell_type": "code",
   "execution_count": 25,
   "id": "2d3fe21d-75d5-4a42-ba5d-10f8c612ed56",
   "metadata": {},
   "outputs": [],
   "source": [
    "connStr = (\n",
    "    r\"DRIVER={Microsoft Access Driver (*.mdb, *.accdb)};\"\n",
    "    r\"DBQ=D:\\WaterQualityDB2022\\wq2022.accdb;\"\n",
    ")\n",
    "cnxn = pyodbc.connect(connStr)"
   ]
  },
  {
   "cell_type": "markdown",
   "id": "2ffff40b-643d-4d18-9151-062b553c7d1c",
   "metadata": {},
   "source": [
    "We know from the exploration via Excel, that there is a table ```Equipment```. We attempt to read the table into ```pandas```."
   ]
  },
  {
   "cell_type": "code",
   "execution_count": 26,
   "id": "fb62f5c4-6e81-4f80-b35d-959a2f5d6894",
   "metadata": {},
   "outputs": [
    {
     "name": "stderr",
     "output_type": "stream",
     "text": [
      "D:\\Anaconda2022\\lib\\site-packages\\pandas\\io\\sql.py:762: UserWarning: pandas only support SQLAlchemy connectable(engine/connection) ordatabase string URI or sqlite3 DBAPI2 connectionother DBAPI2 objects are not tested, please consider using SQLAlchemy\n",
      "  warnings.warn(\n"
     ]
    },
    {
     "data": {
      "text/html": [
       "<div>\n",
       "<style scoped>\n",
       "    .dataframe tbody tr th:only-of-type {\n",
       "        vertical-align: middle;\n",
       "    }\n",
       "\n",
       "    .dataframe tbody tr th {\n",
       "        vertical-align: top;\n",
       "    }\n",
       "\n",
       "    .dataframe thead th {\n",
       "        text-align: right;\n",
       "    }\n",
       "</style>\n",
       "<table border=\"1\" class=\"dataframe\">\n",
       "  <thead>\n",
       "    <tr style=\"text-align: right;\">\n",
       "      <th></th>\n",
       "      <th>Equipment ID</th>\n",
       "      <th>Equipment Name</th>\n",
       "      <th>Serial</th>\n",
       "      <th>Probe Serial</th>\n",
       "      <th>Model</th>\n",
       "    </tr>\n",
       "  </thead>\n",
       "  <tbody>\n",
       "    <tr>\n",
       "      <th>0</th>\n",
       "      <td>1</td>\n",
       "      <td>Maroochy 1</td>\n",
       "      <td></td>\n",
       "      <td></td>\n",
       "      <td>Horiba U52</td>\n",
       "    </tr>\n",
       "    <tr>\n",
       "      <th>1</th>\n",
       "      <td>2</td>\n",
       "      <td>Maroochy 2</td>\n",
       "      <td></td>\n",
       "      <td></td>\n",
       "      <td>Horiba U52</td>\n",
       "    </tr>\n",
       "    <tr>\n",
       "      <th>2</th>\n",
       "      <td>3</td>\n",
       "      <td>Maroochy 3</td>\n",
       "      <td></td>\n",
       "      <td></td>\n",
       "      <td>Horiba U52</td>\n",
       "    </tr>\n",
       "    <tr>\n",
       "      <th>3</th>\n",
       "      <td>4</td>\n",
       "      <td>Maroochy 4</td>\n",
       "      <td></td>\n",
       "      <td></td>\n",
       "      <td>Horiba U52</td>\n",
       "    </tr>\n",
       "    <tr>\n",
       "      <th>4</th>\n",
       "      <td>5</td>\n",
       "      <td>Maroochy 5</td>\n",
       "      <td></td>\n",
       "      <td></td>\n",
       "      <td>Horiba U52</td>\n",
       "    </tr>\n",
       "  </tbody>\n",
       "</table>\n",
       "</div>"
      ],
      "text/plain": [
       "  Equipment ID Equipment Name Serial Probe Serial       Model\n",
       "0            1     Maroochy 1                      Horiba U52\n",
       "1            2     Maroochy 2                      Horiba U52\n",
       "2            3     Maroochy 3                      Horiba U52\n",
       "3            4     Maroochy 4                      Horiba U52\n",
       "4            5     Maroochy 5                      Horiba U52"
      ]
     },
     "execution_count": 26,
     "metadata": {},
     "output_type": "execute_result"
    }
   ],
   "source": [
    "sql_qry = 'select * from Equipment'\n",
    "df = pd.read_sql(sql_qry, cnxn)\n",
    "df.head()"
   ]
  },
  {
   "cell_type": "markdown",
   "id": "7ff2900f-fb45-4f9a-971f-c45cf51c7d46",
   "metadata": {},
   "source": [
    "The problem here is that although this works, we have a warning message from ```pandas``` that the ODC access we are using is not supported:\n",
    "\n",
    ">  UserWarning: pandas only support SQLAlchemy connectable(engine/connection) ordatabase string URI or sqlite3 DBAPI2 connectionother DBAPI2 objects are not tested, please consider using SQLAlchemy\n",
    "\n",
    "Now in general, application or package warning messages have to considered seriously, especially in software intended to have an extended lifetime, because subsequent updates to ```pandas``` could totally remove support for non-SQLAlchemy access methods."
   ]
  },
  {
   "cell_type": "markdown",
   "id": "12072e00-54aa-4502-8231-91a202ab938b",
   "metadata": {},
   "source": [
    "## SQLAlchemy Implementation\n",
    "\n",
    "Investigation of integration of the SQLAlchemy package, pandas, and MS Access revealed one potential item of concern:  MS Access is **not** a supported database that the SQLAlchemy  project supports.  I suspect that this is because Python (especially in the machine learning domain) is oriented towards large to very large databases, and not the relatively small databases that MS Access is typically used for.  \n",
    "\n",
    "However, there is an independent  Python package ```sqlalchemy_access```, that provides the interface between SQLAlchemy and MS Access.  Note that we still have to import the ```pyodbc``` package.  ```sqlalchemy_access```  did not appear to be in the Anaconda ecosystem, so I just downloaded it from GitHub __[GitHub link](https://github.com/gordthompson/sqlalchemy-access)__"
   ]
  },
  {
   "cell_type": "markdown",
   "id": "8cec5e7a-f17e-40e2-a8be-d8b0687e0bc8",
   "metadata": {},
   "source": [
    "### Implementation\n",
    "\n",
    "#### Early SQLAlchemy\n",
    "\n",
    "Again, we define the packages we wish to import."
   ]
  },
  {
   "cell_type": "code",
   "execution_count": 27,
   "id": "21d3f61f-0656-41e8-bc7a-3db37a6e9eaa",
   "metadata": {},
   "outputs": [],
   "source": [
    "import pandas as pd\n",
    "import sqlalchemy as sa\n",
    "import sqlalchemy_access\n",
    "\n",
    "import pyodbc"
   ]
  },
  {
   "cell_type": "markdown",
   "id": "50c0415c-f751-4cc2-8dd1-ad4b910719f4",
   "metadata": {},
   "source": [
    "Next (as before), we define a connection specification, and establish a connection to the database."
   ]
  },
  {
   "cell_type": "code",
   "execution_count": 28,
   "id": "a9d878d2-496e-4c79-82bc-0b596b636cd4",
   "metadata": {},
   "outputs": [],
   "source": [
    "import sqlalchemy_access\n",
    "\n",
    "connection_string = (\n",
    "    r\"DRIVER={Microsoft Access Driver (*.mdb, *.accdb)};\"\n",
    "    r\"DBQ=D:\\WaterQualityDB2022\\wq2022.accdb;\"\n",
    ")\n",
    "connection_url = sa.engine.URL.create(\n",
    "    \"access+pyodbc\",\n",
    "    query={\"odbc_connect\": connection_string},\n",
    ")\n",
    "engine = sa.create_engine(connection_url)"
   ]
  },
  {
   "cell_type": "markdown",
   "id": "03e35864-a6db-4484-a4f1-a31191eb05aa",
   "metadata": {},
   "source": [
    "Now we can retrieve the ```Equipment``` table, and display the contents, without generating warning messages."
   ]
  },
  {
   "cell_type": "code",
   "execution_count": 29,
   "id": "d793928a-033f-4142-9780-7a5e7410a6d2",
   "metadata": {},
   "outputs": [
    {
     "data": {
      "text/html": [
       "<div>\n",
       "<style scoped>\n",
       "    .dataframe tbody tr th:only-of-type {\n",
       "        vertical-align: middle;\n",
       "    }\n",
       "\n",
       "    .dataframe tbody tr th {\n",
       "        vertical-align: top;\n",
       "    }\n",
       "\n",
       "    .dataframe thead th {\n",
       "        text-align: right;\n",
       "    }\n",
       "</style>\n",
       "<table border=\"1\" class=\"dataframe\">\n",
       "  <thead>\n",
       "    <tr style=\"text-align: right;\">\n",
       "      <th></th>\n",
       "      <th>0</th>\n",
       "    </tr>\n",
       "  </thead>\n",
       "  <tbody>\n",
       "    <tr>\n",
       "      <th>Equipment ID</th>\n",
       "      <td>1</td>\n",
       "    </tr>\n",
       "    <tr>\n",
       "      <th>Equipment Name</th>\n",
       "      <td>Maroochy 1</td>\n",
       "    </tr>\n",
       "    <tr>\n",
       "      <th>Serial</th>\n",
       "      <td></td>\n",
       "    </tr>\n",
       "    <tr>\n",
       "      <th>Probe Serial</th>\n",
       "      <td></td>\n",
       "    </tr>\n",
       "    <tr>\n",
       "      <th>Model</th>\n",
       "      <td>Horiba U52</td>\n",
       "    </tr>\n",
       "  </tbody>\n",
       "</table>\n",
       "</div>"
      ],
      "text/plain": [
       "                         0\n",
       "Equipment ID             1\n",
       "Equipment Name  Maroochy 1\n",
       "Serial                    \n",
       "Probe Serial              \n",
       "Model           Horiba U52"
      ]
     },
     "execution_count": 29,
     "metadata": {},
     "output_type": "execute_result"
    }
   ],
   "source": [
    "qry = 'select * from Equipment;'\n",
    "df = pd.read_sql_query(qry, engine)\n",
    "df.head(1).T"
   ]
  },
  {
   "cell_type": "markdown",
   "id": "b9e1b236-6425-4403-8eba-b3772dbb2802",
   "metadata": {},
   "source": [
    "#### Later SQLAlchemy\n",
    "\n",
    "There is a problem: at sqlalchemy 2.0.11, the code above gives :\n",
    "```\n",
    "AttributeError: 'OptionEngine' object has no attribute 'execute'\n",
    "```\n",
    "\n",
    "Refer to \n",
    "https://levelup.gitconnected.com/how-to-fix-attributeerror-optionengine-object-has-no-attribute-execute-in-pandas-eb635fbb89e4\n",
    "\n",
    "\n",
    "The suggested fix is \n",
    "```\n",
    "import pandas as pd\n",
    "from sqlalchemy import create_engine, text\n",
    "\n",
    "\n",
    "engine = create_engine(connection_url)\n",
    "query = 'SELECT * FROM my_table'\n",
    "\n",
    "df = pd.read_sql_query(sql=text(query), con=engine.connect())\n",
    "```\n",
    "\n",
    "This fix also works fine at sqlalchemy 1.4.39"
   ]
  },
  {
   "cell_type": "code",
   "execution_count": 30,
   "id": "11569e11-28dc-48e6-aef4-43b6b6015c6c",
   "metadata": {},
   "outputs": [
    {
     "data": {
      "text/html": [
       "<div>\n",
       "<style scoped>\n",
       "    .dataframe tbody tr th:only-of-type {\n",
       "        vertical-align: middle;\n",
       "    }\n",
       "\n",
       "    .dataframe tbody tr th {\n",
       "        vertical-align: top;\n",
       "    }\n",
       "\n",
       "    .dataframe thead th {\n",
       "        text-align: right;\n",
       "    }\n",
       "</style>\n",
       "<table border=\"1\" class=\"dataframe\">\n",
       "  <thead>\n",
       "    <tr style=\"text-align: right;\">\n",
       "      <th></th>\n",
       "      <th>0</th>\n",
       "    </tr>\n",
       "  </thead>\n",
       "  <tbody>\n",
       "    <tr>\n",
       "      <th>Equipment ID</th>\n",
       "      <td>1</td>\n",
       "    </tr>\n",
       "    <tr>\n",
       "      <th>Equipment Name</th>\n",
       "      <td>Maroochy 1</td>\n",
       "    </tr>\n",
       "    <tr>\n",
       "      <th>Serial</th>\n",
       "      <td></td>\n",
       "    </tr>\n",
       "    <tr>\n",
       "      <th>Probe Serial</th>\n",
       "      <td></td>\n",
       "    </tr>\n",
       "    <tr>\n",
       "      <th>Model</th>\n",
       "      <td>Horiba U52</td>\n",
       "    </tr>\n",
       "  </tbody>\n",
       "</table>\n",
       "</div>"
      ],
      "text/plain": [
       "                         0\n",
       "Equipment ID             1\n",
       "Equipment Name  Maroochy 1\n",
       "Serial                    \n",
       "Probe Serial              \n",
       "Model           Horiba U52"
      ]
     },
     "execution_count": 30,
     "metadata": {},
     "output_type": "execute_result"
    }
   ],
   "source": [
    "df = pd.read_sql_query(\n",
    "    sql=sa.text(qry),\n",
    "    con=engine.connect(),\n",
    ")\n",
    "df.head(1).T"
   ]
  },
  {
   "cell_type": "markdown",
   "id": "d13ffa2b-1827-45b8-961d-ee386fff3c97",
   "metadata": {},
   "source": [
    "### Database Structure\n",
    "\n",
    "We can confirm that SQLAlchemy 'sees' the same database tables, as can be seen via Excel."
   ]
  },
  {
   "cell_type": "code",
   "execution_count": 31,
   "id": "532972a6-a6c7-4b95-8699-5f8c1fa322a5",
   "metadata": {},
   "outputs": [
    {
     "data": {
      "text/plain": [
       "['Equipment',\n",
       " 'Maintenance',\n",
       " 'Parameter Standards',\n",
       " 'People',\n",
       " 'Results_Kit_Calibration',\n",
       " 'Results_Sites_Water_Testing',\n",
       " 'Sites']"
      ]
     },
     "execution_count": 31,
     "metadata": {},
     "output_type": "execute_result"
    }
   ],
   "source": [
    "from sqlalchemy import inspect\n",
    "\n",
    "insp = inspect(engine)\n",
    "insp.get_table_names()"
   ]
  },
  {
   "cell_type": "code",
   "execution_count": null,
   "id": "3dddd341-1a2d-46df-a707-6b714a6d3eb1",
   "metadata": {},
   "outputs": [],
   "source": []
  },
  {
   "cell_type": "markdown",
   "id": "3dda252a-e08e-40ba-a547-e15a3e7d5f50",
   "metadata": {},
   "source": [
    "## Reproducibility\n",
    "\n",
    "This sections contains information to support the reproducibility of the software.\n"
   ]
  },
  {
   "cell_type": "code",
   "execution_count": 32,
   "id": "943919d1-08a4-491d-8035-29b7e5646873",
   "metadata": {},
   "outputs": [],
   "source": [
    "import sys\n",
    "import os\n",
    "import platform\n",
    "import datetime"
   ]
  },
  {
   "cell_type": "code",
   "execution_count": 33,
   "id": "09bca02e-5f3e-463c-9a2b-0cd97b55e7f5",
   "metadata": {},
   "outputs": [],
   "source": [
    "# | warn: false\n",
    "%reload_ext watermark"
   ]
  },
  {
   "cell_type": "code",
   "execution_count": 34,
   "id": "bdfcf477-a7ff-48ef-9be2-f13b1c22ca86",
   "metadata": {},
   "outputs": [],
   "source": [
    "# | warn: false\n",
    "%reload_ext lab_black"
   ]
  },
  {
   "cell_type": "markdown",
   "id": "8b7901a5-0140-42fb-a6e1-08688367a121",
   "metadata": {},
   "source": [
    "### Python execution environment"
   ]
  },
  {
   "cell_type": "code",
   "execution_count": 35,
   "id": "e346018c-d5ea-47c1-ae6c-51340c733bc7",
   "metadata": {},
   "outputs": [
    {
     "name": "stdout",
     "output_type": "stream",
     "text": [
      "Notebook: InterfacingToWQDatabase.ipynb\n",
      "python version : 3.9.13 (main, Aug 25 2022, 23:51:50) [MSC v.1916 64 bit (AMD64)]\n",
      "pandas version : 1.4.4\n",
      "current wkg dir: C:\\Users\\donrc\\Documents\\JupyterNotebooks\\PythonNotebookProject\\develop\n",
      "Notebook run at: 2023-05-24 20:30:00.363071 local time\n",
      "Notebook run at: 2023-05-24 10:30:00.364066 UTC\n",
      "Notebook run on: Windows-10-10.0.19045-SP0\n"
     ]
    }
   ],
   "source": [
    "theNotebook = 'InterfacingToWQDatabase.ipynb'\n",
    "\n",
    "print(f'Notebook: {theNotebook}')\n",
    "print('python version : ' + sys.version)\n",
    "print('pandas version : ' + pd.__version__)\n",
    "print('current wkg dir: ' + os.getcwd())\n",
    "print(\n",
    "    'Notebook run at: '\n",
    "    + str(datetime.datetime.now())\n",
    "    + ' local time'\n",
    ")\n",
    "print(\n",
    "    'Notebook run at: '\n",
    "    + str(datetime.datetime.utcnow())\n",
    "    + ' UTC'\n",
    ")\n",
    "print('Notebook run on: ' + platform.platform())"
   ]
  },
  {
   "cell_type": "markdown",
   "id": "90bd87d6-132f-4e55-9f1d-629a3d425b0a",
   "metadata": {},
   "source": [
    "### ```watermark``` data\n",
    "\n",
    "Execution environment as reported by the ```watermark``` utility"
   ]
  },
  {
   "cell_type": "code",
   "execution_count": 36,
   "id": "f38eacca-e5a0-45bf-ab84-7971b5d0a608",
   "metadata": {},
   "outputs": [
    {
     "name": "stdout",
     "output_type": "stream",
     "text": [
      "Last updated: 2023-05-24T20:30:00.391079+10:00\n",
      "\n",
      "Python implementation: CPython\n",
      "Python version       : 3.9.13\n",
      "IPython version      : 7.31.1\n",
      "\n",
      "Compiler    : MSC v.1916 64 bit (AMD64)\n",
      "OS          : Windows\n",
      "Release     : 10\n",
      "Machine     : AMD64\n",
      "Processor   : Intel64 Family 6 Model 94 Stepping 3, GenuineIntel\n",
      "CPU cores   : 8\n",
      "Architecture: 64bit\n",
      "\n"
     ]
    }
   ],
   "source": [
    "%watermark"
   ]
  },
  {
   "cell_type": "code",
   "execution_count": 37,
   "id": "06d35336-a917-4ec6-b301-3973508c09e2",
   "metadata": {},
   "outputs": [
    {
     "name": "stdout",
     "output_type": "stream",
     "text": [
      "conda environment: D:\\Anaconda2022\n",
      "\n",
      "Hostname: DESKTOP-SODFUN6\n",
      "\n",
      "sys              : 3.9.13 (main, Aug 25 2022, 23:51:50) [MSC v.1916 64 bit (AMD64)]\n",
      "pandas           : 1.4.4\n",
      "pyodbc           : 4.0.34\n",
      "sqlalchemy_access: 1.1.4.dev0\n",
      "sqlalchemy       : 1.4.39\n",
      "platform         : 1.0.8\n",
      "\n"
     ]
    }
   ],
   "source": [
    "%watermark -h -iv -co"
   ]
  },
  {
   "cell_type": "code",
   "execution_count": null,
   "id": "0885e216-386c-466b-8ef7-4f8670240ce0",
   "metadata": {},
   "outputs": [],
   "source": []
  }
 ],
 "metadata": {
  "kernelspec": {
   "display_name": "Python 3 (ipykernel)",
   "language": "python",
   "name": "python3"
  },
  "language_info": {
   "codemirror_mode": {
    "name": "ipython",
    "version": 3
   },
   "file_extension": ".py",
   "mimetype": "text/x-python",
   "name": "python",
   "nbconvert_exporter": "python",
   "pygments_lexer": "ipython3",
   "version": "3.9.13"
  }
 },
 "nbformat": 4,
 "nbformat_minor": 5
}
