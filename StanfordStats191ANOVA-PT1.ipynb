{
 "cells": [
  {
   "cell_type": "markdown",
   "metadata": {},
   "source": [
    "# Stanford Stats 191\n",
    "\n",
    "## Introduction\n",
    "\n",
    "This is a re-creation of the Stanford Stats 191 course (see https://web.stanford.edu/class/stats191/), using Python eco-system tools, instead of R. This is lecture \"Analysis of variance:\", Part 1\n"
   ]
  },
  {
   "cell_type": "markdown",
   "metadata": {},
   "source": [
    "## Initial Notebook Setup\n",
    "\n",
    "```watermark ``` documents the current Python and package environment, ```black``` is my preferred Python formatter"
   ]
  },
  {
   "cell_type": "code",
   "execution_count": 107,
   "metadata": {},
   "outputs": [
    {
     "name": "stdout",
     "output_type": "stream",
     "text": [
      "The watermark extension is already loaded. To reload it, use:\n",
      "  %reload_ext watermark\n"
     ]
    }
   ],
   "source": [
    "%load_ext watermark"
   ]
  },
  {
   "cell_type": "code",
   "execution_count": 108,
   "metadata": {},
   "outputs": [
    {
     "name": "stdout",
     "output_type": "stream",
     "text": [
      "The lab_black extension is already loaded. To reload it, use:\n",
      "  %reload_ext lab_black\n"
     ]
    }
   ],
   "source": [
    "%load_ext lab_black"
   ]
  },
  {
   "cell_type": "code",
   "execution_count": 109,
   "metadata": {},
   "outputs": [],
   "source": [
    "%matplotlib inline"
   ]
  },
  {
   "cell_type": "code",
   "execution_count": 110,
   "metadata": {},
   "outputs": [],
   "source": [
    "import pandas as pd\n",
    "import numpy as np\n",
    "import seaborn as sn\n",
    "\n",
    "import matplotlib.pyplot as plt\n",
    "from mpl_toolkits.mplot3d import Axes3D\n",
    "\n",
    "from scipy import stats\n",
    "from statsmodels.formula.api import ols\n",
    "from statsmodels.formula.api import rlm\n",
    "import statsmodels.api as sm\n",
    "\n",
    "from patsy import dmatrices\n",
    "\n",
    "from patsy.contrasts import Treatment\n",
    "from patsy.contrasts import Sum\n",
    "from patsy.contrasts import Diff\n",
    "\n",
    "\n",
    "from statsmodels.sandbox.regression.predstd import (\n",
    "    wls_prediction_std,\n",
    ")\n",
    "\n",
    "import warnings"
   ]
  },
  {
   "cell_type": "markdown",
   "metadata": {},
   "source": [
    "----\n",
    "## Load Datset\n",
    "\n",
    "In this post, we examine a range of datasets, where the explanatory variables are _all_ categorical.\n",
    "\n",
    "We load the first example which records the time to recover after medical treatment, and where patients fitness levels have been recorded"
   ]
  },
  {
   "cell_type": "code",
   "execution_count": 111,
   "metadata": {},
   "outputs": [],
   "source": [
    "data = pd.read_csv('../data/rehab.csv')"
   ]
  },
  {
   "cell_type": "markdown",
   "metadata": {},
   "source": [
    "Get the pandas descriptive quantative summary"
   ]
  },
  {
   "cell_type": "code",
   "execution_count": 112,
   "metadata": {},
   "outputs": [
    {
     "data": {
      "text/html": [
       "<div>\n",
       "<style scoped>\n",
       "    .dataframe tbody tr th:only-of-type {\n",
       "        vertical-align: middle;\n",
       "    }\n",
       "\n",
       "    .dataframe tbody tr th {\n",
       "        vertical-align: top;\n",
       "    }\n",
       "\n",
       "    .dataframe thead th {\n",
       "        text-align: right;\n",
       "    }\n",
       "</style>\n",
       "<table border=\"1\" class=\"dataframe\">\n",
       "  <thead>\n",
       "    <tr style=\"text-align: right;\">\n",
       "      <th></th>\n",
       "      <th>Fitness</th>\n",
       "      <th>Time</th>\n",
       "    </tr>\n",
       "  </thead>\n",
       "  <tbody>\n",
       "    <tr>\n",
       "      <th>count</th>\n",
       "      <td>24.000000</td>\n",
       "      <td>24.000000</td>\n",
       "    </tr>\n",
       "    <tr>\n",
       "      <th>mean</th>\n",
       "      <td>1.916667</td>\n",
       "      <td>32.000000</td>\n",
       "    </tr>\n",
       "    <tr>\n",
       "      <th>std</th>\n",
       "      <td>0.775532</td>\n",
       "      <td>6.877816</td>\n",
       "    </tr>\n",
       "    <tr>\n",
       "      <th>min</th>\n",
       "      <td>1.000000</td>\n",
       "      <td>20.000000</td>\n",
       "    </tr>\n",
       "    <tr>\n",
       "      <th>25%</th>\n",
       "      <td>1.000000</td>\n",
       "      <td>28.750000</td>\n",
       "    </tr>\n",
       "    <tr>\n",
       "      <th>50%</th>\n",
       "      <td>2.000000</td>\n",
       "      <td>31.000000</td>\n",
       "    </tr>\n",
       "    <tr>\n",
       "      <th>75%</th>\n",
       "      <td>2.250000</td>\n",
       "      <td>38.250000</td>\n",
       "    </tr>\n",
       "    <tr>\n",
       "      <th>max</th>\n",
       "      <td>3.000000</td>\n",
       "      <td>43.000000</td>\n",
       "    </tr>\n",
       "  </tbody>\n",
       "</table>\n",
       "</div>"
      ],
      "text/plain": [
       "         Fitness       Time\n",
       "count  24.000000  24.000000\n",
       "mean    1.916667  32.000000\n",
       "std     0.775532   6.877816\n",
       "min     1.000000  20.000000\n",
       "25%     1.000000  28.750000\n",
       "50%     2.000000  31.000000\n",
       "75%     2.250000  38.250000\n",
       "max     3.000000  43.000000"
      ]
     },
     "execution_count": 112,
     "metadata": {},
     "output_type": "execute_result"
    }
   ],
   "source": [
    "data.describe()"
   ]
  },
  {
   "cell_type": "markdown",
   "metadata": {},
   "source": [
    "### Visualize Dataset\n",
    "\n",
    "We use ```pandas``` and ```seaborn``` to draw boxplots.  It does appear that increased Fitness will reduce the recovery Time"
   ]
  },
  {
   "cell_type": "code",
   "execution_count": 113,
   "metadata": {},
   "outputs": [
    {
     "data": {
      "text/plain": [
       "<matplotlib.axes._subplots.AxesSubplot at 0x22a7e6fd0b8>"
      ]
     },
     "execution_count": 113,
     "metadata": {},
     "output_type": "execute_result"
    },
    {
     "data": {
      "image/png": "[encoded data removed]",
      "text/plain": [
       "<Figure size 576x576 with 1 Axes>"
      ]
     },
     "metadata": {
      "needs_background": "light"
     },
     "output_type": "display_data"
    }
   ],
   "source": [
    "fig, ax = plt.subplots(figsize=(8, 8))\n",
    "data.boxplot(by='Fitness', ax=ax)"
   ]
  },
  {
   "cell_type": "code",
   "execution_count": 114,
   "metadata": {},
   "outputs": [
    {
     "data": {
      "text/plain": [
       "<matplotlib.axes._subplots.AxesSubplot at 0x22a7e2fd198>"
      ]
     },
     "execution_count": 114,
     "metadata": {},
     "output_type": "execute_result"
    },
    {
     "data": {
      "image/png": "[encoded data removed]",
      "text/plain": [
       "<Figure size 432x288 with 1 Axes>"
      ]
     },
     "metadata": {
      "needs_background": "light"
     },
     "output_type": "display_data"
    }
   ],
   "source": [
    "sn.boxplot(x='Fitness', y='Time', data=data)"
   ]
  },
  {
   "cell_type": "markdown",
   "metadata": {},
   "source": [
    "\n",
    "----\n",
    "### Fit Model by OLS\n",
    "\n",
    "We first declare the Fitness level to be a categorical (not numeric) variable, and then perform an OLS best for of a model where Time depend on Fitness.  As we expect, the coefficients for Fitness levels greater than 1 are negative, predicting decreased recovery Time, the more Fitness the patient has"
   ]
  },
  {
   "cell_type": "code",
   "execution_count": 115,
   "metadata": {},
   "outputs": [
    {
     "data": {
      "text/plain": [
       "Fitness    category\n",
       "Time          int64\n",
       "dtype: object"
      ]
     },
     "execution_count": 115,
     "metadata": {},
     "output_type": "execute_result"
    }
   ],
   "source": [
    "data['Fitness'] = data['Fitness'].astype('category')\n",
    "\n",
    "data.dtypes"
   ]
  },
  {
   "cell_type": "code",
   "execution_count": 116,
   "metadata": {},
   "outputs": [
    {
     "data": {
      "text/html": [
       "<table class=\"simpletable\">\n",
       "<caption>OLS Regression Results</caption>\n",
       "<tr>\n",
       "  <th>Dep. Variable:</th>          <td>Time</td>       <th>  R-squared:         </th> <td>   0.618</td>\n",
       "</tr>\n",
       "<tr>\n",
       "  <th>Model:</th>                   <td>OLS</td>       <th>  Adj. R-squared:    </th> <td>   0.581</td>\n",
       "</tr>\n",
       "<tr>\n",
       "  <th>Method:</th>             <td>Least Squares</td>  <th>  F-statistic:       </th> <td>   16.96</td>\n",
       "</tr>\n",
       "<tr>\n",
       "  <th>Date:</th>             <td>Sun, 29 Mar 2020</td> <th>  Prob (F-statistic):</th> <td>4.13e-05</td>\n",
       "</tr>\n",
       "<tr>\n",
       "  <th>Time:</th>                 <td>14:53:25</td>     <th>  Log-Likelihood:    </th> <td> -68.286</td>\n",
       "</tr>\n",
       "<tr>\n",
       "  <th>No. Observations:</th>      <td>    24</td>      <th>  AIC:               </th> <td>   142.6</td>\n",
       "</tr>\n",
       "<tr>\n",
       "  <th>Df Residuals:</th>          <td>    21</td>      <th>  BIC:               </th> <td>   146.1</td>\n",
       "</tr>\n",
       "<tr>\n",
       "  <th>Df Model:</th>              <td>     2</td>      <th>                     </th>     <td> </td>   \n",
       "</tr>\n",
       "<tr>\n",
       "  <th>Covariance Type:</th>      <td>nonrobust</td>    <th>                     </th>     <td> </td>   \n",
       "</tr>\n",
       "</table>\n",
       "<table class=\"simpletable\">\n",
       "<tr>\n",
       "        <td></td>          <th>coef</th>     <th>std err</th>      <th>t</th>      <th>P>|t|</th>  <th>[0.025</th>    <th>0.975]</th>  \n",
       "</tr>\n",
       "<tr>\n",
       "  <th>Intercept</th>    <td>   38.0000</td> <td>    1.574</td> <td>   24.149</td> <td> 0.000</td> <td>   34.728</td> <td>   41.272</td>\n",
       "</tr>\n",
       "<tr>\n",
       "  <th>Fitness[T.2]</th> <td>   -6.0000</td> <td>    2.111</td> <td>   -2.842</td> <td> 0.010</td> <td>  -10.390</td> <td>   -1.610</td>\n",
       "</tr>\n",
       "<tr>\n",
       "  <th>Fitness[T.3]</th> <td>  -14.0000</td> <td>    2.404</td> <td>   -5.824</td> <td> 0.000</td> <td>  -18.999</td> <td>   -9.001</td>\n",
       "</tr>\n",
       "</table>\n",
       "<table class=\"simpletable\">\n",
       "<tr>\n",
       "  <th>Omnibus:</th>       <td> 0.163</td> <th>  Durbin-Watson:     </th> <td>   2.209</td>\n",
       "</tr>\n",
       "<tr>\n",
       "  <th>Prob(Omnibus):</th> <td> 0.922</td> <th>  Jarque-Bera (JB):  </th> <td>   0.211</td>\n",
       "</tr>\n",
       "<tr>\n",
       "  <th>Skew:</th>          <td>-0.163</td> <th>  Prob(JB):          </th> <td>   0.900</td>\n",
       "</tr>\n",
       "<tr>\n",
       "  <th>Kurtosis:</th>      <td> 2.675</td> <th>  Cond. No.          </th> <td>    3.80</td>\n",
       "</tr>\n",
       "</table><br/><br/>Warnings:<br/>[1] Standard Errors assume that the covariance matrix of the errors is correctly specified."
      ],
      "text/plain": [
       "<class 'statsmodels.iolib.summary.Summary'>\n",
       "\"\"\"\n",
       "                            OLS Regression Results                            \n",
       "==============================================================================\n",
       "Dep. Variable:                   Time   R-squared:                       0.618\n",
       "Model:                            OLS   Adj. R-squared:                  0.581\n",
       "Method:                 Least Squares   F-statistic:                     16.96\n",
       "Date:                Sun, 29 Mar 2020   Prob (F-statistic):           4.13e-05\n",
       "Time:                        14:53:25   Log-Likelihood:                -68.286\n",
       "No. Observations:                  24   AIC:                             142.6\n",
       "Df Residuals:                      21   BIC:                             146.1\n",
       "Df Model:                           2                                         \n",
       "Covariance Type:            nonrobust                                         \n",
       "================================================================================\n",
       "                   coef    std err          t      P>|t|      [0.025      0.975]\n",
       "--------------------------------------------------------------------------------\n",
       "Intercept       38.0000      1.574     24.149      0.000      34.728      41.272\n",
       "Fitness[T.2]    -6.0000      2.111     -2.842      0.010     -10.390      -1.610\n",
       "Fitness[T.3]   -14.0000      2.404     -5.824      0.000     -18.999      -9.001\n",
       "==============================================================================\n",
       "Omnibus:                        0.163   Durbin-Watson:                   2.209\n",
       "Prob(Omnibus):                  0.922   Jarque-Bera (JB):                0.211\n",
       "Skew:                          -0.163   Prob(JB):                        0.900\n",
       "Kurtosis:                       2.675   Cond. No.                         3.80\n",
       "==============================================================================\n",
       "\n",
       "Warnings:\n",
       "[1] Standard Errors assume that the covariance matrix of the errors is correctly specified.\n",
       "\"\"\""
      ]
     },
     "execution_count": 116,
     "metadata": {},
     "output_type": "execute_result"
    }
   ],
   "source": [
    "res1 = ols('Time ~ Fitness ', data=data).fit()\n",
    "res1.summary()"
   ]
  },
  {
   "cell_type": "markdown",
   "metadata": {},
   "source": [
    "Under the best-fit model, the prediction for Time for a given Fitness will equal the mean for all actual values of Time with theat level of Fitness.\n",
    "\n",
    "First, we get the means for all levels of Fitness"
   ]
  },
  {
   "cell_type": "code",
   "execution_count": 117,
   "metadata": {},
   "outputs": [
    {
     "data": {
      "text/html": [
       "<div>\n",
       "<style scoped>\n",
       "    .dataframe tbody tr th:only-of-type {\n",
       "        vertical-align: middle;\n",
       "    }\n",
       "\n",
       "    .dataframe tbody tr th {\n",
       "        vertical-align: top;\n",
       "    }\n",
       "\n",
       "    .dataframe thead th {\n",
       "        text-align: right;\n",
       "    }\n",
       "</style>\n",
       "<table border=\"1\" class=\"dataframe\">\n",
       "  <thead>\n",
       "    <tr style=\"text-align: right;\">\n",
       "      <th></th>\n",
       "      <th>Time</th>\n",
       "    </tr>\n",
       "    <tr>\n",
       "      <th>Fitness</th>\n",
       "      <th></th>\n",
       "    </tr>\n",
       "  </thead>\n",
       "  <tbody>\n",
       "    <tr>\n",
       "      <th>1</th>\n",
       "      <td>38</td>\n",
       "    </tr>\n",
       "    <tr>\n",
       "      <th>2</th>\n",
       "      <td>32</td>\n",
       "    </tr>\n",
       "    <tr>\n",
       "      <th>3</th>\n",
       "      <td>24</td>\n",
       "    </tr>\n",
       "  </tbody>\n",
       "</table>\n",
       "</div>"
      ],
      "text/plain": [
       "         Time\n",
       "Fitness      \n",
       "1          38\n",
       "2          32\n",
       "3          24"
      ]
     },
     "execution_count": 117,
     "metadata": {},
     "output_type": "execute_result"
    }
   ],
   "source": [
    "tr_means = data.groupby('Fitness').mean()\n",
    "tr_means"
   ]
  },
  {
   "cell_type": "code",
   "execution_count": 118,
   "metadata": {},
   "outputs": [
    {
     "data": {
      "text/html": [
       "<div>\n",
       "<style scoped>\n",
       "    .dataframe tbody tr th:only-of-type {\n",
       "        vertical-align: middle;\n",
       "    }\n",
       "\n",
       "    .dataframe tbody tr th {\n",
       "        vertical-align: top;\n",
       "    }\n",
       "\n",
       "    .dataframe thead th {\n",
       "        text-align: right;\n",
       "    }\n",
       "</style>\n",
       "<table border=\"1\" class=\"dataframe\">\n",
       "  <thead>\n",
       "    <tr style=\"text-align: right;\">\n",
       "      <th></th>\n",
       "      <th>Time</th>\n",
       "    </tr>\n",
       "    <tr>\n",
       "      <th>Fitness</th>\n",
       "      <th></th>\n",
       "    </tr>\n",
       "  </thead>\n",
       "  <tbody>\n",
       "    <tr>\n",
       "      <th>1</th>\n",
       "      <td>8</td>\n",
       "    </tr>\n",
       "    <tr>\n",
       "      <th>2</th>\n",
       "      <td>10</td>\n",
       "    </tr>\n",
       "    <tr>\n",
       "      <th>3</th>\n",
       "      <td>6</td>\n",
       "    </tr>\n",
       "  </tbody>\n",
       "</table>\n",
       "</div>"
      ],
      "text/plain": [
       "         Time\n",
       "Fitness      \n",
       "1           8\n",
       "2          10\n",
       "3           6"
      ]
     },
     "execution_count": 118,
     "metadata": {},
     "output_type": "execute_result"
    }
   ],
   "source": [
    "tr_counts = data.groupby('Fitness').count()\n",
    "tr_counts"
   ]
  },
  {
   "cell_type": "markdown",
   "metadata": {},
   "source": [
    "And now we see the predicted values for all levels of Fitness"
   ]
  },
  {
   "cell_type": "code",
   "execution_count": 119,
   "metadata": {},
   "outputs": [
    {
     "data": {
      "text/plain": [
       "array([38., 38., 38., 38., 38., 38., 38., 38., 32., 32., 32., 32., 32.,\n",
       "       32., 32., 32., 32., 32., 24., 24., 24., 24., 24., 24.])"
      ]
     },
     "execution_count": 119,
     "metadata": {},
     "output_type": "execute_result"
    }
   ],
   "source": [
    "res1.predict()"
   ]
  },
  {
   "cell_type": "code",
   "execution_count": 120,
   "metadata": {},
   "outputs": [
    {
     "data": {
      "text/plain": [
       "0    38.0\n",
       "1    32.0\n",
       "2    24.0\n",
       "dtype: float64"
      ]
     },
     "execution_count": 120,
     "metadata": {},
     "output_type": "execute_result"
    }
   ],
   "source": [
    "res1.predict({'Fitness': [1, 2, 3]})"
   ]
  },
  {
   "cell_type": "markdown",
   "metadata": {},
   "source": [
    "### Explicit computation of F Statistic"
   ]
  },
  {
   "cell_type": "code",
   "execution_count": 121,
   "metadata": {},
   "outputs": [
    {
     "data": {
      "text/plain": [
       "19.809523809523807"
      ]
     },
     "execution_count": 121,
     "metadata": {},
     "output_type": "execute_result"
    }
   ],
   "source": [
    "#\n",
    "# get sum of squares of the residual error (predicted - actual)\n",
    "\n",
    "sse = sum(\n",
    "    (data['Time'] - res1.predict())\n",
    "    * (data['Time'] - res1.predict())\n",
    ")\n",
    "\n",
    "mean_sse = sse / (24 - 2 - 1)\n",
    "mean_sse"
   ]
  },
  {
   "cell_type": "code",
   "execution_count": 122,
   "metadata": {},
   "outputs": [
    {
     "data": {
      "text/plain": [
       "336.0"
      ]
     },
     "execution_count": 122,
     "metadata": {},
     "output_type": "execute_result"
    }
   ],
   "source": [
    "#\n",
    "# get sum of squares of the residual around the mean\n",
    "\n",
    "ssr = sum(\n",
    "    (data['Time'].mean() - res1.predict())\n",
    "    * (data['Time'].mean() - res1.predict())\n",
    ")\n",
    "mean_ssr = ssr / (3 - 1)\n",
    "mean_ssr"
   ]
  },
  {
   "cell_type": "code",
   "execution_count": 123,
   "metadata": {},
   "outputs": [
    {
     "data": {
      "text/plain": [
       "1088.0"
      ]
     },
     "execution_count": 123,
     "metadata": {},
     "output_type": "execute_result"
    }
   ],
   "source": [
    "#\n",
    "# get sum of squares of the actual around the mean\n",
    "\n",
    "sum(\n",
    "    (data['Time'] - data['Time'].mean())\n",
    "    * (data['Time'] - data['Time'].mean())\n",
    ")"
   ]
  },
  {
   "cell_type": "code",
   "execution_count": 124,
   "metadata": {},
   "outputs": [
    {
     "data": {
      "text/plain": [
       "16.961538461538463"
      ]
     },
     "execution_count": 124,
     "metadata": {},
     "output_type": "execute_result"
    }
   ],
   "source": [
    "F = mean_ssr / mean_sse\n",
    "F"
   ]
  },
  {
   "cell_type": "markdown",
   "metadata": {},
   "source": [
    "### Using Statsmodels ANOVA"
   ]
  },
  {
   "cell_type": "code",
   "execution_count": 125,
   "metadata": {},
   "outputs": [
    {
     "data": {
      "text/html": [
       "<div>\n",
       "<style scoped>\n",
       "    .dataframe tbody tr th:only-of-type {\n",
       "        vertical-align: middle;\n",
       "    }\n",
       "\n",
       "    .dataframe tbody tr th {\n",
       "        vertical-align: top;\n",
       "    }\n",
       "\n",
       "    .dataframe thead th {\n",
       "        text-align: right;\n",
       "    }\n",
       "</style>\n",
       "<table border=\"1\" class=\"dataframe\">\n",
       "  <thead>\n",
       "    <tr style=\"text-align: right;\">\n",
       "      <th></th>\n",
       "      <th>df</th>\n",
       "      <th>sum_sq</th>\n",
       "      <th>mean_sq</th>\n",
       "      <th>F</th>\n",
       "      <th>PR(&gt;F)</th>\n",
       "    </tr>\n",
       "  </thead>\n",
       "  <tbody>\n",
       "    <tr>\n",
       "      <th>Fitness</th>\n",
       "      <td>2.0</td>\n",
       "      <td>672.0</td>\n",
       "      <td>336.000000</td>\n",
       "      <td>16.961538</td>\n",
       "      <td>0.000041</td>\n",
       "    </tr>\n",
       "    <tr>\n",
       "      <th>Residual</th>\n",
       "      <td>21.0</td>\n",
       "      <td>416.0</td>\n",
       "      <td>19.809524</td>\n",
       "      <td>NaN</td>\n",
       "      <td>NaN</td>\n",
       "    </tr>\n",
       "  </tbody>\n",
       "</table>\n",
       "</div>"
      ],
      "text/plain": [
       "            df  sum_sq     mean_sq          F    PR(>F)\n",
       "Fitness    2.0   672.0  336.000000  16.961538  0.000041\n",
       "Residual  21.0   416.0   19.809524        NaN       NaN"
      ]
     },
     "execution_count": 125,
     "metadata": {},
     "output_type": "execute_result"
    }
   ],
   "source": [
    "sm.stats.anova_lm(res1)"
   ]
  },
  {
   "cell_type": "markdown",
   "metadata": {},
   "source": [
    "Explicit computation of seeing an F value this big, with these degrees of freedom"
   ]
  },
  {
   "cell_type": "code",
   "execution_count": 126,
   "metadata": {},
   "outputs": [
    {
     "data": {
      "text/plain": [
       "4.129301274979902e-05"
      ]
     },
     "execution_count": 126,
     "metadata": {},
     "output_type": "execute_result"
    }
   ],
   "source": [
    "df_tr = 2\n",
    "df_res = 21\n",
    "\n",
    "1 - stats.f.cdf(F, df_tr, df_res)"
   ]
  },
  {
   "cell_type": "markdown",
   "metadata": {},
   "source": [
    "We can aso use the Survival Function, which is more accurate for small values (here, very close)"
   ]
  },
  {
   "cell_type": "code",
   "execution_count": 127,
   "metadata": {},
   "outputs": [
    {
     "data": {
      "text/plain": [
       "4.1293012749812944e-05"
      ]
     },
     "execution_count": 127,
     "metadata": {},
     "output_type": "execute_result"
    }
   ],
   "source": [
    "stats.f.sf(F, df_tr, df_res)"
   ]
  },
  {
   "cell_type": "code",
   "execution_count": 128,
   "metadata": {},
   "outputs": [
    {
     "data": {
      "text/plain": [
       "<matplotlib.legend.Legend at 0x22a7e59cb38>"
      ]
     },
     "execution_count": 128,
     "metadata": {},
     "output_type": "execute_result"
    },
    {
     "data": {
      "image/png": "[encoded data removed]",
      "text/plain": [
       "<Figure size 432x288 with 1 Axes>"
      ]
     },
     "metadata": {
      "needs_background": "light"
     },
     "output_type": "display_data"
    }
   ],
   "source": [
    "x = np.linspace(0.001, 30, 100)\n",
    "y = stats.f.pdf(x, df_tr, df_res)\n",
    "plt.plot(x, y, label='F pdf')\n",
    "plt.axhline(0, color='k')\n",
    "plt.axvline(F, color='r', label='F value')\n",
    "plt.axvline(0, color='k')\n",
    "plt.legend(loc='best')"
   ]
  },
  {
   "cell_type": "markdown",
   "metadata": {},
   "source": [
    "-------------\n",
    "## Data Set 2\n",
    "\n",
    "The second dataset again has two categorical variables (Weight, and Duration).  The number of Days under care is converted to a ```log``` value, maybe because we are interested in the ratio of recovery time, not the actual numbers\n",
    "\n",
    "\n",
    "|Variable|\tDescription|\n",
    "|--|--|\n",
    "Days|\tDuration of hospital stay\n",
    "Weight|\tHow much weight is gained?\n",
    "Duration|\tHow long under treatment for kidney problems? (two levels)\n",
    "\n",
    "### Read and Explore Dataset"
   ]
  },
  {
   "cell_type": "code",
   "execution_count": 129,
   "metadata": {},
   "outputs": [],
   "source": [
    "data = pd.read_fwf('../data/kidneytable.txt')"
   ]
  },
  {
   "cell_type": "code",
   "execution_count": 130,
   "metadata": {},
   "outputs": [
    {
     "data": {
      "text/plain": [
       "60"
      ]
     },
     "execution_count": 130,
     "metadata": {},
     "output_type": "execute_result"
    }
   ],
   "source": [
    "len(data)"
   ]
  },
  {
   "cell_type": "code",
   "execution_count": 131,
   "metadata": {},
   "outputs": [
    {
     "data": {
      "text/html": [
       "<div>\n",
       "<style scoped>\n",
       "    .dataframe tbody tr th:only-of-type {\n",
       "        vertical-align: middle;\n",
       "    }\n",
       "\n",
       "    .dataframe tbody tr th {\n",
       "        vertical-align: top;\n",
       "    }\n",
       "\n",
       "    .dataframe thead th {\n",
       "        text-align: right;\n",
       "    }\n",
       "</style>\n",
       "<table border=\"1\" class=\"dataframe\">\n",
       "  <thead>\n",
       "    <tr style=\"text-align: right;\">\n",
       "      <th></th>\n",
       "      <th>Days</th>\n",
       "      <th>Duration</th>\n",
       "      <th>Weight</th>\n",
       "      <th>ID</th>\n",
       "    </tr>\n",
       "  </thead>\n",
       "  <tbody>\n",
       "    <tr>\n",
       "      <th>0</th>\n",
       "      <td>0.0</td>\n",
       "      <td>1</td>\n",
       "      <td>1</td>\n",
       "      <td>1</td>\n",
       "    </tr>\n",
       "    <tr>\n",
       "      <th>1</th>\n",
       "      <td>2.0</td>\n",
       "      <td>1</td>\n",
       "      <td>1</td>\n",
       "      <td>2</td>\n",
       "    </tr>\n",
       "    <tr>\n",
       "      <th>2</th>\n",
       "      <td>1.0</td>\n",
       "      <td>1</td>\n",
       "      <td>1</td>\n",
       "      <td>3</td>\n",
       "    </tr>\n",
       "    <tr>\n",
       "      <th>3</th>\n",
       "      <td>3.0</td>\n",
       "      <td>1</td>\n",
       "      <td>1</td>\n",
       "      <td>4</td>\n",
       "    </tr>\n",
       "    <tr>\n",
       "      <th>4</th>\n",
       "      <td>0.0</td>\n",
       "      <td>1</td>\n",
       "      <td>1</td>\n",
       "      <td>5</td>\n",
       "    </tr>\n",
       "  </tbody>\n",
       "</table>\n",
       "</div>"
      ],
      "text/plain": [
       "   Days  Duration  Weight  ID\n",
       "0   0.0         1       1   1\n",
       "1   2.0         1       1   2\n",
       "2   1.0         1       1   3\n",
       "3   3.0         1       1   4\n",
       "4   0.0         1       1   5"
      ]
     },
     "execution_count": 131,
     "metadata": {},
     "output_type": "execute_result"
    }
   ],
   "source": [
    "data.head()"
   ]
  },
  {
   "cell_type": "code",
   "execution_count": 132,
   "metadata": {},
   "outputs": [
    {
     "data": {
      "text/plain": [
       "array([1, 2], dtype=int64)"
      ]
     },
     "execution_count": 132,
     "metadata": {},
     "output_type": "execute_result"
    }
   ],
   "source": [
    "data['Duration'].unique()"
   ]
  },
  {
   "cell_type": "code",
   "execution_count": 133,
   "metadata": {},
   "outputs": [
    {
     "data": {
      "text/plain": [
       "array([1, 2, 3], dtype=int64)"
      ]
     },
     "execution_count": 133,
     "metadata": {},
     "output_type": "execute_result"
    }
   ],
   "source": [
    "data['Weight'].unique()"
   ]
  },
  {
   "cell_type": "code",
   "execution_count": 134,
   "metadata": {},
   "outputs": [
    {
     "data": {
      "text/plain": [
       "array([[<matplotlib.axes._subplots.AxesSubplot object at 0x0000022A7E674AC8>]],\n",
       "      dtype=object)"
      ]
     },
     "execution_count": 134,
     "metadata": {},
     "output_type": "execute_result"
    },
    {
     "data": {
      "image/png": "[encoded data removed]",
      "text/plain": [
       "<Figure size 432x288 with 1 Axes>"
      ]
     },
     "metadata": {
      "needs_background": "light"
     },
     "output_type": "display_data"
    }
   ],
   "source": [
    "data.hist(column='Days')"
   ]
  },
  {
   "cell_type": "markdown",
   "metadata": {},
   "source": [
    "### Set  datatype for analysis\n",
    "\n",
    "We convert Days to LogDays, compute a Group variable (ie which group an observation is in, given its Weight and Duration values), and declare Weight and Duration to be categorical variables"
   ]
  },
  {
   "cell_type": "code",
   "execution_count": 135,
   "metadata": {},
   "outputs": [],
   "source": [
    "data['Group'] = (data['Duration'] - 1) * 3 + data['Weight']\n",
    "\n",
    "data['Duration'] = data['Duration'].astype('category')\n",
    "data['Weight'] = data['Weight'].astype('category')\n",
    "data['LogDays'] = np.log(data['Days'] + 1)"
   ]
  },
  {
   "cell_type": "code",
   "execution_count": 136,
   "metadata": {},
   "outputs": [
    {
     "data": {
      "text/html": [
       "<div>\n",
       "<style scoped>\n",
       "    .dataframe tbody tr th:only-of-type {\n",
       "        vertical-align: middle;\n",
       "    }\n",
       "\n",
       "    .dataframe tbody tr th {\n",
       "        vertical-align: top;\n",
       "    }\n",
       "\n",
       "    .dataframe thead th {\n",
       "        text-align: right;\n",
       "    }\n",
       "</style>\n",
       "<table border=\"1\" class=\"dataframe\">\n",
       "  <thead>\n",
       "    <tr style=\"text-align: right;\">\n",
       "      <th></th>\n",
       "      <th>Days</th>\n",
       "      <th>Duration</th>\n",
       "      <th>Weight</th>\n",
       "      <th>ID</th>\n",
       "      <th>Group</th>\n",
       "      <th>LogDays</th>\n",
       "    </tr>\n",
       "  </thead>\n",
       "  <tbody>\n",
       "    <tr>\n",
       "      <th>0</th>\n",
       "      <td>0.0</td>\n",
       "      <td>1</td>\n",
       "      <td>1</td>\n",
       "      <td>1</td>\n",
       "      <td>1</td>\n",
       "      <td>0.000000</td>\n",
       "    </tr>\n",
       "    <tr>\n",
       "      <th>1</th>\n",
       "      <td>2.0</td>\n",
       "      <td>1</td>\n",
       "      <td>1</td>\n",
       "      <td>2</td>\n",
       "      <td>1</td>\n",
       "      <td>1.098612</td>\n",
       "    </tr>\n",
       "    <tr>\n",
       "      <th>2</th>\n",
       "      <td>1.0</td>\n",
       "      <td>1</td>\n",
       "      <td>1</td>\n",
       "      <td>3</td>\n",
       "      <td>1</td>\n",
       "      <td>0.693147</td>\n",
       "    </tr>\n",
       "    <tr>\n",
       "      <th>3</th>\n",
       "      <td>3.0</td>\n",
       "      <td>1</td>\n",
       "      <td>1</td>\n",
       "      <td>4</td>\n",
       "      <td>1</td>\n",
       "      <td>1.386294</td>\n",
       "    </tr>\n",
       "    <tr>\n",
       "      <th>4</th>\n",
       "      <td>0.0</td>\n",
       "      <td>1</td>\n",
       "      <td>1</td>\n",
       "      <td>5</td>\n",
       "      <td>1</td>\n",
       "      <td>0.000000</td>\n",
       "    </tr>\n",
       "  </tbody>\n",
       "</table>\n",
       "</div>"
      ],
      "text/plain": [
       "   Days Duration Weight  ID  Group   LogDays\n",
       "0   0.0        1      1   1      1  0.000000\n",
       "1   2.0        1      1   2      1  1.098612\n",
       "2   1.0        1      1   3      1  0.693147\n",
       "3   3.0        1      1   4      1  1.386294\n",
       "4   0.0        1      1   5      1  0.000000"
      ]
     },
     "execution_count": 136,
     "metadata": {},
     "output_type": "execute_result"
    }
   ],
   "source": [
    "data.head()"
   ]
  },
  {
   "cell_type": "code",
   "execution_count": 137,
   "metadata": {},
   "outputs": [
    {
     "data": {
      "text/plain": [
       "array([[<matplotlib.axes._subplots.AxesSubplot object at 0x0000022A7E6395F8>]],\n",
       "      dtype=object)"
      ]
     },
     "execution_count": 137,
     "metadata": {},
     "output_type": "execute_result"
    },
    {
     "data": {
      "image/png": "[encoded data removed]",
      "text/plain": [
       "<Figure size 432x288 with 1 Axes>"
      ]
     },
     "metadata": {
      "needs_background": "light"
     },
     "output_type": "display_data"
    }
   ],
   "source": [
    "data.hist(column='LogDays')"
   ]
  },
  {
   "cell_type": "markdown",
   "metadata": {},
   "source": [
    "### Interaction Plot\n",
    "\n",
    "We can assess if there are inter-variable interactions by the interaction plot.  If the lines are not parallel, then interactions may be present"
   ]
  },
  {
   "cell_type": "code",
   "execution_count": 138,
   "metadata": {},
   "outputs": [
    {
     "data": {
      "image/png": "[encoded data removed]",
      "text/plain": [
       "<Figure size 432x288 with 1 Axes>"
      ]
     },
     "metadata": {
      "needs_background": "light"
     },
     "output_type": "display_data"
    }
   ],
   "source": [
    "_ = sm.graphics.interaction_plot(\n",
    "    data['Weight'],\n",
    "    data['Duration'],\n",
    "    data['LogDays'],\n",
    "    markers=['d', '^'],\n",
    "    markersize=10,\n",
    ")"
   ]
  },
  {
   "cell_type": "markdown",
   "metadata": {},
   "source": [
    "-----\n",
    "### Build a Model\n",
    "\n",
    "The model we build is different to previous models (see equation below). Here, alpha_i is the coefficient of the i_th level of the first categorical variable (Duration), beta_j is the coefficient of the j_th level of the second categorical variable, and alphabeta_ij is the coefficient of the  i_th level of the first categorical variable (Duration) being present with the j_th level of the second categorical variable\n",
    "\n",
    "The Null Hypothesis is that there are no main effects (alpha_i = 0 for all i, beta_j = 0 for all j, and alphabeta_ij = 0 for all i,j)\n",
    "\n",
    "The default way ```statsmodels``` OLS builds the matrix of observations for categorical variables is to create new variable (one for each level of the category, except the base level). These new variables are 1 if the observation has that value of the category, and zero otherwise.\n",
    "\n",
    "\n",
    "In this example, we want the sum of the coefficients to be zero for both categorical variables.  We declare this in the ```ols``` call, by specifying we want the new variable to be coded so the sum is zero.  I must confess I don't know if the ```C``` stands for Contrast, Coding or Categorical (I think the latter)"
   ]
  },
  {
   "cell_type": "markdown",
   "metadata": {},
   "source": [
    "$$Y_{ijk} = \\mu + \\alpha_i + \\beta_j + (\\alpha \\beta)_{ij} +         \n",
    "  \\varepsilon_{ijk} , \\qquad \\varepsilon_{ijk} \\sim N(0, \\sigma^2)$$"
   ]
  },
  {
   "cell_type": "code",
   "execution_count": 139,
   "metadata": {},
   "outputs": [
    {
     "data": {
      "text/html": [
       "<table class=\"simpletable\">\n",
       "<caption>OLS Regression Results</caption>\n",
       "<tr>\n",
       "  <th>Dep. Variable:</th>         <td>LogDays</td>     <th>  R-squared:         </th> <td>   0.408</td>\n",
       "</tr>\n",
       "<tr>\n",
       "  <th>Model:</th>                   <td>OLS</td>       <th>  Adj. R-squared:    </th> <td>   0.353</td>\n",
       "</tr>\n",
       "<tr>\n",
       "  <th>Method:</th>             <td>Least Squares</td>  <th>  F-statistic:       </th> <td>   7.431</td>\n",
       "</tr>\n",
       "<tr>\n",
       "  <th>Date:</th>             <td>Sun, 29 Mar 2020</td> <th>  Prob (F-statistic):</th> <td>2.30e-05</td>\n",
       "</tr>\n",
       "<tr>\n",
       "  <th>Time:</th>                 <td>14:54:58</td>     <th>  Log-Likelihood:    </th> <td> -63.314</td>\n",
       "</tr>\n",
       "<tr>\n",
       "  <th>No. Observations:</th>      <td>    60</td>      <th>  AIC:               </th> <td>   138.6</td>\n",
       "</tr>\n",
       "<tr>\n",
       "  <th>Df Residuals:</th>          <td>    54</td>      <th>  BIC:               </th> <td>   151.2</td>\n",
       "</tr>\n",
       "<tr>\n",
       "  <th>Df Model:</th>              <td>     5</td>      <th>                     </th>     <td> </td>   \n",
       "</tr>\n",
       "<tr>\n",
       "  <th>Covariance Type:</th>      <td>nonrobust</td>    <th>                     </th>     <td> </td>   \n",
       "</tr>\n",
       "</table>\n",
       "<table class=\"simpletable\">\n",
       "<tr>\n",
       "                      <td></td>                         <th>coef</th>     <th>std err</th>      <th>t</th>      <th>P>|t|</th>  <th>[0.025</th>    <th>0.975]</th>  \n",
       "</tr>\n",
       "<tr>\n",
       "  <th>Intercept</th>                                 <td>    1.6140</td> <td>    0.095</td> <td>   17.063</td> <td> 0.000</td> <td>    1.424</td> <td>    1.804</td>\n",
       "</tr>\n",
       "<tr>\n",
       "  <th>C(Duration, Sum)[S.1]</th>                     <td>    0.1975</td> <td>    0.095</td> <td>    2.088</td> <td> 0.042</td> <td>    0.008</td> <td>    0.387</td>\n",
       "</tr>\n",
       "<tr>\n",
       "  <th>C(Weight, Sum)[S.1]</th>                       <td>   -0.6450</td> <td>    0.134</td> <td>   -4.821</td> <td> 0.000</td> <td>   -0.913</td> <td>   -0.377</td>\n",
       "</tr>\n",
       "<tr>\n",
       "  <th>C(Weight, Sum)[S.2]</th>                       <td>   -0.0126</td> <td>    0.134</td> <td>   -0.095</td> <td> 0.925</td> <td>   -0.281</td> <td>    0.256</td>\n",
       "</tr>\n",
       "<tr>\n",
       "  <th>C(Duration, Sum)[S.1]:C(Weight, Sum)[S.1]</th> <td>   -0.1454</td> <td>    0.134</td> <td>   -1.087</td> <td> 0.282</td> <td>   -0.414</td> <td>    0.123</td>\n",
       "</tr>\n",
       "<tr>\n",
       "  <th>C(Duration, Sum)[S.1]:C(Weight, Sum)[S.2]</th> <td>    0.0662</td> <td>    0.134</td> <td>    0.495</td> <td> 0.623</td> <td>   -0.202</td> <td>    0.334</td>\n",
       "</tr>\n",
       "</table>\n",
       "<table class=\"simpletable\">\n",
       "<tr>\n",
       "  <th>Omnibus:</th>       <td> 7.659</td> <th>  Durbin-Watson:     </th> <td>   1.870</td>\n",
       "</tr>\n",
       "<tr>\n",
       "  <th>Prob(Omnibus):</th> <td> 0.022</td> <th>  Jarque-Bera (JB):  </th> <td>   2.856</td>\n",
       "</tr>\n",
       "<tr>\n",
       "  <th>Skew:</th>          <td>-0.168</td> <th>  Prob(JB):          </th> <td>   0.240</td>\n",
       "</tr>\n",
       "<tr>\n",
       "  <th>Kurtosis:</th>      <td> 1.985</td> <th>  Cond. No.          </th> <td>    1.73</td>\n",
       "</tr>\n",
       "</table><br/><br/>Warnings:<br/>[1] Standard Errors assume that the covariance matrix of the errors is correctly specified."
      ],
      "text/plain": [
       "<class 'statsmodels.iolib.summary.Summary'>\n",
       "\"\"\"\n",
       "                            OLS Regression Results                            \n",
       "==============================================================================\n",
       "Dep. Variable:                LogDays   R-squared:                       0.408\n",
       "Model:                            OLS   Adj. R-squared:                  0.353\n",
       "Method:                 Least Squares   F-statistic:                     7.431\n",
       "Date:                Sun, 29 Mar 2020   Prob (F-statistic):           2.30e-05\n",
       "Time:                        14:54:58   Log-Likelihood:                -63.314\n",
       "No. Observations:                  60   AIC:                             138.6\n",
       "Df Residuals:                      54   BIC:                             151.2\n",
       "Df Model:                           5                                         \n",
       "Covariance Type:            nonrobust                                         \n",
       "=============================================================================================================\n",
       "                                                coef    std err          t      P>|t|      [0.025      0.975]\n",
       "-------------------------------------------------------------------------------------------------------------\n",
       "Intercept                                     1.6140      0.095     17.063      0.000       1.424       1.804\n",
       "C(Duration, Sum)[S.1]                         0.1975      0.095      2.088      0.042       0.008       0.387\n",
       "C(Weight, Sum)[S.1]                          -0.6450      0.134     -4.821      0.000      -0.913      -0.377\n",
       "C(Weight, Sum)[S.2]                          -0.0126      0.134     -0.095      0.925      -0.281       0.256\n",
       "C(Duration, Sum)[S.1]:C(Weight, Sum)[S.1]    -0.1454      0.134     -1.087      0.282      -0.414       0.123\n",
       "C(Duration, Sum)[S.1]:C(Weight, Sum)[S.2]     0.0662      0.134      0.495      0.623      -0.202       0.334\n",
       "==============================================================================\n",
       "Omnibus:                        7.659   Durbin-Watson:                   1.870\n",
       "Prob(Omnibus):                  0.022   Jarque-Bera (JB):                2.856\n",
       "Skew:                          -0.168   Prob(JB):                        0.240\n",
       "Kurtosis:                       1.985   Cond. No.                         1.73\n",
       "==============================================================================\n",
       "\n",
       "Warnings:\n",
       "[1] Standard Errors assume that the covariance matrix of the errors is correctly specified.\n",
       "\"\"\""
      ]
     },
     "execution_count": 139,
     "metadata": {},
     "output_type": "execute_result"
    }
   ],
   "source": [
    "res2 = ols(\n",
    "    'LogDays ~ C(Duration, Sum) * C(Weight, Sum)', data=data\n",
    ").fit()\n",
    "res2.summary()"
   ]
  },
  {
   "cell_type": "markdown",
   "metadata": {},
   "source": [
    "It appears from the above that the interaction effects are not significant.  The effect of Duration is significant (at the 5% level). The first coded Weight variable has a significant effect, but not the other coded Weight variable."
   ]
  },
  {
   "cell_type": "markdown",
   "metadata": {},
   "source": [
    "----\n",
    "### Get Design Matrix\n",
    "\n",
    "The Design Matrix is the numerical, matrix representation of our model.  Note that we no longer have 0,1 in our new variables, but negative values as well"
   ]
  },
  {
   "cell_type": "code",
   "execution_count": 140,
   "metadata": {},
   "outputs": [
    {
     "data": {
      "text/html": [
       "<div>\n",
       "<style scoped>\n",
       "    .dataframe tbody tr th:only-of-type {\n",
       "        vertical-align: middle;\n",
       "    }\n",
       "\n",
       "    .dataframe tbody tr th {\n",
       "        vertical-align: top;\n",
       "    }\n",
       "\n",
       "    .dataframe thead th {\n",
       "        text-align: right;\n",
       "    }\n",
       "</style>\n",
       "<table border=\"1\" class=\"dataframe\">\n",
       "  <thead>\n",
       "    <tr style=\"text-align: right;\">\n",
       "      <th></th>\n",
       "      <th>Intercept</th>\n",
       "      <th>C(Duration, Sum)[S.1]</th>\n",
       "      <th>C(Weight, Sum)[S.1]</th>\n",
       "      <th>C(Weight, Sum)[S.2]</th>\n",
       "      <th>C(Duration, Sum)[S.1]:C(Weight, Sum)[S.1]</th>\n",
       "      <th>C(Duration, Sum)[S.1]:C(Weight, Sum)[S.2]</th>\n",
       "    </tr>\n",
       "  </thead>\n",
       "  <tbody>\n",
       "    <tr>\n",
       "      <th>0</th>\n",
       "      <td>1.0</td>\n",
       "      <td>1.0</td>\n",
       "      <td>1.0</td>\n",
       "      <td>0.0</td>\n",
       "      <td>1.0</td>\n",
       "      <td>0.0</td>\n",
       "    </tr>\n",
       "    <tr>\n",
       "      <th>1</th>\n",
       "      <td>1.0</td>\n",
       "      <td>1.0</td>\n",
       "      <td>1.0</td>\n",
       "      <td>0.0</td>\n",
       "      <td>1.0</td>\n",
       "      <td>0.0</td>\n",
       "    </tr>\n",
       "    <tr>\n",
       "      <th>2</th>\n",
       "      <td>1.0</td>\n",
       "      <td>1.0</td>\n",
       "      <td>1.0</td>\n",
       "      <td>0.0</td>\n",
       "      <td>1.0</td>\n",
       "      <td>0.0</td>\n",
       "    </tr>\n",
       "    <tr>\n",
       "      <th>3</th>\n",
       "      <td>1.0</td>\n",
       "      <td>1.0</td>\n",
       "      <td>1.0</td>\n",
       "      <td>0.0</td>\n",
       "      <td>1.0</td>\n",
       "      <td>0.0</td>\n",
       "    </tr>\n",
       "    <tr>\n",
       "      <th>4</th>\n",
       "      <td>1.0</td>\n",
       "      <td>1.0</td>\n",
       "      <td>1.0</td>\n",
       "      <td>0.0</td>\n",
       "      <td>1.0</td>\n",
       "      <td>0.0</td>\n",
       "    </tr>\n",
       "  </tbody>\n",
       "</table>\n",
       "</div>"
      ],
      "text/plain": [
       "   Intercept  C(Duration, Sum)[S.1]  C(Weight, Sum)[S.1]  C(Weight, Sum)[S.2]  \\\n",
       "0        1.0                    1.0                  1.0                  0.0   \n",
       "1        1.0                    1.0                  1.0                  0.0   \n",
       "2        1.0                    1.0                  1.0                  0.0   \n",
       "3        1.0                    1.0                  1.0                  0.0   \n",
       "4        1.0                    1.0                  1.0                  0.0   \n",
       "\n",
       "   C(Duration, Sum)[S.1]:C(Weight, Sum)[S.1]  \\\n",
       "0                                        1.0   \n",
       "1                                        1.0   \n",
       "2                                        1.0   \n",
       "3                                        1.0   \n",
       "4                                        1.0   \n",
       "\n",
       "   C(Duration, Sum)[S.1]:C(Weight, Sum)[S.2]  \n",
       "0                                        0.0  \n",
       "1                                        0.0  \n",
       "2                                        0.0  \n",
       "3                                        0.0  \n",
       "4                                        0.0  "
      ]
     },
     "execution_count": 140,
     "metadata": {},
     "output_type": "execute_result"
    }
   ],
   "source": [
    "y, X = dmatrices(\n",
    "    'LogDays ~ C(Duration, Sum) * C(Weight, Sum)',\n",
    "    data=data,\n",
    "    return_type='dataframe',\n",
    ")\n",
    "\n",
    "X.head()"
   ]
  },
  {
   "cell_type": "code",
   "execution_count": 141,
   "metadata": {},
   "outputs": [
    {
     "data": {
      "text/html": [
       "<div>\n",
       "<style scoped>\n",
       "    .dataframe tbody tr th:only-of-type {\n",
       "        vertical-align: middle;\n",
       "    }\n",
       "\n",
       "    .dataframe tbody tr th {\n",
       "        vertical-align: top;\n",
       "    }\n",
       "\n",
       "    .dataframe thead th {\n",
       "        text-align: right;\n",
       "    }\n",
       "</style>\n",
       "<table border=\"1\" class=\"dataframe\">\n",
       "  <thead>\n",
       "    <tr style=\"text-align: right;\">\n",
       "      <th></th>\n",
       "      <th>Intercept</th>\n",
       "      <th>C(Duration, Sum)[S.1]</th>\n",
       "      <th>C(Weight, Sum)[S.1]</th>\n",
       "      <th>C(Weight, Sum)[S.2]</th>\n",
       "      <th>C(Duration, Sum)[S.1]:C(Weight, Sum)[S.1]</th>\n",
       "      <th>C(Duration, Sum)[S.1]:C(Weight, Sum)[S.2]</th>\n",
       "    </tr>\n",
       "  </thead>\n",
       "  <tbody>\n",
       "    <tr>\n",
       "      <th>55</th>\n",
       "      <td>1.0</td>\n",
       "      <td>-1.0</td>\n",
       "      <td>-1.0</td>\n",
       "      <td>-1.0</td>\n",
       "      <td>1.0</td>\n",
       "      <td>1.0</td>\n",
       "    </tr>\n",
       "    <tr>\n",
       "      <th>56</th>\n",
       "      <td>1.0</td>\n",
       "      <td>-1.0</td>\n",
       "      <td>-1.0</td>\n",
       "      <td>-1.0</td>\n",
       "      <td>1.0</td>\n",
       "      <td>1.0</td>\n",
       "    </tr>\n",
       "    <tr>\n",
       "      <th>57</th>\n",
       "      <td>1.0</td>\n",
       "      <td>-1.0</td>\n",
       "      <td>-1.0</td>\n",
       "      <td>-1.0</td>\n",
       "      <td>1.0</td>\n",
       "      <td>1.0</td>\n",
       "    </tr>\n",
       "    <tr>\n",
       "      <th>58</th>\n",
       "      <td>1.0</td>\n",
       "      <td>-1.0</td>\n",
       "      <td>-1.0</td>\n",
       "      <td>-1.0</td>\n",
       "      <td>1.0</td>\n",
       "      <td>1.0</td>\n",
       "    </tr>\n",
       "    <tr>\n",
       "      <th>59</th>\n",
       "      <td>1.0</td>\n",
       "      <td>-1.0</td>\n",
       "      <td>-1.0</td>\n",
       "      <td>-1.0</td>\n",
       "      <td>1.0</td>\n",
       "      <td>1.0</td>\n",
       "    </tr>\n",
       "  </tbody>\n",
       "</table>\n",
       "</div>"
      ],
      "text/plain": [
       "    Intercept  C(Duration, Sum)[S.1]  C(Weight, Sum)[S.1]  \\\n",
       "55        1.0                   -1.0                 -1.0   \n",
       "56        1.0                   -1.0                 -1.0   \n",
       "57        1.0                   -1.0                 -1.0   \n",
       "58        1.0                   -1.0                 -1.0   \n",
       "59        1.0                   -1.0                 -1.0   \n",
       "\n",
       "    C(Weight, Sum)[S.2]  C(Duration, Sum)[S.1]:C(Weight, Sum)[S.1]  \\\n",
       "55                 -1.0                                        1.0   \n",
       "56                 -1.0                                        1.0   \n",
       "57                 -1.0                                        1.0   \n",
       "58                 -1.0                                        1.0   \n",
       "59                 -1.0                                        1.0   \n",
       "\n",
       "    C(Duration, Sum)[S.1]:C(Weight, Sum)[S.2]  \n",
       "55                                        1.0  \n",
       "56                                        1.0  \n",
       "57                                        1.0  \n",
       "58                                        1.0  \n",
       "59                                        1.0  "
      ]
     },
     "execution_count": 141,
     "metadata": {},
     "output_type": "execute_result"
    }
   ],
   "source": [
    "X.tail()"
   ]
  },
  {
   "cell_type": "markdown",
   "metadata": {},
   "source": [
    "### Get Coding Rules\n",
    "\n",
    "We can get the new coding rules by calling the ```Sum``` object.  For example, Weight has three level, so we have two new variables ```C(Weight, Sum)[S.1]```  and ```C(Weight, Sum)[S.2]```.  The value of each of these new variables has (as Weight ranges over it three level), is given by the columns of the ```Weight Coding``` matrix show below.  Similarly, the values of the ```C(Duration, Sum)[S.1]``` variable (for the two levels of Duration) is in the ```Duration Coding``` matrix below\n",
    "\n",
    "\n",
    "All this matters, because if we want to an explicit calculation of a predicted value given observed Duration and Weight, we have to calculate the value of these newly created variables.  The ```coded_observation``` function below computes the vector of new variable values, to use with the coefficients returned by the ```ols``` call, to get predicted value."
   ]
  },
  {
   "cell_type": "code",
   "execution_count": 142,
   "metadata": {},
   "outputs": [
    {
     "name": "stdout",
     "output_type": "stream",
     "text": [
      "Weight Coding\n",
      " [[ 1.  0.]\n",
      " [ 0.  1.]\n",
      " [-1. -1.]]\n",
      "Duration Coding\n",
      " [[ 1.]\n",
      " [-1.]]\n"
     ]
    }
   ],
   "source": [
    "w_levels = [1, 2, 3]\n",
    "w_contrast = Sum().code_without_intercept(w_levels)\n",
    "print('Weight Coding\\n', w_contrast.matrix)\n",
    "\n",
    "d_levels = [1, 2]\n",
    "d_contrast = Sum().code_without_intercept(d_levels)\n",
    "print('Duration Coding\\n', d_contrast.matrix)"
   ]
  },
  {
   "cell_type": "code",
   "execution_count": 143,
   "metadata": {},
   "outputs": [],
   "source": [
    "d1_codes = {1: 1, 2: -1}\n",
    "w1_codes = {1: 1, 2: 0, 3: -1}\n",
    "w2_codes = {1: 0, 2: 1, 3: -1}"
   ]
  },
  {
   "cell_type": "code",
   "execution_count": 144,
   "metadata": {},
   "outputs": [],
   "source": [
    "def coded_observation(D, W, d1_codes, w1_codes, w2_codes):\n",
    "\n",
    "    vec = [\n",
    "        1,  # constant\n",
    "        d1_codes[D],  # D1\n",
    "        w1_codes[W],  # W1\n",
    "        w2_codes[W],  # W2\n",
    "        d1_codes[D] * w1_codes[W],  # D1:W1\n",
    "        d1_codes[D] * w2_codes[W],  # D1:W2\n",
    "    ]\n",
    "    return vec\n",
    "\n",
    "\n",
    "# end coded_observation"
   ]
  },
  {
   "cell_type": "markdown",
   "metadata": {},
   "source": [
    "Compare the explicitly calculated prediction with the  ```RegressionResults.predict()``` method "
   ]
  },
  {
   "cell_type": "code",
   "execution_count": 145,
   "metadata": {},
   "outputs": [
    {
     "name": "stdout",
     "output_type": "stream",
     "text": [
      "Explicit Prediction vs Method Call:    1.02116 vs    1.02116\n",
      "Explicit Prediction vs Method Call:    1.86502 vs    1.86502\n",
      "Explicit Prediction vs Method Call:    2.54827 vs    2.54827\n",
      "Explicit Prediction vs Method Call:    0.91695 vs    0.91695\n",
      "Explicit Prediction vs Method Call:    1.33772 vs    1.33772\n",
      "Explicit Prediction vs Method Call:    1.99495 vs    1.99495\n"
     ]
    }
   ],
   "source": [
    "for D in [1, 2]:\n",
    "    for W in [1, 2, 3]:\n",
    "        dd = {'Duration': D, 'Weight': W}\n",
    "        pred1 = res2.predict(dd)[0]\n",
    "\n",
    "        vec1 = coded_observation(\n",
    "            D, W, d1_codes, w1_codes, w2_codes\n",
    "        )\n",
    "        pred2 = sum(vec1 * res2.params.values)\n",
    "\n",
    "        print(\n",
    "            f'Explicit Prediction vs Method Call: {pred2:10.5f} vs {pred1:10.5f}'\n",
    "        )\n",
    "\n",
    "    # end for\n",
    "# end for"
   ]
  },
  {
   "cell_type": "markdown",
   "metadata": {},
   "source": [
    "-------\n",
    "### Visualize Model\n",
    "\n",
    "Plot the raw data nd the modelpredictions on one graph"
   ]
  },
  {
   "cell_type": "code",
   "execution_count": 146,
   "metadata": {},
   "outputs": [
    {
     "data": {
      "text/plain": [
       "<matplotlib.axes._subplots.AxesSubplot at 0x22a7e978978>"
      ]
     },
     "execution_count": 146,
     "metadata": {},
     "output_type": "execute_result"
    },
    {
     "data": {
      "image/png": "[encoded data removed]",
      "text/plain": [
       "<Figure size 720x720 with 1 Axes>"
      ]
     },
     "metadata": {
      "needs_background": "light"
     },
     "output_type": "display_data"
    }
   ],
   "source": [
    "data['Num'] = list(range(len(data)))\n",
    "fig, ax = plt.subplots(figsize=(10, 10))\n",
    "sn.scatterplot(\n",
    "    'Num',\n",
    "    'LogDays',\n",
    "    data=data,\n",
    "    hue='Weight',\n",
    "    alpha=1,\n",
    "    style='Duration',\n",
    "    cmap='rainbow',\n",
    "    palette=['r', 'g', 'b'],\n",
    "    ax=ax,\n",
    "    s=200,\n",
    "    markers=['d', '^'],\n",
    ")\n",
    "\n",
    "sn.scatterplot(\n",
    "    'Num',\n",
    "    res2.predict(),\n",
    "    data=data,\n",
    "    hue='Weight',\n",
    "    alpha=1,\n",
    "    style='Duration',\n",
    "    cmap='rainbow',\n",
    "    palette=['r', 'g', 'b'],\n",
    "    ax=ax,\n",
    "    s=200,\n",
    "    markers=['+', 'x'],\n",
    "    legend=False,\n",
    ")"
   ]
  },
  {
   "cell_type": "markdown",
   "metadata": {},
   "source": [
    "Plot Residuals against observation number"
   ]
  },
  {
   "cell_type": "code",
   "execution_count": 147,
   "metadata": {},
   "outputs": [
    {
     "data": {
      "text/plain": [
       "<matplotlib.axes._subplots.AxesSubplot at 0x22a7ea3ba20>"
      ]
     },
     "execution_count": 147,
     "metadata": {},
     "output_type": "execute_result"
    },
    {
     "data": {
      "image/png": "[encoded data removed]",
      "text/plain": [
       "<Figure size 720x720 with 1 Axes>"
      ]
     },
     "metadata": {
      "needs_background": "light"
     },
     "output_type": "display_data"
    }
   ],
   "source": [
    "data['Num'] = list(range(len(data)))\n",
    "fig, ax = plt.subplots(figsize=(10, 10))\n",
    "sn.scatterplot(\n",
    "    'Num',\n",
    "    res2.resid,\n",
    "    data=data,\n",
    "    hue='Weight',\n",
    "    alpha=1,\n",
    "    style='Duration',\n",
    "    cmap='rainbow',\n",
    "    palette=['r', 'g', 'b'],\n",
    "    ax=ax,\n",
    "    s=200,\n",
    "    markers=['d', '^'],\n",
    ")"
   ]
  },
  {
   "cell_type": "markdown",
   "metadata": {},
   "source": [
    "Plot Residuals Grouped"
   ]
  },
  {
   "cell_type": "code",
   "execution_count": 148,
   "metadata": {},
   "outputs": [
    {
     "data": {
      "text/plain": [
       "<matplotlib.axes._subplots.AxesSubplot at 0x22a7ea10c50>"
      ]
     },
     "execution_count": 148,
     "metadata": {},
     "output_type": "execute_result"
    },
    {
     "data": {
      "image/png": "[encoded data removed]",
      "text/plain": [
       "<Figure size 720x720 with 1 Axes>"
      ]
     },
     "metadata": {
      "needs_background": "light"
     },
     "output_type": "display_data"
    }
   ],
   "source": [
    "data['Num'] = list(range(len(data)))\n",
    "fig, ax = plt.subplots(figsize=(10, 10))\n",
    "sn.scatterplot(\n",
    "    'Group',\n",
    "    res2.resid,\n",
    "    data=data,\n",
    "    hue='Weight',\n",
    "    alpha=1,\n",
    "    style='Duration',\n",
    "    cmap='rainbow',\n",
    "    palette=['r', 'g', 'b'],\n",
    "    ax=ax,\n",
    "    s=200,\n",
    "    markers=['d', '^'],\n",
    ")"
   ]
  },
  {
   "cell_type": "markdown",
   "metadata": {},
   "source": [
    "------\n",
    "### Predictions\n",
    "\n",
    "Supposed we are interested if the group with  Duration level 1, Weight level 3 is significantly different from Duration level 2, Weight level 2.\n",
    "\n",
    "We compute the predicted value of LogDays for each group"
   ]
  },
  {
   "cell_type": "code",
   "execution_count": 149,
   "metadata": {},
   "outputs": [
    {
     "name": "stdout",
     "output_type": "stream",
     "text": [
      "2.548270554114021 1.337719162498504\n"
     ]
    }
   ],
   "source": [
    "g1 = {'Duration': 1, 'Weight': 3}\n",
    "g2 = {'Duration': 2, 'Weight': 2}\n",
    "\n",
    "g1_pred = res2.predict(g1)[0]\n",
    "g2_pred = res2.predict(g2)[0]\n",
    "\n",
    "print(g1_pred, g2_pred)"
   ]
  },
  {
   "cell_type": "markdown",
   "metadata": {},
   "source": [
    "Get the estimated value of sigma, the standard deviation of the noise"
   ]
  },
  {
   "cell_type": "code",
   "execution_count": 150,
   "metadata": {},
   "outputs": [
    {
     "data": {
      "text/plain": [
       "0.732691612470825"
      ]
     },
     "execution_count": 150,
     "metadata": {},
     "output_type": "execute_result"
    }
   ],
   "source": [
    "sigma_hat = np.sqrt(res2.mse_resid)\n",
    "sigma_hat"
   ]
  },
  {
   "cell_type": "markdown",
   "metadata": {},
   "source": [
    "Because we are looking at the difference of means of samples of size n=10, the variance of the estimated difference is as below"
   ]
  },
  {
   "cell_type": "markdown",
   "metadata": {},
   "source": [
    "$$\\text{Var}(\\bar{Y}_{13\\cdot}) + \\text{Var}(\\bar{Y}_{22\\cdot}) = \\frac{2 \\sigma^2}{n}.$$"
   ]
  },
  {
   "cell_type": "markdown",
   "metadata": {},
   "source": [
    "We the upper and lower bounds of our estimate, by using the T distribution.  54 is our degrees of freedom of our residuals (from the RegressionResults.summary() output), and we want the 5% confidence interval"
   ]
  },
  {
   "cell_type": "code",
   "execution_count": 151,
   "metadata": {},
   "outputs": [
    {
     "data": {
      "text/plain": [
       "(-0.656938094934961, 0.6569380949349609)"
      ]
     },
     "execution_count": 151,
     "metadata": {},
     "output_type": "execute_result"
    }
   ],
   "source": [
    "n_obs = 10\n",
    "lower = stats.t.ppf(0.025, 54) * np.sqrt(\n",
    "    2 * sigma_hat ** 2 / n_obs\n",
    ")\n",
    "upper = stats.t.ppf(0.975, 54) * np.sqrt(\n",
    "    2 * sigma_hat ** 2 / n_obs\n",
    ")\n",
    "lower, upper"
   ]
  },
  {
   "cell_type": "markdown",
   "metadata": {},
   "source": [
    "Get the difference between the two groups"
   ]
  },
  {
   "cell_type": "code",
   "execution_count": 152,
   "metadata": {},
   "outputs": [
    {
     "data": {
      "text/plain": [
       "1.2105513916155168"
      ]
     },
     "execution_count": 152,
     "metadata": {},
     "output_type": "execute_result"
    }
   ],
   "source": [
    "g_diff = g1_pred - g2_pred\n",
    "g_diff"
   ]
  },
  {
   "cell_type": "markdown",
   "metadata": {},
   "source": [
    "Show the upper and lower bounds.  Based upon these values, we would say that at the 5% level, these two groups have a different LogDays value"
   ]
  },
  {
   "cell_type": "code",
   "execution_count": 155,
   "metadata": {},
   "outputs": [
    {
     "data": {
      "text/plain": [
       "(0.5536132966805558, 1.8674894865504776)"
      ]
     },
     "execution_count": 155,
     "metadata": {},
     "output_type": "execute_result"
    }
   ],
   "source": [
    "g_diff + lower, g_diff + upper"
   ]
  },
  {
   "cell_type": "markdown",
   "metadata": {},
   "source": [
    "The code below shows how to get Confidence Intervals for a Prediction, using the PredictionResults object"
   ]
  },
  {
   "cell_type": "code",
   "execution_count": 156,
   "metadata": {},
   "outputs": [
    {
     "data": {
      "text/html": [
       "<div>\n",
       "<style scoped>\n",
       "    .dataframe tbody tr th:only-of-type {\n",
       "        vertical-align: middle;\n",
       "    }\n",
       "\n",
       "    .dataframe tbody tr th {\n",
       "        vertical-align: top;\n",
       "    }\n",
       "\n",
       "    .dataframe thead th {\n",
       "        text-align: right;\n",
       "    }\n",
       "</style>\n",
       "<table border=\"1\" class=\"dataframe\">\n",
       "  <thead>\n",
       "    <tr style=\"text-align: right;\">\n",
       "      <th></th>\n",
       "      <th>mean</th>\n",
       "      <th>mean_se</th>\n",
       "      <th>mean_ci_lower</th>\n",
       "      <th>mean_ci_upper</th>\n",
       "      <th>obs_ci_lower</th>\n",
       "      <th>obs_ci_upper</th>\n",
       "    </tr>\n",
       "  </thead>\n",
       "  <tbody>\n",
       "    <tr>\n",
       "      <th>0</th>\n",
       "      <td>1.021156</td>\n",
       "      <td>0.231697</td>\n",
       "      <td>0.556631</td>\n",
       "      <td>1.485681</td>\n",
       "      <td>-0.5195</td>\n",
       "      <td>2.561812</td>\n",
       "    </tr>\n",
       "  </tbody>\n",
       "</table>\n",
       "</div>"
      ],
      "text/plain": [
       "       mean   mean_se  mean_ci_lower  mean_ci_upper  obs_ci_lower  \\\n",
       "0  1.021156  0.231697       0.556631       1.485681       -0.5195   \n",
       "\n",
       "   obs_ci_upper  \n",
       "0      2.561812  "
      ]
     },
     "execution_count": 156,
     "metadata": {},
     "output_type": "execute_result"
    }
   ],
   "source": [
    "gp = res2.get_prediction(\n",
    "    {'Duration': 1, 'Weight': 1}\n",
    ")  # PredictionResults Object\n",
    "\n",
    "gp.summary_frame()"
   ]
  },
  {
   "cell_type": "markdown",
   "metadata": {},
   "source": [
    "--------------------------\n",
    "## ANOVA\n",
    "\n",
    "The effect of the interactions can be assessed by a ```anova_lm``` call.  We see that the two categorical variables explain significantly (at the 5% level) more variation that would be predicted by random chance, but not so the interaction between the two variables."
   ]
  },
  {
   "cell_type": "code",
   "execution_count": 157,
   "metadata": {},
   "outputs": [
    {
     "data": {
      "text/html": [
       "<div>\n",
       "<style scoped>\n",
       "    .dataframe tbody tr th:only-of-type {\n",
       "        vertical-align: middle;\n",
       "    }\n",
       "\n",
       "    .dataframe tbody tr th {\n",
       "        vertical-align: top;\n",
       "    }\n",
       "\n",
       "    .dataframe thead th {\n",
       "        text-align: right;\n",
       "    }\n",
       "</style>\n",
       "<table border=\"1\" class=\"dataframe\">\n",
       "  <thead>\n",
       "    <tr style=\"text-align: right;\">\n",
       "      <th></th>\n",
       "      <th>df</th>\n",
       "      <th>sum_sq</th>\n",
       "      <th>mean_sq</th>\n",
       "      <th>F</th>\n",
       "      <th>PR(&gt;F)</th>\n",
       "    </tr>\n",
       "  </thead>\n",
       "  <tbody>\n",
       "    <tr>\n",
       "      <th>C(Duration, Sum)</th>\n",
       "      <td>1.0</td>\n",
       "      <td>2.339693</td>\n",
       "      <td>2.339693</td>\n",
       "      <td>4.358293</td>\n",
       "      <td>0.041562</td>\n",
       "    </tr>\n",
       "    <tr>\n",
       "      <th>C(Weight, Sum)</th>\n",
       "      <td>2.0</td>\n",
       "      <td>16.971291</td>\n",
       "      <td>8.485645</td>\n",
       "      <td>15.806745</td>\n",
       "      <td>0.000004</td>\n",
       "    </tr>\n",
       "    <tr>\n",
       "      <th>C(Duration, Sum):C(Weight, Sum)</th>\n",
       "      <td>2.0</td>\n",
       "      <td>0.635658</td>\n",
       "      <td>0.317829</td>\n",
       "      <td>0.592040</td>\n",
       "      <td>0.556748</td>\n",
       "    </tr>\n",
       "    <tr>\n",
       "      <th>Residual</th>\n",
       "      <td>54.0</td>\n",
       "      <td>28.989198</td>\n",
       "      <td>0.536837</td>\n",
       "      <td>NaN</td>\n",
       "      <td>NaN</td>\n",
       "    </tr>\n",
       "  </tbody>\n",
       "</table>\n",
       "</div>"
      ],
      "text/plain": [
       "                                   df     sum_sq   mean_sq          F  \\\n",
       "C(Duration, Sum)                  1.0   2.339693  2.339693   4.358293   \n",
       "C(Weight, Sum)                    2.0  16.971291  8.485645  15.806745   \n",
       "C(Duration, Sum):C(Weight, Sum)   2.0   0.635658  0.317829   0.592040   \n",
       "Residual                         54.0  28.989198  0.536837        NaN   \n",
       "\n",
       "                                   PR(>F)  \n",
       "C(Duration, Sum)                 0.041562  \n",
       "C(Weight, Sum)                   0.000004  \n",
       "C(Duration, Sum):C(Weight, Sum)  0.556748  \n",
       "Residual                              NaN  "
      ]
     },
     "execution_count": 157,
     "metadata": {},
     "output_type": "execute_result"
    }
   ],
   "source": [
    "with warnings.catch_warnings():\n",
    "    warnings.simplefilter(\"ignore\")\n",
    "    anv = sm.stats.anova_lm(res2)\n",
    "# end with\n",
    "anv"
   ]
  },
  {
   "cell_type": "markdown",
   "metadata": {},
   "source": [
    "We can also compare a simple model (with *no* interactions) with out interaction model.  The difference between the two models would be seen about 50% of the time by random chance"
   ]
  },
  {
   "cell_type": "code",
   "execution_count": 158,
   "metadata": {},
   "outputs": [
    {
     "data": {
      "text/html": [
       "<div>\n",
       "<style scoped>\n",
       "    .dataframe tbody tr th:only-of-type {\n",
       "        vertical-align: middle;\n",
       "    }\n",
       "\n",
       "    .dataframe tbody tr th {\n",
       "        vertical-align: top;\n",
       "    }\n",
       "\n",
       "    .dataframe thead th {\n",
       "        text-align: right;\n",
       "    }\n",
       "</style>\n",
       "<table border=\"1\" class=\"dataframe\">\n",
       "  <thead>\n",
       "    <tr style=\"text-align: right;\">\n",
       "      <th></th>\n",
       "      <th>df_resid</th>\n",
       "      <th>ssr</th>\n",
       "      <th>df_diff</th>\n",
       "      <th>ss_diff</th>\n",
       "      <th>F</th>\n",
       "      <th>Pr(&gt;F)</th>\n",
       "    </tr>\n",
       "  </thead>\n",
       "  <tbody>\n",
       "    <tr>\n",
       "      <th>0</th>\n",
       "      <td>56.0</td>\n",
       "      <td>29.624856</td>\n",
       "      <td>0.0</td>\n",
       "      <td>NaN</td>\n",
       "      <td>NaN</td>\n",
       "      <td>NaN</td>\n",
       "    </tr>\n",
       "    <tr>\n",
       "      <th>1</th>\n",
       "      <td>54.0</td>\n",
       "      <td>28.989198</td>\n",
       "      <td>2.0</td>\n",
       "      <td>0.635658</td>\n",
       "      <td>0.59204</td>\n",
       "      <td>0.556748</td>\n",
       "    </tr>\n",
       "  </tbody>\n",
       "</table>\n",
       "</div>"
      ],
      "text/plain": [
       "   df_resid        ssr  df_diff   ss_diff        F    Pr(>F)\n",
       "0      56.0  29.624856      0.0       NaN      NaN       NaN\n",
       "1      54.0  28.989198      2.0  0.635658  0.59204  0.556748"
      ]
     },
     "execution_count": 158,
     "metadata": {},
     "output_type": "execute_result"
    }
   ],
   "source": [
    "with warnings.catch_warnings():\n",
    "    warnings.simplefilter(\"ignore\")\n",
    "    anv = sm.stats.anova_lm(\n",
    "        ols('LogDays ~ Duration + Weight', data=data).fit(),\n",
    "        res2,\n",
    "    )\n",
    "# end with\n",
    "anv"
   ]
  },
  {
   "cell_type": "markdown",
   "metadata": {},
   "source": [
    "-----\n",
    "## Environment\n"
   ]
  },
  {
   "cell_type": "code",
   "execution_count": 159,
   "metadata": {},
   "outputs": [
    {
     "name": "stdout",
     "output_type": "stream",
     "text": [
      "numpy       1.15.4\n",
      "pandas      1.0.0\n",
      "statsmodels 0.9.0\n",
      "scipy       1.1.0\n",
      "matplotlib  3.0.2\n",
      "seaborn     0.9.0\n",
      "host name: DESKTOP-SODFUN6\n",
      "2020-03-29T14:58:55+10:00\n",
      "\n",
      "CPython 3.7.1\n",
      "IPython 7.2.0\n",
      "\n",
      "compiler   : MSC v.1915 64 bit (AMD64)\n",
      "system     : Windows\n",
      "release    : 10\n",
      "machine    : AMD64\n",
      "processor  : Intel64 Family 6 Model 94 Stepping 3, GenuineIntel\n",
      "CPU cores  : 8\n",
      "interpreter: 64bit\n"
     ]
    }
   ],
   "source": [
    "%watermark -h -iv\n",
    "%watermark"
   ]
  }
 ],
 "metadata": {
  "kernelspec": {
   "display_name": "Python 3",
   "language": "python",
   "name": "python3"
  },
  "language_info": {
   "codemirror_mode": {
    "name": "ipython",
    "version": 3
   },
   "file_extension": ".py",
   "mimetype": "text/x-python",
   "name": "python",
   "nbconvert_exporter": "python",
   "pygments_lexer": "ipython3",
   "version": "3.7.1"
  }
 },
 "nbformat": 4,
 "nbformat_minor": 4
}
