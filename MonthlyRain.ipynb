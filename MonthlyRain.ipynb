{
 "cells": [
  {
   "cell_type": "markdown",
   "id": "5afa54d6-75f3-481f-839e-dcd9735b6492",
   "metadata": {},
   "source": [
    "# Raindrops keep falling ...\n",
    "\n",
    "## Introduction\n",
    "\n",
    "I have recently been creating visualizations of water quality measurements, obtained at over 100 sites, over a period of years.  The physical parameter measurements (Turbidity, pH, Salinity, etc) are collected monthly at each site by volunteers.  See __[Example Graphic](https://coolum001.github.io/tsbn.html)__  for details of the data processing to get a graphic in the form required by the data collection manager.\n",
    "\n",
    "One physical quantity that I thought was missing was recent rainfall in the area around the measurement site.  So, I thought I would poke around to see how I could get monthly rainfall data into the graphics.\n",
    "\n",
    "## Data Sources\n",
    "\n",
    "### BoM\n",
    "The obvious organization to turn to in Australia is the Bureau of Meteorology.  They indeed have a page labelled __[Climate Data Online](http://www.bom.gov.au/climate/data/index.shtml)__  that does  allow you to specify a weather station,  and monthly rainfall as the data item of interest, and get back a webpage that looks (in part) like:\n",
    "\n",
    "\n",
    "\n",
    "| Year | Jan | Feb | Mar | Apr | May | Jun | Jul | Aug | Sep | Oct | Nov | Dec | Annual |\n",
    "| ---: | --- | --- | --- | --- | --- | --- | --- | --- | --- | --- | --- | --- | --- |\n",
    "| 1995 | 6.6 | 83.0 | 95.2 | 172.2 | 107.2 | 62.8 | 8.4 | 37.0 | 28.2 | 124.0 | 64.0 | 154.2 | 1042.8 |\n"
   ]
  },
  {
   "cell_type": "markdown",
   "id": "1b1bdbd9-bcfb-45ba-aa3d-9bd59c53f5a0",
   "metadata": {},
   "source": [
    "Great, I thought to myself, that API for getting this page is fairly obvious: _040861_ is the Id of the weather station of the Sunshine Coast Airport\n",
    "\n",
    "```\n",
    "http://www.bom.gov.au/jsp/ncc/cdio/weatherData/av?p_nccObsCode=139&p_display_type=dataFile&p_startYear=&p_c=&p_stn_num=040861\n",
    "```\n",
    "\n",
    "For each water quality measument site, I will get the closest weather station that recorded data for the period I am interest in, and get the monthly rainfall by web scraping.  Now this is a little less than ideal, in that the closest weather station might be downsteam of the measurement site, or might be over the range in the catchment area for a completely different stream or river.  But it would be a start, especially as the BoM do provide a download (in CSV form) of the locations of their weather stations."
   ]
  },
  {
   "cell_type": "markdown",
   "id": "b108dfe1-3933-43a0-a1c3-b3ca256ca216",
   "metadata": {},
   "source": [
    "### Implementation\n",
    "#### Imports"
   ]
  },
  {
   "cell_type": "code",
   "execution_count": 59,
   "id": "992135df-e383-49f1-9266-fac38b1d5695",
   "metadata": {},
   "outputs": [],
   "source": [
    "import requests\n",
    "from bs4 import BeautifulSoup as bs\n",
    "\n",
    "import pandas as pd\n",
    "import io\n",
    "\n",
    "import matplotlib.pyplot as plt"
   ]
  },
  {
   "cell_type": "markdown",
   "id": "2d3fdbe5-6214-4b31-8720-64ab2c179143",
   "metadata": {},
   "source": [
    "#### Supporting Libraries\n",
    "```lab black``` auto-formats the notebook, ```watermark``` allows the execution environment to be recorded"
   ]
  },
  {
   "cell_type": "code",
   "execution_count": 60,
   "id": "988671b3-7c20-4f87-9188-e4b808f1bc9b",
   "metadata": {},
   "outputs": [
    {
     "name": "stdout",
     "output_type": "stream",
     "text": [
      "The watermark extension is already loaded. To reload it, use:\n",
      "  %reload_ext watermark\n"
     ]
    }
   ],
   "source": [
    "%load_ext watermark"
   ]
  },
  {
   "cell_type": "code",
   "execution_count": 61,
   "id": "4f45373a-9945-4b1d-89f9-cac29b2e3497",
   "metadata": {},
   "outputs": [
    {
     "name": "stdout",
     "output_type": "stream",
     "text": [
      "The lab_black extension is already loaded. To reload it, use:\n",
      "  %reload_ext lab_black\n"
     ]
    }
   ],
   "source": [
    "%load_ext lab_black"
   ]
  },
  {
   "cell_type": "markdown",
   "id": "23bafa83-c506-467f-b633-02ec85b607c5",
   "metadata": {},
   "source": [
    "#### Code\n",
    "\n",
    "Define the URL of the BoM webpage we are interested in (top-level to begin with)."
   ]
  },
  {
   "cell_type": "code",
   "execution_count": 62,
   "id": "1000db7e-74e3-4fd9-bd99-c7cced84c5fb",
   "metadata": {},
   "outputs": [],
   "source": [
    "url = 'http://www.bom.gov.au/climate/data/index.shtml'"
   ]
  },
  {
   "cell_type": "markdown",
   "id": "ff9afd05-651f-469c-ba1c-4a3c31fdf24d",
   "metadata": {},
   "source": [
    "Get the web page."
   ]
  },
  {
   "cell_type": "code",
   "execution_count": 63,
   "id": "83ab581d-4177-4951-aa17-07046fa01750",
   "metadata": {},
   "outputs": [
    {
     "name": "stdout",
     "output_type": "stream",
     "text": [
      "<Response [403]>\n"
     ]
    }
   ],
   "source": [
    "page = requests.get(url)\n",
    "print(page)"
   ]
  },
  {
   "cell_type": "markdown",
   "id": "91a2168d-fb9d-4760-9846-8a3573c93cc3",
   "metadata": {},
   "source": [
    "__WTF__.  403 as a return status to an HTML request is not good:  \n",
    "\n",
    " >\"The HTTP 403 Forbidden response status code indicates that the server understands the request but refuses to authorize it.\"\n"
   ]
  },
  {
   "cell_type": "markdown",
   "id": "80d02bdc-39d4-471b-9fe4-cd1fa869c9d2",
   "metadata": {},
   "source": [
    "Let us probe a little deeper."
   ]
  },
  {
   "cell_type": "code",
   "execution_count": 64,
   "id": "3275d828-86ad-4c56-86f6-72ed92dcc649",
   "metadata": {},
   "outputs": [
    {
     "name": "stdout",
     "output_type": "stream",
     "text": [
      "<p>Your access is blocked due to the detection of a potential automated access request. The Bureau of Meteorology website does not support web scraping: if you are trying to access Bureau data through automated means, you should stop. You may like to ...\n"
     ]
    }
   ],
   "source": [
    "print(page.content.decode()[0:250], '...')"
   ]
  },
  {
   "cell_type": "markdown",
   "id": "28573ad8-e6d7-46d6-8d14-b54510dcc518",
   "metadata": {},
   "source": [
    "#### Conclusion\n",
    "\n",
    "So using the BoM is not feasible.  "
   ]
  },
  {
   "cell_type": "markdown",
   "id": "88b5f546-b9fe-4d82-b03e-bb8238e5ec58",
   "metadata": {},
   "source": [
    "### The Long Paddock\n",
    "\n",
    "I eventually googled my way to a website provided by the Queensland Goverment, called ```The Long Paddock```, for providing \"Climate risk information for rural Queensland\".  The Long Paddock is a term for the stock routes: roads that stock owners were allowed to use to move cattle or sheep between properties, or to market.  In times of drought, the stock routes were used (or abused) to feed starving stock - the rule was that you had to keep moving, but ...\n",
    "\n",
    "```\n",
    "SALTBUSH BILL by A. B. 'Banjo' Paterson\n",
    "\n",
    "Now this is the law of the Overland that all in the West obey -\n",
    "A man must cover with travelling sheep a six-mile stage a day;\n",
    "But this is the law which the drovers make, right easily understood,\n",
    "They travel their stage where the grass is bad, but they camp where the grass is good;\n",
    "They camp, and they ravage the squatter's grass till never a blade remains,\n",
    "Then they drift away as the white clouds drift on the edge of the saltbush plains;\n",
    "```\n",
    "\n",
    "The LongPaddock website has a documented API, which is described in __[API](https://www.longpaddock.qld.gov.au/silo/api-documentation/)__\n",
    "\n",
    "A typical URL looks like:\n",
    "\n"
   ]
  },
  {
   "cell_type": "code",
   "execution_count": 65,
   "id": "64a597cd-afa0-49cc-8a83-292046a9f9e7",
   "metadata": {},
   "outputs": [],
   "source": [
    "url = (\n",
    "    'https://www.longpaddock.qld.gov.au/cgi-bin/silo/DataDrillDataset.php?'\n",
    "    'start=20150101&'\n",
    "    'finish=20221231&'\n",
    "    'lat=-26.526&'\n",
    "    'lon=153.086&'\n",
    "    'format=monthly&'\n",
    "    'comment=R'\n",
    "    '&username=donrcameron@gmail.com&password=apirequest'\n",
    ")"
   ]
  },
  {
   "cell_type": "markdown",
   "id": "9268286f-78c2-4079-ad4f-99996f36c86a",
   "metadata": {},
   "source": [
    "In the above, \n",
    "\n",
    "- `start` and `finish` are the date range requested, in yyyymmdd format\n",
    "- `lat` and `lon` are the latitude and and logitude of a location  (in the case above, near my home)\n",
    "- `format` specifies the type of data returned (this can be confusing - format can be set to `json` to get a response in JSON syntax, but `monthly` returns fixed width text table).\n",
    "- `comment` is used to specify that `R`ainfall is required\n",
    "- `username` and `password` are used to identify the caller.  It is not clear if the username email address is validated (I didn't want to look like a hacker, so never tested to API with an invalid email)"
   ]
  },
  {
   "cell_type": "code",
   "execution_count": 66,
   "id": "af40f9d5-61a4-4d8f-a173-3551c2c5611f",
   "metadata": {},
   "outputs": [
    {
     "name": "stdout",
     "output_type": "stream",
     "text": [
      "<Response [200]>\n"
     ]
    }
   ],
   "source": [
    "page = requests.get(url)\n",
    "print(page)"
   ]
  },
  {
   "cell_type": "markdown",
   "id": "5e6a8853-d77c-4a5e-8f3e-9d169d0af063",
   "metadata": {},
   "source": [
    "This is better, a valid OK response received from our HTML request.  Let us look at the results:"
   ]
  },
  {
   "cell_type": "code",
   "execution_count": 67,
   "id": "ea9d5b68-92d5-497b-9482-0c3d68c83617",
   "metadata": {},
   "outputs": [
    {
     "name": "stdout",
     "output_type": "stream",
     "text": [
      "\"199705\"  -9.9  -9.9 9999.9 999.9  99.9  99.9\"\n",
      "\"\"\n",
      "\" This file is SPACE DELIMITED for easy import into both spreadsheets and programs.\"\n",
      "\"The first line 199705 contains dummy data and is provided to all\n"
     ]
    }
   ],
   "source": [
    "print(page.content.decode()[0:200])"
   ]
  },
  {
   "cell_type": "markdown",
   "id": "e4507ce9-478a-4e50-8b3c-5c35107e1c9b",
   "metadata": {},
   "source": [
    "The returned text has quite a large header:  moving deeper into the response, we get as below.  The column we want is `Tot Rain (mm)` "
   ]
  },
  {
   "cell_type": "code",
   "execution_count": 68,
   "id": "c6c2616a-9bd7-45e9-94d6-7149a15f4db7",
   "metadata": {},
   "outputs": [
    {
     "name": "stdout",
     "output_type": "stream",
     "text": [
      "======================================\"\n",
      "Yr.Mth Avg   Avg   Tot   Tot    Avg   Avg\n",
      "YYYYMM TMax  TMin  Rain  Evap   Rad    VP\n",
      "()     (oC)  (oC)  (mm)  (mm) (MJ/m2) (hPa)\n",
      "20150100  29.8  22.3  145.2 162.5  18.7  25.5\n",
      "20150200  28.6  21.3  386.5 136.8  20.5  23.9\n",
      "20150300  29.6  21.2   88.4 142.7  20.4  23.5\n",
      "20150400  26.2  16.7  207.9 103.5  16.0  18.9\n",
      "20150500  24.3  13.9  110.6  87.8  14.7  16.5\n",
      "20150600  21.7  13.2   96.7  65.8  10.6  15.6\n",
      "20150700  21.2  10.7   42.8  75.7  13.6  13.2\n",
      "20150800  \n"
     ]
    }
   ],
   "source": [
    "print(page.content.decode()[1500:2000])"
   ]
  },
  {
   "cell_type": "markdown",
   "id": "3f61b60c-6872-4d45-ae98-387e3abcbc01",
   "metadata": {},
   "source": [
    "Notice that LongPaddock automatically provides me monthly rainfall data for a location, that is __not__ a BoM weather station; as the website says:\n",
    " >`gridded datasets are constructed by spatially interpolating the observational data. Ordinary kriging is used to interpolate daily and monthly rainfall`.  \n",
    " \n",
    " So my concerns about using inappropriate rainfall data are now dispelled.\n",
    " \n",
    "To visualize this data, we get  it into a `pandas` DataFrame."
   ]
  },
  {
   "cell_type": "code",
   "execution_count": 69,
   "id": "df476375-09d6-4e63-b34c-629447f23f04",
   "metadata": {},
   "outputs": [
    {
     "data": {
      "text/html": [
       "<div>\n",
       "<style scoped>\n",
       "    .dataframe tbody tr th:only-of-type {\n",
       "        vertical-align: middle;\n",
       "    }\n",
       "\n",
       "    .dataframe tbody tr th {\n",
       "        vertical-align: top;\n",
       "    }\n",
       "\n",
       "    .dataframe thead th {\n",
       "        text-align: right;\n",
       "    }\n",
       "</style>\n",
       "<table border=\"1\" class=\"dataframe\">\n",
       "  <thead>\n",
       "    <tr style=\"text-align: right;\">\n",
       "      <th></th>\n",
       "      <th>Year</th>\n",
       "      <th>Month</th>\n",
       "      <th>Day</th>\n",
       "      <th>TMax</th>\n",
       "      <th>TMin</th>\n",
       "      <th>Rain</th>\n",
       "      <th>Evap</th>\n",
       "      <th>Rad</th>\n",
       "      <th>VP</th>\n",
       "    </tr>\n",
       "  </thead>\n",
       "  <tbody>\n",
       "    <tr>\n",
       "      <th>95</th>\n",
       "      <td>2022</td>\n",
       "      <td>12</td>\n",
       "      <td>0</td>\n",
       "      <td>27.0</td>\n",
       "      <td>19.0</td>\n",
       "      <td>106.7</td>\n",
       "      <td>175.6</td>\n",
       "      <td>21.2</td>\n",
       "      <td>20.8</td>\n",
       "    </tr>\n",
       "  </tbody>\n",
       "</table>\n",
       "</div>"
      ],
      "text/plain": [
       "    Year  Month  Day  TMax  TMin   Rain   Evap   Rad    VP\n",
       "95  2022     12    0  27.0  19.0  106.7  175.6  21.2  20.8"
      ]
     },
     "execution_count": 69,
     "metadata": {},
     "output_type": "execute_result"
    }
   ],
   "source": [
    "# get the web page text string into a form pandas can perform I/O on\n",
    "\n",
    "io_text = io.StringIO(page.content.decode())\n",
    "\n",
    "# read the fixed width fields\n",
    "df = pd.read_fwf(\n",
    "    io_text,\n",
    "    skiprows=24,\n",
    "    widths=[\n",
    "        4,\n",
    "        2,\n",
    "        2,\n",
    "        6,\n",
    "        6,\n",
    "        7,\n",
    "        6,\n",
    "        6,\n",
    "        6,\n",
    "    ],\n",
    ")\n",
    "\n",
    "# rename the columns\n",
    "df.columns = [\n",
    "    'Year',\n",
    "    'Month',\n",
    "    'Day',\n",
    "    'TMax',\n",
    "    'TMin',\n",
    "    'Rain',\n",
    "    'Evap',\n",
    "    'Rad',\n",
    "    'VP',\n",
    "]\n",
    "\n",
    "# display the last record\n",
    "df.tail(1)"
   ]
  },
  {
   "cell_type": "markdown",
   "id": "748b20ad-00c1-4147-9417-a59ad96fc3fb",
   "metadata": {},
   "source": [
    "Check the data types are as expected (they are):"
   ]
  },
  {
   "cell_type": "code",
   "execution_count": 70,
   "id": "0d70d270-8e27-405f-8c12-6f20ac14e8b2",
   "metadata": {},
   "outputs": [
    {
     "data": {
      "text/plain": [
       "Year       int64\n",
       "Month      int64\n",
       "Day        int64\n",
       "TMax     float64\n",
       "TMin     float64\n",
       "Rain     float64\n",
       "Evap     float64\n",
       "Rad      float64\n",
       "VP       float64\n",
       "dtype: object"
      ]
     },
     "execution_count": 70,
     "metadata": {},
     "output_type": "execute_result"
    }
   ],
   "source": [
    "df.dtypes"
   ]
  },
  {
   "cell_type": "markdown",
   "id": "de16d2bd-76ff-48d5-b7ca-56920e0fff89",
   "metadata": {},
   "source": [
    "Create a timestamp column from the separate Year and Month columns"
   ]
  },
  {
   "cell_type": "code",
   "execution_count": 71,
   "id": "2949c991-dc15-49f0-a4f3-50257881634a",
   "metadata": {},
   "outputs": [
    {
     "data": {
      "text/html": [
       "<div>\n",
       "<style scoped>\n",
       "    .dataframe tbody tr th:only-of-type {\n",
       "        vertical-align: middle;\n",
       "    }\n",
       "\n",
       "    .dataframe tbody tr th {\n",
       "        vertical-align: top;\n",
       "    }\n",
       "\n",
       "    .dataframe thead th {\n",
       "        text-align: right;\n",
       "    }\n",
       "</style>\n",
       "<table border=\"1\" class=\"dataframe\">\n",
       "  <thead>\n",
       "    <tr style=\"text-align: right;\">\n",
       "      <th></th>\n",
       "      <th>Year</th>\n",
       "      <th>Month</th>\n",
       "      <th>Day</th>\n",
       "      <th>TMax</th>\n",
       "      <th>TMin</th>\n",
       "      <th>Rain</th>\n",
       "      <th>Evap</th>\n",
       "      <th>Rad</th>\n",
       "      <th>VP</th>\n",
       "      <th>tstamp</th>\n",
       "    </tr>\n",
       "  </thead>\n",
       "  <tbody>\n",
       "    <tr>\n",
       "      <th>0</th>\n",
       "      <td>2015</td>\n",
       "      <td>1</td>\n",
       "      <td>0</td>\n",
       "      <td>29.8</td>\n",
       "      <td>22.3</td>\n",
       "      <td>145.2</td>\n",
       "      <td>162.5</td>\n",
       "      <td>18.7</td>\n",
       "      <td>25.5</td>\n",
       "      <td>2015-01-01</td>\n",
       "    </tr>\n",
       "    <tr>\n",
       "      <th>1</th>\n",
       "      <td>2015</td>\n",
       "      <td>2</td>\n",
       "      <td>0</td>\n",
       "      <td>28.6</td>\n",
       "      <td>21.3</td>\n",
       "      <td>386.5</td>\n",
       "      <td>136.8</td>\n",
       "      <td>20.5</td>\n",
       "      <td>23.9</td>\n",
       "      <td>2015-02-01</td>\n",
       "    </tr>\n",
       "    <tr>\n",
       "      <th>2</th>\n",
       "      <td>2015</td>\n",
       "      <td>3</td>\n",
       "      <td>0</td>\n",
       "      <td>29.6</td>\n",
       "      <td>21.2</td>\n",
       "      <td>88.4</td>\n",
       "      <td>142.7</td>\n",
       "      <td>20.4</td>\n",
       "      <td>23.5</td>\n",
       "      <td>2015-03-01</td>\n",
       "    </tr>\n",
       "    <tr>\n",
       "      <th>3</th>\n",
       "      <td>2015</td>\n",
       "      <td>4</td>\n",
       "      <td>0</td>\n",
       "      <td>26.2</td>\n",
       "      <td>16.7</td>\n",
       "      <td>207.9</td>\n",
       "      <td>103.5</td>\n",
       "      <td>16.0</td>\n",
       "      <td>18.9</td>\n",
       "      <td>2015-04-01</td>\n",
       "    </tr>\n",
       "  </tbody>\n",
       "</table>\n",
       "</div>"
      ],
      "text/plain": [
       "   Year  Month  Day  TMax  TMin   Rain   Evap   Rad    VP     tstamp\n",
       "0  2015      1    0  29.8  22.3  145.2  162.5  18.7  25.5 2015-01-01\n",
       "1  2015      2    0  28.6  21.3  386.5  136.8  20.5  23.9 2015-02-01\n",
       "2  2015      3    0  29.6  21.2   88.4  142.7  20.4  23.5 2015-03-01\n",
       "3  2015      4    0  26.2  16.7  207.9  103.5  16.0  18.9 2015-04-01"
      ]
     },
     "execution_count": 71,
     "metadata": {},
     "output_type": "execute_result"
    }
   ],
   "source": [
    "df['tstamp'] = [\n",
    "    pd.Timestamp(year=y, month=m, day=1)\n",
    "    for y, m in zip(df['Year'], df['Month'])\n",
    "]\n",
    "df.head(4)"
   ]
  },
  {
   "cell_type": "markdown",
   "id": "f5ce8dd8-ff1d-42f8-a7b1-da02dc478b3c",
   "metadata": {},
   "source": [
    "As expected, the timestamps are a calendar month apart.  Perform a quick plot of the data.\n"
   ]
  },
  {
   "cell_type": "code",
   "execution_count": 72,
   "id": "bf34ce0f-52fb-42d4-beb1-4f3eb5f0256a",
   "metadata": {},
   "outputs": [
    {
     "data": {
      "image/png": "[encoded data removed]",
      "text/plain": [
       "<Figure size 640x480 with 1 Axes>"
      ]
     },
     "metadata": {},
     "output_type": "display_data"
    }
   ],
   "source": [
    "_ = df.plot(x='tstamp', y='Rain')"
   ]
  },
  {
   "cell_type": "markdown",
   "id": "0756ab92-7826-4dc8-b27c-868b584b7afb",
   "metadata": {},
   "source": [
    "I am a unhappy with this plot.  The Monthly Rainfall should be spread across the whole month, not shown as occuring at day 1 of each month.\n",
    "\n",
    "We define two helper functions:  \n",
    "\n",
    "- one that, given a time stamp, returns a timestamp for the first of the month\n",
    "- the second, that returns a timestamp for the first of the next month"
   ]
  },
  {
   "cell_type": "code",
   "execution_count": 73,
   "id": "a03dc3c5-b579-42ae-b502-6453947e935a",
   "metadata": {},
   "outputs": [],
   "source": [
    "def month_start(t: pd.Timestamp) -> pd.Timestamp:\n",
    "    return pd.Timestamp(\n",
    "        year=t.year,\n",
    "        month=t.month,\n",
    "        day=1,\n",
    "    )\n",
    "\n",
    "\n",
    "# end month_start\n",
    "\n",
    "\n",
    "def next_month_start(t: pd.Timestamp) -> pd.Timestamp:\n",
    "    return pd.Timestamp(\n",
    "        year=t.year,\n",
    "        month=t.month,\n",
    "        day=1,\n",
    "    ) + pd.DateOffset(months=1)\n",
    "\n",
    "\n",
    "# end next_month_start"
   ]
  },
  {
   "cell_type": "markdown",
   "id": "05fd21f3-8ed2-4bf0-bd60-8a01bba77b5d",
   "metadata": {},
   "source": [
    "Now we create expand our list of timestamps into a list twice as long, in which for each original timestamp, we have the start of month and start of next month timestamps."
   ]
  },
  {
   "cell_type": "code",
   "execution_count": 74,
   "id": "fe64fa6c-690f-4da1-8edc-6caf9623bede",
   "metadata": {},
   "outputs": [],
   "source": [
    "# for each timestamp, create a tuple, and then iterate over that tuple\n",
    "\n",
    "month_start_end_dates = [\n",
    "    t\n",
    "    for r in df['tstamp']\n",
    "    for t in (month_start(r), next_month_start(r))\n",
    "]"
   ]
  },
  {
   "cell_type": "markdown",
   "id": "857c8a10-c4c6-472f-b791-de4a468d1149",
   "metadata": {},
   "source": [
    "We have to create a new list of rainfall data, with each value duplicated.  As above, for each original value, we create a tuple, and iterate over that."
   ]
  },
  {
   "cell_type": "code",
   "execution_count": 75,
   "id": "b4a5d550-564d-4101-bc9d-01e5586be0e3",
   "metadata": {},
   "outputs": [],
   "source": [
    "rain2 = [\n",
    "    r for pair in zip(df['Rain'], df['Rain']) for r in pair\n",
    "]"
   ]
  },
  {
   "cell_type": "markdown",
   "id": "0302f17e-f50b-4f90-816c-cffe7bb7758f",
   "metadata": {},
   "source": [
    "Plot the result."
   ]
  },
  {
   "cell_type": "code",
   "execution_count": 76,
   "id": "a65a3669-3e11-4682-8a96-ac919db14db6",
   "metadata": {},
   "outputs": [
    {
     "data": {
      "image/png": "[encoded data removed]",
      "text/plain": [
       "<Figure size 640x480 with 1 Axes>"
      ]
     },
     "metadata": {},
     "output_type": "display_data"
    }
   ],
   "source": [
    "#  plot the monthly rainfall as a line\n",
    "_ = plt.plot(month_start_end_dates, rain2)\n",
    "\n",
    "# fill in down to y=0 line\n",
    "\n",
    "_ = plt.fill_between(\n",
    "    x=month_start_end_dates,\n",
    "    y1=rain2,\n",
    "    alpha=0.2,\n",
    ")\n",
    "\n",
    "# plot the y=0 line\n",
    "_ = plt.axhline(0)"
   ]
  },
  {
   "cell_type": "markdown",
   "id": "dbf2032b-8dc6-482f-b16b-ee1d964e0d5c",
   "metadata": {},
   "source": [
    "This is better representation of the fact that monthly rainfall is a property of the whole month, and not just a single day in that month."
   ]
  },
  {
   "cell_type": "markdown",
   "id": "03d8091b-9e1d-4049-af94-07f8cfefd135",
   "metadata": {},
   "source": [
    "## Validation\n",
    "\n",
    "In order to validate this mechanism of getting monthly rainfallfor a specified location, I used that fact that I have been recoding daily rainfall at my home in Coolum Beach for the last few years, and recording these in a spreadsheet."
   ]
  },
  {
   "cell_type": "code",
   "execution_count": 77,
   "id": "75dd0105-b6aa-455c-9634-361e25ead381",
   "metadata": {},
   "outputs": [],
   "source": [
    "mydata_url = '../data/homerain.csv'"
   ]
  },
  {
   "cell_type": "code",
   "execution_count": 78,
   "id": "a8f0795e-0a0d-445e-8425-11d5b16287da",
   "metadata": {},
   "outputs": [],
   "source": [
    "home_df = pd.read_csv(mydata_url)"
   ]
  },
  {
   "cell_type": "markdown",
   "id": "2a6a3194-4ec3-4aeb-a033-7f81cfe0ea84",
   "metadata": {},
   "source": [
    "We do a quick (non-pretty) comparison of the estimate from Long Paddock, and an extract from my rain gauge measurements.\n",
    "We look at the months since January 2020, when I started daily measurements. My measurements for January 2020 are a little suspect, as I was away most of the month."
   ]
  },
  {
   "cell_type": "code",
   "execution_count": 79,
   "id": "0fd85aeb-cdfd-4be6-8ca4-9ea9eb24c75c",
   "metadata": {},
   "outputs": [
    {
     "data": {
      "image/png": "[encoded data removed]",
      "text/plain": [
       "<Figure size 640x480 with 1 Axes>"
      ]
     },
     "metadata": {},
     "output_type": "display_data"
    }
   ],
   "source": [
    "# get month numbers for 3 years, with Jan 2020 as month 1\n",
    "plt.plot(\n",
    "    range(1, 3 * 12 + 1),\n",
    "    df[df['Year'] > 2019]['Rain'],\n",
    "    label='Estimated (Long Paddock',\n",
    "    marker='+',\n",
    ")\n",
    "\n",
    "plt.plot(\n",
    "    range(1, 3 * 12 + 1),\n",
    "    home_df['Rain'],\n",
    "    label='Measured (Home rain gauge)',\n",
    "    marker='o',\n",
    ")\n",
    "_ = plt.legend()"
   ]
  },
  {
   "cell_type": "markdown",
   "id": "273d23b8-cd20-4345-af2f-c6f6dac636f1",
   "metadata": {},
   "source": [
    "### Conclusion\n",
    "\n",
    "The agreement between the Long Paddock estimates and my home rain gauge measurements are close enough to warrent inclusion of the Long Paddock estimates in the Water Quality graphs, as background information."
   ]
  },
  {
   "cell_type": "markdown",
   "id": "e33526d4-a8ff-4add-8b90-adc39a5fcbdd",
   "metadata": {},
   "source": [
    "-----------------\n",
    "## Execution Environment"
   ]
  },
  {
   "cell_type": "code",
   "execution_count": 80,
   "id": "8102ee63-aeb3-4e29-b886-4ce2070c3b21",
   "metadata": {},
   "outputs": [
    {
     "name": "stdout",
     "output_type": "stream",
     "text": [
      "Last updated: 2023-07-12T19:32:48.039408+10:00\n",
      "\n",
      "Python implementation: CPython\n",
      "Python version       : 3.9.13\n",
      "IPython version      : 7.31.1\n",
      "\n",
      "Compiler    : MSC v.1916 64 bit (AMD64)\n",
      "OS          : Windows\n",
      "Release     : 10\n",
      "Machine     : AMD64\n",
      "Processor   : Intel64 Family 6 Model 94 Stepping 3, GenuineIntel\n",
      "CPU cores   : 8\n",
      "Architecture: 64bit\n",
      "\n"
     ]
    }
   ],
   "source": [
    "%watermark"
   ]
  },
  {
   "cell_type": "code",
   "execution_count": 81,
   "id": "1f507448-fe8b-43f8-9837-9dcf0c72bea9",
   "metadata": {},
   "outputs": [
    {
     "name": "stdout",
     "output_type": "stream",
     "text": [
      "conda environment: base\n",
      "\n",
      "matplotlib: 3.5.2\n",
      "requests  : 2.28.1\n",
      "pandas    : 1.4.4\n",
      "\n"
     ]
    }
   ],
   "source": [
    "%watermark -co -iv"
   ]
  },
  {
   "cell_type": "code",
   "execution_count": null,
   "id": "8ae5a78a-c703-4f8d-b36a-1b11e75334af",
   "metadata": {},
   "outputs": [],
   "source": []
  }
 ],
 "metadata": {
  "kernelspec": {
   "display_name": "Python 3 (ipykernel)",
   "language": "python",
   "name": "python3"
  },
  "language_info": {
   "codemirror_mode": {
    "name": "ipython",
    "version": 3
   },
   "file_extension": ".py",
   "mimetype": "text/x-python",
   "name": "python",
   "nbconvert_exporter": "python",
   "pygments_lexer": "ipython3",
   "version": "3.9.13"
  }
 },
 "nbformat": 4,
 "nbformat_minor": 5
}
