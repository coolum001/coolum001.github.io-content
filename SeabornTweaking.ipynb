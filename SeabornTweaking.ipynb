{
 "cells": [
  {
   "cell_type": "markdown",
   "id": "6bfeb9ac-b87f-4d64-9157-228738ccc041",
   "metadata": {},
   "source": [
    "# Tweaking Seaborn\n",
    "\n",
    "## Introduction\n",
    "I recently had a very interesting exercise in tailoring Seaborn graphic output.\n",
    "\n",
    "The background is that I had access to a database of water quality measures at more than 100 sites.  At each site, once a month, a volunteer (or volunteers) measured six physical parameters (temperature, salinity, dissolved oxygen etc).\n",
    "I was requested to develop graphics to show the volunteers a summary of the measurements  collected at their sites.\n",
    "\n",
    "This post describes the process to arrive at the final graphic, satisfying the database owner and volunteer coordinator.  I will give some demonstration code at stages (using demonstration data) to show how I bent Seaborn to my will :)  ."
   ]
  },
  {
   "cell_type": "markdown",
   "id": "b5c7e7a1-19f7-44d4-a96d-845ee7c0751a",
   "metadata": {},
   "source": [
    "## Implementation\n",
    "\n",
    "### Imports"
   ]
  },
  {
   "cell_type": "code",
   "execution_count": 10,
   "id": "0facd9bc-5025-4b52-a268-cbcc97289d71",
   "metadata": {},
   "outputs": [],
   "source": [
    "import numpy as np\n",
    "import pandas as pd\n",
    "\n",
    "import matplotlib as mpl\n",
    "import matplotlib.pyplot as plt\n",
    "import seaborn as sns\n",
    "\n",
    "# used for environment documentation\n",
    "import sys\n",
    "import os\n",
    "import platform\n",
    "import datetime"
   ]
  },
  {
   "cell_type": "markdown",
   "id": "007e5187-71f9-4abd-9dc1-9f4ea607d883",
   "metadata": {},
   "source": [
    "### Supporting libraries"
   ]
  },
  {
   "cell_type": "code",
   "execution_count": 11,
   "id": "1391e511-aeb4-41b7-9f93-79f3e1008228",
   "metadata": {},
   "outputs": [
    {
     "name": "stdout",
     "output_type": "stream",
     "text": [
      "The watermark extension is already loaded. To reload it, use:\n",
      "  %reload_ext watermark\n"
     ]
    }
   ],
   "source": [
    "%load_ext watermark"
   ]
  },
  {
   "cell_type": "code",
   "execution_count": 12,
   "id": "1824cee8-04fc-45fb-9bcc-58c632fbcafe",
   "metadata": {},
   "outputs": [
    {
     "name": "stdout",
     "output_type": "stream",
     "text": [
      "The lab_black extension is already loaded. To reload it, use:\n",
      "  %reload_ext lab_black\n"
     ]
    }
   ],
   "source": [
    "%load_ext lab_black"
   ]
  },
  {
   "cell_type": "markdown",
   "id": "36faa56b-5dc4-4a63-afa1-5cb685a339c2",
   "metadata": {},
   "source": [
    "## Data cleaning\n",
    "\n",
    "A non-trivial amount of data cleaning was required (as might be expected in a field process that involved recording physical measurements on a paper form, entering into Excel, and then transferring into an Access database). Eventually we had a clean Pandas dataframe to start producing graphics.\n",
    "\n",
    "I elected to use Seaborn as the main graphics production tool."
   ]
  },
  {
   "cell_type": "markdown",
   "id": "aeadfa9b-1245-42e2-963e-35ffd786c8e9",
   "metadata": {},
   "source": [
    "### Illustrative dataset\n",
    "\n",
    "To demonstrate some of the issues I encountered, a toy dataset is constructed below.  For one site only, it has one physical variable, with measurements taken every month (mostly).  There is one outlier point."
   ]
  },
  {
   "cell_type": "code",
   "execution_count": 13,
   "id": "cde237f1-8173-4aa1-8dd7-5f95bcfd72b7",
   "metadata": {},
   "outputs": [],
   "source": [
    "date_range = pd.date_range(\n",
    "    start='1/1/2015', periods=80, freq='M'\n",
    ")\n",
    "\n",
    "data_d = {\n",
    "    'site_code': 'STU100',\n",
    "    'datesampletaken': date_range,\n",
    "    'turbidity_ntu': np.random.normal(\n",
    "        loc=20, scale=5, size=len(date_range)\n",
    "    ),\n",
    "}\n",
    "df_clean = pd.DataFrame(data_d)\n",
    "\n",
    "# inject an early start date\n",
    "df_clean.loc[0, 'datesampletaken'] = pd.to_datetime(\n",
    "    '2014/1/1'\n",
    ")\n",
    "\n",
    "# inject an outlier physical value\n",
    "df_clean.loc[40, 'turbidity_ntu'] = 150\n",
    "\n",
    "# inject a gap in measurements\n",
    "df_clean.loc[46:, 'datesampletaken'] = pd.date_range(\n",
    "    start='1/8/2020', periods=34, freq='M'\n",
    ")"
   ]
  },
  {
   "cell_type": "code",
   "execution_count": 14,
   "id": "bdd10628-c937-442f-b93b-2c2f80430059",
   "metadata": {},
   "outputs": [
    {
     "data": {
      "text/html": [
       "<div>\n",
       "<style scoped>\n",
       "    .dataframe tbody tr th:only-of-type {\n",
       "        vertical-align: middle;\n",
       "    }\n",
       "\n",
       "    .dataframe tbody tr th {\n",
       "        vertical-align: top;\n",
       "    }\n",
       "\n",
       "    .dataframe thead th {\n",
       "        text-align: right;\n",
       "    }\n",
       "</style>\n",
       "<table border=\"1\" class=\"dataframe\">\n",
       "  <thead>\n",
       "    <tr style=\"text-align: right;\">\n",
       "      <th></th>\n",
       "      <th>site_code</th>\n",
       "      <th>datesampletaken</th>\n",
       "      <th>turbidity_ntu</th>\n",
       "    </tr>\n",
       "  </thead>\n",
       "  <tbody>\n",
       "    <tr>\n",
       "      <th>0</th>\n",
       "      <td>STU100</td>\n",
       "      <td>2014-01-01</td>\n",
       "      <td>27.792293</td>\n",
       "    </tr>\n",
       "    <tr>\n",
       "      <th>1</th>\n",
       "      <td>STU100</td>\n",
       "      <td>2015-02-28</td>\n",
       "      <td>16.805165</td>\n",
       "    </tr>\n",
       "  </tbody>\n",
       "</table>\n",
       "</div>"
      ],
      "text/plain": [
       "  site_code datesampletaken  turbidity_ntu\n",
       "0    STU100      2014-01-01      27.792293\n",
       "1    STU100      2015-02-28      16.805165"
      ]
     },
     "execution_count": 14,
     "metadata": {},
     "output_type": "execute_result"
    }
   ],
   "source": [
    "df_clean.head(2)"
   ]
  },
  {
   "cell_type": "markdown",
   "id": "353e798a-4116-4245-84bf-6632f4d61b01",
   "metadata": {},
   "source": [
    "## Graphics production steps\n",
    "\n",
    "### Initial graphic\n",
    "\n",
    "My first initial attempt at portraying the data was as below.  I use the Seaborn ```lineplot```, in a long narrow chart that will be stacked on graphs of the other physical parameters.  I though it important to actually show where the data points were, as well as connecting them."
   ]
  },
  {
   "cell_type": "code",
   "execution_count": 15,
   "id": "eb6c4d85-10d0-448e-abee-5d8c91e2b426",
   "metadata": {},
   "outputs": [
    {
     "data": {
      "text/plain": [
       "Text(0.5, 0.98, 'Site Code: STU100')"
      ]
     },
     "execution_count": 15,
     "metadata": {},
     "output_type": "execute_result"
    },
    {
     "data": {
      "image/png": "[encoded data removed]",
      "text/plain": [
       "<Figure size 800x200 with 1 Axes>"
      ]
     },
     "metadata": {},
     "output_type": "display_data"
    }
   ],
   "source": [
    "#  generate a long narrow strip chart\n",
    "fig, ax = plt.subplots(figsize=(8, 2))\n",
    "\n",
    "# the physical value we are plotting\n",
    "val = 'turbidity_ntu'\n",
    "\n",
    "sns.lineplot(\n",
    "    x='datesampletaken',\n",
    "    y=val,\n",
    "    data=df_clean,\n",
    "    ax=ax,\n",
    "    marker='s',\n",
    "    markersize=3,\n",
    "    markerfacecolor='black',\n",
    ")\n",
    "\n",
    "# set x,y grid\n",
    "ax.grid(axis='both')\n",
    "\n",
    "# set axis labels\n",
    "ax.set_xlabel('Date')\n",
    "\n",
    "ylabel = 'Turbidity (NTU)'\n",
    "ax.set_ylabel(ylabel)\n",
    "\n",
    "# add an overall figure title\n",
    "fig.suptitle(\n",
    "    'Site Code: ' + df_clean.loc[0, 'site_code'],\n",
    "    fontsize=15,\n",
    "    ha='center',\n",
    "    va='top',\n",
    ")"
   ]
  },
  {
   "cell_type": "markdown",
   "id": "a1bf946f-3f45-4cb7-abcb-5227e9f923d5",
   "metadata": {},
   "source": [
    "### Gaps in time-series\n",
    "\n",
    "#### Initial gap\n",
    "\n",
    "One of the issues my 'customer' had with the default dataframe-to-graphic process, was that for some sites there were big gaps in the collection of the data.  This could be for a variety of reason (volunteers away on holiday, with no backup, access restrictions), including - during Australia droughts - no water to measure.  \n",
    "\n",
    "Furthermore, I think that initially an initial prototype data-collection effort was performed, as for almost all sites, there was a big gap between the first and subsequent data collection dates.\n",
    "\n",
    "Because the main purpose of the graphics was to allow comparison of the month-to-month values, it was decided to drop the first month of every site."
   ]
  },
  {
   "cell_type": "code",
   "execution_count": 16,
   "id": "151c10d4-0bb1-4b8a-b668-a6ca846acaaf",
   "metadata": {},
   "outputs": [],
   "source": [
    "# get just this active site rows, and drop the earliest row, and reindex\n",
    "site_code = 'STU100'\n",
    "\n",
    "df_site = (\n",
    "    df_clean.query('site_code==@site_code')\n",
    "    .sort_values(by='datesampletaken')\n",
    "    .iloc[1:, :]\n",
    "    .copy()\n",
    "    .reset_index(drop=True)\n",
    ")"
   ]
  },
  {
   "cell_type": "markdown",
   "id": "d1a6123f-dcf0-4ba5-b834-ddbd7ff6ac3e",
   "metadata": {},
   "source": [
    "So now we get:\n"
   ]
  },
  {
   "cell_type": "code",
   "execution_count": 17,
   "id": "86e95e47-e06b-415c-8f18-70fadddd5a94",
   "metadata": {},
   "outputs": [
    {
     "data": {
      "text/plain": [
       "Text(0.5, 0.98, 'Site Code: STU100')"
      ]
     },
     "execution_count": 17,
     "metadata": {},
     "output_type": "execute_result"
    },
    {
     "data": {
      "image/png": "[encoded data removed]",
      "text/plain": [
       "<Figure size 800x200 with 1 Axes>"
      ]
     },
     "metadata": {},
     "output_type": "display_data"
    }
   ],
   "source": [
    "#  generate a long narrow strip chart\n",
    "fig, ax = plt.subplots(figsize=(8, 2))\n",
    "\n",
    "# the physical value we are plotting\n",
    "val = 'turbidity_ntu'\n",
    "\n",
    "sns.lineplot(\n",
    "    x='datesampletaken',\n",
    "    y=val,\n",
    "    data=df_site,\n",
    "    ax=ax,\n",
    "    marker='s',\n",
    "    markersize=3,\n",
    "    markerfacecolor='black',\n",
    ")\n",
    "\n",
    "# set x,y grid\n",
    "ax.grid(axis='both')\n",
    "\n",
    "# set axis labels\n",
    "ax.set_xlabel('Date')\n",
    "\n",
    "ylabel = 'Turbidity (NTU)'\n",
    "ax.set_ylabel(ylabel)\n",
    "\n",
    "# add an overall figure title\n",
    "fig.suptitle(\n",
    "    'Site Code: ' + df_clean.loc[0, 'site_code'],\n",
    "    fontsize=15,\n",
    "    ha='center',\n",
    "    va='top',\n",
    ")"
   ]
  },
  {
   "cell_type": "markdown",
   "id": "851fd5c5-4f09-4c58-923a-8c6e1dd3e4ef",
   "metadata": {},
   "source": [
    "#### Gaps in the middle\n",
    "\n",
    "I trashed around for a while, trying to find a way to tell Seaborn __not__ to draw a line between two points in a line plot.  Finally (via Stack Overflow), I found the trick was to tell Seaborn to draw a line joining a subset of the points.  Two (or more) subsets do __not__ have a line joining them.  I do this by creating a new column in the dataframe ('group'); the ```hue='group'``` clause in the Seaborn call tells Seaborn to plot each group of points with a different line color, except we subvert this by defining a palette with as many repetitions of ```blue``` as there are groups of datapoints not widely separated in time. \n",
    "\n",
    "Time for a supporting function.  I fudged a bit, that the loose verbal specification was \"more than half a year\": I defined that to mean greater than  180 days."
   ]
  },
  {
   "cell_type": "code",
   "execution_count": 18,
   "id": "6c963bcf-228a-4988-b1e9-448dd0a110fe",
   "metadata": {},
   "outputs": [],
   "source": [
    "def group_by_period(df: pd.DataFrame):\n",
    "    '''\n",
    "    group_by_period: assign a group integer to each row, which increments across big time gaps\n",
    "    '''\n",
    "    group_no = 1\n",
    "    df['group'] = group_no\n",
    "\n",
    "    MAX_DAYS_GAP = 180  # ~ 6 months\n",
    "\n",
    "    for i in range(1, len(df)):\n",
    "\n",
    "        if (\n",
    "            df.loc[i, 'datesampletaken']\n",
    "            - df.loc[i - 1, 'datesampletaken']\n",
    "        ) > pd.Timedelta(value=MAX_DAYS_GAP, unit='D'):\n",
    "            # have big gap in sample taken dates, so assign to a new group\n",
    "            group_no = group_no + 1\n",
    "            df.loc[i:, 'group'] = group_no\n",
    "        # end if\n",
    "    # end for\n",
    "\n",
    "    return None\n",
    "\n",
    "\n",
    "# end group_by_period"
   ]
  },
  {
   "cell_type": "markdown",
   "id": "17c0fc61-3d9e-4cfd-8b33-d14c204c909d",
   "metadata": {},
   "source": [
    "Example with lines joining datapoints with a big gap supressed."
   ]
  },
  {
   "cell_type": "code",
   "execution_count": 19,
   "id": "2d6ea1fd-e6fa-42e3-869d-ccf8a4abe635",
   "metadata": {},
   "outputs": [
    {
     "data": {
      "text/plain": [
       "<AxesSubplot:xlabel='datesampletaken', ylabel='turbidity_ntu'>"
      ]
     },
     "execution_count": 19,
     "metadata": {},
     "output_type": "execute_result"
    },
    {
     "data": {
      "image/png": "[encoded data removed]",
      "text/plain": [
       "<Figure size 800x200 with 1 Axes>"
      ]
     },
     "metadata": {},
     "output_type": "display_data"
    }
   ],
   "source": [
    "# find  big gaps (>6 months) in plot\n",
    "group_by_period(df_site)\n",
    "\n",
    "#  generate a long narrow strip chart\n",
    "fig, ax = plt.subplots(figsize=(8, 2))\n",
    "\n",
    "\n",
    "# plot the data reading by time as a line\n",
    "# we have grouped the rows into segments with no big time gaps\n",
    "# but we plot each segment the same color (blue)\n",
    "# - see palette parameter in lineplot call\n",
    "sns.lineplot(\n",
    "    x='datesampletaken',\n",
    "    y=val,\n",
    "    data=df_site,\n",
    "    ax=ax,\n",
    "    marker='s',\n",
    "    markersize=3,\n",
    "    markerfacecolor='black',\n",
    "    hue='group',\n",
    "    legend=False,\n",
    "    palette=['blue'] * df_site['group'].max(),\n",
    ")"
   ]
  },
  {
   "cell_type": "markdown",
   "id": "e9c367f6-6d70-45b9-af3f-622294a2b2fa",
   "metadata": {},
   "source": [
    "### Outliers \n",
    "\n",
    "I had a little bit of back-and-forth on the issue of how to treat outliers.  I had a deaply ingrained reluctance to removing them from the graphics. Pondering the issue now, I understand that this situation is not a standard Quality Control graph, where a single outlier can be a sign that a machine tool has been jolted out of alignment, and needs to inspected immediately.\n",
    "\n",
    "Further, none of the physical quantities being  measured have any short-term human safety or health implications.  If we were measuring _E. Coli_, then we would probably urgently move heaven and earth to find the cause of a spike in _E. Coli_ readings.  In this case, the primary purpose of the measurements is to detect long term trends.\n",
    "\n",
    "In the end, we adopted the approach that any readings more than five standard deviations away from the median would be supressed  (the standard deviations are computed using all the data).  \n",
    "\n",
    "The graphs are there to tell a story on long term trends to possibly non-technical volunteers, and showing the outliers would distract from that story. As part of the process of generating graphics for distribution, a report on outliers was also generated, for any more technically oriented people interested."
   ]
  },
  {
   "cell_type": "markdown",
   "id": "faf950b5-0edc-469a-911b-e9d958dd4f87",
   "metadata": {},
   "source": [
    "The code below sets what were outlier values (as defined above) to _NaN_, so that Seaborn doesn't draw them."
   ]
  },
  {
   "cell_type": "code",
   "execution_count": 20,
   "id": "0e8d24b1-b47d-44a8-83ff-ec1a202b24b6",
   "metadata": {},
   "outputs": [],
   "source": [
    "# filter out exterme values from plot\n",
    "# val is set to column name of physical quantity currently being processed\n",
    "EXTREME = 5\n",
    "avg = df_site[val].median()\n",
    "std = df_site[val].std()\n",
    "\n",
    "for i, v in enumerate(df_site[val]):\n",
    "    delta = np.abs(v - avg) / std\n",
    "    if delta > EXTREME:\n",
    "        # set the extreme value to a NaN, so it wont be added to line plot\n",
    "        df_site.loc[i, val] = np.nan\n",
    "    # end if\n",
    "# end for"
   ]
  },
  {
   "cell_type": "markdown",
   "id": "0552e94b-8463-4d1d-93b4-d4214075cc57",
   "metadata": {},
   "source": [
    "#### Final result\n",
    "\n",
    "We plot the data (outliers removed), and also add the median line, and the lines one standard deviation above and below to median.  Because we have added extra lines, we need a legend to explain these."
   ]
  },
  {
   "cell_type": "code",
   "execution_count": 21,
   "id": "bed6993b-3594-4e1d-ba22-a729abdca218",
   "metadata": {},
   "outputs": [
    {
     "data": {
      "text/plain": [
       "Text(0.5, 0, 'Date')"
      ]
     },
     "execution_count": 21,
     "metadata": {},
     "output_type": "execute_result"
    },
    {
     "data": {
      "image/png": "[encoded data removed]",
      "text/plain": [
       "<Figure size 800x200 with 1 Axes>"
      ]
     },
     "metadata": {},
     "output_type": "display_data"
    }
   ],
   "source": [
    "#  generate a long narrow strip chart\n",
    "fig, ax = plt.subplots(figsize=(8, 2))\n",
    "\n",
    "# plot the data reading by time as a line\n",
    "# we have grouped the rows into segments with no big time gaps\n",
    "# but we plot each segment the same color (blue)\n",
    "# - see palette parameter in lineplot call\n",
    "sns.lineplot(\n",
    "    x='datesampletaken',\n",
    "    y=val,\n",
    "    data=df_site,\n",
    "    ax=ax,\n",
    "    marker='s',\n",
    "    markersize=3,\n",
    "    markerfacecolor='black',\n",
    "    hue='group',\n",
    "    legend=False,\n",
    "    palette=['blue'] * df_site['group'].max(),\n",
    ")\n",
    "\n",
    "# get x,y gris\n",
    "ax.grid(axis='both')\n",
    "\n",
    "# add the mean line, and +/- 1 std lines\n",
    "ax.axhline(\n",
    "    y=avg,\n",
    "    color='green',\n",
    "    linestyle='-',\n",
    "    linewidth=2,\n",
    "    alpha=0.5,\n",
    "    label='median',\n",
    ")\n",
    "ax.axhline(\n",
    "    y=avg + std,\n",
    "    color='red',\n",
    "    linestyle='--',\n",
    "    linewidth=1,\n",
    "    alpha=0.5,\n",
    "    label='68% band (upper)',\n",
    ")\n",
    "ax.axhline(\n",
    "    y=avg - std,\n",
    "    color='red',\n",
    "    linestyle='-.',\n",
    "    linewidth=1,\n",
    "    alpha=0.5,\n",
    "    label='68% band (lower)',\n",
    ")\n",
    "\n",
    "# create legend (small)\n",
    "ax.legend(loc='upper left', fontsize=6)\n",
    "\n",
    "# set axis labels\n",
    "ax.set_ylabel(ylabel)\n",
    "ax.set_xlabel('Date')"
   ]
  },
  {
   "cell_type": "markdown",
   "id": "bc3055da-73e0-419f-83fe-99fbfedc9542",
   "metadata": {},
   "source": [
    "### Obligatory cartoon\n",
    "\n",
    "__[This cartoon](https://www.smbc-comics.com/comic/take-it-off)__ has a humorous take on treatment of outliers."
   ]
  },
  {
   "cell_type": "markdown",
   "id": "c816c842-a5ec-470f-87ca-d57414619235",
   "metadata": {},
   "source": [
    "-----------------\n",
    "## Reproducability \n",
    "\n",
    "This section contains information to support reproducing this notebook."
   ]
  },
  {
   "cell_type": "code",
   "execution_count": 22,
   "id": "11fbebc3-f75b-49a8-a74e-a371ac57f6fb",
   "metadata": {},
   "outputs": [
    {
     "name": "stdout",
     "output_type": "stream",
     "text": [
      "current wkg dir: C:\\Users\\donrc\\Documents\\JupyterNotebooks\\PythonNotebookProject\\develop\n",
      "Notebook name: SeabornTweaking.ipynb\n",
      "Notebook run at: 2023-05-22 21:04:56.389783 local time\n",
      "Notebook run at: 2023-05-22 11:04:56.389783 UTC\n",
      "Notebook run on: Windows-10-10.0.19045-SP0\n"
     ]
    }
   ],
   "source": [
    "theNotebook = 'SeabornTweaking.ipynb'\n",
    "\n",
    "print('current wkg dir: ' + os.getcwd())\n",
    "print('Notebook name: ' + theNotebook)\n",
    "print(\n",
    "    'Notebook run at: '\n",
    "    + str(datetime.datetime.now())\n",
    "    + ' local time'\n",
    ")\n",
    "print(\n",
    "    'Notebook run at: '\n",
    "    + str(datetime.datetime.utcnow())\n",
    "    + ' UTC'\n",
    ")\n",
    "print('Notebook run on: ' + platform.platform())"
   ]
  },
  {
   "cell_type": "code",
   "execution_count": 23,
   "id": "3708a694-440a-4a58-afe9-01e8271fecbb",
   "metadata": {},
   "outputs": [
    {
     "name": "stdout",
     "output_type": "stream",
     "text": [
      "Last updated: 2023-05-22T21:04:56.421784+10:00\n",
      "\n",
      "Python implementation: CPython\n",
      "Python version       : 3.9.13\n",
      "IPython version      : 7.31.1\n",
      "\n",
      "Compiler    : MSC v.1916 64 bit (AMD64)\n",
      "OS          : Windows\n",
      "Release     : 10\n",
      "Machine     : AMD64\n",
      "Processor   : Intel64 Family 6 Model 94 Stepping 3, GenuineIntel\n",
      "CPU cores   : 8\n",
      "Architecture: 64bit\n",
      "\n"
     ]
    }
   ],
   "source": [
    "%watermark"
   ]
  },
  {
   "cell_type": "code",
   "execution_count": 24,
   "id": "b3eedb25-6ec1-4d88-82a9-ca6ca6855feb",
   "metadata": {},
   "outputs": [
    {
     "name": "stdout",
     "output_type": "stream",
     "text": [
      "conda environment: D:\\Anaconda2022\n",
      "\n"
     ]
    }
   ],
   "source": [
    "%watermark -co"
   ]
  },
  {
   "cell_type": "code",
   "execution_count": 25,
   "id": "7de010fd-b54f-45c2-8742-64f16c3e6236",
   "metadata": {},
   "outputs": [
    {
     "name": "stdout",
     "output_type": "stream",
     "text": [
      "seaborn   : 0.11.2\n",
      "matplotlib: 3.5.2\n",
      "pandas    : 1.4.4\n",
      "numpy     : 1.21.5\n",
      "sys       : 3.9.13 (main, Aug 25 2022, 23:51:50) [MSC v.1916 64 bit (AMD64)]\n",
      "platform  : 1.0.8\n",
      "\n"
     ]
    }
   ],
   "source": [
    "%watermark -iv"
   ]
  },
  {
   "cell_type": "code",
   "execution_count": null,
   "id": "b925b147-2177-4265-9c97-d743f94b0af3",
   "metadata": {},
   "outputs": [],
   "source": []
  }
 ],
 "metadata": {
  "kernelspec": {
   "display_name": "Python 3 (ipykernel)",
   "language": "python",
   "name": "python3"
  },
  "language_info": {
   "codemirror_mode": {
    "name": "ipython",
    "version": 3
   },
   "file_extension": ".py",
   "mimetype": "text/x-python",
   "name": "python",
   "nbconvert_exporter": "python",
   "pygments_lexer": "ipython3",
   "version": "3.9.13"
  }
 },
 "nbformat": 4,
 "nbformat_minor": 5
}
