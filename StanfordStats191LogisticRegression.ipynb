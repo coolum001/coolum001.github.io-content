{
 "cells": [
  {
   "cell_type": "markdown",
   "metadata": {},
   "source": [
    "\n",
    "# Stanford Stats 191 \n",
    "\n",
    "## Introduction\n",
    "\n",
    "This is a re-creation of the Stanford Stats 191 course, using Python eco-system tools, instead of R. This is lecture \"Logistic: \" ( see https://web.stanford.edu/class/stats191/notebooks/Logistic.html )"
   ]
  },
  {
   "cell_type": "markdown",
   "metadata": {},
   "source": [
    "## Initial Notebook Setup\n",
    "\n",
    "```watermark``` documents the Python and package environment, ```black``` is my chosen Python formatter"
   ]
  },
  {
   "cell_type": "code",
   "execution_count": 180,
   "metadata": {},
   "outputs": [
    {
     "name": "stdout",
     "output_type": "stream",
     "text": [
      "The watermark extension is already loaded. To reload it, use:\n",
      "  %reload_ext watermark\n"
     ]
    }
   ],
   "source": [
    "%load_ext watermark"
   ]
  },
  {
   "cell_type": "code",
   "execution_count": 181,
   "metadata": {},
   "outputs": [],
   "source": [
    "%reload_ext lab_black"
   ]
  },
  {
   "cell_type": "code",
   "execution_count": 182,
   "metadata": {},
   "outputs": [],
   "source": [
    "%matplotlib inline"
   ]
  },
  {
   "cell_type": "code",
   "execution_count": 183,
   "metadata": {},
   "outputs": [],
   "source": [
    "import pandas as pd\n",
    "import numpy as np\n",
    "import seaborn as sn\n",
    "\n",
    "import math\n",
    "\n",
    "import warnings\n",
    "\n",
    "import matplotlib.pyplot as plt\n",
    "from mpl_toolkits.mplot3d import Axes3D\n",
    "\n",
    "from scipy import stats\n",
    "from statsmodels.formula.api import logit\n",
    "from statsmodels.formula.api import probit\n",
    "from statsmodels.formula.api import glm\n",
    "\n",
    "\n",
    "import statsmodels.api as sm\n",
    "\n",
    "import os"
   ]
  },
  {
   "cell_type": "markdown",
   "metadata": {},
   "source": [
    "----\n",
    "## Initial Exploration\n",
    "\n",
    "In order to make sure that I understood the ```statsmodels``` API, I applied the API to the example given in Wikipedia (https://en.wikipedia.org/wiki/Logistic_regression)\n",
    "\n",
    "We have a dataset that relates hours studied to the PASS / FAIL result in an exam.\n",
    "\n",
    "\n",
    "Note that the result (dependent variable) is a binary choice, and hence linear regression would not be an appropriate method"
   ]
  },
  {
   "cell_type": "code",
   "execution_count": 184,
   "metadata": {},
   "outputs": [],
   "source": [
    "Hours = [\n",
    "    0.50,\n",
    "    0.75,\n",
    "    1.00,\n",
    "    1.25,\n",
    "    1.50,\n",
    "    1.75,\n",
    "    1.75,\n",
    "    2.00,\n",
    "    2.25,\n",
    "    2.50,\n",
    "    2.75,\n",
    "    3.00,\n",
    "    3.25,\n",
    "    3.50,\n",
    "    4.0,\n",
    "    4.25,\n",
    "    4.50,\n",
    "    4.75,\n",
    "    5.00,\n",
    "    5.50,\n",
    "]\n",
    "Pass = [\n",
    "    0,\n",
    "    0,\n",
    "    0,\n",
    "    0,\n",
    "    0,\n",
    "    0,\n",
    "    1,\n",
    "    0,\n",
    "    1,\n",
    "    0,\n",
    "    1,\n",
    "    0,\n",
    "    1,\n",
    "    0,\n",
    "    1,\n",
    "    1,\n",
    "    1,\n",
    "    1,\n",
    "    1,\n",
    "    1,\n",
    "]"
   ]
  },
  {
   "cell_type": "markdown",
   "metadata": {},
   "source": [
    "Create a ```pandas``` dataframe"
   ]
  },
  {
   "cell_type": "code",
   "execution_count": 185,
   "metadata": {},
   "outputs": [
    {
     "data": {
      "text/html": [
       "<div>\n",
       "<style scoped>\n",
       "    .dataframe tbody tr th:only-of-type {\n",
       "        vertical-align: middle;\n",
       "    }\n",
       "\n",
       "    .dataframe tbody tr th {\n",
       "        vertical-align: top;\n",
       "    }\n",
       "\n",
       "    .dataframe thead th {\n",
       "        text-align: right;\n",
       "    }\n",
       "</style>\n",
       "<table border=\"1\" class=\"dataframe\">\n",
       "  <thead>\n",
       "    <tr style=\"text-align: right;\">\n",
       "      <th></th>\n",
       "      <th>Hours</th>\n",
       "      <th>Pass</th>\n",
       "    </tr>\n",
       "  </thead>\n",
       "  <tbody>\n",
       "    <tr>\n",
       "      <th>0</th>\n",
       "      <td>0.50</td>\n",
       "      <td>0</td>\n",
       "    </tr>\n",
       "    <tr>\n",
       "      <th>1</th>\n",
       "      <td>0.75</td>\n",
       "      <td>0</td>\n",
       "    </tr>\n",
       "    <tr>\n",
       "      <th>2</th>\n",
       "      <td>1.00</td>\n",
       "      <td>0</td>\n",
       "    </tr>\n",
       "    <tr>\n",
       "      <th>3</th>\n",
       "      <td>1.25</td>\n",
       "      <td>0</td>\n",
       "    </tr>\n",
       "    <tr>\n",
       "      <th>4</th>\n",
       "      <td>1.50</td>\n",
       "      <td>0</td>\n",
       "    </tr>\n",
       "  </tbody>\n",
       "</table>\n",
       "</div>"
      ],
      "text/plain": [
       "   Hours  Pass\n",
       "0   0.50     0\n",
       "1   0.75     0\n",
       "2   1.00     0\n",
       "3   1.25     0\n",
       "4   1.50     0"
      ]
     },
     "execution_count": 185,
     "metadata": {},
     "output_type": "execute_result"
    }
   ],
   "source": [
    "exam_dict = {'Hours': Hours, 'Pass': Pass}\n",
    "\n",
    "exam = pd.DataFrame(exam_dict)\n",
    "\n",
    "exam.head()"
   ]
  },
  {
   "cell_type": "markdown",
   "metadata": {},
   "source": [
    "Use the ```statsmodels``` formula API to perform Logistic Regression."
   ]
  },
  {
   "cell_type": "code",
   "execution_count": 186,
   "metadata": {},
   "outputs": [
    {
     "name": "stdout",
     "output_type": "stream",
     "text": [
      "Optimization terminated successfully.\n",
      "         Current function value: 0.401494\n",
      "         Iterations 7\n"
     ]
    },
    {
     "data": {
      "text/html": [
       "<table class=\"simpletable\">\n",
       "<caption>Logit Regression Results</caption>\n",
       "<tr>\n",
       "  <th>Dep. Variable:</th>       <td>Pass</td>       <th>  No. Observations:  </th>  <td>    20</td>  \n",
       "</tr>\n",
       "<tr>\n",
       "  <th>Model:</th>               <td>Logit</td>      <th>  Df Residuals:      </th>  <td>    18</td>  \n",
       "</tr>\n",
       "<tr>\n",
       "  <th>Method:</th>               <td>MLE</td>       <th>  Df Model:          </th>  <td>     1</td>  \n",
       "</tr>\n",
       "<tr>\n",
       "  <th>Date:</th>          <td>Thu, 21 May 2020</td> <th>  Pseudo R-squ.:     </th>  <td>0.4208</td>  \n",
       "</tr>\n",
       "<tr>\n",
       "  <th>Time:</th>              <td>18:49:15</td>     <th>  Log-Likelihood:    </th> <td> -8.0299</td> \n",
       "</tr>\n",
       "<tr>\n",
       "  <th>converged:</th>           <td>True</td>       <th>  LL-Null:           </th> <td> -13.863</td> \n",
       "</tr>\n",
       "<tr>\n",
       "  <th> </th>                      <td> </td>        <th>  LLR p-value:       </th> <td>0.0006365</td>\n",
       "</tr>\n",
       "</table>\n",
       "<table class=\"simpletable\">\n",
       "<tr>\n",
       "      <td></td>         <th>coef</th>     <th>std err</th>      <th>z</th>      <th>P>|z|</th>  <th>[0.025</th>    <th>0.975]</th>  \n",
       "</tr>\n",
       "<tr>\n",
       "  <th>Intercept</th> <td>   -4.0777</td> <td>    1.761</td> <td>   -2.316</td> <td> 0.021</td> <td>   -7.529</td> <td>   -0.626</td>\n",
       "</tr>\n",
       "<tr>\n",
       "  <th>Hours</th>     <td>    1.5046</td> <td>    0.629</td> <td>    2.393</td> <td> 0.017</td> <td>    0.272</td> <td>    2.737</td>\n",
       "</tr>\n",
       "</table>"
      ],
      "text/plain": [
       "<class 'statsmodels.iolib.summary.Summary'>\n",
       "\"\"\"\n",
       "                           Logit Regression Results                           \n",
       "==============================================================================\n",
       "Dep. Variable:                   Pass   No. Observations:                   20\n",
       "Model:                          Logit   Df Residuals:                       18\n",
       "Method:                           MLE   Df Model:                            1\n",
       "Date:                Thu, 21 May 2020   Pseudo R-squ.:                  0.4208\n",
       "Time:                        18:49:15   Log-Likelihood:                -8.0299\n",
       "converged:                       True   LL-Null:                       -13.863\n",
       "                                        LLR p-value:                 0.0006365\n",
       "==============================================================================\n",
       "                 coef    std err          z      P>|z|      [0.025      0.975]\n",
       "------------------------------------------------------------------------------\n",
       "Intercept     -4.0777      1.761     -2.316      0.021      -7.529      -0.626\n",
       "Hours          1.5046      0.629      2.393      0.017       0.272       2.737\n",
       "==============================================================================\n",
       "\"\"\""
      ]
     },
     "execution_count": 186,
     "metadata": {},
     "output_type": "execute_result"
    }
   ],
   "source": [
    "res = logit('Pass ~ Hours', data=exam).fit()\n",
    "\n",
    "res.summary()"
   ]
  },
  {
   "cell_type": "markdown",
   "metadata": {},
   "source": [
    "Do a quick plot to show the raw data and the results"
   ]
  },
  {
   "cell_type": "code",
   "execution_count": 187,
   "metadata": {},
   "outputs": [
    {
     "data": {
      "image/png": "[encoded data removed]",
      "text/plain": [
       "<Figure size 432x288 with 1 Axes>"
      ]
     },
     "metadata": {
      "needs_background": "light"
     },
     "output_type": "display_data"
    }
   ],
   "source": [
    "_ = plt.plot(\n",
    "    exam['Hours'], res.predict(), 'o', label='Predicted'\n",
    ")\n",
    "_ = plt.plot(\n",
    "    exam['Hours'], exam['Pass'], 'r+', label='Data'\n",
    ")\n",
    "_ = plt.legend(loc='center left')"
   ]
  },
  {
   "cell_type": "markdown",
   "metadata": {},
   "source": [
    "Compare the probability of passing for two students (one studied for 2 hours, the latter for 4 hours)"
   ]
  },
  {
   "cell_type": "code",
   "execution_count": 188,
   "metadata": {},
   "outputs": [
    {
     "data": {
      "text/plain": [
       "0    0.255703\n",
       "1    0.874448\n",
       "dtype: float64"
      ]
     },
     "execution_count": 188,
     "metadata": {},
     "output_type": "execute_result"
    }
   ],
   "source": [
    "xx = {'Hours': [2, 4]}\n",
    "xx_df = pd.DataFrame(xx)\n",
    "res.predict(xx_df)"
   ]
  },
  {
   "cell_type": "code",
   "execution_count": 189,
   "metadata": {},
   "outputs": [
    {
     "data": {
      "text/plain": [
       "0.25570318264090985"
      ]
     },
     "execution_count": 189,
     "metadata": {},
     "output_type": "execute_result"
    }
   ],
   "source": [
    "hours = 2\n",
    "prob = 1.0 / (\n",
    "    1.0 + np.exp(-(res.params[0] + res.params[1] * hours))\n",
    ")\n",
    "prob"
   ]
  },
  {
   "cell_type": "markdown",
   "metadata": {},
   "source": [
    "The second variant of the summary function doesn't seem to be much different (?)"
   ]
  },
  {
   "cell_type": "code",
   "execution_count": 190,
   "metadata": {},
   "outputs": [
    {
     "data": {
      "text/html": [
       "<table class=\"simpletable\">\n",
       "<tr>\n",
       "        <td>Model:</td>              <td>Logit</td>      <td>Pseudo R-squared:</td>    <td>0.421</td>  \n",
       "</tr>\n",
       "<tr>\n",
       "  <td>Dependent Variable:</td>       <td>Pass</td>             <td>AIC:</td>          <td>20.0598</td> \n",
       "</tr>\n",
       "<tr>\n",
       "         <td>Date:</td>        <td>2020-05-21 18:49</td>       <td>BIC:</td>          <td>22.0512</td> \n",
       "</tr>\n",
       "<tr>\n",
       "   <td>No. Observations:</td>         <td>20</td>         <td>Log-Likelihood:</td>    <td>-8.0299</td> \n",
       "</tr>\n",
       "<tr>\n",
       "       <td>Df Model:</td>              <td>1</td>            <td>LL-Null:</td>        <td>-13.863</td> \n",
       "</tr>\n",
       "<tr>\n",
       "     <td>Df Residuals:</td>           <td>18</td>          <td>LLR p-value:</td>    <td>0.00063648</td>\n",
       "</tr>\n",
       "<tr>\n",
       "      <td>Converged:</td>           <td>1.0000</td>           <td>Scale:</td>         <td>1.0000</td>  \n",
       "</tr>\n",
       "<tr>\n",
       "    <td>No. Iterations:</td>        <td>7.0000</td>              <td></td>               <td></td>     \n",
       "</tr>\n",
       "</table>\n",
       "<table class=\"simpletable\">\n",
       "<tr>\n",
       "      <td></td>       <th>Coef.</th>  <th>Std.Err.</th>    <th>z</th>     <th>P>|z|</th> <th>[0.025</th>  <th>0.975]</th> \n",
       "</tr>\n",
       "<tr>\n",
       "  <th>Intercept</th> <td>-4.0777</td>  <td>1.7610</td>  <td>-2.3156</td> <td>0.0206</td> <td>-7.5292</td> <td>-0.6262</td>\n",
       "</tr>\n",
       "<tr>\n",
       "  <th>Hours</th>     <td>1.5046</td>   <td>0.6287</td>  <td>2.3932</td>  <td>0.0167</td> <td>0.2724</td>  <td>2.7369</td> \n",
       "</tr>\n",
       "</table>"
      ],
      "text/plain": [
       "<class 'statsmodels.iolib.summary2.Summary'>\n",
       "\"\"\"\n",
       "                         Results: Logit\n",
       "=================================================================\n",
       "Model:              Logit            Pseudo R-squared: 0.421     \n",
       "Dependent Variable: Pass             AIC:              20.0598   \n",
       "Date:               2020-05-21 18:49 BIC:              22.0512   \n",
       "No. Observations:   20               Log-Likelihood:   -8.0299   \n",
       "Df Model:           1                LL-Null:          -13.863   \n",
       "Df Residuals:       18               LLR p-value:      0.00063648\n",
       "Converged:          1.0000           Scale:            1.0000    \n",
       "No. Iterations:     7.0000                                       \n",
       "------------------------------------------------------------------\n",
       "               Coef.   Std.Err.     z     P>|z|    [0.025   0.975]\n",
       "------------------------------------------------------------------\n",
       "Intercept     -4.0777    1.7610  -2.3156  0.0206  -7.5292  -0.6262\n",
       "Hours          1.5046    0.6287   2.3932  0.0167   0.2724   2.7369\n",
       "=================================================================\n",
       "\n",
       "\"\"\""
      ]
     },
     "execution_count": 190,
     "metadata": {},
     "output_type": "execute_result"
    }
   ],
   "source": [
    "res.summary2()"
   ]
  },
  {
   "cell_type": "markdown",
   "metadata": {},
   "source": [
    "---\n",
    "### Probit\n",
    "\n",
    "In order to analyse binary data, and interprete the predictions as probability / odds / likelihood of success or failure, we want a function that ranges from 0 to 1, and has a steep transition, and has tractible mathematical properties.  The usual function is the logistic function, as shown below."
   ]
  },
  {
   "cell_type": "markdown",
   "metadata": {},
   "source": [
    "$$f(x) = \\frac{L}{1 + e^{-k(x-x_0)}}$$"
   ]
  },
  {
   "cell_type": "markdown",
   "metadata": {},
   "source": [
    "Some areas of analysis use the Probit function, being the Cumulative Distribution Function (CDF) of the standard normal distribution.\n",
    "\n",
    "To quote https://tutorials.methodsconsultants.com/posts/what-is-the-difference-between-logit-and-probit-models/\n",
    "\n",
    "    logistic regression – is more popular in health sciences like epidemiology partly because coefficients can be interpreted in terms of odds ratios. Probit models can be generalized to account for non-constant error variances in more advanced econometric settings (known as heteroskedastic probit models) and hence are used in some contexts by economists and political scientists."
   ]
  },
  {
   "cell_type": "markdown",
   "metadata": {},
   "source": [
    "```statsmodels``` supports Probit models"
   ]
  },
  {
   "cell_type": "code",
   "execution_count": 191,
   "metadata": {},
   "outputs": [
    {
     "name": "stdout",
     "output_type": "stream",
     "text": [
      "Optimization terminated successfully.\n",
      "         Current function value: 0.394887\n",
      "         Iterations 6\n"
     ]
    },
    {
     "data": {
      "text/html": [
       "<table class=\"simpletable\">\n",
       "<caption>Probit Regression Results</caption>\n",
       "<tr>\n",
       "  <th>Dep. Variable:</th>       <td>Pass</td>       <th>  No. Observations:  </th>  <td>    20</td>  \n",
       "</tr>\n",
       "<tr>\n",
       "  <th>Model:</th>              <td>Probit</td>      <th>  Df Residuals:      </th>  <td>    18</td>  \n",
       "</tr>\n",
       "<tr>\n",
       "  <th>Method:</th>               <td>MLE</td>       <th>  Df Model:          </th>  <td>     1</td>  \n",
       "</tr>\n",
       "<tr>\n",
       "  <th>Date:</th>          <td>Thu, 21 May 2020</td> <th>  Pseudo R-squ.:     </th>  <td>0.4303</td>  \n",
       "</tr>\n",
       "<tr>\n",
       "  <th>Time:</th>              <td>18:49:16</td>     <th>  Log-Likelihood:    </th> <td> -7.8977</td> \n",
       "</tr>\n",
       "<tr>\n",
       "  <th>converged:</th>           <td>True</td>       <th>  LL-Null:           </th> <td> -13.863</td> \n",
       "</tr>\n",
       "<tr>\n",
       "  <th> </th>                      <td> </td>        <th>  LLR p-value:       </th> <td>0.0005522</td>\n",
       "</tr>\n",
       "</table>\n",
       "<table class=\"simpletable\">\n",
       "<tr>\n",
       "      <td></td>         <th>coef</th>     <th>std err</th>      <th>z</th>      <th>P>|z|</th>  <th>[0.025</th>    <th>0.975]</th>  \n",
       "</tr>\n",
       "<tr>\n",
       "  <th>Intercept</th> <td>   -2.4728</td> <td>    0.984</td> <td>   -2.514</td> <td> 0.012</td> <td>   -4.401</td> <td>   -0.545</td>\n",
       "</tr>\n",
       "<tr>\n",
       "  <th>Hours</th>     <td>    0.9127</td> <td>    0.351</td> <td>    2.601</td> <td> 0.009</td> <td>    0.225</td> <td>    1.600</td>\n",
       "</tr>\n",
       "</table>"
      ],
      "text/plain": [
       "<class 'statsmodels.iolib.summary.Summary'>\n",
       "\"\"\"\n",
       "                          Probit Regression Results                           \n",
       "==============================================================================\n",
       "Dep. Variable:                   Pass   No. Observations:                   20\n",
       "Model:                         Probit   Df Residuals:                       18\n",
       "Method:                           MLE   Df Model:                            1\n",
       "Date:                Thu, 21 May 2020   Pseudo R-squ.:                  0.4303\n",
       "Time:                        18:49:16   Log-Likelihood:                -7.8977\n",
       "converged:                       True   LL-Null:                       -13.863\n",
       "                                        LLR p-value:                 0.0005522\n",
       "==============================================================================\n",
       "                 coef    std err          z      P>|z|      [0.025      0.975]\n",
       "------------------------------------------------------------------------------\n",
       "Intercept     -2.4728      0.984     -2.514      0.012      -4.401      -0.545\n",
       "Hours          0.9127      0.351      2.601      0.009       0.225       1.600\n",
       "==============================================================================\n",
       "\"\"\""
      ]
     },
     "execution_count": 191,
     "metadata": {},
     "output_type": "execute_result"
    }
   ],
   "source": [
    "res2 = probit('Pass ~ Hours', data=exam).fit()\n",
    "res2.summary()"
   ]
  },
  {
   "cell_type": "markdown",
   "metadata": {},
   "source": [
    "Display the predictions versus actual data"
   ]
  },
  {
   "cell_type": "code",
   "execution_count": 192,
   "metadata": {},
   "outputs": [
    {
     "data": {
      "image/png": "[encoded data removed]",
      "text/plain": [
       "<Figure size 432x288 with 1 Axes>"
      ]
     },
     "metadata": {
      "needs_background": "light"
     },
     "output_type": "display_data"
    }
   ],
   "source": [
    "_ = plt.plot(exam['Hours'], res2.predict(), 'o')\n",
    "_ = plt.plot(exam['Hours'], exam['Pass'], 'r+')"
   ]
  },
  {
   "cell_type": "markdown",
   "metadata": {},
   "source": [
    "The difference between the Logistic and Probit models for the exam dataset is minimal"
   ]
  },
  {
   "cell_type": "code",
   "execution_count": 193,
   "metadata": {},
   "outputs": [
    {
     "data": {
      "image/png": "[encoded data removed]",
      "text/plain": [
       "<Figure size 432x288 with 1 Axes>"
      ]
     },
     "metadata": {
      "needs_background": "light"
     },
     "output_type": "display_data"
    }
   ],
   "source": [
    "_ = plt.plot(\n",
    "    exam['Hours'], res.predict() - res2.predict(), 'r+'\n",
    ")\n",
    "_ = plt.axhline(0, color='black')"
   ]
  },
  {
   "cell_type": "markdown",
   "metadata": {},
   "source": [
    "---\n",
    "## Confidence Intervals\n",
    "\n",
    "At https://stackoverflow.com/questions/47414842/confidence-interval-of-probability-prediction-from-logistic-regression-statsmode,  there is a very good discussion of Confidence Intervals in the Logit Model.  I was not able to reproduce the results of the R functions used in the lecture notes\n",
    "\n",
    "###  Approach 1\n",
    "\n",
    "This is a very mis-guided approach, assuming that the normality of the parameters of our linear model input to the logistic function.  The ```conf-int``` method returns the CI limits for these parameters"
   ]
  },
  {
   "cell_type": "code",
   "execution_count": 194,
   "metadata": {},
   "outputs": [
    {
     "data": {
      "text/html": [
       "<table class=\"simpletable\">\n",
       "<caption>Logit Regression Results</caption>\n",
       "<tr>\n",
       "  <th>Dep. Variable:</th>       <td>Pass</td>       <th>  No. Observations:  </th>  <td>    20</td>  \n",
       "</tr>\n",
       "<tr>\n",
       "  <th>Model:</th>               <td>Logit</td>      <th>  Df Residuals:      </th>  <td>    18</td>  \n",
       "</tr>\n",
       "<tr>\n",
       "  <th>Method:</th>               <td>MLE</td>       <th>  Df Model:          </th>  <td>     1</td>  \n",
       "</tr>\n",
       "<tr>\n",
       "  <th>Date:</th>          <td>Thu, 21 May 2020</td> <th>  Pseudo R-squ.:     </th>  <td>0.4208</td>  \n",
       "</tr>\n",
       "<tr>\n",
       "  <th>Time:</th>              <td>18:49:16</td>     <th>  Log-Likelihood:    </th> <td> -8.0299</td> \n",
       "</tr>\n",
       "<tr>\n",
       "  <th>converged:</th>           <td>True</td>       <th>  LL-Null:           </th> <td> -13.863</td> \n",
       "</tr>\n",
       "<tr>\n",
       "  <th> </th>                      <td> </td>        <th>  LLR p-value:       </th> <td>0.0006365</td>\n",
       "</tr>\n",
       "</table>\n",
       "<table class=\"simpletable\">\n",
       "<tr>\n",
       "      <td></td>         <th>coef</th>     <th>std err</th>      <th>z</th>      <th>P>|z|</th>  <th>[0.025</th>    <th>0.975]</th>  \n",
       "</tr>\n",
       "<tr>\n",
       "  <th>Intercept</th> <td>   -4.0777</td> <td>    1.761</td> <td>   -2.316</td> <td> 0.021</td> <td>   -7.529</td> <td>   -0.626</td>\n",
       "</tr>\n",
       "<tr>\n",
       "  <th>Hours</th>     <td>    1.5046</td> <td>    0.629</td> <td>    2.393</td> <td> 0.017</td> <td>    0.272</td> <td>    2.737</td>\n",
       "</tr>\n",
       "</table>"
      ],
      "text/plain": [
       "<class 'statsmodels.iolib.summary.Summary'>\n",
       "\"\"\"\n",
       "                           Logit Regression Results                           \n",
       "==============================================================================\n",
       "Dep. Variable:                   Pass   No. Observations:                   20\n",
       "Model:                          Logit   Df Residuals:                       18\n",
       "Method:                           MLE   Df Model:                            1\n",
       "Date:                Thu, 21 May 2020   Pseudo R-squ.:                  0.4208\n",
       "Time:                        18:49:16   Log-Likelihood:                -8.0299\n",
       "converged:                       True   LL-Null:                       -13.863\n",
       "                                        LLR p-value:                 0.0006365\n",
       "==============================================================================\n",
       "                 coef    std err          z      P>|z|      [0.025      0.975]\n",
       "------------------------------------------------------------------------------\n",
       "Intercept     -4.0777      1.761     -2.316      0.021      -7.529      -0.626\n",
       "Hours          1.5046      0.629      2.393      0.017       0.272       2.737\n",
       "==============================================================================\n",
       "\"\"\""
      ]
     },
     "execution_count": 194,
     "metadata": {},
     "output_type": "execute_result"
    }
   ],
   "source": [
    "res.summary()"
   ]
  },
  {
   "cell_type": "code",
   "execution_count": 195,
   "metadata": {},
   "outputs": [
    {
     "name": "stdout",
     "output_type": "stream",
     "text": [
      "                  0         1\n",
      "Intercept -7.529199 -0.626228\n",
      "Hours      0.272375  2.736916\n"
     ]
    },
    {
     "data": {
      "image/png": "[encoded data removed]",
      "text/plain": [
       "<Figure size 432x288 with 1 Axes>"
      ]
     },
     "metadata": {
      "needs_background": "light"
     },
     "output_type": "display_data"
    }
   ],
   "source": [
    "h = np.linspace(0, 6, 20)\n",
    "\n",
    "ci = res.conf_int(0.05)\n",
    "print(ci)\n",
    "lower = ci[0]\n",
    "upper = ci[1]\n",
    "prob1 = 1 / (1 + np.exp(-(ci[0][0] + ci[0][1] * h)))\n",
    "prob2 = 1 / (1 + np.exp(-(ci[1][0] + ci[1][1] * h)))\n",
    "\n",
    "_ = plt.plot(h, prob1, 'r-')\n",
    "_ = plt.plot(h, prob2, 'g-')\n",
    "_ = plt.plot(exam['Hours'], res.predict(), 'o')"
   ]
  },
  {
   "cell_type": "markdown",
   "metadata": {},
   "source": [
    "As you can see, the results are close to meaningless"
   ]
  },
  {
   "cell_type": "markdown",
   "metadata": {},
   "source": [
    "---\n",
    "### Delta Approach\n",
    "\n",
    "The delta method assumes predicted probabilities are normal\n",
    "\n",
    "Run the regression again, using the object API"
   ]
  },
  {
   "cell_type": "code",
   "execution_count": 196,
   "metadata": {},
   "outputs": [
    {
     "name": "stdout",
     "output_type": "stream",
     "text": [
      "Optimization terminated successfully.\n",
      "         Current function value: 0.401494\n",
      "         Iterations 7\n"
     ]
    },
    {
     "data": {
      "image/png": "[encoded data removed]",
      "text/plain": [
       "<Figure size 432x288 with 1 Axes>"
      ]
     },
     "metadata": {
      "needs_background": "light"
     },
     "output_type": "display_data"
    }
   ],
   "source": [
    "x = np.array(exam['Hours'])\n",
    "X = sm.add_constant(x)\n",
    "y = exam['Pass']\n",
    "\n",
    "model = sm.Logit(y, X).fit()\n",
    "proba = model.predict(X)\n",
    "\n",
    "_ = plt.plot(x, proba, 'o', label='Prediction')\n",
    "_ = plt.plot(x, y, 'r+', label='Actual')\n",
    "_ = plt.legend(loc='center left')"
   ]
  },
  {
   "cell_type": "markdown",
   "metadata": {},
   "source": [
    "Code taken from the reference above"
   ]
  },
  {
   "cell_type": "code",
   "execution_count": 197,
   "metadata": {},
   "outputs": [],
   "source": [
    "# estimate confidence interval for predicted probabilities\n",
    "cov = model.cov_params()\n",
    "gradient = (\n",
    "    proba * (1 - proba) * X.T\n",
    ").T  # matrix of gradients for each observation\n",
    "std_errors = np.array(\n",
    "    [np.sqrt(np.dot(np.dot(g, cov), g)) for g in gradient]\n",
    ")\n",
    "c = 1.96  # multiplier for confidence interval\n",
    "upper = np.maximum(0, np.minimum(1, proba + std_errors * c))\n",
    "lower = np.maximum(0, np.minimum(1, proba - std_errors * c))"
   ]
  },
  {
   "cell_type": "code",
   "execution_count": 198,
   "metadata": {},
   "outputs": [
    {
     "data": {
      "image/png": "[encoded data removed]",
      "text/plain": [
       "<Figure size 432x288 with 1 Axes>"
      ]
     },
     "metadata": {
      "needs_background": "light"
     },
     "output_type": "display_data"
    }
   ],
   "source": [
    "_ = plt.plot(x, proba, 'o', label='Prediction')\n",
    "_ = plt.plot(x, upper, 'g-', label='Upper 95% CI')\n",
    "_ = plt.plot(x, lower, 'r-', label='Lower 95% CI')\n",
    "_ = plt.legend(loc='upper left')"
   ]
  },
  {
   "cell_type": "markdown",
   "metadata": {},
   "source": [
    "This time the results accord more with my intuition"
   ]
  },
  {
   "cell_type": "markdown",
   "metadata": {},
   "source": [
    "----\n",
    "### Bootstrap Approach\n",
    "\n",
    "In this approach we sample the original dataset with replacement, and get an empirical assessment of the spread in predictions. For each sample, we fit a model, and predict the response.\n",
    "\n",
    "Some Gotcha-s:\n",
    "\n",
    "* sampling a small dataset of Logistic regression data can lead to ```PerfectSeparationError``` errors: there is no overlap in Pass / Fail subsets\n",
    "\n",
    "* we can get Linear Algebra Warnings  (I think a result of our small dataset)\n",
    "\n",
    "* ```statsmodels``` issues warning about the models we subsequently throw away.  We have to shut these warning off\n",
    "\n",
    "We throw any bad sample datasets away, and move on.  At the end we use ```numpy``` to get the 95% range of prediction values\n"
   ]
  },
  {
   "cell_type": "code",
   "execution_count": 199,
   "metadata": {},
   "outputs": [
    {
     "name": "stdout",
     "output_type": "stream",
     "text": [
      "976 samples were processed\n"
     ]
    },
    {
     "data": {
      "image/png": "[encoded data removed]",
      "text/plain": [
       "<Figure size 432x288 with 1 Axes>"
      ]
     },
     "metadata": {
      "needs_background": "light"
     },
     "output_type": "display_data"
    }
   ],
   "source": [
    "# Turn off statsmodels warnings\n",
    "with warnings.catch_warnings():\n",
    "    warnings.filterwarnings(\"ignore\")\n",
    "\n",
    "    x = np.array(exam['Hours'])\n",
    "    X = sm.add_constant(x)\n",
    "    y = exam['Pass']\n",
    "\n",
    "    # preds holds the predictions for each sub-sample\n",
    "    preds = []\n",
    "\n",
    "    # count holds successful fit run count\n",
    "    count = 0\n",
    "    for trial in range(1000):\n",
    "\n",
    "        # get sub-sample\n",
    "        exam_sample = exam.sample(frac=1, replace=True)\n",
    "\n",
    "        # fit and predict\n",
    "        try:\n",
    "            x_sample = np.array(exam_sample['Hours'])\n",
    "            X_sample = sm.add_constant(x_sample)\n",
    "            y_sample = exam_sample['Pass']\n",
    "            # disp=0 will suppress suprious convergece message\n",
    "            res_sample = sm.Logit(y_sample, X_sample).fit(\n",
    "                disp=0\n",
    "            )\n",
    "            preds.append(res_sample.predict(X))\n",
    "            count = count + 1\n",
    "        except:\n",
    "            pass\n",
    "        # end try\n",
    "    # end for\n",
    "\n",
    "    print(f'{count} samples were processed')\n",
    "\n",
    "    # get array of predictions into numpy format\n",
    "    predictions_array = np.array(preds)\n",
    "\n",
    "    _ = plt.plot(\n",
    "        exam['Hours'], exam['Pass'], 'r+', label='Actuals'\n",
    "    )\n",
    "    _ = plt.plot(\n",
    "        exam['Hours'],\n",
    "        res.predict(),\n",
    "        'o',\n",
    "        label='Predictions',\n",
    "    )\n",
    "    _ = plt.plot(\n",
    "        exam['Hours'],\n",
    "        np.percentile(predictions_array, 97.5, axis=0),\n",
    "        'g-',\n",
    "        label='95% CI limit',\n",
    "    )\n",
    "    _ = plt.plot(\n",
    "        exam['Hours'],\n",
    "        np.percentile(predictions_array, 2.5, axis=0),\n",
    "        'r-',\n",
    "        label='95% CI limit',\n",
    "    )\n",
    "    _ = plt.legend(loc='lower right')\n",
    "\n",
    "# end with"
   ]
  },
  {
   "cell_type": "markdown",
   "metadata": {},
   "source": [
    "---\n",
    "### An Introduction to Statistical Learning\n",
    "\n",
    "The book _\"An Introduction to Statistical Learning\"_ apparently assumes the log-odds are normal.  Again, using code from the article referenced above (https://stackoverflow.com/questions/47414842/confidence-interval-of-probability-prediction-from-logistic-regression-statsmode), we get the mean, and single observation CIs"
   ]
  },
  {
   "cell_type": "code",
   "execution_count": 200,
   "metadata": {},
   "outputs": [],
   "source": [
    "fit_mean = res.model.exog.dot(res.params)\n",
    "fit_mean_se = (\n",
    "    (\n",
    "        res.model.exog\n",
    "        * res.model.exog.dot(res.cov_params())\n",
    "    ).sum(axis=1)\n",
    ") ** 0.5\n",
    "fit_obs_se = (\n",
    "    (\n",
    "        (res.model.endog - fit_mean).std(\n",
    "            ddof=res.params.shape[0]\n",
    "        )\n",
    "    )\n",
    "    ** 2\n",
    "    + fit_mean_se ** 2\n",
    ") ** 0.5"
   ]
  },
  {
   "cell_type": "markdown",
   "metadata": {},
   "source": [
    "Visualizing the results"
   ]
  },
  {
   "cell_type": "code",
   "execution_count": 201,
   "metadata": {},
   "outputs": [
    {
     "data": {
      "image/png": "[encoded data removed]",
      "text/plain": [
       "<Figure size 432x288 with 1 Axes>"
      ]
     },
     "metadata": {
      "needs_background": "light"
     },
     "output_type": "display_data"
    }
   ],
   "source": [
    "_ = plt.plot(x, 1 / (1 + np.exp(-fit_mean)), 'o')\n",
    "_ = plt.plot(\n",
    "    x,\n",
    "    1 / (1 + np.exp(-fit_mean - 1.96 * fit_mean_se)),\n",
    "    'g-',\n",
    "    label='Mean CI 95%',\n",
    ")\n",
    "_ = plt.plot(\n",
    "    x,\n",
    "    1 / (1 + np.exp(-fit_mean + 1.96 * fit_mean_se)),\n",
    "    'r-',\n",
    "    label='Mean CI 95%',\n",
    ")\n",
    "_ = plt.plot(\n",
    "    x,\n",
    "    1 / (1 + np.exp(-fit_mean + 1.96 * fit_obs_se)),\n",
    "    'r:',\n",
    "    label='Observation CI 95%',\n",
    ")\n",
    "_ = plt.plot(\n",
    "    x,\n",
    "    1 / (1 + np.exp(-fit_mean - 1.96 * fit_obs_se)),\n",
    "    'g:',\n",
    "    label='Observation CI 95%',\n",
    ")\n",
    "_ = plt.legend(loc='lower right')"
   ]
  },
  {
   "cell_type": "markdown",
   "metadata": {},
   "source": [
    "-----------\n",
    "## Flu Dataset\n",
    "\n",
    "The STATS191 lecture references a dataset, relating getting a flu shot to age, and general health awareness\n",
    "\n",
    "### Read and Visualize  Dataset"
   ]
  },
  {
   "cell_type": "code",
   "execution_count": 202,
   "metadata": {},
   "outputs": [],
   "source": [
    "flu = pd.read_fwf('../data/flu.txt', widths=[7, 7, 7])\n",
    "flu.columns = ['Shot', 'Age', 'Aware']\n",
    "flu.sort_values(by='Shot', inplace=True)"
   ]
  },
  {
   "cell_type": "code",
   "execution_count": 203,
   "metadata": {},
   "outputs": [
    {
     "data": {
      "text/html": [
       "<div>\n",
       "<style scoped>\n",
       "    .dataframe tbody tr th:only-of-type {\n",
       "        vertical-align: middle;\n",
       "    }\n",
       "\n",
       "    .dataframe tbody tr th {\n",
       "        vertical-align: top;\n",
       "    }\n",
       "\n",
       "    .dataframe thead th {\n",
       "        text-align: right;\n",
       "    }\n",
       "</style>\n",
       "<table border=\"1\" class=\"dataframe\">\n",
       "  <thead>\n",
       "    <tr style=\"text-align: right;\">\n",
       "      <th></th>\n",
       "      <th>Shot</th>\n",
       "      <th>Age</th>\n",
       "      <th>Aware</th>\n",
       "    </tr>\n",
       "  </thead>\n",
       "  <tbody>\n",
       "    <tr>\n",
       "      <th>0</th>\n",
       "      <td>0.0</td>\n",
       "      <td>38.0</td>\n",
       "      <td>40.0</td>\n",
       "    </tr>\n",
       "    <tr>\n",
       "      <th>22</th>\n",
       "      <td>0.0</td>\n",
       "      <td>53.0</td>\n",
       "      <td>32.0</td>\n",
       "    </tr>\n",
       "    <tr>\n",
       "      <th>23</th>\n",
       "      <td>0.0</td>\n",
       "      <td>42.0</td>\n",
       "      <td>42.0</td>\n",
       "    </tr>\n",
       "    <tr>\n",
       "      <th>48</th>\n",
       "      <td>0.0</td>\n",
       "      <td>45.0</td>\n",
       "      <td>35.0</td>\n",
       "    </tr>\n",
       "    <tr>\n",
       "      <th>25</th>\n",
       "      <td>0.0</td>\n",
       "      <td>42.0</td>\n",
       "      <td>32.0</td>\n",
       "    </tr>\n",
       "  </tbody>\n",
       "</table>\n",
       "</div>"
      ],
      "text/plain": [
       "    Shot   Age  Aware\n",
       "0    0.0  38.0   40.0\n",
       "22   0.0  53.0   32.0\n",
       "23   0.0  42.0   42.0\n",
       "48   0.0  45.0   35.0\n",
       "25   0.0  42.0   32.0"
      ]
     },
     "execution_count": 203,
     "metadata": {},
     "output_type": "execute_result"
    }
   ],
   "source": [
    "flu.head()"
   ]
  },
  {
   "cell_type": "code",
   "execution_count": 204,
   "metadata": {},
   "outputs": [
    {
     "data": {
      "text/plain": [
       "<matplotlib.axes._subplots.AxesSubplot at 0x23f85aef2b0>"
      ]
     },
     "execution_count": 204,
     "metadata": {},
     "output_type": "execute_result"
    },
    {
     "data": {
      "image/png": "[encoded data removed]",
      "text/plain": [
       "<Figure size 432x288 with 1 Axes>"
      ]
     },
     "metadata": {
      "needs_background": "light"
     },
     "output_type": "display_data"
    }
   ],
   "source": [
    "sn.scatterplot('Age', 'Aware', data=flu, hue='Shot')"
   ]
  },
  {
   "cell_type": "code",
   "execution_count": 205,
   "metadata": {},
   "outputs": [
    {
     "data": {
      "image/png": "[encoded data removed]",
      "text/plain": [
       "<Figure size 432x288 with 1 Axes>"
      ]
     },
     "metadata": {
      "needs_background": "light"
     },
     "output_type": "display_data"
    }
   ],
   "source": [
    "_ = plt.plot(flu['Age'], flu['Shot'], 'o')"
   ]
  },
  {
   "cell_type": "code",
   "execution_count": 206,
   "metadata": {},
   "outputs": [
    {
     "data": {
      "image/png": "[encoded data removed]",
      "text/plain": [
       "<Figure size 432x288 with 1 Axes>"
      ]
     },
     "metadata": {
      "needs_background": "light"
     },
     "output_type": "display_data"
    }
   ],
   "source": [
    "_ = plt.plot(flu['Aware'], flu['Shot'], 'o')"
   ]
  },
  {
   "cell_type": "markdown",
   "metadata": {},
   "source": [
    "----\n",
    "### Logistic Regression"
   ]
  },
  {
   "cell_type": "code",
   "execution_count": 207,
   "metadata": {},
   "outputs": [
    {
     "name": "stdout",
     "output_type": "stream",
     "text": [
      "Optimization terminated successfully.\n",
      "         Current function value: 0.324163\n",
      "         Iterations 8\n"
     ]
    }
   ],
   "source": [
    "res3 = logit('Shot ~ Age + Aware', data=flu).fit()"
   ]
  },
  {
   "cell_type": "code",
   "execution_count": 208,
   "metadata": {},
   "outputs": [
    {
     "data": {
      "text/html": [
       "<table class=\"simpletable\">\n",
       "<caption>Logit Regression Results</caption>\n",
       "<tr>\n",
       "  <th>Dep. Variable:</th>       <td>Shot</td>       <th>  No. Observations:  </th>  <td>    50</td>  \n",
       "</tr>\n",
       "<tr>\n",
       "  <th>Model:</th>               <td>Logit</td>      <th>  Df Residuals:      </th>  <td>    47</td>  \n",
       "</tr>\n",
       "<tr>\n",
       "  <th>Method:</th>               <td>MLE</td>       <th>  Df Model:          </th>  <td>     2</td>  \n",
       "</tr>\n",
       "<tr>\n",
       "  <th>Date:</th>          <td>Thu, 21 May 2020</td> <th>  Pseudo R-squ.:     </th>  <td>0.5235</td>  \n",
       "</tr>\n",
       "<tr>\n",
       "  <th>Time:</th>              <td>18:49:21</td>     <th>  Log-Likelihood:    </th> <td> -16.208</td> \n",
       "</tr>\n",
       "<tr>\n",
       "  <th>converged:</th>           <td>True</td>       <th>  LL-Null:           </th> <td> -34.015</td> \n",
       "</tr>\n",
       "<tr>\n",
       "  <th> </th>                      <td> </td>        <th>  LLR p-value:       </th> <td>1.848e-08</td>\n",
       "</tr>\n",
       "</table>\n",
       "<table class=\"simpletable\">\n",
       "<tr>\n",
       "      <td></td>         <th>coef</th>     <th>std err</th>      <th>z</th>      <th>P>|z|</th>  <th>[0.025</th>    <th>0.975]</th>  \n",
       "</tr>\n",
       "<tr>\n",
       "  <th>Intercept</th> <td>  -21.5846</td> <td>    6.418</td> <td>   -3.363</td> <td> 0.001</td> <td>  -34.164</td> <td>   -9.005</td>\n",
       "</tr>\n",
       "<tr>\n",
       "  <th>Age</th>       <td>    0.2218</td> <td>    0.074</td> <td>    2.983</td> <td> 0.003</td> <td>    0.076</td> <td>    0.368</td>\n",
       "</tr>\n",
       "<tr>\n",
       "  <th>Aware</th>     <td>    0.2035</td> <td>    0.063</td> <td>    3.244</td> <td> 0.001</td> <td>    0.081</td> <td>    0.326</td>\n",
       "</tr>\n",
       "</table>"
      ],
      "text/plain": [
       "<class 'statsmodels.iolib.summary.Summary'>\n",
       "\"\"\"\n",
       "                           Logit Regression Results                           \n",
       "==============================================================================\n",
       "Dep. Variable:                   Shot   No. Observations:                   50\n",
       "Model:                          Logit   Df Residuals:                       47\n",
       "Method:                           MLE   Df Model:                            2\n",
       "Date:                Thu, 21 May 2020   Pseudo R-squ.:                  0.5235\n",
       "Time:                        18:49:21   Log-Likelihood:                -16.208\n",
       "converged:                       True   LL-Null:                       -34.015\n",
       "                                        LLR p-value:                 1.848e-08\n",
       "==============================================================================\n",
       "                 coef    std err          z      P>|z|      [0.025      0.975]\n",
       "------------------------------------------------------------------------------\n",
       "Intercept    -21.5846      6.418     -3.363      0.001     -34.164      -9.005\n",
       "Age            0.2218      0.074      2.983      0.003       0.076       0.368\n",
       "Aware          0.2035      0.063      3.244      0.001       0.081       0.326\n",
       "==============================================================================\n",
       "\"\"\""
      ]
     },
     "execution_count": 208,
     "metadata": {},
     "output_type": "execute_result"
    }
   ],
   "source": [
    "res3.summary()"
   ]
  },
  {
   "cell_type": "markdown",
   "metadata": {},
   "source": [
    "Prediction for a 35 year old with health awareness 50 compared to a 45 year old with the same health awareness"
   ]
  },
  {
   "cell_type": "code",
   "execution_count": 209,
   "metadata": {},
   "outputs": [
    {
     "data": {
      "text/plain": [
       "0    0.025406\n",
       "1    0.193210\n",
       "dtype: float64"
      ]
     },
     "execution_count": 209,
     "metadata": {},
     "output_type": "execute_result"
    }
   ],
   "source": [
    "examples = {'Age': [35, 45], 'Aware': [50, 50]}\n",
    "res3.predict(examples)"
   ]
  },
  {
   "cell_type": "markdown",
   "metadata": {},
   "source": [
    "We can calculate the probability of a flu shot explicitly from the model parameters, and the logistic function"
   ]
  },
  {
   "cell_type": "code",
   "execution_count": 210,
   "metadata": {},
   "outputs": [
    {
     "data": {
      "text/plain": [
       "0.025405604440954365"
      ]
     },
     "execution_count": 210,
     "metadata": {},
     "output_type": "execute_result"
    }
   ],
   "source": [
    "age = 35\n",
    "aware = 50\n",
    "\n",
    "prob = 1.0 / (\n",
    "    1.0\n",
    "    + np.exp(\n",
    "        -(\n",
    "            res3.params[0]\n",
    "            + res3.params[1] * age\n",
    "            + res3.params[2] * aware\n",
    "        )\n",
    "    )\n",
    ")\n",
    "prob"
   ]
  },
  {
   "cell_type": "markdown",
   "metadata": {},
   "source": [
    "---\n",
    "### General Linear Models\n",
    "It is also possible to perform a Logistic Regression via the ```statsmodels``` General Linear Model API.  Binomial here refers to the fact we have two choices of outcome."
   ]
  },
  {
   "cell_type": "code",
   "execution_count": 211,
   "metadata": {},
   "outputs": [
    {
     "data": {
      "text/html": [
       "<table class=\"simpletable\">\n",
       "<caption>Generalized Linear Model Regression Results</caption>\n",
       "<tr>\n",
       "  <th>Dep. Variable:</th>        <td>Shot</td>       <th>  No. Observations:  </th>  <td>    50</td>  \n",
       "</tr>\n",
       "<tr>\n",
       "  <th>Model:</th>                 <td>GLM</td>       <th>  Df Residuals:      </th>  <td>    47</td>  \n",
       "</tr>\n",
       "<tr>\n",
       "  <th>Model Family:</th>       <td>Binomial</td>     <th>  Df Model:          </th>  <td>     2</td>  \n",
       "</tr>\n",
       "<tr>\n",
       "  <th>Link Function:</th>        <td>logit</td>      <th>  Scale:             </th> <td>  1.0000</td> \n",
       "</tr>\n",
       "<tr>\n",
       "  <th>Method:</th>               <td>IRLS</td>       <th>  Log-Likelihood:    </th> <td> -16.208</td> \n",
       "</tr>\n",
       "<tr>\n",
       "  <th>Date:</th>           <td>Thu, 21 May 2020</td> <th>  Deviance:          </th> <td>  32.416</td> \n",
       "</tr>\n",
       "<tr>\n",
       "  <th>Time:</th>               <td>18:49:21</td>     <th>  Pearson chi2:      </th>  <td>  34.6</td>  \n",
       "</tr>\n",
       "<tr>\n",
       "  <th>No. Iterations:</th>         <td>6</td>        <th>  Covariance Type:   </th> <td>nonrobust</td>\n",
       "</tr>\n",
       "</table>\n",
       "<table class=\"simpletable\">\n",
       "<tr>\n",
       "      <td></td>         <th>coef</th>     <th>std err</th>      <th>z</th>      <th>P>|z|</th>  <th>[0.025</th>    <th>0.975]</th>  \n",
       "</tr>\n",
       "<tr>\n",
       "  <th>Intercept</th> <td>  -21.5846</td> <td>    6.418</td> <td>   -3.363</td> <td> 0.001</td> <td>  -34.164</td> <td>   -9.005</td>\n",
       "</tr>\n",
       "<tr>\n",
       "  <th>Age</th>       <td>    0.2218</td> <td>    0.074</td> <td>    2.983</td> <td> 0.003</td> <td>    0.076</td> <td>    0.368</td>\n",
       "</tr>\n",
       "<tr>\n",
       "  <th>Aware</th>     <td>    0.2035</td> <td>    0.063</td> <td>    3.244</td> <td> 0.001</td> <td>    0.081</td> <td>    0.326</td>\n",
       "</tr>\n",
       "</table>"
      ],
      "text/plain": [
       "<class 'statsmodels.iolib.summary.Summary'>\n",
       "\"\"\"\n",
       "                 Generalized Linear Model Regression Results                  \n",
       "==============================================================================\n",
       "Dep. Variable:                   Shot   No. Observations:                   50\n",
       "Model:                            GLM   Df Residuals:                       47\n",
       "Model Family:                Binomial   Df Model:                            2\n",
       "Link Function:                  logit   Scale:                          1.0000\n",
       "Method:                          IRLS   Log-Likelihood:                -16.208\n",
       "Date:                Thu, 21 May 2020   Deviance:                       32.416\n",
       "Time:                        18:49:21   Pearson chi2:                     34.6\n",
       "No. Iterations:                     6   Covariance Type:             nonrobust\n",
       "==============================================================================\n",
       "                 coef    std err          z      P>|z|      [0.025      0.975]\n",
       "------------------------------------------------------------------------------\n",
       "Intercept    -21.5846      6.418     -3.363      0.001     -34.164      -9.005\n",
       "Age            0.2218      0.074      2.983      0.003       0.076       0.368\n",
       "Aware          0.2035      0.063      3.244      0.001       0.081       0.326\n",
       "==============================================================================\n",
       "\"\"\""
      ]
     },
     "execution_count": 211,
     "metadata": {},
     "output_type": "execute_result"
    }
   ],
   "source": [
    "res4 = glm(\n",
    "    'Shot ~ Age + Aware',\n",
    "    data=flu,\n",
    "    family=sm.families.Binomial(),\n",
    ").fit()\n",
    "res4.summary()"
   ]
  },
  {
   "cell_type": "markdown",
   "metadata": {},
   "source": [
    "Predictions are the same as previous regression"
   ]
  },
  {
   "cell_type": "code",
   "execution_count": 212,
   "metadata": {},
   "outputs": [
    {
     "data": {
      "text/plain": [
       "0    0.025406\n",
       "1    0.193210\n",
       "dtype: float64"
      ]
     },
     "execution_count": 212,
     "metadata": {},
     "output_type": "execute_result"
    }
   ],
   "source": [
    "examples = {'Age': [35, 45], 'Aware': [50, 50]}\n",
    "res3.predict(examples)"
   ]
  },
  {
   "cell_type": "markdown",
   "metadata": {},
   "source": [
    "---\n",
    "### Probit Regression\n",
    "\n",
    "We can also perform Probit Regression in two ways, via the explicit ```probit``` function, or via a GLM call"
   ]
  },
  {
   "cell_type": "code",
   "execution_count": 213,
   "metadata": {},
   "outputs": [
    {
     "name": "stdout",
     "output_type": "stream",
     "text": [
      "Optimization terminated successfully.\n",
      "         Current function value: 0.320758\n",
      "         Iterations 7\n"
     ]
    },
    {
     "data": {
      "text/html": [
       "<table class=\"simpletable\">\n",
       "<caption>Probit Regression Results</caption>\n",
       "<tr>\n",
       "  <th>Dep. Variable:</th>       <td>Shot</td>       <th>  No. Observations:  </th>  <td>    50</td>  \n",
       "</tr>\n",
       "<tr>\n",
       "  <th>Model:</th>              <td>Probit</td>      <th>  Df Residuals:      </th>  <td>    47</td>  \n",
       "</tr>\n",
       "<tr>\n",
       "  <th>Method:</th>               <td>MLE</td>       <th>  Df Model:          </th>  <td>     2</td>  \n",
       "</tr>\n",
       "<tr>\n",
       "  <th>Date:</th>          <td>Thu, 21 May 2020</td> <th>  Pseudo R-squ.:     </th>  <td>0.5285</td>  \n",
       "</tr>\n",
       "<tr>\n",
       "  <th>Time:</th>              <td>18:49:21</td>     <th>  Log-Likelihood:    </th> <td> -16.038</td> \n",
       "</tr>\n",
       "<tr>\n",
       "  <th>converged:</th>           <td>True</td>       <th>  LL-Null:           </th> <td> -34.015</td> \n",
       "</tr>\n",
       "<tr>\n",
       "  <th> </th>                      <td> </td>        <th>  LLR p-value:       </th> <td>1.559e-08</td>\n",
       "</tr>\n",
       "</table>\n",
       "<table class=\"simpletable\">\n",
       "<tr>\n",
       "      <td></td>         <th>coef</th>     <th>std err</th>      <th>z</th>      <th>P>|z|</th>  <th>[0.025</th>    <th>0.975]</th>  \n",
       "</tr>\n",
       "<tr>\n",
       "  <th>Intercept</th> <td>  -12.3504</td> <td>    3.284</td> <td>   -3.761</td> <td> 0.000</td> <td>  -18.787</td> <td>   -5.914</td>\n",
       "</tr>\n",
       "<tr>\n",
       "  <th>Age</th>       <td>    0.1279</td> <td>    0.040</td> <td>    3.224</td> <td> 0.001</td> <td>    0.050</td> <td>    0.206</td>\n",
       "</tr>\n",
       "<tr>\n",
       "  <th>Aware</th>     <td>    0.1164</td> <td>    0.033</td> <td>    3.568</td> <td> 0.000</td> <td>    0.052</td> <td>    0.180</td>\n",
       "</tr>\n",
       "</table>"
      ],
      "text/plain": [
       "<class 'statsmodels.iolib.summary.Summary'>\n",
       "\"\"\"\n",
       "                          Probit Regression Results                           \n",
       "==============================================================================\n",
       "Dep. Variable:                   Shot   No. Observations:                   50\n",
       "Model:                         Probit   Df Residuals:                       47\n",
       "Method:                           MLE   Df Model:                            2\n",
       "Date:                Thu, 21 May 2020   Pseudo R-squ.:                  0.5285\n",
       "Time:                        18:49:21   Log-Likelihood:                -16.038\n",
       "converged:                       True   LL-Null:                       -34.015\n",
       "                                        LLR p-value:                 1.559e-08\n",
       "==============================================================================\n",
       "                 coef    std err          z      P>|z|      [0.025      0.975]\n",
       "------------------------------------------------------------------------------\n",
       "Intercept    -12.3504      3.284     -3.761      0.000     -18.787      -5.914\n",
       "Age            0.1279      0.040      3.224      0.001       0.050       0.206\n",
       "Aware          0.1164      0.033      3.568      0.000       0.052       0.180\n",
       "==============================================================================\n",
       "\"\"\""
      ]
     },
     "execution_count": 213,
     "metadata": {},
     "output_type": "execute_result"
    }
   ],
   "source": [
    "res5 = probit('Shot ~ Age + Aware', data=flu).fit()\n",
    "res5.summary()"
   ]
  },
  {
   "cell_type": "markdown",
   "metadata": {},
   "source": [
    "To access Probit Regression via GLM, we have to specify the ```probit``` function.\n",
    "\n",
    "To get a list of supported functions in the Bionomial family, see below (we need the second item of the supported functions list)"
   ]
  },
  {
   "cell_type": "code",
   "execution_count": 214,
   "metadata": {},
   "outputs": [
    {
     "data": {
      "text/plain": [
       "[statsmodels.genmod.families.links.logit,\n",
       " statsmodels.genmod.families.links.probit,\n",
       " statsmodels.genmod.families.links.cauchy,\n",
       " statsmodels.genmod.families.links.log,\n",
       " statsmodels.genmod.families.links.cloglog,\n",
       " statsmodels.genmod.families.links.identity]"
      ]
     },
     "execution_count": 214,
     "metadata": {},
     "output_type": "execute_result"
    }
   ],
   "source": [
    "sm.families.Binomial.links"
   ]
  },
  {
   "cell_type": "code",
   "execution_count": 215,
   "metadata": {},
   "outputs": [
    {
     "data": {
      "text/html": [
       "<table class=\"simpletable\">\n",
       "<caption>Generalized Linear Model Regression Results</caption>\n",
       "<tr>\n",
       "  <th>Dep. Variable:</th>        <td>Shot</td>       <th>  No. Observations:  </th>  <td>    50</td>  \n",
       "</tr>\n",
       "<tr>\n",
       "  <th>Model:</th>                 <td>GLM</td>       <th>  Df Residuals:      </th>  <td>    47</td>  \n",
       "</tr>\n",
       "<tr>\n",
       "  <th>Model Family:</th>       <td>Binomial</td>     <th>  Df Model:          </th>  <td>     2</td>  \n",
       "</tr>\n",
       "<tr>\n",
       "  <th>Link Function:</th>       <td>probit</td>      <th>  Scale:             </th> <td>  1.0000</td> \n",
       "</tr>\n",
       "<tr>\n",
       "  <th>Method:</th>               <td>IRLS</td>       <th>  Log-Likelihood:    </th> <td> -16.038</td> \n",
       "</tr>\n",
       "<tr>\n",
       "  <th>Date:</th>           <td>Thu, 21 May 2020</td> <th>  Deviance:          </th> <td>  32.076</td> \n",
       "</tr>\n",
       "<tr>\n",
       "  <th>Time:</th>               <td>18:49:21</td>     <th>  Pearson chi2:      </th>  <td>  33.4</td>  \n",
       "</tr>\n",
       "<tr>\n",
       "  <th>No. Iterations:</th>         <td>8</td>        <th>  Covariance Type:   </th> <td>nonrobust</td>\n",
       "</tr>\n",
       "</table>\n",
       "<table class=\"simpletable\">\n",
       "<tr>\n",
       "      <td></td>         <th>coef</th>     <th>std err</th>      <th>z</th>      <th>P>|z|</th>  <th>[0.025</th>    <th>0.975]</th>  \n",
       "</tr>\n",
       "<tr>\n",
       "  <th>Intercept</th> <td>  -12.3504</td> <td>    3.228</td> <td>   -3.826</td> <td> 0.000</td> <td>  -18.677</td> <td>   -6.023</td>\n",
       "</tr>\n",
       "<tr>\n",
       "  <th>Age</th>       <td>    0.1279</td> <td>    0.039</td> <td>    3.289</td> <td> 0.001</td> <td>    0.052</td> <td>    0.204</td>\n",
       "</tr>\n",
       "<tr>\n",
       "  <th>Aware</th>     <td>    0.1164</td> <td>    0.032</td> <td>    3.596</td> <td> 0.000</td> <td>    0.053</td> <td>    0.180</td>\n",
       "</tr>\n",
       "</table>"
      ],
      "text/plain": [
       "<class 'statsmodels.iolib.summary.Summary'>\n",
       "\"\"\"\n",
       "                 Generalized Linear Model Regression Results                  \n",
       "==============================================================================\n",
       "Dep. Variable:                   Shot   No. Observations:                   50\n",
       "Model:                            GLM   Df Residuals:                       47\n",
       "Model Family:                Binomial   Df Model:                            2\n",
       "Link Function:                 probit   Scale:                          1.0000\n",
       "Method:                          IRLS   Log-Likelihood:                -16.038\n",
       "Date:                Thu, 21 May 2020   Deviance:                       32.076\n",
       "Time:                        18:49:21   Pearson chi2:                     33.4\n",
       "No. Iterations:                     8   Covariance Type:             nonrobust\n",
       "==============================================================================\n",
       "                 coef    std err          z      P>|z|      [0.025      0.975]\n",
       "------------------------------------------------------------------------------\n",
       "Intercept    -12.3504      3.228     -3.826      0.000     -18.677      -6.023\n",
       "Age            0.1279      0.039      3.289      0.001       0.052       0.204\n",
       "Aware          0.1164      0.032      3.596      0.000       0.053       0.180\n",
       "==============================================================================\n",
       "\"\"\""
      ]
     },
     "execution_count": 215,
     "metadata": {},
     "output_type": "execute_result"
    }
   ],
   "source": [
    "res6 = glm(\n",
    "    'Shot ~ Age + Aware',\n",
    "    data=flu,\n",
    "    family=sm.families.Binomial(\n",
    "        sm.families.Binomial.links[1]\n",
    "    ),\n",
    ").fit()\n",
    "res6.summary()"
   ]
  },
  {
   "cell_type": "markdown",
   "metadata": {},
   "source": [
    "The two APIs give the same results"
   ]
  },
  {
   "cell_type": "code",
   "execution_count": 216,
   "metadata": {},
   "outputs": [
    {
     "data": {
      "text/plain": [
       "0    0.019966\n",
       "1    0.218923\n",
       "dtype: float64"
      ]
     },
     "execution_count": 216,
     "metadata": {},
     "output_type": "execute_result"
    }
   ],
   "source": [
    "res5.predict(examples)"
   ]
  },
  {
   "cell_type": "code",
   "execution_count": 217,
   "metadata": {},
   "outputs": [
    {
     "data": {
      "text/plain": [
       "0    0.019966\n",
       "1    0.218923\n",
       "dtype: float64"
      ]
     },
     "execution_count": 217,
     "metadata": {},
     "output_type": "execute_result"
    }
   ],
   "source": [
    "res6.predict(examples)"
   ]
  },
  {
   "cell_type": "markdown",
   "metadata": {},
   "source": [
    "\n",
    "---------\n",
    "## Reproducibility"
   ]
  },
  {
   "cell_type": "code",
   "execution_count": 218,
   "metadata": {},
   "outputs": [
    {
     "name": "stdout",
     "output_type": "stream",
     "text": [
      "seaborn     0.9.0\n",
      "matplotlib  3.0.2\n",
      "numpy       1.15.4\n",
      "statsmodels 0.9.0\n",
      "pandas      1.0.0\n",
      "scipy       1.1.0\n",
      "host name: DESKTOP-SODFUN6\n",
      "2020-05-21T18:49:21+10:00\n",
      "\n",
      "CPython 3.7.1\n",
      "IPython 7.2.0\n",
      "\n",
      "compiler   : MSC v.1915 64 bit (AMD64)\n",
      "system     : Windows\n",
      "release    : 10\n",
      "machine    : AMD64\n",
      "processor  : Intel64 Family 6 Model 94 Stepping 3, GenuineIntel\n",
      "CPU cores  : 8\n",
      "interpreter: 64bit\n"
     ]
    }
   ],
   "source": [
    "%watermark -h -iv\n",
    "%watermark"
   ]
  },
  {
   "cell_type": "code",
   "execution_count": 219,
   "metadata": {},
   "outputs": [
    {
     "name": "stdout",
     "output_type": "stream",
     "text": [
      "\n",
      "INSTALLED VERSIONS\n",
      "------------------\n",
      "Python: 3.7.1.final.0\n",
      "\n",
      "Statsmodels\n",
      "===========\n",
      "\n",
      "Installed: 0.9.0 (D:\\Anaconda3\\envs\\ac5-py37\\lib\\site-packages\\statsmodels)\n",
      "\n",
      "Required Dependencies\n",
      "=====================\n",
      "\n",
      "cython: 0.29.2 (D:\\Anaconda3\\envs\\ac5-py37\\lib\\site-packages\\Cython)\n",
      "numpy: 1.15.4 (D:\\Anaconda3\\envs\\ac5-py37\\lib\\site-packages\\numpy)\n",
      "scipy: 1.1.0 (D:\\Anaconda3\\envs\\ac5-py37\\lib\\site-packages\\scipy)\n",
      "pandas: 1.0.0 (D:\\Anaconda3\\envs\\ac5-py37\\lib\\site-packages\\pandas)\n",
      "    dateutil: 2.7.5 (D:\\Anaconda3\\envs\\ac5-py37\\lib\\site-packages\\dateutil)\n",
      "patsy: 0.5.1 (D:\\Anaconda3\\envs\\ac5-py37\\lib\\site-packages\\patsy)\n",
      "\n",
      "Optional Dependencies\n",
      "=====================\n",
      "\n",
      "matplotlib: 3.0.2 (D:\\Anaconda3\\envs\\ac5-py37\\lib\\site-packages\\matplotlib)\n",
      "    backend: module://ipykernel.pylab.backend_inline \n",
      "cvxopt: Not installed\n",
      "joblib: 0.13.2 (D:\\Anaconda3\\envs\\ac5-py37\\lib\\site-packages\\joblib)\n",
      "\n",
      "Developer Tools\n",
      "================\n",
      "\n",
      "IPython: 7.2.0 (D:\\Anaconda3\\envs\\ac5-py37\\lib\\site-packages\\IPython)\n",
      "    jinja2: 2.10.1 (D:\\Anaconda3\\envs\\ac5-py37\\lib\\site-packages\\jinja2)\n",
      "sphinx: 1.8.2 (D:\\Anaconda3\\envs\\ac5-py37\\lib\\site-packages\\sphinx)\n",
      "    pygments: 2.3.1 (D:\\Anaconda3\\envs\\ac5-py37\\lib\\site-packages\\pygments)\n",
      "nose: 1.3.7 (D:\\Anaconda3\\envs\\ac5-py37\\lib\\site-packages\\nose)\n",
      "pytest: 5.0.1 (D:\\Anaconda3\\envs\\ac5-py37\\lib\\site-packages)\n",
      "virtualenv: Not installed\n",
      "\n",
      "\n"
     ]
    }
   ],
   "source": [
    "sm.show_versions()"
   ]
  },
  {
   "cell_type": "code",
   "execution_count": null,
   "metadata": {},
   "outputs": [],
   "source": []
  }
 ],
 "metadata": {
  "kernelspec": {
   "display_name": "Python 3",
   "language": "python",
   "name": "python3"
  },
  "language_info": {
   "codemirror_mode": {
    "name": "ipython",
    "version": 3
   },
   "file_extension": ".py",
   "mimetype": "text/x-python",
   "name": "python",
   "nbconvert_exporter": "python",
   "pygments_lexer": "ipython3",
   "version": "3.7.1"
  }
 },
 "nbformat": 4,
 "nbformat_minor": 4
}
