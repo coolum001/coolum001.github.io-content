{
 "cells": [
  {
   "cell_type": "markdown",
   "metadata": {},
   "source": [
    "# Stanford Stats 191\n",
    "\n",
    "## Introduction\n",
    "\n",
    "This is a re-creation of the Stanford Stats 191 course (see https://web.stanford.edu/class/stats191/), using Python eco-system tools, instead of R. This is lecture \"Bootstrapping regression:\"\n",
    "\n",
    "\n",
    "It turns out that it appears that ```statsmodels``` appears to have no support for Bootstrap-style operations.  There are a number of Python packages that claim to support Bootstrap operations, but I decided to use ```numpy``` and its ```sample``` method, and explicitly perform the resampling and parameter re-estimation."
   ]
  },
  {
   "cell_type": "markdown",
   "metadata": {},
   "source": [
    "## Initial Notebook Setup\n",
    "\n",
    "```watermark ``` documents the current Python and package environment, ```black``` is my preferred Python formatter"
   ]
  },
  {
   "cell_type": "code",
   "execution_count": 60,
   "metadata": {},
   "outputs": [
    {
     "name": "stdout",
     "output_type": "stream",
     "text": [
      "The watermark extension is already loaded. To reload it, use:\n",
      "  %reload_ext watermark\n"
     ]
    }
   ],
   "source": [
    "%load_ext watermark"
   ]
  },
  {
   "cell_type": "code",
   "execution_count": 61,
   "metadata": {},
   "outputs": [
    {
     "name": "stdout",
     "output_type": "stream",
     "text": [
      "The lab_black extension is already loaded. To reload it, use:\n",
      "  %reload_ext lab_black\n"
     ]
    }
   ],
   "source": [
    "%load_ext lab_black"
   ]
  },
  {
   "cell_type": "code",
   "execution_count": 62,
   "metadata": {},
   "outputs": [],
   "source": [
    "%matplotlib inline"
   ]
  },
  {
   "cell_type": "markdown",
   "metadata": {},
   "source": [
    "### Imports"
   ]
  },
  {
   "cell_type": "code",
   "execution_count": null,
   "metadata": {},
   "outputs": [],
   "source": [
    "import pandas as pd\n",
    "import numpy as np\n",
    "import seaborn as sns\n",
    "\n",
    "import math\n",
    "\n",
    "import matplotlib.pyplot as plt\n",
    "from mpl_toolkits.mplot3d import Axes3D\n",
    "\n",
    "\n",
    "from scipy import stats\n",
    "from statsmodels.formula.api import ols\n",
    "from statsmodels.formula.api import rlm\n",
    "import statsmodels.api as sm"
   ]
  },
  {
   "cell_type": "markdown",
   "metadata": {},
   "source": [
    "------\n",
    "## OLS of Gaussian Noise as Error Term\n",
    "\n",
    "First, we perform an OLS best fit of a linear model to a dataset with Gaussian Noise"
   ]
  },
  {
   "cell_type": "code",
   "execution_count": 64,
   "metadata": {},
   "outputs": [],
   "source": [
    "# size of dataset\n",
    "n_data = 50\n",
    "\n",
    "# linear parameters\n",
    "beta_0 = 1.5\n",
    "beta_1 = 2.0\n",
    "sigma = 2\n",
    "\n",
    "x = np.random.normal(0, 1, n_data)\n",
    "x = np.array(sorted(x))\n",
    "\n",
    "# linear model with Gaussian noise\n",
    "y = beta_0 + x * beta_1\n",
    "#\n",
    "y = y + np.random.normal(0, 1, n_data) * sigma"
   ]
  },
  {
   "cell_type": "markdown",
   "metadata": {},
   "source": [
    "Quick plot of dataset"
   ]
  },
  {
   "cell_type": "code",
   "execution_count": 65,
   "metadata": {},
   "outputs": [
    {
     "data": {
      "image/png": "[encoded data removed]",
      "text/plain": [
       "<Figure size 432x288 with 1 Axes>"
      ]
     },
     "metadata": {
      "needs_background": "light"
     },
     "output_type": "display_data"
    }
   ],
   "source": [
    "_ = plt.plot(x, y, 'o')"
   ]
  },
  {
   "cell_type": "markdown",
   "metadata": {},
   "source": [
    "Perform OLS fit to linear model"
   ]
  },
  {
   "cell_type": "code",
   "execution_count": 66,
   "metadata": {},
   "outputs": [
    {
     "data": {
      "text/plain": [
       "Intercept    1.473338\n",
       "x            2.009848\n",
       "dtype: float64"
      ]
     },
     "execution_count": 66,
     "metadata": {},
     "output_type": "execute_result"
    }
   ],
   "source": [
    "df_dict = {'x': x, 'y': y}\n",
    "data = pd.DataFrame(df_dict)\n",
    "\n",
    "res = ols('y ~ x', data=data).fit()\n",
    "\n",
    "res.params"
   ]
  },
  {
   "cell_type": "code",
   "execution_count": 67,
   "metadata": {},
   "outputs": [
    {
     "data": {
      "text/html": [
       "<table class=\"simpletable\">\n",
       "<caption>OLS Regression Results</caption>\n",
       "<tr>\n",
       "  <th>Dep. Variable:</th>            <td>y</td>        <th>  R-squared:         </th> <td>   0.454</td>\n",
       "</tr>\n",
       "<tr>\n",
       "  <th>Model:</th>                   <td>OLS</td>       <th>  Adj. R-squared:    </th> <td>   0.443</td>\n",
       "</tr>\n",
       "<tr>\n",
       "  <th>Method:</th>             <td>Least Squares</td>  <th>  F-statistic:       </th> <td>   39.92</td>\n",
       "</tr>\n",
       "<tr>\n",
       "  <th>Date:</th>             <td>Sun, 19 Apr 2020</td> <th>  Prob (F-statistic):</th> <td>8.18e-08</td>\n",
       "</tr>\n",
       "<tr>\n",
       "  <th>Time:</th>                 <td>19:37:26</td>     <th>  Log-Likelihood:    </th> <td> -101.86</td>\n",
       "</tr>\n",
       "<tr>\n",
       "  <th>No. Observations:</th>      <td>    50</td>      <th>  AIC:               </th> <td>   207.7</td>\n",
       "</tr>\n",
       "<tr>\n",
       "  <th>Df Residuals:</th>          <td>    48</td>      <th>  BIC:               </th> <td>   211.5</td>\n",
       "</tr>\n",
       "<tr>\n",
       "  <th>Df Model:</th>              <td>     1</td>      <th>                     </th>     <td> </td>   \n",
       "</tr>\n",
       "<tr>\n",
       "  <th>Covariance Type:</th>      <td>nonrobust</td>    <th>                     </th>     <td> </td>   \n",
       "</tr>\n",
       "</table>\n",
       "<table class=\"simpletable\">\n",
       "<tr>\n",
       "      <td></td>         <th>coef</th>     <th>std err</th>      <th>t</th>      <th>P>|t|</th>  <th>[0.025</th>    <th>0.975]</th>  \n",
       "</tr>\n",
       "<tr>\n",
       "  <th>Intercept</th> <td>    1.4733</td> <td>    0.268</td> <td>    5.499</td> <td> 0.000</td> <td>    0.935</td> <td>    2.012</td>\n",
       "</tr>\n",
       "<tr>\n",
       "  <th>x</th>         <td>    2.0098</td> <td>    0.318</td> <td>    6.318</td> <td> 0.000</td> <td>    1.370</td> <td>    2.649</td>\n",
       "</tr>\n",
       "</table>\n",
       "<table class=\"simpletable\">\n",
       "<tr>\n",
       "  <th>Omnibus:</th>       <td> 0.019</td> <th>  Durbin-Watson:     </th> <td>   2.373</td>\n",
       "</tr>\n",
       "<tr>\n",
       "  <th>Prob(Omnibus):</th> <td> 0.990</td> <th>  Jarque-Bera (JB):  </th> <td>   0.174</td>\n",
       "</tr>\n",
       "<tr>\n",
       "  <th>Skew:</th>          <td> 0.030</td> <th>  Prob(JB):          </th> <td>   0.917</td>\n",
       "</tr>\n",
       "<tr>\n",
       "  <th>Kurtosis:</th>      <td> 2.718</td> <th>  Cond. No.          </th> <td>    1.19</td>\n",
       "</tr>\n",
       "</table><br/><br/>Warnings:<br/>[1] Standard Errors assume that the covariance matrix of the errors is correctly specified."
      ],
      "text/plain": [
       "<class 'statsmodels.iolib.summary.Summary'>\n",
       "\"\"\"\n",
       "                            OLS Regression Results                            \n",
       "==============================================================================\n",
       "Dep. Variable:                      y   R-squared:                       0.454\n",
       "Model:                            OLS   Adj. R-squared:                  0.443\n",
       "Method:                 Least Squares   F-statistic:                     39.92\n",
       "Date:                Sun, 19 Apr 2020   Prob (F-statistic):           8.18e-08\n",
       "Time:                        19:37:26   Log-Likelihood:                -101.86\n",
       "No. Observations:                  50   AIC:                             207.7\n",
       "Df Residuals:                      48   BIC:                             211.5\n",
       "Df Model:                           1                                         \n",
       "Covariance Type:            nonrobust                                         \n",
       "==============================================================================\n",
       "                 coef    std err          t      P>|t|      [0.025      0.975]\n",
       "------------------------------------------------------------------------------\n",
       "Intercept      1.4733      0.268      5.499      0.000       0.935       2.012\n",
       "x              2.0098      0.318      6.318      0.000       1.370       2.649\n",
       "==============================================================================\n",
       "Omnibus:                        0.019   Durbin-Watson:                   2.373\n",
       "Prob(Omnibus):                  0.990   Jarque-Bera (JB):                0.174\n",
       "Skew:                           0.030   Prob(JB):                        0.917\n",
       "Kurtosis:                       2.718   Cond. No.                         1.19\n",
       "==============================================================================\n",
       "\n",
       "Warnings:\n",
       "[1] Standard Errors assume that the covariance matrix of the errors is correctly specified.\n",
       "\"\"\""
      ]
     },
     "execution_count": 67,
     "metadata": {},
     "output_type": "execute_result"
    }
   ],
   "source": [
    "res.summary()"
   ]
  },
  {
   "cell_type": "markdown",
   "metadata": {},
   "source": [
    "------------\n",
    "## Non-Gaussian Errors\n",
    "\n",
    "Now, consider case where the error term is uniformly distributed (i.e. non-Gaussian).  We have the same model parameters"
   ]
  },
  {
   "cell_type": "code",
   "execution_count": 115,
   "metadata": {},
   "outputs": [],
   "source": [
    "n_data = 50\n",
    "\n",
    "beta_0 = 1.5\n",
    "beta_1 = 2\n",
    "sigma = 2\n",
    "\n",
    "x = np.random.normal(0, 1, n_data)\n",
    "x = np.array(sorted(x))\n",
    "y = beta_0 + x * beta_1\n",
    "#\n",
    "y = (\n",
    "    y\n",
    "    + np.random.uniform(low=-1.0, high=1.0, size=n_data)\n",
    "    * sigma\n",
    ")"
   ]
  },
  {
   "cell_type": "code",
   "execution_count": 116,
   "metadata": {},
   "outputs": [
    {
     "data": {
      "image/png": "[encoded data removed]",
      "text/plain": [
       "<Figure size 432x288 with 1 Axes>"
      ]
     },
     "metadata": {
      "needs_background": "light"
     },
     "output_type": "display_data"
    }
   ],
   "source": [
    "_ = plt.plot(x, y, 'o')"
   ]
  },
  {
   "cell_type": "code",
   "execution_count": 117,
   "metadata": {},
   "outputs": [
    {
     "data": {
      "text/plain": [
       "Intercept    1.388669\n",
       "x            1.918366\n",
       "dtype: float64"
      ]
     },
     "execution_count": 117,
     "metadata": {},
     "output_type": "execute_result"
    }
   ],
   "source": [
    "df_dict = {'x': x, 'y': y}\n",
    "data = pd.DataFrame(df_dict)\n",
    "\n",
    "res = ols('y ~ x', data=data).fit()\n",
    "\n",
    "res.params"
   ]
  },
  {
   "cell_type": "code",
   "execution_count": 118,
   "metadata": {},
   "outputs": [
    {
     "data": {
      "text/html": [
       "<table class=\"simpletable\">\n",
       "<caption>OLS Regression Results</caption>\n",
       "<tr>\n",
       "  <th>Dep. Variable:</th>            <td>y</td>        <th>  R-squared:         </th> <td>   0.682</td>\n",
       "</tr>\n",
       "<tr>\n",
       "  <th>Model:</th>                   <td>OLS</td>       <th>  Adj. R-squared:    </th> <td>   0.675</td>\n",
       "</tr>\n",
       "<tr>\n",
       "  <th>Method:</th>             <td>Least Squares</td>  <th>  F-statistic:       </th> <td>   102.8</td>\n",
       "</tr>\n",
       "<tr>\n",
       "  <th>Date:</th>             <td>Sun, 19 Apr 2020</td> <th>  Prob (F-statistic):</th> <td>1.62e-13</td>\n",
       "</tr>\n",
       "<tr>\n",
       "  <th>Time:</th>                 <td>20:07:11</td>     <th>  Log-Likelihood:    </th> <td> -81.728</td>\n",
       "</tr>\n",
       "<tr>\n",
       "  <th>No. Observations:</th>      <td>    50</td>      <th>  AIC:               </th> <td>   167.5</td>\n",
       "</tr>\n",
       "<tr>\n",
       "  <th>Df Residuals:</th>          <td>    48</td>      <th>  BIC:               </th> <td>   171.3</td>\n",
       "</tr>\n",
       "<tr>\n",
       "  <th>Df Model:</th>              <td>     1</td>      <th>                     </th>     <td> </td>   \n",
       "</tr>\n",
       "<tr>\n",
       "  <th>Covariance Type:</th>      <td>nonrobust</td>    <th>                     </th>     <td> </td>   \n",
       "</tr>\n",
       "</table>\n",
       "<table class=\"simpletable\">\n",
       "<tr>\n",
       "      <td></td>         <th>coef</th>     <th>std err</th>      <th>t</th>      <th>P>|t|</th>  <th>[0.025</th>    <th>0.975]</th>  \n",
       "</tr>\n",
       "<tr>\n",
       "  <th>Intercept</th> <td>    1.3887</td> <td>    0.183</td> <td>    7.597</td> <td> 0.000</td> <td>    1.021</td> <td>    1.756</td>\n",
       "</tr>\n",
       "<tr>\n",
       "  <th>x</th>         <td>    1.9184</td> <td>    0.189</td> <td>   10.137</td> <td> 0.000</td> <td>    1.538</td> <td>    2.299</td>\n",
       "</tr>\n",
       "</table>\n",
       "<table class=\"simpletable\">\n",
       "<tr>\n",
       "  <th>Omnibus:</th>       <td>26.087</td> <th>  Durbin-Watson:     </th> <td>   2.360</td>\n",
       "</tr>\n",
       "<tr>\n",
       "  <th>Prob(Omnibus):</th> <td> 0.000</td> <th>  Jarque-Bera (JB):  </th> <td>   4.907</td>\n",
       "</tr>\n",
       "<tr>\n",
       "  <th>Skew:</th>          <td> 0.331</td> <th>  Prob(JB):          </th> <td>  0.0860</td>\n",
       "</tr>\n",
       "<tr>\n",
       "  <th>Kurtosis:</th>      <td> 1.615</td> <th>  Cond. No.          </th> <td>    1.23</td>\n",
       "</tr>\n",
       "</table><br/><br/>Warnings:<br/>[1] Standard Errors assume that the covariance matrix of the errors is correctly specified."
      ],
      "text/plain": [
       "<class 'statsmodels.iolib.summary.Summary'>\n",
       "\"\"\"\n",
       "                            OLS Regression Results                            \n",
       "==============================================================================\n",
       "Dep. Variable:                      y   R-squared:                       0.682\n",
       "Model:                            OLS   Adj. R-squared:                  0.675\n",
       "Method:                 Least Squares   F-statistic:                     102.8\n",
       "Date:                Sun, 19 Apr 2020   Prob (F-statistic):           1.62e-13\n",
       "Time:                        20:07:11   Log-Likelihood:                -81.728\n",
       "No. Observations:                  50   AIC:                             167.5\n",
       "Df Residuals:                      48   BIC:                             171.3\n",
       "Df Model:                           1                                         \n",
       "Covariance Type:            nonrobust                                         \n",
       "==============================================================================\n",
       "                 coef    std err          t      P>|t|      [0.025      0.975]\n",
       "------------------------------------------------------------------------------\n",
       "Intercept      1.3887      0.183      7.597      0.000       1.021       1.756\n",
       "x              1.9184      0.189     10.137      0.000       1.538       2.299\n",
       "==============================================================================\n",
       "Omnibus:                       26.087   Durbin-Watson:                   2.360\n",
       "Prob(Omnibus):                  0.000   Jarque-Bera (JB):                4.907\n",
       "Skew:                           0.331   Prob(JB):                       0.0860\n",
       "Kurtosis:                       1.615   Cond. No.                         1.23\n",
       "==============================================================================\n",
       "\n",
       "Warnings:\n",
       "[1] Standard Errors assume that the covariance matrix of the errors is correctly specified.\n",
       "\"\"\""
      ]
     },
     "execution_count": 118,
     "metadata": {},
     "output_type": "execute_result"
    }
   ],
   "source": [
    "res.summary()"
   ]
  },
  {
   "cell_type": "markdown",
   "metadata": {},
   "source": [
    "The linear model parameters from the OLS best fit"
   ]
  },
  {
   "cell_type": "code",
   "execution_count": 119,
   "metadata": {},
   "outputs": [
    {
     "data": {
      "text/plain": [
       "(1.388669147713418, 1.918365581875839)"
      ]
     },
     "execution_count": 119,
     "metadata": {},
     "output_type": "execute_result"
    }
   ],
   "source": [
    "res.params['Intercept'], res.params['x']"
   ]
  },
  {
   "cell_type": "markdown",
   "metadata": {},
   "source": [
    "Now, sample the dataset __with__ replacement, recompute parameters again, for ```ntrials``` times"
   ]
  },
  {
   "cell_type": "code",
   "execution_count": 120,
   "metadata": {},
   "outputs": [],
   "source": [
    "param1 = []\n",
    "param2 = []\n",
    "\n",
    "ntrials = 200\n",
    "for trial in range(ntrials):\n",
    "    data_sample = data.sample(frac=1, replace=True)\n",
    "\n",
    "    res = ols('y ~ x', data=data_sample).fit()\n",
    "\n",
    "    param1.append(res.params['Intercept'])\n",
    "    param2.append(res.params['x'])\n",
    "# end for"
   ]
  },
  {
   "cell_type": "markdown",
   "metadata": {},
   "source": [
    "Display the spread of intercept parameters estimates (actual vaue 1.5)"
   ]
  },
  {
   "cell_type": "code",
   "execution_count": 121,
   "metadata": {},
   "outputs": [
    {
     "data": {
      "image/png": "[encoded data removed]",
      "text/plain": [
       "<Figure size 432x288 with 1 Axes>"
      ]
     },
     "metadata": {
      "needs_background": "light"
     },
     "output_type": "display_data"
    }
   ],
   "source": [
    "_ = plt.hist(param1, edgecolor='white')"
   ]
  },
  {
   "cell_type": "markdown",
   "metadata": {},
   "source": [
    "Display the spread of slope estimates (actual value 2)"
   ]
  },
  {
   "cell_type": "code",
   "execution_count": 122,
   "metadata": {},
   "outputs": [
    {
     "data": {
      "image/png": "[encoded data removed]",
      "text/plain": [
       "<Figure size 432x288 with 1 Axes>"
      ]
     },
     "metadata": {
      "needs_background": "light"
     },
     "output_type": "display_data"
    }
   ],
   "source": [
    "_ = plt.hist(param2, edgecolor='white')"
   ]
  },
  {
   "cell_type": "markdown",
   "metadata": {},
   "source": [
    "Find the 95% confidence interval of the slope, based upon the repeated estimation, compared to the one-shot OLS estimate = 1.494 <-> 2.216"
   ]
  },
  {
   "cell_type": "code",
   "execution_count": 123,
   "metadata": {},
   "outputs": [
    {
     "data": {
      "text/plain": [
       "(1.5116567769330833, 2.2939972651879335)"
      ]
     },
     "execution_count": 123,
     "metadata": {},
     "output_type": "execute_result"
    }
   ],
   "source": [
    "np.percentile(param2, 2.5), np.percentile(param2, 97.5)"
   ]
  },
  {
   "cell_type": "markdown",
   "metadata": {},
   "source": [
    "------\n",
    "## Heavily skewed errors\n",
    "\n",
    "We consider an exponential distribution of errors, adjusted so mean=0"
   ]
  },
  {
   "cell_type": "code",
   "execution_count": 95,
   "metadata": {},
   "outputs": [
    {
     "data": {
      "image/png": "[encoded data removed]",
      "text/plain": [
       "<Figure size 432x288 with 1 Axes>"
      ]
     },
     "metadata": {
      "needs_background": "light"
     },
     "output_type": "display_data"
    }
   ],
   "source": [
    "expn = np.random.exponential(1, 1000) - 1\n",
    "\n",
    "_ = plt.hist(expn, edgecolor='w')"
   ]
  },
  {
   "cell_type": "markdown",
   "metadata": {},
   "source": [
    "Compute the observations using this skewed error source"
   ]
  },
  {
   "cell_type": "code",
   "execution_count": 96,
   "metadata": {},
   "outputs": [],
   "source": [
    "x = np.random.exponential(1, 1000)\n",
    "\n",
    "y = 3 + 2.5 * x + x * expn"
   ]
  },
  {
   "cell_type": "markdown",
   "metadata": {},
   "source": [
    "Quick plot of dataset"
   ]
  },
  {
   "cell_type": "code",
   "execution_count": 97,
   "metadata": {},
   "outputs": [
    {
     "data": {
      "image/png": "[encoded data removed]",
      "text/plain": [
       "<Figure size 432x288 with 1 Axes>"
      ]
     },
     "metadata": {
      "needs_background": "light"
     },
     "output_type": "display_data"
    }
   ],
   "source": [
    "_ = plt.plot(x, y, 'o')"
   ]
  },
  {
   "cell_type": "markdown",
   "metadata": {},
   "source": [
    "Perform OLS linear model fit"
   ]
  },
  {
   "cell_type": "code",
   "execution_count": 98,
   "metadata": {},
   "outputs": [
    {
     "data": {
      "text/plain": [
       "Intercept    2.943530\n",
       "x            2.512294\n",
       "dtype: float64"
      ]
     },
     "execution_count": 98,
     "metadata": {},
     "output_type": "execute_result"
    }
   ],
   "source": [
    "df_dict = {'x': x, 'y': y}\n",
    "data = pd.DataFrame(df_dict)\n",
    "\n",
    "res3 = ols('y ~ x', data=data).fit()\n",
    "\n",
    "res3.params"
   ]
  },
  {
   "cell_type": "markdown",
   "metadata": {},
   "source": [
    "Repeatedly sample original dataset with replacement, repeat OLS best fit, accumulated parameter estimate results"
   ]
  },
  {
   "cell_type": "code",
   "execution_count": 99,
   "metadata": {},
   "outputs": [],
   "source": [
    "param1 = []\n",
    "param2 = []\n",
    "\n",
    "ntrials = 500\n",
    "for trial in range(ntrials):\n",
    "    data_sample = data.sample(frac=1, replace=True)\n",
    "\n",
    "    res = ols('y ~ x', data=data_sample).fit()\n",
    "\n",
    "    param1.append(res.params['Intercept'])\n",
    "    param2.append(res.params['x'])\n",
    "# end for"
   ]
  },
  {
   "cell_type": "markdown",
   "metadata": {},
   "source": [
    "Quick plot of distribution of estimate of intercept (actual value 3"
   ]
  },
  {
   "cell_type": "code",
   "execution_count": 100,
   "metadata": {},
   "outputs": [
    {
     "data": {
      "image/png": "[encoded data removed]",
      "text/plain": [
       "<Figure size 432x288 with 1 Axes>"
      ]
     },
     "metadata": {
      "needs_background": "light"
     },
     "output_type": "display_data"
    }
   ],
   "source": [
    "_ = plt.hist(param1, edgecolor='w')"
   ]
  },
  {
   "cell_type": "markdown",
   "metadata": {},
   "source": [
    "Quick plot of distribution of estimate of slope (actual value 2.5"
   ]
  },
  {
   "cell_type": "code",
   "execution_count": 101,
   "metadata": {},
   "outputs": [
    {
     "data": {
      "image/png": "[encoded data removed]",
      "text/plain": [
       "<Figure size 432x288 with 1 Axes>"
      ]
     },
     "metadata": {
      "needs_background": "light"
     },
     "output_type": "display_data"
    }
   ],
   "source": [
    "_ = plt.hist(param2, edgecolor='w')"
   ]
  },
  {
   "cell_type": "code",
   "execution_count": 102,
   "metadata": {},
   "outputs": [
    {
     "data": {
      "text/plain": [
       "Intercept    2.943530\n",
       "x            2.512294\n",
       "dtype: float64"
      ]
     },
     "execution_count": 102,
     "metadata": {},
     "output_type": "execute_result"
    }
   ],
   "source": [
    "res3.params"
   ]
  },
  {
   "cell_type": "markdown",
   "metadata": {},
   "source": [
    "### Formal Visualization\n",
    "\n",
    "We use Seaborn to prepare more detailed graphics\n",
    "\n",
    "First the distribution of the estimate of the Intercept "
   ]
  },
  {
   "cell_type": "code",
   "execution_count": 103,
   "metadata": {},
   "outputs": [
    {
     "name": "stderr",
     "output_type": "stream",
     "text": [
      "D:\\Anaconda3\\envs\\ac5-py37\\lib\\site-packages\\scipy\\stats\\stats.py:1713: FutureWarning: Using a non-tuple sequence for multidimensional indexing is deprecated; use `arr[tuple(seq)]` instead of `arr[seq]`. In the future this will be interpreted as an array index, `arr[np.array(seq)]`, which will result either in an error or a different result.\n",
      "  return np.add.reduce(sorted[indexer] * weights, axis=axis) / sumval\n"
     ]
    },
    {
     "data": {
      "text/plain": [
       "<matplotlib.legend.Legend at 0x2e9fa7e2a20>"
      ]
     },
     "execution_count": 103,
     "metadata": {},
     "output_type": "execute_result"
    },
    {
     "data": {
      "image/png": "[encoded data removed]",
      "text/plain": [
       "<Figure size 720x720 with 1 Axes>"
      ]
     },
     "metadata": {
      "needs_background": "light"
     },
     "output_type": "display_data"
    }
   ],
   "source": [
    "fig, ax = plt.subplots(figsize=(10, 10))\n",
    "sns.distplot(\n",
    "    param1, rug=True, hist_kws={'edgecolor': 'w'}, ax=ax\n",
    ")\n",
    "ax.set_xlabel('Value')\n",
    "ax.set_ylabel('Relative Intercept Probability')\n",
    "ax.set_title(\n",
    "    'Distribution of Intercept Value (by Bootstrapping)'\n",
    ")\n",
    "ax.axvline(\n",
    "    res3.params['Intercept'],\n",
    "    color='g',\n",
    "    label='OLS estimate of Intercept',\n",
    ")\n",
    "ax.legend(loc='best')"
   ]
  },
  {
   "cell_type": "markdown",
   "metadata": {},
   "source": [
    "And now the distribution of the estimate of the slope"
   ]
  },
  {
   "cell_type": "code",
   "execution_count": 104,
   "metadata": {},
   "outputs": [
    {
     "data": {
      "text/plain": [
       "<matplotlib.legend.Legend at 0x2e9fab438d0>"
      ]
     },
     "execution_count": 104,
     "metadata": {},
     "output_type": "execute_result"
    },
    {
     "data": {
      "image/png": "[encoded data removed]",
      "text/plain": [
       "<Figure size 720x720 with 1 Axes>"
      ]
     },
     "metadata": {
      "needs_background": "light"
     },
     "output_type": "display_data"
    }
   ],
   "source": [
    "fig, ax = plt.subplots(figsize=(10, 10))\n",
    "\n",
    "sns.distplot(param2, rug=True, hist_kws={'edgecolor': 'w'})\n",
    "\n",
    "ax.set_xlabel('Value')\n",
    "ax.set_ylabel('Relative Slope Probability')\n",
    "ax.set_title(\n",
    "    'Distribution of Slope Value (by Bootstrapping)'\n",
    ")\n",
    "ax.axvline(\n",
    "    res3.params['x'],\n",
    "    color='g',\n",
    "    label='OLS estimate of slope',\n",
    ")\n",
    "ax.legend(loc='best')"
   ]
  },
  {
   "cell_type": "markdown",
   "metadata": {},
   "source": [
    "Finally, a quick plot of the OLS fit"
   ]
  },
  {
   "cell_type": "code",
   "execution_count": 41,
   "metadata": {},
   "outputs": [
    {
     "data": {
      "image/png": "[encoded data removed]",
      "text/plain": [
       "<Figure size 432x288 with 1 Axes>"
      ]
     },
     "metadata": {
      "needs_background": "light"
     },
     "output_type": "display_data"
    }
   ],
   "source": [
    "_ = plt.plot(x, y, 'o')\n",
    "_ = plt.plot(x, res3.predict(), 'r-')"
   ]
  },
  {
   "cell_type": "markdown",
   "metadata": {},
   "source": [
    "-----\n",
    "## Environment"
   ]
  },
  {
   "cell_type": "code",
   "execution_count": 125,
   "metadata": {},
   "outputs": [
    {
     "name": "stdout",
     "output_type": "stream",
     "text": [
      "numpy       1.15.4\n",
      "seaborn     0.9.0\n",
      "statsmodels 0.9.0\n",
      "matplotlib  3.0.2\n",
      "pandas      1.0.0\n",
      "scipy       1.1.0\n",
      "host name: DESKTOP-SODFUN6\n",
      "2020-04-19T20:10:22+10:00\n",
      "\n",
      "CPython 3.7.1\n",
      "IPython 7.2.0\n",
      "\n",
      "compiler   : MSC v.1915 64 bit (AMD64)\n",
      "system     : Windows\n",
      "release    : 10\n",
      "machine    : AMD64\n",
      "processor  : Intel64 Family 6 Model 94 Stepping 3, GenuineIntel\n",
      "CPU cores  : 8\n",
      "interpreter: 64bit\n"
     ]
    }
   ],
   "source": [
    "%watermark -h -iv\n",
    "%watermark"
   ]
  },
  {
   "cell_type": "code",
   "execution_count": 126,
   "metadata": {},
   "outputs": [
    {
     "name": "stdout",
     "output_type": "stream",
     "text": [
      "\n",
      "INSTALLED VERSIONS\n",
      "------------------\n",
      "Python: 3.7.1.final.0\n",
      "\n",
      "Statsmodels\n",
      "===========\n",
      "\n",
      "Installed: 0.9.0 (D:\\Anaconda3\\envs\\ac5-py37\\lib\\site-packages\\statsmodels)\n",
      "\n",
      "Required Dependencies\n",
      "=====================\n",
      "\n",
      "cython: 0.29.2 (D:\\Anaconda3\\envs\\ac5-py37\\lib\\site-packages\\Cython)\n",
      "numpy: 1.15.4 (D:\\Anaconda3\\envs\\ac5-py37\\lib\\site-packages\\numpy)\n",
      "scipy: 1.1.0 (D:\\Anaconda3\\envs\\ac5-py37\\lib\\site-packages\\scipy)\n",
      "pandas: 1.0.0 (D:\\Anaconda3\\envs\\ac5-py37\\lib\\site-packages\\pandas)\n",
      "    dateutil: 2.7.5 (D:\\Anaconda3\\envs\\ac5-py37\\lib\\site-packages\\dateutil)\n",
      "patsy: 0.5.1 (D:\\Anaconda3\\envs\\ac5-py37\\lib\\site-packages\\patsy)\n",
      "\n",
      "Optional Dependencies\n",
      "=====================\n",
      "\n",
      "matplotlib: 3.0.2 (D:\\Anaconda3\\envs\\ac5-py37\\lib\\site-packages\\matplotlib)\n",
      "    backend: module://ipykernel.pylab.backend_inline \n",
      "cvxopt: Not installed\n",
      "joblib: 0.13.2 (D:\\Anaconda3\\envs\\ac5-py37\\lib\\site-packages\\joblib)\n",
      "\n",
      "Developer Tools\n",
      "================\n",
      "\n",
      "IPython: 7.2.0 (D:\\Anaconda3\\envs\\ac5-py37\\lib\\site-packages\\IPython)\n",
      "    jinja2: 2.10.1 (D:\\Anaconda3\\envs\\ac5-py37\\lib\\site-packages\\jinja2)\n",
      "sphinx: 1.8.2 (D:\\Anaconda3\\envs\\ac5-py37\\lib\\site-packages\\sphinx)\n",
      "    pygments: 2.3.1 (D:\\Anaconda3\\envs\\ac5-py37\\lib\\site-packages\\pygments)\n",
      "nose: 1.3.7 (D:\\Anaconda3\\envs\\ac5-py37\\lib\\site-packages\\nose)\n",
      "pytest: 5.0.1 (D:\\Anaconda3\\envs\\ac5-py37\\lib\\site-packages)\n",
      "virtualenv: Not installed\n",
      "\n",
      "\n"
     ]
    }
   ],
   "source": [
    "sm.show_versions()"
   ]
  },
  {
   "cell_type": "code",
   "execution_count": null,
   "metadata": {},
   "outputs": [],
   "source": []
  }
 ],
 "metadata": {
  "kernelspec": {
   "display_name": "Python 3",
   "language": "python",
   "name": "python3"
  },
  "language_info": {
   "codemirror_mode": {
    "name": "ipython",
    "version": 3
   },
   "file_extension": ".py",
   "mimetype": "text/x-python",
   "name": "python",
   "nbconvert_exporter": "python",
   "pygments_lexer": "ipython3",
   "version": "3.7.1"
  }
 },
 "nbformat": 4,
 "nbformat_minor": 4
}
