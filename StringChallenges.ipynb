{
 "cells": [
  {
   "cell_type": "markdown",
   "metadata": {},
   "source": [
    "# Python String Minatures"
   ]
  },
  {
   "cell_type": "markdown",
   "metadata": {},
   "source": [
    "I was reading a blog post at http://beyondloom.com/blog/strings.html, where a number of string manipulation challenges were posted.  They were supposed to be solved by ```APL``` style one-liners in K, but I deciced to redo them in Python"
   ]
  },
  {
   "cell_type": "markdown",
   "metadata": {},
   "source": [
    "-------------\n",
    "# Define the Environment"
   ]
  },
  {
   "cell_type": "code",
   "execution_count": 2,
   "metadata": {},
   "outputs": [],
   "source": [
    "from collections import Counter, defaultdict\n",
    "from typing import List\n",
    "\n",
    "\n",
    "from itertools import permutations\n",
    "from itertools import islice\n",
    "from itertools import compress\n",
    "from itertools import cycle"
   ]
  },
  {
   "cell_type": "markdown",
   "metadata": {},
   "source": [
    "--------------\n",
    "### Given a string x and a character y, how many times does y occur in x?"
   ]
  },
  {
   "cell_type": "code",
   "execution_count": 3,
   "metadata": {},
   "outputs": [
    {
     "data": {
      "text/plain": [
       "(1, 2, 0)"
      ]
     },
     "execution_count": 3,
     "metadata": {},
     "output_type": "execute_result"
    }
   ],
   "source": [
    "def str_count(string: str)->Counter:\n",
    "\n",
    "    return Counter(string)\n",
    "#end str_count\n",
    "\n",
    "\n",
    "c = str_count('Australia')\n",
    "c['A'], c['a'], c['b']"
   ]
  },
  {
   "cell_type": "markdown",
   "metadata": {},
   "source": [
    "Solved by using the Counter object from the ```collections``` package\n",
    "\n",
    "-----------------\n",
    "### Given a string x, is it identical when read forwards and backwards?"
   ]
  },
  {
   "cell_type": "code",
   "execution_count": 4,
   "metadata": {},
   "outputs": [
    {
     "data": {
      "text/plain": [
       "(True, False)"
      ]
     },
     "execution_count": 4,
     "metadata": {},
     "output_type": "execute_result"
    }
   ],
   "source": [
    "def is_palindrome(string:str)->bool:\n",
    "    return string == ''.join(reversed(string))\n",
    "#end is_palindrome\n",
    "\n",
    "is_palindrome('racecar'), is_palindrome('palindrame')"
   ]
  },
  {
   "cell_type": "markdown",
   "metadata": {},
   "source": [
    "In fact the concept of reversing a string gets very complicated in dealing with general Unicode strings (some languages have different shapes for the same letter at the end, middle, or front of words, for example)\n",
    "\n",
    "-----------------\n",
    " ### Given a string x, produce a list of characters which appear more than once in x."
   ]
  },
  {
   "cell_type": "code",
   "execution_count": 5,
   "metadata": {},
   "outputs": [
    {
     "data": {
      "text/plain": [
       "['a', 'p']"
      ]
     },
     "execution_count": 5,
     "metadata": {},
     "output_type": "execute_result"
    }
   ],
   "source": [
    "def non_uniques2(string:str):\n",
    "    cnt = Counter(string)\n",
    "    res = [k for k in cnt if cnt[k]>1]\n",
    "    return res\n",
    "\n",
    "#end non_unique\n",
    "\n",
    "non_uniques2('applause')"
   ]
  },
  {
   "cell_type": "markdown",
   "metadata": {},
   "source": [
    "Create a Counter dictionary, and iterate over all keys\n",
    "\n",
    "---------------\n",
    "### Given strings x and y, do both strings contain the same letters, possibly in a different order?"
   ]
  },
  {
   "cell_type": "code",
   "execution_count": 6,
   "metadata": {},
   "outputs": [
    {
     "data": {
      "text/plain": [
       "(True, False)"
      ]
     },
     "execution_count": 6,
     "metadata": {},
     "output_type": "execute_result"
    }
   ],
   "source": [
    "def same_chars(str1:str, str2:str)->bool:\n",
    "    return sorted(str1)==sorted(str2)\n",
    "#end same_chars\n",
    "\n",
    "same_chars('tab', 'bat'), same_chars('cat', 'dog')\n",
    "    "
   ]
  },
  {
   "cell_type": "markdown",
   "metadata": {},
   "source": [
    "-----------\n",
    "### Given a string x, find all the characters which occur exactly once, in the order they appear."
   ]
  },
  {
   "cell_type": "code",
   "execution_count": 7,
   "metadata": {},
   "outputs": [
    {
     "data": {
      "text/plain": [
       "['l', 'u', 's', 'e']"
      ]
     },
     "execution_count": 7,
     "metadata": {},
     "output_type": "execute_result"
    }
   ],
   "source": [
    "def uniques(string:str)->List[str]:\n",
    "    cnt = Counter(string)\n",
    "    single =  [s for s in string if cnt[s] == 1]\n",
    "    return single\n",
    "#end non_unique\n",
    "\n",
    "uniques('applause')"
   ]
  },
  {
   "cell_type": "markdown",
   "metadata": {},
   "source": [
    "--------------\n",
    "### Given strings x and y, is x a rotation of the characters in y?"
   ]
  },
  {
   "cell_type": "code",
   "execution_count": 8,
   "metadata": {},
   "outputs": [
    {
     "data": {
      "text/plain": [
       "(True, False)"
      ]
     },
     "execution_count": 8,
     "metadata": {},
     "output_type": "execute_result"
    }
   ],
   "source": [
    "def is_rotation(str1:str, str2:str)->bool:\n",
    "    \n",
    "    if( len(str1) != len(str2)):\n",
    "        return False\n",
    "    elif( str1 == str2):\n",
    "        return True\n",
    "    elif( sorted(str1) != sorted(str2)):\n",
    "        return False\n",
    "    else:\n",
    "        for i in range(1, len(str1)):\n",
    "            if str1 ==str2[-i:] + str2[:-i] :\n",
    "                return True\n",
    "            #end if\n",
    "        #end for\n",
    "        return False\n",
    "    #end if\n",
    "#end is_rotation\n",
    "\n",
    "str1 = 'foobar'\n",
    "str2 = 'barfoo'\n",
    "is_rotation('foobar', 'barfoo'),is_rotation('cat', 'bat')\n",
    "\n"
   ]
  },
  {
   "cell_type": "markdown",
   "metadata": {},
   "source": [
    "I use some cheap heuristic checks to short-circuit the test loop for strings that are certain to fail \n",
    "\n",
    "-----------------\n",
    "### Given a list of strings x, sort the strings by length, ascending."
   ]
  },
  {
   "cell_type": "code",
   "execution_count": 9,
   "metadata": {},
   "outputs": [
    {
     "data": {
      "text/plain": [
       "['', 'a', 'bb', 'xxx', 'ccccccc']"
      ]
     },
     "execution_count": 9,
     "metadata": {},
     "output_type": "execute_result"
    }
   ],
   "source": [
    "\n",
    "def sort_by_len(str_list:List[str])->List[str]:\n",
    "    \n",
    "    return sorted(str_list, key=len)\n",
    "#end sort_by_len\n",
    "\n",
    "sort_by_len(['a', 'bb', 'ccccccc', 'xxx', ''])"
   ]
  },
  {
   "cell_type": "markdown",
   "metadata": {},
   "source": [
    "-----------\n",
    "\n",
    "### Given a string x, identify the character which occurs most frequently"
   ]
  },
  {
   "cell_type": "code",
   "execution_count": 10,
   "metadata": {},
   "outputs": [
    {
     "data": {
      "text/plain": [
       "'y'"
      ]
     },
     "execution_count": 10,
     "metadata": {},
     "output_type": "execute_result"
    }
   ],
   "source": [
    "def most_pop_char(string:str)->str:\n",
    "\n",
    "    return Counter(string).most_common(1)[0][0]\n",
    "#end most_pop_char\n",
    "\n",
    "most_pop_char('a bb ccc dddd xxxx, yyyyyyy')"
   ]
  },
  {
   "cell_type": "markdown",
   "metadata": {},
   "source": [
    "---------------\n",
    "\n",
    "### Given a string x consisting of words (one or more non-space characters) which are separated by spaces, reverse the order of the characters in each word."
   ]
  },
  {
   "cell_type": "code",
   "execution_count": 11,
   "metadata": {},
   "outputs": [
    {
     "data": {
      "text/plain": [
       "('siht si a yrev trohs ecnatnes yarruH', 'pooz')"
      ]
     },
     "execution_count": 11,
     "metadata": {},
     "output_type": "execute_result"
    }
   ],
   "source": [
    "def reverse_words(string:str)->str:\n",
    "    words = string.split()\n",
    "\n",
    "    rev_words = [''.join(reversed(w)) for w in words]\n",
    " \n",
    "    rev_string =' '.join(rev_words)\n",
    "    return rev_string                     \n",
    "    \n",
    "#end reverse_words\n",
    "\n",
    "reverse_words('this is a very short sentance Hurray'), reverse_words('zoop')"
   ]
  },
  {
   "cell_type": "markdown",
   "metadata": {},
   "source": [
    "--------------------\n",
    "\n",
    "### Given a string x and a boolean vector y of the same length, extract the characters of x corresponding to a 1 in y."
   ]
  },
  {
   "cell_type": "code",
   "execution_count": 12,
   "metadata": {},
   "outputs": [
    {
     "name": "stdout",
     "output_type": "stream",
     "text": [
      "abe\n",
      "abe\n"
     ]
    }
   ],
   "source": [
    "def extract(string:str, mask:List[bool])->str:\n",
    "    \n",
    "    res =  [c for c, m  in zip(string, mask) if m]\n",
    "    return ''.join(res)\n",
    "#end extract\n",
    "\n",
    "print(extract('abcdef', [1,1,0,0,1,0]))\n",
    "\n",
    "print(''.join(list(compress('abcdef', [1,1,0,0,1,0]))))"
   ]
  },
  {
   "cell_type": "markdown",
   "metadata": {},
   "source": [
    "Python ```Collections``` has method to do just this, as shown above\n",
    "\n",
    "------------------------\n",
    "\n",
    "### Given a string x and a boolean vector y, spread the characters of x to the positions of 1s in y, filling intervening characters with underscores"
   ]
  },
  {
   "cell_type": "code",
   "execution_count": 13,
   "metadata": {},
   "outputs": [
    {
     "data": {
      "text/plain": [
       "('a__b__c', 'a_b__cd____e_f')"
      ]
     },
     "execution_count": 13,
     "metadata": {},
     "output_type": "execute_result"
    }
   ],
   "source": [
    "def spread2(string:str, mask:List[bool])->str:\n",
    "    \n",
    "    chars = islice(string, None)\n",
    "    res = [ next(chars) if m else '_' for m in mask]\n",
    "    return ''.join(res)\n",
    "#end spread2\n",
    "\n",
    "spread2('abc', [1,0,0,1,0,0,1]), spread2('abcdef', [1,0,1,0,0,1,1, 0,0,0,0,1,0,1]), "
   ]
  },
  {
   "cell_type": "markdown",
   "metadata": {},
   "source": []
  },
  {
   "cell_type": "code",
   "execution_count": 14,
   "metadata": {},
   "outputs": [
    {
     "data": {
      "text/plain": [
       "('a_b__cabca_',)"
      ]
     },
     "execution_count": 14,
     "metadata": {},
     "output_type": "execute_result"
    }
   ],
   "source": [
    "def spread3(string:str, mask:List[bool])->str:\n",
    "    \n",
    "    chars = cycle(string)\n",
    "    res = [ next(chars) if m else '_' for m in mask]\n",
    "    return ''.join(res)\n",
    "#end spread3\n",
    "\n",
    "spread3('abc', [1,0,1,0,0, 1,1,1,1,1,0]),"
   ]
  },
  {
   "cell_type": "markdown",
   "metadata": {},
   "source": [
    "We have two solutions, the second one catering for the case where the input string is shorter than the mask.  We create iterators from the input string, to allow easier access from inside the list comprehension\n",
    "\n",
    "-------------------\n",
    "\n",
    "###  Given a string x, remove all the vowels entirely."
   ]
  },
  {
   "cell_type": "code",
   "execution_count": 15,
   "metadata": {},
   "outputs": [
    {
     "data": {
      "text/plain": [
       "('ct', 'A vry shrt sntnc')"
      ]
     },
     "execution_count": 15,
     "metadata": {},
     "output_type": "execute_result"
    }
   ],
   "source": [
    "def de_vowel(string:str)->str:\n",
    "    res = [c for c in string if not c in 'aeiou']\n",
    "    return ''.join(res)\n",
    "#end de_vowel\n",
    "\n",
    "de_vowel('cat'), de_vowel('A very short sentence')"
   ]
  },
  {
   "cell_type": "markdown",
   "metadata": {},
   "source": [
    "-------------------------\n",
    "\n",
    "### Given a string x, replace all the vowels (a, e, i, o, u, or y) with underscores."
   ]
  },
  {
   "cell_type": "code",
   "execution_count": 16,
   "metadata": {},
   "outputs": [
    {
     "data": {
      "text/plain": [
       "('c_t', 'Th_s _s _ sh_rt s_nt_nc_')"
      ]
     },
     "execution_count": 16,
     "metadata": {},
     "output_type": "execute_result"
    }
   ],
   "source": [
    "def de_vowel2(string:str)->str:\n",
    "    res = [c if not c in 'aeiouy' else '_' for c in string]\n",
    "    return ''.join(res)\n",
    "#end de_vowel2\n",
    "\n",
    "de_vowel2('cat'), de_vowel2('This is a short sentence')"
   ]
  },
  {
   "cell_type": "markdown",
   "metadata": {},
   "source": [
    "-------------\n",
    "\n",
    "### Given a string x consisting of words separated by spaces (as above), and a string y, replace all words in x which are the same as y with a series of xes."
   ]
  },
  {
   "cell_type": "code",
   "execution_count": 17,
   "metadata": {},
   "outputs": [
    {
     "data": {
      "text/plain": [
       "('**** is a very short sentance, **** is Hurray', 'zoop')"
      ]
     },
     "execution_count": 17,
     "metadata": {},
     "output_type": "execute_result"
    }
   ],
   "source": [
    "def hide_words(string:str, secret:str)->str:\n",
    "    words = string.split()\n",
    "\n",
    "    new_words = [w if not w==secret else '*'*len(w) for w in words]\n",
    " \n",
    "    new_string =' '.join(new_words)\n",
    "    return new_string                     \n",
    "    \n",
    "#end hide_words\n",
    "\n",
    "hide_words('this is a very short sentance, this is  Hurray', 'this'), hide_words('zoop', 'cat')"
   ]
  },
  {
   "cell_type": "markdown",
   "metadata": {},
   "source": [
    "---------------\n",
    "\n",
    "### Given a string x, generate a list of all possible reorderings of the characters in x"
   ]
  },
  {
   "cell_type": "code",
   "execution_count": 18,
   "metadata": {},
   "outputs": [
    {
     "data": {
      "text/plain": [
       "['xyz', 'xzy', 'yxz', 'yzx', 'zxy', 'zyx']"
      ]
     },
     "execution_count": 18,
     "metadata": {},
     "output_type": "execute_result"
    }
   ],
   "source": [
    "def all_perms(word:str)->List[str]:\n",
    "    ps = permutations(word)\n",
    "    return [''.join(p) for p in ps]\n",
    "#end all_perms\n",
    "\n",
    "all_perms('xyz')"
   ]
  },
  {
   "cell_type": "markdown",
   "metadata": {},
   "source": [
    "-------\n",
    "\n",
    "# Conclusions\n",
    "\n",
    "Most of the above could be compressed even more, with the loss of some readibility.  I would claim that most are very close to one-liners"
   ]
  }
 ],
 "metadata": {
  "kernelspec": {
   "display_name": "Python 3",
   "language": "python",
   "name": "python3"
  },
  "language_info": {
   "codemirror_mode": {
    "name": "ipython",
    "version": 3
   },
   "file_extension": ".py",
   "mimetype": "text/x-python",
   "name": "python",
   "nbconvert_exporter": "python",
   "pygments_lexer": "ipython3",
   "version": "3.7.1"
  }
 },
 "nbformat": 4,
 "nbformat_minor": 4
}
